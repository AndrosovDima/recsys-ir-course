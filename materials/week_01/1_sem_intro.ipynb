{
 "cells": [
  {
   "cell_type": "markdown",
   "id": "30507478",
   "metadata": {},
   "source": [
    "# Курс \"Рекомендательные системы и информационный поиск\"\n",
    "# AI Masters\n",
    "\n",
    "План семинара\n",
    "\n",
    "- считываем данные (ozon_fresh)\n",
    "- график топ популярных, popularity bias\n",
    "- пишем метод базовые методы (на заказах)\n",
    "- сравниваем реализации метрик"
   ]
  },
  {
   "cell_type": "code",
   "execution_count": 12,
   "id": "914f9d66",
   "metadata": {},
   "outputs": [],
   "source": [
    "import polars as pl\n",
    "import numpy as np\n",
    "\n",
    "from matplotlib import pyplot as plt\n",
    "import seaborn as sns"
   ]
  },
  {
   "cell_type": "code",
   "execution_count": 13,
   "id": "251b0ec1",
   "metadata": {},
   "outputs": [
    {
     "data": {
      "text/html": [
       "<div><style>\n",
       ".dataframe > thead > tr,\n",
       ".dataframe > tbody > tr {\n",
       "  text-align: right;\n",
       "  white-space: pre-wrap;\n",
       "}\n",
       "</style>\n",
       "<small>shape: (238_443, 6)</small><table border=\"1\" class=\"dataframe\"><thead><tr><th>product_id</th><th>name</th><th>brand</th><th>type</th><th>category_id</th><th>category_name</th></tr><tr><td>i64</td><td>str</td><td>str</td><td>str</td><td>i32</td><td>str</td></tr></thead><tbody><tr><td>160839072</td><td>&quot;CeraVe Смягчающий крем для сух…</td><td>&quot;CeraVe&quot;</td><td>&quot;Гель для ухода за кожей&quot;</td><td>38</td><td>&quot;Сыворотки для лица&quot;</td></tr><tr><td>161689127</td><td>&quot;Yves Rocher / Ив Роше / Увлажн…</td><td>&quot;Yves Rocher France&quot;</td><td>&quot;Гель для ухода за кожей&quot;</td><td>38</td><td>&quot;Сыворотки для лица&quot;</td></tr><tr><td>221508445</td><td>&quot;Bioderma Эликсир для ухода за …</td><td>&quot;Bioderma&quot;</td><td>&quot;Эликсир для ухода за кожей&quot;</td><td>38</td><td>&quot;Сыворотки для лица&quot;</td></tr><tr><td>309017861</td><td>&quot;ART&amp;FACT. / Сыворотка для лица…</td><td>&quot;ART&amp;FACT.&quot;</td><td>&quot;Сыворотка для лица&quot;</td><td>38</td><td>&quot;Сыворотки для лица&quot;</td></tr><tr><td>793710195</td><td>&quot;Breylee Сыворотка для лица Ант…</td><td>&quot;Breylee&quot;</td><td>&quot;Сыворотка для лица&quot;</td><td>38</td><td>&quot;Сыворотки для лица&quot;</td></tr><tr><td>&hellip;</td><td>&hellip;</td><td>&hellip;</td><td>&hellip;</td><td>&hellip;</td><td>&hellip;</td></tr><tr><td>1154315599</td><td>&quot;Сушилка для овощей и фруктов 3…</td><td>&quot;Великие реки&quot;</td><td>&quot;Дегидратор&quot;</td><td>284</td><td>&quot;Сушилки для овощей&quot;</td></tr><tr><td>1196912369</td><td>&quot;GFGRIL Электрическая сушилка д…</td><td>&quot;GFGRIL&quot;</td><td>&quot;Дегидратор&quot;</td><td>284</td><td>&quot;Сушилки для овощей&quot;</td></tr><tr><td>1255681315</td><td>&quot;Дегидратор сушилка для овощей …</td><td>&quot;Marta&quot;</td><td>&quot;Дегидратор&quot;</td><td>284</td><td>&quot;Сушилки для овощей&quot;</td></tr><tr><td>483756641</td><td>&quot;Дегидратор Kitfort КТ-1915-1, …</td><td>&quot;Kitfort&quot;</td><td>&quot;Дегидратор&quot;</td><td>284</td><td>&quot;Сушилки для овощей&quot;</td></tr><tr><td>1120557009</td><td>&quot;Дегидратор Kitfort КТ-1905, че…</td><td>&quot;Kitfort&quot;</td><td>&quot;Дегидратор&quot;</td><td>284</td><td>&quot;Сушилки для овощей&quot;</td></tr></tbody></table></div>"
      ],
      "text/plain": [
       "shape: (238_443, 6)\n",
       "┌────────────┬────────────────────┬──────────────┬───────────────────┬─────────────┬───────────────┐\n",
       "│ product_id ┆ name               ┆ brand        ┆ type              ┆ category_id ┆ category_name │\n",
       "│ ---        ┆ ---                ┆ ---          ┆ ---               ┆ ---         ┆ ---           │\n",
       "│ i64        ┆ str                ┆ str          ┆ str               ┆ i32         ┆ str           │\n",
       "╞════════════╪════════════════════╪══════════════╪═══════════════════╪═════════════╪═══════════════╡\n",
       "│ 160839072  ┆ CeraVe Смягчающий  ┆ CeraVe       ┆ Гель для ухода за ┆ 38          ┆ Сыворотки для │\n",
       "│            ┆ крем для сух…      ┆              ┆ кожей             ┆             ┆ лица          │\n",
       "│ 161689127  ┆ Yves Rocher / Ив   ┆ Yves Rocher  ┆ Гель для ухода за ┆ 38          ┆ Сыворотки для │\n",
       "│            ┆ Роше / Увлажн…     ┆ France       ┆ кожей             ┆             ┆ лица          │\n",
       "│ 221508445  ┆ Bioderma Эликсир   ┆ Bioderma     ┆ Эликсир для ухода ┆ 38          ┆ Сыворотки для │\n",
       "│            ┆ для ухода за …     ┆              ┆ за кожей          ┆             ┆ лица          │\n",
       "│ 309017861  ┆ ART&FACT. /        ┆ ART&FACT.    ┆ Сыворотка для     ┆ 38          ┆ Сыворотки для │\n",
       "│            ┆ Сыворотка для      ┆              ┆ лица              ┆             ┆ лица          │\n",
       "│            ┆ лица…              ┆              ┆                   ┆             ┆               │\n",
       "│ 793710195  ┆ Breylee Сыворотка  ┆ Breylee      ┆ Сыворотка для     ┆ 38          ┆ Сыворотки для │\n",
       "│            ┆ для лица Ант…      ┆              ┆ лица              ┆             ┆ лица          │\n",
       "│ …          ┆ …                  ┆ …            ┆ …                 ┆ …           ┆ …             │\n",
       "│ 1154315599 ┆ Сушилка для овощей ┆ Великие реки ┆ Дегидратор        ┆ 284         ┆ Сушилки для   │\n",
       "│            ┆ и фруктов 3…       ┆              ┆                   ┆             ┆ овощей        │\n",
       "│ 1196912369 ┆ GFGRIL             ┆ GFGRIL       ┆ Дегидратор        ┆ 284         ┆ Сушилки для   │\n",
       "│            ┆ Электрическая      ┆              ┆                   ┆             ┆ овощей        │\n",
       "│            ┆ сушилка д…         ┆              ┆                   ┆             ┆               │\n",
       "│ 1255681315 ┆ Дегидратор сушилка ┆ Marta        ┆ Дегидратор        ┆ 284         ┆ Сушилки для   │\n",
       "│            ┆ для овощей …       ┆              ┆                   ┆             ┆ овощей        │\n",
       "│ 483756641  ┆ Дегидратор Kitfort ┆ Kitfort      ┆ Дегидратор        ┆ 284         ┆ Сушилки для   │\n",
       "│            ┆ КТ-1915-1, …       ┆              ┆                   ┆             ┆ овощей        │\n",
       "│ 1120557009 ┆ Дегидратор Kitfort ┆ Kitfort      ┆ Дегидратор        ┆ 284         ┆ Сушилки для   │\n",
       "│            ┆ КТ-1905, че…       ┆              ┆                   ┆             ┆ овощей        │\n",
       "└────────────┴────────────────────┴──────────────┴───────────────────┴─────────────┴───────────────┘"
      ]
     },
     "execution_count": 13,
     "metadata": {},
     "output_type": "execute_result"
    }
   ],
   "source": [
    "product_info = pl.read_parquet('product_information_full')\n",
    "product_info"
   ]
  },
  {
   "cell_type": "code",
   "execution_count": 14,
   "id": "a1b7c776",
   "metadata": {},
   "outputs": [
    {
     "data": {
      "text/html": [
       "<div><style>\n",
       ".dataframe > thead > tr,\n",
       ".dataframe > tbody > tr {\n",
       "  text-align: right;\n",
       "  white-space: pre-wrap;\n",
       "}\n",
       "</style>\n",
       "<small>shape: (1_000_000, 7)</small><table border=\"1\" class=\"dataframe\"><thead><tr><th>user_id</th><th>timestamp</th><th>action_type</th><th>widget_name</th><th>search_query</th><th>product_id</th><th>page_product_id</th></tr><tr><td>i32</td><td>datetime[ns]</td><td>str</td><td>str</td><td>str</td><td>f64</td><td>f64</td></tr></thead><tbody><tr><td>5191333</td><td>2024-03-20 11:04:06</td><td>&quot;view&quot;</td><td>&quot;search_catalog_listing&quot;</td><td>null</td><td>9.23442542e8</td><td>null</td></tr><tr><td>3741045</td><td>2024-06-27 18:39:09</td><td>&quot;view&quot;</td><td>&quot;search_catalog_listing&quot;</td><td>&quot;печенье&quot;</td><td>6.18168589e8</td><td>null</td></tr><tr><td>5736030</td><td>2024-03-08 14:50:14</td><td>&quot;view&quot;</td><td>&quot;search_catalog_listing&quot;</td><td>null</td><td>1.2156e9</td><td>null</td></tr><tr><td>2173455</td><td>2024-04-03 12:57:27</td><td>&quot;view&quot;</td><td>&quot;recoms_fresh_personal&quot;</td><td>null</td><td>1.46227155e8</td><td>null</td></tr><tr><td>9569113</td><td>2024-07-26 01:49:36</td><td>&quot;view&quot;</td><td>&quot;search_catalog_listing&quot;</td><td>null</td><td>1.0800e9</td><td>null</td></tr><tr><td>&hellip;</td><td>&hellip;</td><td>&hellip;</td><td>&hellip;</td><td>&hellip;</td><td>&hellip;</td><td>&hellip;</td></tr><tr><td>3795880</td><td>2024-04-09 18:01:25</td><td>&quot;view&quot;</td><td>&quot;recoms_fresh_personal&quot;</td><td>null</td><td>5.01074615e8</td><td>null</td></tr><tr><td>6916747</td><td>2024-04-26 14:46:01</td><td>&quot;view&quot;</td><td>&quot;search_catalog_listing&quot;</td><td>null</td><td>1.43294378e8</td><td>null</td></tr><tr><td>2346229</td><td>2024-06-28 17:16:12</td><td>&quot;view&quot;</td><td>&quot;recoms_fresh_personal&quot;</td><td>null</td><td>4.28674301e8</td><td>null</td></tr><tr><td>441072</td><td>2024-06-08 05:26:42</td><td>&quot;view&quot;</td><td>&quot;search_catalog_listing&quot;</td><td>null</td><td>7.05609233e8</td><td>null</td></tr><tr><td>2137645</td><td>2024-03-05 18:35:39</td><td>&quot;view&quot;</td><td>&quot;search_catalog_listing&quot;</td><td>null</td><td>2.43970371e8</td><td>null</td></tr></tbody></table></div>"
      ],
      "text/plain": [
       "shape: (1_000_000, 7)\n",
       "┌─────────┬──────────────┬─────────────┬──────────────┬──────────────┬──────────────┬──────────────┐\n",
       "│ user_id ┆ timestamp    ┆ action_type ┆ widget_name  ┆ search_query ┆ product_id   ┆ page_product │\n",
       "│ ---     ┆ ---          ┆ ---         ┆ ---          ┆ ---          ┆ ---          ┆ _id          │\n",
       "│ i32     ┆ datetime[ns] ┆ str         ┆ str          ┆ str          ┆ f64          ┆ ---          │\n",
       "│         ┆              ┆             ┆              ┆              ┆              ┆ f64          │\n",
       "╞═════════╪══════════════╪═════════════╪══════════════╪══════════════╪══════════════╪══════════════╡\n",
       "│ 5191333 ┆ 2024-03-20   ┆ view        ┆ search_catal ┆ null         ┆ 9.23442542e8 ┆ null         │\n",
       "│         ┆ 11:04:06     ┆             ┆ og_listing   ┆              ┆              ┆              │\n",
       "│ 3741045 ┆ 2024-06-27   ┆ view        ┆ search_catal ┆ печенье      ┆ 6.18168589e8 ┆ null         │\n",
       "│         ┆ 18:39:09     ┆             ┆ og_listing   ┆              ┆              ┆              │\n",
       "│ 5736030 ┆ 2024-03-08   ┆ view        ┆ search_catal ┆ null         ┆ 1.2156e9     ┆ null         │\n",
       "│         ┆ 14:50:14     ┆             ┆ og_listing   ┆              ┆              ┆              │\n",
       "│ 2173455 ┆ 2024-04-03   ┆ view        ┆ recoms_fresh ┆ null         ┆ 1.46227155e8 ┆ null         │\n",
       "│         ┆ 12:57:27     ┆             ┆ _personal    ┆              ┆              ┆              │\n",
       "│ 9569113 ┆ 2024-07-26   ┆ view        ┆ search_catal ┆ null         ┆ 1.0800e9     ┆ null         │\n",
       "│         ┆ 01:49:36     ┆             ┆ og_listing   ┆              ┆              ┆              │\n",
       "│ …       ┆ …            ┆ …           ┆ …            ┆ …            ┆ …            ┆ …            │\n",
       "│ 3795880 ┆ 2024-04-09   ┆ view        ┆ recoms_fresh ┆ null         ┆ 5.01074615e8 ┆ null         │\n",
       "│         ┆ 18:01:25     ┆             ┆ _personal    ┆              ┆              ┆              │\n",
       "│ 6916747 ┆ 2024-04-26   ┆ view        ┆ search_catal ┆ null         ┆ 1.43294378e8 ┆ null         │\n",
       "│         ┆ 14:46:01     ┆             ┆ og_listing   ┆              ┆              ┆              │\n",
       "│ 2346229 ┆ 2024-06-28   ┆ view        ┆ recoms_fresh ┆ null         ┆ 4.28674301e8 ┆ null         │\n",
       "│         ┆ 17:16:12     ┆             ┆ _personal    ┆              ┆              ┆              │\n",
       "│ 441072  ┆ 2024-06-08   ┆ view        ┆ search_catal ┆ null         ┆ 7.05609233e8 ┆ null         │\n",
       "│         ┆ 05:26:42     ┆             ┆ og_listing   ┆              ┆              ┆              │\n",
       "│ 2137645 ┆ 2024-03-05   ┆ view        ┆ search_catal ┆ null         ┆ 2.43970371e8 ┆ null         │\n",
       "│         ┆ 18:35:39     ┆             ┆ og_listing   ┆              ┆              ┆              │\n",
       "└─────────┴──────────────┴─────────────┴──────────────┴──────────────┴──────────────┴──────────────┘"
      ]
     },
     "execution_count": 14,
     "metadata": {},
     "output_type": "execute_result"
    }
   ],
   "source": [
    "user_actions_sample = pl.read_parquet('user_actions_full_sample_1_000_000')\n",
    "user_actions_sample"
   ]
  },
  {
   "cell_type": "code",
   "execution_count": 15,
   "id": "0fc79acf",
   "metadata": {},
   "outputs": [
    {
     "data": {
      "text/html": [
       "<div><style>\n",
       ".dataframe > thead > tr,\n",
       ".dataframe > tbody > tr {\n",
       "  text-align: right;\n",
       "  white-space: pre-wrap;\n",
       "}\n",
       "</style>\n",
       "<small>shape: (6, 2)</small><table border=\"1\" class=\"dataframe\"><thead><tr><th>action_type</th><th>len</th></tr><tr><td>str</td><td>u32</td></tr></thead><tbody><tr><td>&quot;view&quot;</td><td>952219</td></tr><tr><td>&quot;to_cart&quot;</td><td>14551</td></tr><tr><td>&quot;search&quot;</td><td>14079</td></tr><tr><td>&quot;click&quot;</td><td>12165</td></tr><tr><td>&quot;order&quot;</td><td>6241</td></tr><tr><td>&quot;favorite&quot;</td><td>745</td></tr></tbody></table></div>"
      ],
      "text/plain": [
       "shape: (6, 2)\n",
       "┌─────────────┬────────┐\n",
       "│ action_type ┆ len    │\n",
       "│ ---         ┆ ---    │\n",
       "│ str         ┆ u32    │\n",
       "╞═════════════╪════════╡\n",
       "│ view        ┆ 952219 │\n",
       "│ to_cart     ┆ 14551  │\n",
       "│ search      ┆ 14079  │\n",
       "│ click       ┆ 12165  │\n",
       "│ order       ┆ 6241   │\n",
       "│ favorite    ┆ 745    │\n",
       "└─────────────┴────────┘"
      ]
     },
     "execution_count": 15,
     "metadata": {},
     "output_type": "execute_result"
    }
   ],
   "source": [
    "(\n",
    "    user_actions_sample\n",
    "    .group_by('action_type')\n",
    "    .len()\n",
    "    .sort('len', descending=True)\n",
    ")"
   ]
  },
  {
   "cell_type": "code",
   "execution_count": null,
   "id": "d3fe3143",
   "metadata": {},
   "outputs": [],
   "source": []
  },
  {
   "cell_type": "markdown",
   "id": "7949de3c",
   "metadata": {},
   "source": [
    "Возьмем только заказы, релевантные товары - заказы из test\n",
    "![image](./ts.png)"
   ]
  },
  {
   "cell_type": "code",
   "execution_count": 16,
   "id": "8c1894ee",
   "metadata": {},
   "outputs": [],
   "source": [
    "train = pl.read_parquet('train_orders')\n",
    "test = pl.read_parquet('test_orders')"
   ]
  },
  {
   "cell_type": "code",
   "execution_count": 17,
   "id": "693e730e",
   "metadata": {},
   "outputs": [
    {
     "data": {
      "text/html": [
       "<div><style>\n",
       ".dataframe > thead > tr,\n",
       ".dataframe > tbody > tr {\n",
       "  text-align: right;\n",
       "  white-space: pre-wrap;\n",
       "}\n",
       "</style>\n",
       "<small>shape: (21_982_461, 3)</small><table border=\"1\" class=\"dataframe\"><thead><tr><th>user_id</th><th>product_id</th><th>date</th></tr><tr><td>i32</td><td>i64</td><td>date</td></tr></thead><tbody><tr><td>2569829</td><td>25343359</td><td>2024-06-05</td></tr><tr><td>10498283</td><td>171803041</td><td>2024-06-02</td></tr><tr><td>8368519</td><td>933027806</td><td>2024-06-21</td></tr><tr><td>10691321</td><td>679778603</td><td>2024-06-27</td></tr><tr><td>2062459</td><td>263792927</td><td>2024-06-28</td></tr><tr><td>&hellip;</td><td>&hellip;</td><td>&hellip;</td></tr><tr><td>1501782</td><td>1525488861</td><td>2024-05-27</td></tr><tr><td>6411636</td><td>167191284</td><td>2024-03-24</td></tr><tr><td>4407027</td><td>148234002</td><td>2024-04-19</td></tr><tr><td>9331014</td><td>33006390</td><td>2024-06-06</td></tr><tr><td>5718823</td><td>159850704</td><td>2024-04-13</td></tr></tbody></table></div>"
      ],
      "text/plain": [
       "shape: (21_982_461, 3)\n",
       "┌──────────┬────────────┬────────────┐\n",
       "│ user_id  ┆ product_id ┆ date       │\n",
       "│ ---      ┆ ---        ┆ ---        │\n",
       "│ i32      ┆ i64        ┆ date       │\n",
       "╞══════════╪════════════╪════════════╡\n",
       "│ 2569829  ┆ 25343359   ┆ 2024-06-05 │\n",
       "│ 10498283 ┆ 171803041  ┆ 2024-06-02 │\n",
       "│ 8368519  ┆ 933027806  ┆ 2024-06-21 │\n",
       "│ 10691321 ┆ 679778603  ┆ 2024-06-27 │\n",
       "│ 2062459  ┆ 263792927  ┆ 2024-06-28 │\n",
       "│ …        ┆ …          ┆ …          │\n",
       "│ 1501782  ┆ 1525488861 ┆ 2024-05-27 │\n",
       "│ 6411636  ┆ 167191284  ┆ 2024-03-24 │\n",
       "│ 4407027  ┆ 148234002  ┆ 2024-04-19 │\n",
       "│ 9331014  ┆ 33006390   ┆ 2024-06-06 │\n",
       "│ 5718823  ┆ 159850704  ┆ 2024-04-13 │\n",
       "└──────────┴────────────┴────────────┘"
      ]
     },
     "execution_count": 17,
     "metadata": {},
     "output_type": "execute_result"
    }
   ],
   "source": [
    "train"
   ]
  },
  {
   "cell_type": "code",
   "execution_count": 18,
   "id": "d3d6dfa4",
   "metadata": {},
   "outputs": [
    {
     "data": {
      "text/plain": [
       "((21982461, 3), (9324453, 3))"
      ]
     },
     "execution_count": 18,
     "metadata": {},
     "output_type": "execute_result"
    }
   ],
   "source": [
    "train.shape, test.shape"
   ]
  },
  {
   "cell_type": "code",
   "execution_count": 19,
   "id": "0c1809c5",
   "metadata": {},
   "outputs": [
    {
     "data": {
      "text/plain": [
       "(shape: (1, 1)\n",
       " ┌─────────┐\n",
       " │ user_id │\n",
       " │ ---     │\n",
       " │ u32     │\n",
       " ╞═════════╡\n",
       " │ 1037117 │\n",
       " └─────────┘,\n",
       " shape: (1, 1)\n",
       " ┌────────────┐\n",
       " │ product_id │\n",
       " │ ---        │\n",
       " │ u32        │\n",
       " ╞════════════╡\n",
       " │ 59906      │\n",
       " └────────────┘)"
      ]
     },
     "execution_count": 19,
     "metadata": {},
     "output_type": "execute_result"
    }
   ],
   "source": [
    "train.select('user_id').unique().count(), train.select('product_id').unique().count()"
   ]
  },
  {
   "cell_type": "code",
   "execution_count": 20,
   "id": "50430d7f",
   "metadata": {},
   "outputs": [
    {
     "data": {
      "text/plain": [
       "(shape: (1, 1)\n",
       " ┌─────────┐\n",
       " │ user_id │\n",
       " │ ---     │\n",
       " │ u32     │\n",
       " ╞═════════╡\n",
       " │ 647575  │\n",
       " └─────────┘,\n",
       " shape: (1, 1)\n",
       " ┌────────────┐\n",
       " │ product_id │\n",
       " │ ---        │\n",
       " │ u32        │\n",
       " ╞════════════╡\n",
       " │ 40711      │\n",
       " └────────────┘)"
      ]
     },
     "execution_count": 20,
     "metadata": {},
     "output_type": "execute_result"
    }
   ],
   "source": [
    "test.select('user_id').unique().count(), test.select('product_id').unique().count()"
   ]
  },
  {
   "cell_type": "code",
   "execution_count": 21,
   "id": "85213428",
   "metadata": {},
   "outputs": [
    {
     "data": {
      "text/html": [
       "<div><style>\n",
       ".dataframe > thead > tr,\n",
       ".dataframe > tbody > tr {\n",
       "  text-align: right;\n",
       "  white-space: pre-wrap;\n",
       "}\n",
       "</style>\n",
       "<small>shape: (59_906, 2)</small><table border=\"1\" class=\"dataframe\"><thead><tr><th>product_id</th><th>len</th></tr><tr><td>i64</td><td>u32</td></tr></thead><tbody><tr><td>519413018</td><td>2332887</td></tr><tr><td>148481523</td><td>138685</td></tr><tr><td>356292677</td><td>73544</td></tr><tr><td>398644623</td><td>69266</td></tr><tr><td>143259875</td><td>68298</td></tr><tr><td>&hellip;</td><td>&hellip;</td></tr><tr><td>893717285</td><td>1</td></tr><tr><td>913802676</td><td>1</td></tr><tr><td>1541581126</td><td>1</td></tr><tr><td>1138643138</td><td>1</td></tr><tr><td>1608278619</td><td>1</td></tr></tbody></table></div>"
      ],
      "text/plain": [
       "shape: (59_906, 2)\n",
       "┌────────────┬─────────┐\n",
       "│ product_id ┆ len     │\n",
       "│ ---        ┆ ---     │\n",
       "│ i64        ┆ u32     │\n",
       "╞════════════╪═════════╡\n",
       "│ 519413018  ┆ 2332887 │\n",
       "│ 148481523  ┆ 138685  │\n",
       "│ 356292677  ┆ 73544   │\n",
       "│ 398644623  ┆ 69266   │\n",
       "│ 143259875  ┆ 68298   │\n",
       "│ …          ┆ …       │\n",
       "│ 893717285  ┆ 1       │\n",
       "│ 913802676  ┆ 1       │\n",
       "│ 1541581126 ┆ 1       │\n",
       "│ 1138643138 ┆ 1       │\n",
       "│ 1608278619 ┆ 1       │\n",
       "└────────────┴─────────┘"
      ]
     },
     "execution_count": 21,
     "metadata": {},
     "output_type": "execute_result"
    }
   ],
   "source": [
    "(\n",
    "    train\n",
    "    .group_by('product_id')\n",
    "    .len()\n",
    "    .sort('len', descending=True)\n",
    ")"
   ]
  },
  {
   "cell_type": "markdown",
   "id": "3f502b6e",
   "metadata": {},
   "source": [
    "что за товар 519413018? https://www.ozon.ru/product/519413018/"
   ]
  },
  {
   "cell_type": "code",
   "execution_count": 22,
   "id": "ae1e8fb5",
   "metadata": {},
   "outputs": [
    {
     "data": {
      "text/html": [
       "<div><style>\n",
       ".dataframe > thead > tr,\n",
       ".dataframe > tbody > tr {\n",
       "  text-align: right;\n",
       "  white-space: pre-wrap;\n",
       "}\n",
       "</style>\n",
       "<small>shape: (1, 6)</small><table border=\"1\" class=\"dataframe\"><thead><tr><th>product_id</th><th>name</th><th>brand</th><th>type</th><th>category_id</th><th>category_name</th></tr><tr><td>i64</td><td>str</td><td>str</td><td>str</td><td>i32</td><td>str</td></tr></thead><tbody><tr><td>519413018</td><td>&quot;Пакет-майка OZON fresh&quot;</td><td>&quot;Нет бренда&quot;</td><td>&quot;Пакет майка&quot;</td><td>553</td><td>&quot;Коробки и товары для хранения&quot;</td></tr></tbody></table></div>"
      ],
      "text/plain": [
       "shape: (1, 6)\n",
       "┌────────────┬──────────────────┬────────────┬─────────────┬─────────────┬──────────────────────┐\n",
       "│ product_id ┆ name             ┆ brand      ┆ type        ┆ category_id ┆ category_name        │\n",
       "│ ---        ┆ ---              ┆ ---        ┆ ---         ┆ ---         ┆ ---                  │\n",
       "│ i64        ┆ str              ┆ str        ┆ str         ┆ i32         ┆ str                  │\n",
       "╞════════════╪══════════════════╪════════════╪═════════════╪═════════════╪══════════════════════╡\n",
       "│ 519413018  ┆ Пакет-майка OZON ┆ Нет бренда ┆ Пакет майка ┆ 553         ┆ Коробки и товары для │\n",
       "│            ┆ fresh            ┆            ┆             ┆             ┆ хранения             │\n",
       "└────────────┴──────────────────┴────────────┴─────────────┴─────────────┴──────────────────────┘"
      ]
     },
     "execution_count": 22,
     "metadata": {},
     "output_type": "execute_result"
    }
   ],
   "source": [
    "product_info.filter(pl.col('product_id') == 519413018)"
   ]
  },
  {
   "cell_type": "code",
   "execution_count": 23,
   "id": "cad824be",
   "metadata": {},
   "outputs": [],
   "source": [
    "def get_ozon_link(ids):\n",
    "    for el in ids:\n",
    "        print(f'https://www.ozon.ru/product/{el}')"
   ]
  },
  {
   "cell_type": "code",
   "execution_count": 24,
   "id": "d7d1a7fe",
   "metadata": {},
   "outputs": [
    {
     "name": "stdout",
     "output_type": "stream",
     "text": [
      "https://www.ozon.ru/product/519413018\n",
      "https://www.ozon.ru/product/148481523\n",
      "https://www.ozon.ru/product/356292677\n",
      "https://www.ozon.ru/product/398644623\n"
     ]
    }
   ],
   "source": [
    "get_ozon_link([519413018, 148481523, 356292677, 398644623])"
   ]
  },
  {
   "cell_type": "code",
   "execution_count": 25,
   "id": "b9fe59fa",
   "metadata": {},
   "outputs": [],
   "source": [
    "train = (\n",
    "    train\n",
    "    .filter(pl.col('product_id') != 519413018)\n",
    ")\n",
    "test = (\n",
    "    test\n",
    "    .filter(pl.col('product_id') != 519413018)\n",
    ")"
   ]
  },
  {
   "cell_type": "markdown",
   "id": "0373d80d",
   "metadata": {},
   "source": [
    "История заказов"
   ]
  },
  {
   "cell_type": "code",
   "execution_count": 26,
   "id": "9f7f17a9",
   "metadata": {},
   "outputs": [
    {
     "data": {
      "image/png": "[encoded data removed]",
      "text/plain": [
       "<Figure size 1008x576 with 1 Axes>"
      ]
     },
     "metadata": {
      "needs_background": "light"
     },
     "output_type": "display_data"
    }
   ],
   "source": [
    "orders_history = (\n",
    "    train\n",
    "    .group_by('date')\n",
    "    .len()\n",
    "    .sort('date')\n",
    ").to_pandas()\n",
    "\n",
    "plt.figure(figsize=(14, 8))\n",
    "sns.lineplot(x=\"date\", y=\"len\", data=orders_history, marker=\"o\")\n",
    "plt.xlabel(\"Date\")\n",
    "plt.ylabel(\"Number of Orders\")\n",
    "plt.title(\"Number of Orders Per Date\")\n",
    "plt.show()"
   ]
  },
  {
   "cell_type": "code",
   "execution_count": 27,
   "id": "7849d44e",
   "metadata": {},
   "outputs": [
    {
     "data": {
      "image/png": "[encoded data removed]",
      "text/plain": [
       "<Figure size 1008x576 with 1 Axes>"
      ]
     },
     "metadata": {
      "needs_background": "light"
     },
     "output_type": "display_data"
    }
   ],
   "source": [
    "orders_history = (\n",
    "    test\n",
    "    .group_by('date')\n",
    "    .len()\n",
    "    .sort('date')\n",
    ").to_pandas()\n",
    "\n",
    "plt.figure(figsize=(14, 8))\n",
    "sns.lineplot(x=\"date\", y=\"len\", data=orders_history, marker=\"o\")\n",
    "plt.xlabel(\"Date\")\n",
    "plt.ylabel(\"Number of Orders\")\n",
    "plt.title(\"Number of Orders Per Date\")\n",
    "plt.show()"
   ]
  },
  {
   "cell_type": "markdown",
   "id": "3a49d52a",
   "metadata": {},
   "source": [
    "Популярность товаров"
   ]
  },
  {
   "cell_type": "code",
   "execution_count": 28,
   "id": "bade0c4c",
   "metadata": {},
   "outputs": [
    {
     "data": {
      "text/html": [
       "<div><style>\n",
       ".dataframe > thead > tr,\n",
       ".dataframe > tbody > tr {\n",
       "  text-align: right;\n",
       "  white-space: pre-wrap;\n",
       "}\n",
       "</style>\n",
       "<small>shape: (59_905, 2)</small><table border=\"1\" class=\"dataframe\"><thead><tr><th>product_id</th><th>len</th></tr><tr><td>i64</td><td>u32</td></tr></thead><tbody><tr><td>148481523</td><td>138685</td></tr><tr><td>356292677</td><td>73544</td></tr><tr><td>398644623</td><td>69266</td></tr><tr><td>143259875</td><td>68298</td></tr><tr><td>146215073</td><td>63039</td></tr><tr><td>&hellip;</td><td>&hellip;</td></tr><tr><td>1028692109</td><td>1</td></tr><tr><td>440884802</td><td>1</td></tr><tr><td>511957376</td><td>1</td></tr><tr><td>1585215391</td><td>1</td></tr><tr><td>1572866485</td><td>1</td></tr></tbody></table></div>"
      ],
      "text/plain": [
       "shape: (59_905, 2)\n",
       "┌────────────┬────────┐\n",
       "│ product_id ┆ len    │\n",
       "│ ---        ┆ ---    │\n",
       "│ i64        ┆ u32    │\n",
       "╞════════════╪════════╡\n",
       "│ 148481523  ┆ 138685 │\n",
       "│ 356292677  ┆ 73544  │\n",
       "│ 398644623  ┆ 69266  │\n",
       "│ 143259875  ┆ 68298  │\n",
       "│ 146215073  ┆ 63039  │\n",
       "│ …          ┆ …      │\n",
       "│ 1028692109 ┆ 1      │\n",
       "│ 440884802  ┆ 1      │\n",
       "│ 511957376  ┆ 1      │\n",
       "│ 1585215391 ┆ 1      │\n",
       "│ 1572866485 ┆ 1      │\n",
       "└────────────┴────────┘"
      ]
     },
     "execution_count": 28,
     "metadata": {},
     "output_type": "execute_result"
    }
   ],
   "source": [
    "(\n",
    "    train\n",
    "    .group_by('product_id')\n",
    "    .len()\n",
    "    .sort('len', descending=True)\n",
    ")"
   ]
  },
  {
   "cell_type": "code",
   "execution_count": 29,
   "id": "6cbeff58",
   "metadata": {},
   "outputs": [
    {
     "data": {
      "image/png": "[encoded data removed]",
      "text/plain": [
       "<Figure size 1008x576 with 1 Axes>"
      ]
     },
     "metadata": {
      "needs_background": "light"
     },
     "output_type": "display_data"
    }
   ],
   "source": [
    "counts = (\n",
    "    train\n",
    "    .group_by('product_id')\n",
    "    .len()\n",
    "#     .sort('len', descending=True)\n",
    "    .select('len')\n",
    ").to_pandas()\n",
    "\n",
    "plt.figure(figsize=(14, 8))\n",
    "sns.histplot(counts, x='len', bins=200, log_scale=True)\n",
    "plt.show()"
   ]
  },
  {
   "cell_type": "markdown",
   "id": "96266aa3",
   "metadata": {},
   "source": [
    "![image](./bb.png)"
   ]
  },
  {
   "cell_type": "markdown",
   "id": "77fef862",
   "metadata": {},
   "source": [
    "Как можем рекомендовать?\n",
    "\n",
    "- популярные товары со всего ozon fresh\n",
    "- рандомные\n",
    "- персональные популярные\n",
    "\n",
    "А минусы будут?"
   ]
  },
  {
   "cell_type": "markdown",
   "id": "09983926",
   "metadata": {},
   "source": [
    "Попробуй реализовать в концепции fit/predict\n",
    "\n",
    "- в fit готовим данные\n",
    "- predict делаем top_k рекомендаций для пользователя"
   ]
  },
  {
   "cell_type": "code",
   "execution_count": 32,
   "id": "dd80c947",
   "metadata": {},
   "outputs": [],
   "source": [
    "from typing import List\n",
    "\n",
    "DEFAULT_USER = 0\n",
    "DEFAULT_TOP_K = 10\n",
    "\n",
    "class TopPopular:\n",
    "    def __init__(self):\n",
    "        self.sort_data = None\n",
    "        self.id_name = None\n",
    "    \n",
    "    def fit(self, data: pl.DataFrame, id_name: str = 'product_id'):\n",
    "        self.sort_data = (\n",
    "            data\n",
    "            .group_by(id_name)\n",
    "            .len()\n",
    "            .sort('len', descending=True)\n",
    "        )\n",
    "        self.id_name = id_name\n",
    "        \n",
    "    def predict(self, user_id: int = DEFAULT_USER, top_k: int = DEFAULT_TOP_K) -> List[int]:\n",
    "        return self.sort_data.limit(top_k)[self.id_name].to_list()\n",
    "        "
   ]
  },
  {
   "cell_type": "code",
   "execution_count": 33,
   "id": "6956bf05",
   "metadata": {},
   "outputs": [
    {
     "name": "stdout",
     "output_type": "stream",
     "text": [
      "[148481523, 356292677, 398644623, 143259875, 146215073, 135653559, 576985723, 142120588, 266528732, 398644622]\n",
      "https://www.ozon.ru/product/148481523\n",
      "https://www.ozon.ru/product/356292677\n",
      "https://www.ozon.ru/product/398644623\n",
      "https://www.ozon.ru/product/143259875\n",
      "https://www.ozon.ru/product/146215073\n",
      "https://www.ozon.ru/product/135653559\n",
      "https://www.ozon.ru/product/576985723\n",
      "https://www.ozon.ru/product/142120588\n",
      "https://www.ozon.ru/product/266528732\n",
      "https://www.ozon.ru/product/398644622\n"
     ]
    }
   ],
   "source": [
    "tp = TopPopular()\n",
    "tp.fit(train)\n",
    "\n",
    "ids = tp.predict()\n",
    "print(ids)\n",
    "get_ozon_link(ids)"
   ]
  },
  {
   "cell_type": "code",
   "execution_count": null,
   "id": "2d3dce4c",
   "metadata": {},
   "outputs": [],
   "source": [
    "data.w"
   ]
  },
  {
   "cell_type": "code",
   "execution_count": 39,
   "id": "fb96aab6",
   "metadata": {},
   "outputs": [],
   "source": [
    "class Random:\n",
    "    def __init__(self, is_uniform: bool = True, seed: int = 0):\n",
    "        self.seed = seed\n",
    "        self.is_uniform = is_uniform\n",
    "        self.all_ids = None\n",
    "        self.p = None\n",
    "    \n",
    "    def fit(self, data: pl.DataFrame, id_name: str = 'product_id'):\n",
    "        self.all_ids = data[id_name].unique().to_list()\n",
    "        if self.is_uniform:\n",
    "            self.p = [1 / len(self.all_ids)] * len(self.all_ids)\n",
    "        else:\n",
    "            self.p = (\n",
    "                data\n",
    "                .group_by(id_name)\n",
    "                .len()\n",
    "                .with_columns(\n",
    "                    (pl.col('len') / data.shape[0]).alias('p'),\n",
    "                )\n",
    "            )['p'].to_list()\n",
    "        \n",
    "    def predict(\n",
    "        self,\n",
    "        user_id: int = DEFAULT_USER,\n",
    "        top_k: int = DEFAULT_TOP_K,\n",
    "        seed_per_user: bool = True\n",
    "    ) -> List[int]:\n",
    "        seed = self.seed\n",
    "        if seed_per_user:\n",
    "            seed += user_id\n",
    "        np.random.seed(seed)\n",
    "        return np.random.choice(self.all_ids, size=top_k, replace=False, p=self.p)\n",
    "        "
   ]
  },
  {
   "cell_type": "code",
   "execution_count": 35,
   "id": "3176817d",
   "metadata": {},
   "outputs": [
    {
     "name": "stdout",
     "output_type": "stream",
     "text": [
      "[1052317042 1419291397 1190943142 1045731860  796484756 1281092044\n",
      "  822275379 1573135199 1598431153  702114303]\n",
      "https://www.ozon.ru/product/1052317042\n",
      "https://www.ozon.ru/product/1419291397\n",
      "https://www.ozon.ru/product/1190943142\n",
      "https://www.ozon.ru/product/1045731860\n",
      "https://www.ozon.ru/product/796484756\n",
      "https://www.ozon.ru/product/1281092044\n",
      "https://www.ozon.ru/product/822275379\n",
      "https://www.ozon.ru/product/1573135199\n",
      "https://www.ozon.ru/product/1598431153\n",
      "https://www.ozon.ru/product/702114303\n"
     ]
    }
   ],
   "source": [
    "rn = Random()\n",
    "rn.fit(train)\n",
    "\n",
    "ids = rn.predict()\n",
    "print(ids)\n",
    "get_ozon_link(ids)"
   ]
  },
  {
   "cell_type": "code",
   "execution_count": 36,
   "id": "c72c3c1e",
   "metadata": {},
   "outputs": [
    {
     "name": "stdout",
     "output_type": "stream",
     "text": [
      "[1299961148  162882299 1592776656  893851473 1567883537]\n",
      "https://www.ozon.ru/product/1299961148\n",
      "https://www.ozon.ru/product/162882299\n",
      "https://www.ozon.ru/product/1592776656\n",
      "https://www.ozon.ru/product/893851473\n",
      "https://www.ozon.ru/product/1567883537\n"
     ]
    }
   ],
   "source": [
    "ids = rn.predict(user_id=1000, top_k=5)\n",
    "print(ids)\n",
    "get_ozon_link(ids)"
   ]
  },
  {
   "cell_type": "code",
   "execution_count": 37,
   "id": "e473ee09",
   "metadata": {},
   "outputs": [
    {
     "name": "stdout",
     "output_type": "stream",
     "text": [
      "[519820506 397657378 261940704 811320729 136780558]\n",
      "https://www.ozon.ru/product/519820506\n",
      "https://www.ozon.ru/product/397657378\n",
      "https://www.ozon.ru/product/261940704\n",
      "https://www.ozon.ru/product/811320729\n",
      "https://www.ozon.ru/product/136780558\n"
     ]
    }
   ],
   "source": [
    "ids = rn.predict(user_id=1001, top_k=5)\n",
    "print(ids)\n",
    "get_ozon_link(ids)"
   ]
  },
  {
   "cell_type": "code",
   "execution_count": 40,
   "id": "f931d01f",
   "metadata": {},
   "outputs": [],
   "source": [
    "rn = Random(is_uniform=False)\n",
    "rn.fit(train)"
   ]
  },
  {
   "cell_type": "code",
   "execution_count": 41,
   "id": "f69907c9",
   "metadata": {},
   "outputs": [
    {
     "name": "stdout",
     "output_type": "stream",
     "text": [
      "[1293146844  161431324 1592523709  865888164 1565485583]\n",
      "https://www.ozon.ru/product/1293146844\n",
      "https://www.ozon.ru/product/161431324\n",
      "https://www.ozon.ru/product/1592523709\n",
      "https://www.ozon.ru/product/865888164\n",
      "https://www.ozon.ru/product/1565485583\n"
     ]
    }
   ],
   "source": [
    "ids = rn.predict(user_id=1000, top_k=5)\n",
    "print(ids)\n",
    "get_ozon_link(ids)"
   ]
  },
  {
   "cell_type": "code",
   "execution_count": 42,
   "id": "5df9fbfd",
   "metadata": {},
   "outputs": [
    {
     "name": "stdout",
     "output_type": "stream",
     "text": [
      "[498547581 381764880 247461933 796503631 137776236]\n",
      "https://www.ozon.ru/product/498547581\n",
      "https://www.ozon.ru/product/381764880\n",
      "https://www.ozon.ru/product/247461933\n",
      "https://www.ozon.ru/product/796503631\n",
      "https://www.ozon.ru/product/137776236\n"
     ]
    }
   ],
   "source": [
    "ids = rn.predict(user_id=1001, top_k=5)\n",
    "print(ids)\n",
    "get_ozon_link(ids)"
   ]
  },
  {
   "cell_type": "code",
   "execution_count": 43,
   "id": "3963e51b",
   "metadata": {},
   "outputs": [],
   "source": [
    "class PersonalTopPopular:\n",
    "    def __init__(self):\n",
    "        self.sort_data = None\n",
    "        self.id_name = None\n",
    "        self.user_id = None\n",
    "    \n",
    "    def fit(self, data: pl.DataFrame, id_name: str = 'product_id', user_id: str = 'user_id'):\n",
    "        self.sort_data = (\n",
    "            data\n",
    "            .group_by(user_id, id_name)\n",
    "            .len()\n",
    "            .sort('len', descending=True)\n",
    "        )\n",
    "        self.id_name = id_name\n",
    "        self.user_id = user_id\n",
    "        \n",
    "    def predict(self, user_id: int = DEFAULT_USER, top_k: int = DEFAULT_TOP_K) -> List[int]:\n",
    "        return (\n",
    "            self.sort_data\n",
    "            .filter(pl.col(self.user_id) == user_id)\n",
    "            .limit(top_k)[self.id_name]\n",
    "        ).to_list()"
   ]
  },
  {
   "cell_type": "code",
   "execution_count": 46,
   "id": "15a6a148",
   "metadata": {},
   "outputs": [
    {
     "name": "stdout",
     "output_type": "stream",
     "text": [
      "840 ms ± 124 ms per loop (mean ± std. dev. of 7 runs, 1 loop each)\n"
     ]
    }
   ],
   "source": [
    "%%timeit\n",
    "ptp = PersonalTopPopular()\n",
    "ptp.fit(train)"
   ]
  },
  {
   "cell_type": "code",
   "execution_count": 44,
   "id": "1816fd35",
   "metadata": {},
   "outputs": [
    {
     "name": "stdout",
     "output_type": "stream",
     "text": [
      "[]\n"
     ]
    }
   ],
   "source": [
    "ptp = PersonalTopPopular()\n",
    "ptp.fit(train)\n",
    "\n",
    "ids = ptp.predict()\n",
    "print(ids)\n",
    "get_ozon_link(ids)"
   ]
  },
  {
   "cell_type": "code",
   "execution_count": 48,
   "id": "4a06b975",
   "metadata": {},
   "outputs": [
    {
     "data": {
      "text/html": [
       "<div><style>\n",
       ".dataframe > thead > tr,\n",
       ".dataframe > tbody > tr {\n",
       "  text-align: right;\n",
       "  white-space: pre-wrap;\n",
       "}\n",
       "</style>\n",
       "<small>shape: (19_649_574, 3)</small><table border=\"1\" class=\"dataframe\"><thead><tr><th>user_id</th><th>product_id</th><th>date</th></tr><tr><td>i32</td><td>i64</td><td>date</td></tr></thead><tbody><tr><td>2569829</td><td>25343359</td><td>2024-06-05</td></tr><tr><td>10498283</td><td>171803041</td><td>2024-06-02</td></tr><tr><td>8368519</td><td>933027806</td><td>2024-06-21</td></tr><tr><td>10691321</td><td>679778603</td><td>2024-06-27</td></tr><tr><td>2062459</td><td>263792927</td><td>2024-06-28</td></tr><tr><td>&hellip;</td><td>&hellip;</td><td>&hellip;</td></tr><tr><td>1501782</td><td>1525488861</td><td>2024-05-27</td></tr><tr><td>6411636</td><td>167191284</td><td>2024-03-24</td></tr><tr><td>4407027</td><td>148234002</td><td>2024-04-19</td></tr><tr><td>9331014</td><td>33006390</td><td>2024-06-06</td></tr><tr><td>5718823</td><td>159850704</td><td>2024-04-13</td></tr></tbody></table></div>"
      ],
      "text/plain": [
       "shape: (19_649_574, 3)\n",
       "┌──────────┬────────────┬────────────┐\n",
       "│ user_id  ┆ product_id ┆ date       │\n",
       "│ ---      ┆ ---        ┆ ---        │\n",
       "│ i32      ┆ i64        ┆ date       │\n",
       "╞══════════╪════════════╪════════════╡\n",
       "│ 2569829  ┆ 25343359   ┆ 2024-06-05 │\n",
       "│ 10498283 ┆ 171803041  ┆ 2024-06-02 │\n",
       "│ 8368519  ┆ 933027806  ┆ 2024-06-21 │\n",
       "│ 10691321 ┆ 679778603  ┆ 2024-06-27 │\n",
       "│ 2062459  ┆ 263792927  ┆ 2024-06-28 │\n",
       "│ …        ┆ …          ┆ …          │\n",
       "│ 1501782  ┆ 1525488861 ┆ 2024-05-27 │\n",
       "│ 6411636  ┆ 167191284  ┆ 2024-03-24 │\n",
       "│ 4407027  ┆ 148234002  ┆ 2024-04-19 │\n",
       "│ 9331014  ┆ 33006390   ┆ 2024-06-06 │\n",
       "│ 5718823  ┆ 159850704  ┆ 2024-04-13 │\n",
       "└──────────┴────────────┴────────────┘"
      ]
     },
     "execution_count": 48,
     "metadata": {},
     "output_type": "execute_result"
    }
   ],
   "source": [
    "train"
   ]
  },
  {
   "cell_type": "code",
   "execution_count": 49,
   "id": "c8349ce7",
   "metadata": {},
   "outputs": [
    {
     "name": "stdout",
     "output_type": "stream",
     "text": [
      "[862361533, 149724901, 171803041, 141735019, 263837057]\n",
      "https://www.ozon.ru/product/862361533\n",
      "https://www.ozon.ru/product/149724901\n",
      "https://www.ozon.ru/product/171803041\n",
      "https://www.ozon.ru/product/141735019\n",
      "https://www.ozon.ru/product/263837057\n"
     ]
    }
   ],
   "source": [
    "ids = ptp.predict(user_id=10498283, top_k=5)\n",
    "print(ids)\n",
    "get_ozon_link(ids)"
   ]
  },
  {
   "cell_type": "markdown",
   "id": "3dce6f1c",
   "metadata": {},
   "source": [
    "Рекомендовать научились (чуть-чуть), теперь к метрикам!"
   ]
  },
  {
   "cell_type": "code",
   "execution_count": 50,
   "id": "f44fb4d5",
   "metadata": {},
   "outputs": [],
   "source": [
    "sample_users = (\n",
    "    test\n",
    "    .group_by('user_id')\n",
    "    .agg(\n",
    "        pl.col(\"product_id\").unique().alias(\"ids\")\n",
    "    )\n",
    "    .sample(n=1000, seed=0)\n",
    ")"
   ]
  },
  {
   "cell_type": "code",
   "execution_count": 51,
   "id": "6bae0bf4",
   "metadata": {},
   "outputs": [
    {
     "data": {
      "text/html": [
       "<div><style>\n",
       ".dataframe > thead > tr,\n",
       ".dataframe > tbody > tr {\n",
       "  text-align: right;\n",
       "  white-space: pre-wrap;\n",
       "}\n",
       "</style>\n",
       "<small>shape: (1_000, 2)</small><table border=\"1\" class=\"dataframe\"><thead><tr><th>user_id</th><th>ids</th></tr><tr><td>i32</td><td>list[i64]</td></tr></thead><tbody><tr><td>8724472</td><td>[142224890, 142744767, … 1609661801]</td></tr><tr><td>7829309</td><td>[145923184, 148481531, … 1326348754]</td></tr><tr><td>8716908</td><td>[138235117, 140800363, … 1417503473]</td></tr><tr><td>3220791</td><td>[139588639]</td></tr><tr><td>2198720</td><td>[148234013, 259441395, 1525503021]</td></tr><tr><td>&hellip;</td><td>&hellip;</td></tr><tr><td>10656706</td><td>[551428881, 576985723]</td></tr><tr><td>3707490</td><td>[142331278, 576985723, 1000411790]</td></tr><tr><td>6749782</td><td>[145564950, 202922326, … 1482358488]</td></tr><tr><td>2786756</td><td>[136074027, 137324046, … 1542009624]</td></tr><tr><td>4596359</td><td>[151482115, 246074718]</td></tr></tbody></table></div>"
      ],
      "text/plain": [
       "shape: (1_000, 2)\n",
       "┌──────────┬─────────────────────────────────┐\n",
       "│ user_id  ┆ ids                             │\n",
       "│ ---      ┆ ---                             │\n",
       "│ i32      ┆ list[i64]                       │\n",
       "╞══════════╪═════════════════════════════════╡\n",
       "│ 8724472  ┆ [142224890, 142744767, … 16096… │\n",
       "│ 7829309  ┆ [145923184, 148481531, … 13263… │\n",
       "│ 8716908  ┆ [138235117, 140800363, … 14175… │\n",
       "│ 3220791  ┆ [139588639]                     │\n",
       "│ 2198720  ┆ [148234013, 259441395, 1525503… │\n",
       "│ …        ┆ …                               │\n",
       "│ 10656706 ┆ [551428881, 576985723]          │\n",
       "│ 3707490  ┆ [142331278, 576985723, 1000411… │\n",
       "│ 6749782  ┆ [145564950, 202922326, … 14823… │\n",
       "│ 2786756  ┆ [136074027, 137324046, … 15420… │\n",
       "│ 4596359  ┆ [151482115, 246074718]          │\n",
       "└──────────┴─────────────────────────────────┘"
      ]
     },
     "execution_count": 51,
     "metadata": {},
     "output_type": "execute_result"
    }
   ],
   "source": [
    "sample_users"
   ]
  },
  {
   "cell_type": "code",
   "execution_count": 52,
   "id": "6dc9ff2c",
   "metadata": {},
   "outputs": [],
   "source": [
    "tp = TopPopular()\n",
    "tp.fit(train)\n",
    "\n",
    "rn_uniform = Random(is_uniform=True)\n",
    "rn_uniform.fit(train)\n",
    "\n",
    "rn = Random(is_uniform=False)\n",
    "rn.fit(train)\n",
    "\n",
    "ptp = PersonalTopPopular()\n",
    "ptp.fit(train)"
   ]
  },
  {
   "cell_type": "code",
   "execution_count": 53,
   "id": "537955d1",
   "metadata": {
    "scrolled": true
   },
   "outputs": [
    {
     "data": {
      "text/html": [
       "<div><style>\n",
       ".dataframe > thead > tr,\n",
       ".dataframe > tbody > tr {\n",
       "  text-align: right;\n",
       "  white-space: pre-wrap;\n",
       "}\n",
       "</style>\n",
       "<small>shape: (1_000, 6)</small><table border=\"1\" class=\"dataframe\"><thead><tr><th>user_id</th><th>ids</th><th>tp_recs</th><th>rn_uniform_recs</th><th>rn_recs</th><th>ptp_recs</th></tr><tr><td>i32</td><td>list[i64]</td><td>list[i64]</td><td>list[i64]</td><td>list[i64]</td><td>list[i64]</td></tr></thead><tbody><tr><td>8724472</td><td>[142224890, 142744767, … 1609661801]</td><td>[148481523, 356292677, … 398644622]</td><td>[792761435, 1341207552, … 982041180]</td><td>[997375934, 1569192283, … 1444566792]</td><td>[147740723, 140485557, … 248897020]</td></tr><tr><td>7829309</td><td>[145923184, 148481531, … 1326348754]</td><td>[148481523, 356292677, … 398644622]</td><td>[792761435, 1341207552, … 982041180]</td><td>[592027089, 1607825246, … 139719237]</td><td>[326522574, 145923184, … 146885653]</td></tr><tr><td>8716908</td><td>[138235117, 140800363, … 1417503473]</td><td>[148481523, 356292677, … 398644622]</td><td>[612654255, 1290405263, … 185549257]</td><td>[865531377, 1222965776, … 138394204]</td><td>[1053571367, 1417503475, … 847609003]</td></tr><tr><td>3220791</td><td>[139588639]</td><td>[148481523, 356292677, … 398644622]</td><td>[876652561, 1234142748, … 138394206]</td><td>[756532921, 146943531, … 140590409]</td><td>[448350034, 277940536, … 136001612]</td></tr><tr><td>2198720</td><td>[148234013, 259441395, 1525503021]</td><td>[148481523, 356292677, … 398644622]</td><td>[1079782225, 163599022, … 181357196]</td><td>[1060371059, 159850700, … 176208972]</td><td>[]</td></tr><tr><td>&hellip;</td><td>&hellip;</td><td>&hellip;</td><td>&hellip;</td><td>&hellip;</td><td>&hellip;</td></tr><tr><td>10656706</td><td>[551428881, 576985723]</td><td>[148481523, 356292677, … 398644622]</td><td>[1047255661, 1237523354, … 167297554]</td><td>[1512053319, 676097300, … 363494656]</td><td>[]</td></tr><tr><td>3707490</td><td>[142331278, 576985723, 1000411790]</td><td>[148481523, 356292677, … 398644622]</td><td>[1600086052, 1535967089, … 818978053]</td><td>[1517997565, 149702462, … 1543540674]</td><td>[]</td></tr><tr><td>6749782</td><td>[145564950, 202922326, … 1482358488]</td><td>[148481523, 356292677, … 398644622]</td><td>[370353716, 709644564, … 177740779]</td><td>[1087610747, 1561435448, … 1560904783]</td><td>[472320249, 1032351670, … 7436127]</td></tr><tr><td>2786756</td><td>[136074027, 137324046, … 1542009624]</td><td>[148481523, 356292677, … 398644622]</td><td>[1573177462, 1562279469, … 1531320074]</td><td>[1517997565, 149702462, … 1543540674]</td><td>[145923215, 496150245, … 490307080]</td></tr><tr><td>4596359</td><td>[151482115, 246074718]</td><td>[148481523, 356292677, … 398644622]</td><td>[1590598676, 1339094432, … 607958616]</td><td>[1087610747, 1561435448, … 1560904783]</td><td>[]</td></tr></tbody></table></div>"
      ],
      "text/plain": [
       "shape: (1_000, 6)\n",
       "┌──────────┬─────────────────┬─────────────────┬─────────────────┬────────────────┬────────────────┐\n",
       "│ user_id  ┆ ids             ┆ tp_recs         ┆ rn_uniform_recs ┆ rn_recs        ┆ ptp_recs       │\n",
       "│ ---      ┆ ---             ┆ ---             ┆ ---             ┆ ---            ┆ ---            │\n",
       "│ i32      ┆ list[i64]       ┆ list[i64]       ┆ list[i64]       ┆ list[i64]      ┆ list[i64]      │\n",
       "╞══════════╪═════════════════╪═════════════════╪═════════════════╪════════════════╪════════════════╡\n",
       "│ 8724472  ┆ [142224890,     ┆ [148481523,     ┆ [792761435,     ┆ [997375934,    ┆ [147740723,    │\n",
       "│          ┆ 142744767, …    ┆ 356292677, …    ┆ 1341207552, …   ┆ 1569192283, …  ┆ 140485557, …   │\n",
       "│          ┆ 16096…          ┆ 39864…          ┆ 9820…           ┆ 1444…          ┆ 24889…         │\n",
       "│ 7829309  ┆ [145923184,     ┆ [148481523,     ┆ [792761435,     ┆ [592027089,    ┆ [326522574,    │\n",
       "│          ┆ 148481531, …    ┆ 356292677, …    ┆ 1341207552, …   ┆ 1607825246, …  ┆ 145923184, …   │\n",
       "│          ┆ 13263…          ┆ 39864…          ┆ 9820…           ┆ 1397…          ┆ 14688…         │\n",
       "│ 8716908  ┆ [138235117,     ┆ [148481523,     ┆ [612654255,     ┆ [865531377,    ┆ [1053571367,   │\n",
       "│          ┆ 140800363, …    ┆ 356292677, …    ┆ 1290405263, …   ┆ 1222965776, …  ┆ 1417503475, …  │\n",
       "│          ┆ 14175…          ┆ 39864…          ┆ 1855…           ┆ 1383…          ┆ 847…           │\n",
       "│ 3220791  ┆ [139588639]     ┆ [148481523,     ┆ [876652561,     ┆ [756532921,    ┆ [448350034,    │\n",
       "│          ┆                 ┆ 356292677, …    ┆ 1234142748, …   ┆ 146943531, …   ┆ 277940536, …   │\n",
       "│          ┆                 ┆ 39864…          ┆ 1383…           ┆ 14059…         ┆ 13600…         │\n",
       "│ 2198720  ┆ [148234013,     ┆ [148481523,     ┆ [1079782225,    ┆ [1060371059,   ┆ []             │\n",
       "│          ┆ 259441395,      ┆ 356292677, …    ┆ 163599022, …    ┆ 159850700, …   ┆                │\n",
       "│          ┆ 1525503…        ┆ 39864…          ┆ 1813…           ┆ 1762…          ┆                │\n",
       "│ …        ┆ …               ┆ …               ┆ …               ┆ …              ┆ …              │\n",
       "│ 10656706 ┆ [551428881,     ┆ [148481523,     ┆ [1047255661,    ┆ [1512053319,   ┆ []             │\n",
       "│          ┆ 576985723]      ┆ 356292677, …    ┆ 1237523354, …   ┆ 676097300, …   ┆                │\n",
       "│          ┆                 ┆ 39864…          ┆ 167…            ┆ 3634…          ┆                │\n",
       "│ 3707490  ┆ [142331278,     ┆ [148481523,     ┆ [1600086052,    ┆ [1517997565,   ┆ []             │\n",
       "│          ┆ 576985723,      ┆ 356292677, …    ┆ 1535967089, …   ┆ 149702462, …   ┆                │\n",
       "│          ┆ 1000411…        ┆ 39864…          ┆ 818…            ┆ 1543…          ┆                │\n",
       "│ 6749782  ┆ [145564950,     ┆ [148481523,     ┆ [370353716,     ┆ [1087610747,   ┆ [472320249,    │\n",
       "│          ┆ 202922326, …    ┆ 356292677, …    ┆ 709644564, …    ┆ 1561435448, …  ┆ 1032351670, …  │\n",
       "│          ┆ 14823…          ┆ 39864…          ┆ 17774…          ┆ 156…           ┆ 7436…          │\n",
       "│ 2786756  ┆ [136074027,     ┆ [148481523,     ┆ [1573177462,    ┆ [1517997565,   ┆ [145923215,    │\n",
       "│          ┆ 137324046, …    ┆ 356292677, …    ┆ 1562279469, …   ┆ 149702462, …   ┆ 496150245, …   │\n",
       "│          ┆ 15420…          ┆ 39864…          ┆ 153…            ┆ 1543…          ┆ 49030…         │\n",
       "│ 4596359  ┆ [151482115,     ┆ [148481523,     ┆ [1590598676,    ┆ [1087610747,   ┆ []             │\n",
       "│          ┆ 246074718]      ┆ 356292677, …    ┆ 1339094432, …   ┆ 1561435448, …  ┆                │\n",
       "│          ┆                 ┆ 39864…          ┆ 607…            ┆ 156…           ┆                │\n",
       "└──────────┴─────────────────┴─────────────────┴─────────────────┴────────────────┴────────────────┘"
      ]
     },
     "execution_count": 53,
     "metadata": {},
     "output_type": "execute_result"
    }
   ],
   "source": [
    "recommemd_sample_users = (\n",
    "    sample_users\n",
    "    .with_columns([\n",
    "        pl.col('user_id').map_elements(\n",
    "            lambda x: tp.predict(user_id=x, top_k=10),\n",
    "            return_dtype=pl.List(pl.Int64)\n",
    "        ).alias('tp_recs'),\n",
    "        pl.col('user_id').map_elements(\n",
    "            lambda x: rn_uniform.predict(user_id=x, top_k=10),\n",
    "            return_dtype=pl.List(pl.Int64)\n",
    "        ).alias('rn_uniform_recs'),\n",
    "        pl.col('user_id').map_elements(\n",
    "            lambda x: rn.predict(user_id=x, top_k=10),\n",
    "            return_dtype=pl.List(pl.Int64)\n",
    "        ).alias('rn_recs'),\n",
    "        pl.col('user_id').map_elements(\n",
    "            lambda x: ptp.predict(user_id=x, top_k=10),\n",
    "            return_dtype=pl.List(pl.Int64)\n",
    "        ).alias('ptp_recs'),\n",
    "    ])\n",
    ")\n",
    "recommemd_sample_users"
   ]
  },
  {
   "cell_type": "markdown",
   "id": "81832961",
   "metadata": {},
   "source": [
    "https://www.evidentlyai.com/ranking-metrics/precision-recall-at-k"
   ]
  },
  {
   "cell_type": "code",
   "execution_count": 62,
   "id": "fd964508",
   "metadata": {},
   "outputs": [],
   "source": [
    "# recall precision\n",
    "def calc_pr_metrics(data, recs_column):\n",
    "    metrics = (\n",
    "        data\n",
    "        .select('user_id', 'ids', recs_column)\n",
    "        .with_columns([\n",
    "            pl.col('ids').list.set_intersection(pl.col(recs_column)).alias(f'relevant_in_{recs_column}')\n",
    "        ])\n",
    "        .with_columns([\n",
    "            pl.col(f'relevant_in_{recs_column}').list.len().alias('len1'),\n",
    "            pl.col(recs_column).list.len().alias('len2'),\n",
    "            pl.col('ids').list.len().alias('len3'),\n",
    "        ])\n",
    "        .with_columns([\n",
    "            (pl.col('len1') / pl.col('len3')).alias('recall'),\n",
    "            (pl.col('len1') / pl.col('len2')).alias('precision'),\n",
    "        ])\n",
    "        .fill_nan(0)\n",
    "        .select(\n",
    "            pl.mean('recall').alias('recall'),\n",
    "            pl.mean('precision').alias('precision'),\n",
    "        )\n",
    "    )\n",
    "    return metrics"
   ]
  },
  {
   "cell_type": "code",
   "execution_count": 63,
   "id": "c38c2afb",
   "metadata": {},
   "outputs": [
    {
     "data": {
      "text/html": [
       "<div><style>\n",
       ".dataframe > thead > tr,\n",
       ".dataframe > tbody > tr {\n",
       "  text-align: right;\n",
       "  white-space: pre-wrap;\n",
       "}\n",
       "</style>\n",
       "<small>shape: (1, 2)</small><table border=\"1\" class=\"dataframe\"><thead><tr><th>recall</th><th>precision</th></tr><tr><td>f64</td><td>f64</td></tr></thead><tbody><tr><td>0.025722</td><td>0.0288</td></tr></tbody></table></div>"
      ],
      "text/plain": [
       "shape: (1, 2)\n",
       "┌──────────┬───────────┐\n",
       "│ recall   ┆ precision │\n",
       "│ ---      ┆ ---       │\n",
       "│ f64      ┆ f64       │\n",
       "╞══════════╪═══════════╡\n",
       "│ 0.025722 ┆ 0.0288    │\n",
       "└──────────┴───────────┘"
      ]
     },
     "execution_count": 63,
     "metadata": {},
     "output_type": "execute_result"
    }
   ],
   "source": [
    "calc_pr_metrics(recommemd_sample_users, 'tp_recs')"
   ]
  },
  {
   "cell_type": "code",
   "execution_count": 64,
   "id": "0a2934f4",
   "metadata": {},
   "outputs": [
    {
     "data": {
      "text/html": [
       "<div><style>\n",
       ".dataframe > thead > tr,\n",
       ".dataframe > tbody > tr {\n",
       "  text-align: right;\n",
       "  white-space: pre-wrap;\n",
       "}\n",
       "</style>\n",
       "<small>shape: (1, 2)</small><table border=\"1\" class=\"dataframe\"><thead><tr><th>recall</th><th>precision</th></tr><tr><td>f64</td><td>f64</td></tr></thead><tbody><tr><td>0.000011</td><td>0.0001</td></tr></tbody></table></div>"
      ],
      "text/plain": [
       "shape: (1, 2)\n",
       "┌──────────┬───────────┐\n",
       "│ recall   ┆ precision │\n",
       "│ ---      ┆ ---       │\n",
       "│ f64      ┆ f64       │\n",
       "╞══════════╪═══════════╡\n",
       "│ 0.000011 ┆ 0.0001    │\n",
       "└──────────┴───────────┘"
      ]
     },
     "execution_count": 64,
     "metadata": {},
     "output_type": "execute_result"
    }
   ],
   "source": [
    "calc_pr_metrics(recommemd_sample_users, 'rn_uniform_recs')"
   ]
  },
  {
   "cell_type": "code",
   "execution_count": 65,
   "id": "efc8a512",
   "metadata": {},
   "outputs": [
    {
     "data": {
      "text/html": [
       "<div><style>\n",
       ".dataframe > thead > tr,\n",
       ".dataframe > tbody > tr {\n",
       "  text-align: right;\n",
       "  white-space: pre-wrap;\n",
       "}\n",
       "</style>\n",
       "<small>shape: (1, 2)</small><table border=\"1\" class=\"dataframe\"><thead><tr><th>recall</th><th>precision</th></tr><tr><td>f64</td><td>f64</td></tr></thead><tbody><tr><td>0.000101</td><td>0.0002</td></tr></tbody></table></div>"
      ],
      "text/plain": [
       "shape: (1, 2)\n",
       "┌──────────┬───────────┐\n",
       "│ recall   ┆ precision │\n",
       "│ ---      ┆ ---       │\n",
       "│ f64      ┆ f64       │\n",
       "╞══════════╪═══════════╡\n",
       "│ 0.000101 ┆ 0.0002    │\n",
       "└──────────┴───────────┘"
      ]
     },
     "execution_count": 65,
     "metadata": {},
     "output_type": "execute_result"
    }
   ],
   "source": [
    "calc_pr_metrics(recommemd_sample_users, 'rn_recs')"
   ]
  },
  {
   "cell_type": "code",
   "execution_count": 66,
   "id": "d5dbf924",
   "metadata": {},
   "outputs": [
    {
     "data": {
      "text/html": [
       "<div><style>\n",
       ".dataframe > thead > tr,\n",
       ".dataframe > tbody > tr {\n",
       "  text-align: right;\n",
       "  white-space: pre-wrap;\n",
       "}\n",
       "</style>\n",
       "<small>shape: (1, 2)</small><table border=\"1\" class=\"dataframe\"><thead><tr><th>recall</th><th>precision</th></tr><tr><td>f64</td><td>f64</td></tr></thead><tbody><tr><td>0.078147</td><td>0.11341</td></tr></tbody></table></div>"
      ],
      "text/plain": [
       "shape: (1, 2)\n",
       "┌──────────┬───────────┐\n",
       "│ recall   ┆ precision │\n",
       "│ ---      ┆ ---       │\n",
       "│ f64      ┆ f64       │\n",
       "╞══════════╪═══════════╡\n",
       "│ 0.078147 ┆ 0.11341   │\n",
       "└──────────┴───────────┘"
      ]
     },
     "execution_count": 66,
     "metadata": {},
     "output_type": "execute_result"
    }
   ],
   "source": [
    "calc_pr_metrics(recommemd_sample_users, 'ptp_recs')"
   ]
  },
  {
   "cell_type": "code",
   "execution_count": null,
   "id": "677d74c7",
   "metadata": {},
   "outputs": [],
   "source": [
    "# ndcg, map@k"
   ]
  },
  {
   "cell_type": "markdown",
   "id": "fe003173",
   "metadata": {},
   "source": [
    "https://github.com/MobileTeleSystems/RecTools"
   ]
  },
  {
   "cell_type": "code",
   "execution_count": 67,
   "id": "e8a1d7f5",
   "metadata": {},
   "outputs": [],
   "source": [
    "from rectools.metrics import (\n",
    "    Precision,\n",
    "    NDCG,\n",
    "    Recall,\n",
    "    MAP,\n",
    ")\n",
    "\n",
    "recall = Recall(k=10)\n",
    "precision = Precision(k=10)"
   ]
  },
  {
   "cell_type": "code",
   "execution_count": 68,
   "id": "09910690",
   "metadata": {},
   "outputs": [],
   "source": [
    "interactions = (\n",
    "    recommemd_sample_users\n",
    "    .select('user_id', pl.col('ids').alias('item_id'))\n",
    "    .explode('item_id')\n",
    ").to_pandas()\n",
    "reco = (\n",
    "    recommemd_sample_users\n",
    "    .select('user_id', pl.col('ptp_recs').alias('item_id'), pl.lit(1).alias('rank'))\n",
    "    .explode('item_id')\n",
    ").to_pandas()"
   ]
  },
  {
   "cell_type": "code",
   "execution_count": 69,
   "id": "aead2913",
   "metadata": {},
   "outputs": [
    {
     "name": "stdout",
     "output_type": "stream",
     "text": [
      "recall:  0.07814730366868573 precision:  0.09079999999999999\n"
     ]
    }
   ],
   "source": [
    "print(\n",
    "    'recall: ', recall.calc(reco=reco, interactions=interactions),\n",
    "    'precision: ', precision.calc(reco=reco, interactions=interactions)\n",
    ")"
   ]
  },
  {
   "cell_type": "code",
   "execution_count": 70,
   "id": "be9f67b2",
   "metadata": {},
   "outputs": [
    {
     "data": {
      "text/html": [
       "<div><style>\n",
       ".dataframe > thead > tr,\n",
       ".dataframe > tbody > tr {\n",
       "  text-align: right;\n",
       "  white-space: pre-wrap;\n",
       "}\n",
       "</style>\n",
       "<small>shape: (1, 2)</small><table border=\"1\" class=\"dataframe\"><thead><tr><th>recall</th><th>precision</th></tr><tr><td>f64</td><td>f64</td></tr></thead><tbody><tr><td>0.078147</td><td>0.11341</td></tr></tbody></table></div>"
      ],
      "text/plain": [
       "shape: (1, 2)\n",
       "┌──────────┬───────────┐\n",
       "│ recall   ┆ precision │\n",
       "│ ---      ┆ ---       │\n",
       "│ f64      ┆ f64       │\n",
       "╞══════════╪═══════════╡\n",
       "│ 0.078147 ┆ 0.11341   │\n",
       "└──────────┴───────────┘"
      ]
     },
     "execution_count": 70,
     "metadata": {},
     "output_type": "execute_result"
    }
   ],
   "source": [
    "calc_pr_metrics(recommemd_sample_users, 'ptp_recs')"
   ]
  },
  {
   "cell_type": "markdown",
   "id": "f5d0246f",
   "metadata": {},
   "source": [
    "можем почитать такой пост https://t.me/datarascals/66 <br>\n",
    "в precision делим на k или на кол-во рекомендаций?"
   ]
  },
  {
   "cell_type": "code",
   "execution_count": 71,
   "id": "b94c2d49",
   "metadata": {},
   "outputs": [],
   "source": [
    "# recall precision\n",
    "def calc_pr_metrics_v2(data, recs_column, top_k: int = DEFAULT_TOP_K):\n",
    "    metrics = (\n",
    "        data\n",
    "        .select('user_id', 'ids', recs_column)\n",
    "        .with_columns([\n",
    "            pl.col('ids').list.set_intersection(pl.col(recs_column)).alias(f'relevant_in_{recs_column}')\n",
    "        ])\n",
    "        .with_columns([\n",
    "            pl.col(f'relevant_in_{recs_column}').list.len().alias('len1'),\n",
    "            pl.col(recs_column).list.len().alias('len2'),\n",
    "            pl.col('ids').list.len().alias('len3')\n",
    "        ])\n",
    "        .with_columns([\n",
    "            (pl.col('len1') / pl.col('len3')).alias('recall'),\n",
    "            (pl.col('len1') / top_k).alias('precision'),\n",
    "        ])\n",
    "        .fill_nan(0)\n",
    "        .select(\n",
    "            pl.mean('recall').alias('recall'),\n",
    "            pl.mean('precision').alias('precision')\n",
    "        )\n",
    "    )\n",
    "    return metrics"
   ]
  },
  {
   "cell_type": "code",
   "execution_count": 72,
   "id": "e9c2bf21",
   "metadata": {},
   "outputs": [
    {
     "data": {
      "text/html": [
       "<div><style>\n",
       ".dataframe > thead > tr,\n",
       ".dataframe > tbody > tr {\n",
       "  text-align: right;\n",
       "  white-space: pre-wrap;\n",
       "}\n",
       "</style>\n",
       "<small>shape: (1, 2)</small><table border=\"1\" class=\"dataframe\"><thead><tr><th>recall</th><th>precision</th></tr><tr><td>f64</td><td>f64</td></tr></thead><tbody><tr><td>0.078147</td><td>0.0908</td></tr></tbody></table></div>"
      ],
      "text/plain": [
       "shape: (1, 2)\n",
       "┌──────────┬───────────┐\n",
       "│ recall   ┆ precision │\n",
       "│ ---      ┆ ---       │\n",
       "│ f64      ┆ f64       │\n",
       "╞══════════╪═══════════╡\n",
       "│ 0.078147 ┆ 0.0908    │\n",
       "└──────────┴───────────┘"
      ]
     },
     "execution_count": 72,
     "metadata": {},
     "output_type": "execute_result"
    }
   ],
   "source": [
    "calc_pr_metrics_v2(recommemd_sample_users, 'ptp_recs')"
   ]
  },
  {
   "cell_type": "code",
   "execution_count": 73,
   "id": "9d7675dd",
   "metadata": {},
   "outputs": [
    {
     "name": "stdout",
     "output_type": "stream",
     "text": [
      "recall:  0.07814730366868573 precision:  0.09079999999999999\n"
     ]
    }
   ],
   "source": [
    "print(\n",
    "    'recall: ', recall.calc(reco=reco, interactions=interactions),\n",
    "    'precision: ', precision.calc(reco=reco, interactions=interactions)\n",
    ")"
   ]
  },
  {
   "cell_type": "code",
   "execution_count": 74,
   "id": "e15b52a7",
   "metadata": {},
   "outputs": [],
   "source": [
    "ndcg = NDCG(k=10)\n",
    "map10 = MAP(k=10)"
   ]
  },
  {
   "cell_type": "code",
   "execution_count": 75,
   "id": "62ab1e2c",
   "metadata": {},
   "outputs": [
    {
     "name": "stdout",
     "output_type": "stream",
     "text": [
      "map10:  0.07814730366868573 ndcg:  0.19984332379865682\n"
     ]
    }
   ],
   "source": [
    "print(\n",
    "    'map10: ', map10.calc(reco=reco, interactions=interactions),\n",
    "    'ndcg: ', ndcg.calc(reco=reco, interactions=interactions),\n",
    ")"
   ]
  },
  {
   "cell_type": "markdown",
   "id": "42cd4bb8",
   "metadata": {},
   "source": [
    "реализации метрик\n",
    "- rectools https://github.com/MobileTeleSystems/RecTools\n",
    "- replay https://github.com/sberbank-ai-lab/RePlay\n",
    "- реализация для torch https://github.com/zuoxingdong/recsys_metrics\n",
    "- evidently https://docs.evidentlyai.com/metrics/explainer_recsys https://github.com/evidentlyai/evidently/tree/main/src/evidently/metrics/recsys\n",
    "- catboost https://catboost.ai/docs/en/concepts/loss-functions-ranking\n",
    "- даже в sklearn есть https://scikit-learn.org/stable/modules/generated/sklearn.metrics.ndcg_score.html\n",
    "- ручная реализация на вашей работе :)"
   ]
  },
  {
   "cell_type": "code",
   "execution_count": null,
   "id": "9502e5c1",
   "metadata": {},
   "outputs": [],
   "source": []
  },
  {
   "cell_type": "markdown",
   "id": "4b4f5017",
   "metadata": {},
   "source": [
    "Еще раз посмотрим на наши рекомендации"
   ]
  },
  {
   "cell_type": "code",
   "execution_count": 76,
   "id": "e97ae9ae",
   "metadata": {},
   "outputs": [
    {
     "data": {
      "text/html": [
       "<div><style>\n",
       ".dataframe > thead > tr,\n",
       ".dataframe > tbody > tr {\n",
       "  text-align: right;\n",
       "  white-space: pre-wrap;\n",
       "}\n",
       "</style>\n",
       "<small>shape: (1_000, 6)</small><table border=\"1\" class=\"dataframe\"><thead><tr><th>user_id</th><th>ids</th><th>tp_recs</th><th>rn_uniform_recs</th><th>rn_recs</th><th>ptp_recs</th></tr><tr><td>i32</td><td>list[i64]</td><td>list[i64]</td><td>list[i64]</td><td>list[i64]</td><td>list[i64]</td></tr></thead><tbody><tr><td>8724472</td><td>[142224890, 142744767, … 1609661801]</td><td>[148481523, 356292677, … 398644622]</td><td>[792761435, 1341207552, … 982041180]</td><td>[997375934, 1569192283, … 1444566792]</td><td>[147740723, 140485557, … 248897020]</td></tr><tr><td>7829309</td><td>[145923184, 148481531, … 1326348754]</td><td>[148481523, 356292677, … 398644622]</td><td>[792761435, 1341207552, … 982041180]</td><td>[592027089, 1607825246, … 139719237]</td><td>[326522574, 145923184, … 146885653]</td></tr><tr><td>8716908</td><td>[138235117, 140800363, … 1417503473]</td><td>[148481523, 356292677, … 398644622]</td><td>[612654255, 1290405263, … 185549257]</td><td>[865531377, 1222965776, … 138394204]</td><td>[1053571367, 1417503475, … 847609003]</td></tr><tr><td>3220791</td><td>[139588639]</td><td>[148481523, 356292677, … 398644622]</td><td>[876652561, 1234142748, … 138394206]</td><td>[756532921, 146943531, … 140590409]</td><td>[448350034, 277940536, … 136001612]</td></tr><tr><td>2198720</td><td>[148234013, 259441395, 1525503021]</td><td>[148481523, 356292677, … 398644622]</td><td>[1079782225, 163599022, … 181357196]</td><td>[1060371059, 159850700, … 176208972]</td><td>[]</td></tr><tr><td>&hellip;</td><td>&hellip;</td><td>&hellip;</td><td>&hellip;</td><td>&hellip;</td><td>&hellip;</td></tr><tr><td>10656706</td><td>[551428881, 576985723]</td><td>[148481523, 356292677, … 398644622]</td><td>[1047255661, 1237523354, … 167297554]</td><td>[1512053319, 676097300, … 363494656]</td><td>[]</td></tr><tr><td>3707490</td><td>[142331278, 576985723, 1000411790]</td><td>[148481523, 356292677, … 398644622]</td><td>[1600086052, 1535967089, … 818978053]</td><td>[1517997565, 149702462, … 1543540674]</td><td>[]</td></tr><tr><td>6749782</td><td>[145564950, 202922326, … 1482358488]</td><td>[148481523, 356292677, … 398644622]</td><td>[370353716, 709644564, … 177740779]</td><td>[1087610747, 1561435448, … 1560904783]</td><td>[472320249, 1032351670, … 7436127]</td></tr><tr><td>2786756</td><td>[136074027, 137324046, … 1542009624]</td><td>[148481523, 356292677, … 398644622]</td><td>[1573177462, 1562279469, … 1531320074]</td><td>[1517997565, 149702462, … 1543540674]</td><td>[145923215, 496150245, … 490307080]</td></tr><tr><td>4596359</td><td>[151482115, 246074718]</td><td>[148481523, 356292677, … 398644622]</td><td>[1590598676, 1339094432, … 607958616]</td><td>[1087610747, 1561435448, … 1560904783]</td><td>[]</td></tr></tbody></table></div>"
      ],
      "text/plain": [
       "shape: (1_000, 6)\n",
       "┌──────────┬─────────────────┬─────────────────┬─────────────────┬────────────────┬────────────────┐\n",
       "│ user_id  ┆ ids             ┆ tp_recs         ┆ rn_uniform_recs ┆ rn_recs        ┆ ptp_recs       │\n",
       "│ ---      ┆ ---             ┆ ---             ┆ ---             ┆ ---            ┆ ---            │\n",
       "│ i32      ┆ list[i64]       ┆ list[i64]       ┆ list[i64]       ┆ list[i64]      ┆ list[i64]      │\n",
       "╞══════════╪═════════════════╪═════════════════╪═════════════════╪════════════════╪════════════════╡\n",
       "│ 8724472  ┆ [142224890,     ┆ [148481523,     ┆ [792761435,     ┆ [997375934,    ┆ [147740723,    │\n",
       "│          ┆ 142744767, …    ┆ 356292677, …    ┆ 1341207552, …   ┆ 1569192283, …  ┆ 140485557, …   │\n",
       "│          ┆ 16096…          ┆ 39864…          ┆ 9820…           ┆ 1444…          ┆ 24889…         │\n",
       "│ 7829309  ┆ [145923184,     ┆ [148481523,     ┆ [792761435,     ┆ [592027089,    ┆ [326522574,    │\n",
       "│          ┆ 148481531, …    ┆ 356292677, …    ┆ 1341207552, …   ┆ 1607825246, …  ┆ 145923184, …   │\n",
       "│          ┆ 13263…          ┆ 39864…          ┆ 9820…           ┆ 1397…          ┆ 14688…         │\n",
       "│ 8716908  ┆ [138235117,     ┆ [148481523,     ┆ [612654255,     ┆ [865531377,    ┆ [1053571367,   │\n",
       "│          ┆ 140800363, …    ┆ 356292677, …    ┆ 1290405263, …   ┆ 1222965776, …  ┆ 1417503475, …  │\n",
       "│          ┆ 14175…          ┆ 39864…          ┆ 1855…           ┆ 1383…          ┆ 847…           │\n",
       "│ 3220791  ┆ [139588639]     ┆ [148481523,     ┆ [876652561,     ┆ [756532921,    ┆ [448350034,    │\n",
       "│          ┆                 ┆ 356292677, …    ┆ 1234142748, …   ┆ 146943531, …   ┆ 277940536, …   │\n",
       "│          ┆                 ┆ 39864…          ┆ 1383…           ┆ 14059…         ┆ 13600…         │\n",
       "│ 2198720  ┆ [148234013,     ┆ [148481523,     ┆ [1079782225,    ┆ [1060371059,   ┆ []             │\n",
       "│          ┆ 259441395,      ┆ 356292677, …    ┆ 163599022, …    ┆ 159850700, …   ┆                │\n",
       "│          ┆ 1525503…        ┆ 39864…          ┆ 1813…           ┆ 1762…          ┆                │\n",
       "│ …        ┆ …               ┆ …               ┆ …               ┆ …              ┆ …              │\n",
       "│ 10656706 ┆ [551428881,     ┆ [148481523,     ┆ [1047255661,    ┆ [1512053319,   ┆ []             │\n",
       "│          ┆ 576985723]      ┆ 356292677, …    ┆ 1237523354, …   ┆ 676097300, …   ┆                │\n",
       "│          ┆                 ┆ 39864…          ┆ 167…            ┆ 3634…          ┆                │\n",
       "│ 3707490  ┆ [142331278,     ┆ [148481523,     ┆ [1600086052,    ┆ [1517997565,   ┆ []             │\n",
       "│          ┆ 576985723,      ┆ 356292677, …    ┆ 1535967089, …   ┆ 149702462, …   ┆                │\n",
       "│          ┆ 1000411…        ┆ 39864…          ┆ 818…            ┆ 1543…          ┆                │\n",
       "│ 6749782  ┆ [145564950,     ┆ [148481523,     ┆ [370353716,     ┆ [1087610747,   ┆ [472320249,    │\n",
       "│          ┆ 202922326, …    ┆ 356292677, …    ┆ 709644564, …    ┆ 1561435448, …  ┆ 1032351670, …  │\n",
       "│          ┆ 14823…          ┆ 39864…          ┆ 17774…          ┆ 156…           ┆ 7436…          │\n",
       "│ 2786756  ┆ [136074027,     ┆ [148481523,     ┆ [1573177462,    ┆ [1517997565,   ┆ [145923215,    │\n",
       "│          ┆ 137324046, …    ┆ 356292677, …    ┆ 1562279469, …   ┆ 149702462, …   ┆ 496150245, …   │\n",
       "│          ┆ 15420…          ┆ 39864…          ┆ 153…            ┆ 1543…          ┆ 49030…         │\n",
       "│ 4596359  ┆ [151482115,     ┆ [148481523,     ┆ [1590598676,    ┆ [1087610747,   ┆ []             │\n",
       "│          ┆ 246074718]      ┆ 356292677, …    ┆ 1339094432, …   ┆ 1561435448, …  ┆                │\n",
       "│          ┆                 ┆ 39864…          ┆ 607…            ┆ 156…           ┆                │\n",
       "└──────────┴─────────────────┴─────────────────┴─────────────────┴────────────────┴────────────────┘"
      ]
     },
     "execution_count": 76,
     "metadata": {},
     "output_type": "execute_result"
    }
   ],
   "source": [
    "recommemd_sample_users"
   ]
  },
  {
   "cell_type": "markdown",
   "id": "f25fb953",
   "metadata": {},
   "source": [
    "Как можем быстро улучшить personal top?"
   ]
  },
  {
   "cell_type": "code",
   "execution_count": 88,
   "id": "e97e71aa",
   "metadata": {},
   "outputs": [],
   "source": [
    "class PersonalTopPopularV2:\n",
    "    def __init__(self, top_popular, personal_top_popular):\n",
    "        self.top_popular = top_popular\n",
    "        self.personal_top_popular = personal_top_popular\n",
    "    \n",
    "    def fit(self, data: pl.DataFrame, id_name: str = 'product_id', user_id: str = 'user_id'):\n",
    "        self.top_popular.fit(data, id_name)\n",
    "        self.personal_top_popular.fit(data, id_name, user_id)\n",
    "        \n",
    "    def predict(self, user_id: int = DEFAULT_USER, top_k: int = DEFAULT_TOP_K) -> List[int]:\n",
    "        recs = []\n",
    "        pers_top = self.personal_top_popular.predict(user_id, top_k)\n",
    "        if len(pers_top) < top_k:\n",
    "            top = self.top_popular.predict(user_id, top_k - len(pers_top))\n",
    "            recs = pers_top + top\n",
    "        else:\n",
    "            recs = pers_top\n",
    "        return recs"
   ]
  },
  {
   "cell_type": "code",
   "execution_count": 89,
   "id": "a4b2d65d",
   "metadata": {},
   "outputs": [],
   "source": [
    "ptp = PersonalTopPopular()\n",
    "ptp.fit(train)"
   ]
  },
  {
   "cell_type": "code",
   "execution_count": 90,
   "id": "1bfb169a",
   "metadata": {},
   "outputs": [],
   "source": [
    "ptp_v2 = PersonalTopPopularV2(top_popular=tp, personal_top_popular=ptp)\n",
    "ptp_v2.fit(train)"
   ]
  },
  {
   "cell_type": "code",
   "execution_count": 91,
   "id": "c41c8f2b",
   "metadata": {},
   "outputs": [
    {
     "data": {
      "text/html": [
       "<div><style>\n",
       ".dataframe > thead > tr,\n",
       ".dataframe > tbody > tr {\n",
       "  text-align: right;\n",
       "  white-space: pre-wrap;\n",
       "}\n",
       "</style>\n",
       "<small>shape: (59_905, 2)</small><table border=\"1\" class=\"dataframe\"><thead><tr><th>product_id</th><th>len</th></tr><tr><td>i64</td><td>u32</td></tr></thead><tbody><tr><td>148481523</td><td>138685</td></tr><tr><td>356292677</td><td>73544</td></tr><tr><td>398644623</td><td>69266</td></tr><tr><td>143259875</td><td>68298</td></tr><tr><td>146215073</td><td>63039</td></tr><tr><td>&hellip;</td><td>&hellip;</td></tr><tr><td>1585237280</td><td>1</td></tr><tr><td>1483392494</td><td>1</td></tr><tr><td>719264854</td><td>1</td></tr><tr><td>870147954</td><td>1</td></tr><tr><td>1461236353</td><td>1</td></tr></tbody></table></div>"
      ],
      "text/plain": [
       "shape: (59_905, 2)\n",
       "┌────────────┬────────┐\n",
       "│ product_id ┆ len    │\n",
       "│ ---        ┆ ---    │\n",
       "│ i64        ┆ u32    │\n",
       "╞════════════╪════════╡\n",
       "│ 148481523  ┆ 138685 │\n",
       "│ 356292677  ┆ 73544  │\n",
       "│ 398644623  ┆ 69266  │\n",
       "│ 143259875  ┆ 68298  │\n",
       "│ 146215073  ┆ 63039  │\n",
       "│ …          ┆ …      │\n",
       "│ 1585237280 ┆ 1      │\n",
       "│ 1483392494 ┆ 1      │\n",
       "│ 719264854  ┆ 1      │\n",
       "│ 870147954  ┆ 1      │\n",
       "│ 1461236353 ┆ 1      │\n",
       "└────────────┴────────┘"
      ]
     },
     "execution_count": 91,
     "metadata": {},
     "output_type": "execute_result"
    }
   ],
   "source": [
    "ptp_v2.top_popular.sort_data"
   ]
  },
  {
   "cell_type": "code",
   "execution_count": 92,
   "id": "90893f7f",
   "metadata": {},
   "outputs": [
    {
     "data": {
      "text/html": [
       "<div><style>\n",
       ".dataframe > thead > tr,\n",
       ".dataframe > tbody > tr {\n",
       "  text-align: right;\n",
       "  white-space: pre-wrap;\n",
       "}\n",
       "</style>\n",
       "<small>shape: (1_000, 4)</small><table border=\"1\" class=\"dataframe\"><thead><tr><th>user_id</th><th>ids</th><th>ptp_recs</th><th>ptp_v2_recs</th></tr><tr><td>i32</td><td>list[i64]</td><td>list[i64]</td><td>list[i64]</td></tr></thead><tbody><tr><td>8724472</td><td>[142224890, 142744767, … 1609661801]</td><td>[147740723, 140485557, … 343870630]</td><td>[147740723, 140485557, … 343870630]</td></tr><tr><td>7829309</td><td>[145923184, 148481531, … 1326348754]</td><td>[326522574, 145923184, … 736757403]</td><td>[326522574, 145923184, … 736757403]</td></tr><tr><td>8716908</td><td>[138235117, 140800363, … 1417503473]</td><td>[1053571367, 1417503475, … 34362301]</td><td>[1053571367, 1417503475, … 34362301]</td></tr><tr><td>3220791</td><td>[139588639]</td><td>[176152004, 1211546989, … 256987522]</td><td>[176152004, 1211546989, … 356292677]</td></tr><tr><td>2198720</td><td>[148234013, 259441395, 1525503021]</td><td>[]</td><td>[148481523, 356292677, … 398644622]</td></tr><tr><td>&hellip;</td><td>&hellip;</td><td>&hellip;</td><td>&hellip;</td></tr><tr><td>10656706</td><td>[551428881, 576985723]</td><td>[]</td><td>[148481523, 356292677, … 398644622]</td></tr><tr><td>3707490</td><td>[142331278, 576985723, 1000411790]</td><td>[]</td><td>[148481523, 356292677, … 398644622]</td></tr><tr><td>6749782</td><td>[145564950, 202922326, … 1482358488]</td><td>[472320249, 591160299, … 182393144]</td><td>[472320249, 591160299, … 182393144]</td></tr><tr><td>2786756</td><td>[136074027, 137324046, … 1542009624]</td><td>[1090688360, 623145431, … 487916426]</td><td>[1090688360, 623145431, … 487916426]</td></tr><tr><td>4596359</td><td>[151482115, 246074718]</td><td>[]</td><td>[148481523, 356292677, … 398644622]</td></tr></tbody></table></div>"
      ],
      "text/plain": [
       "shape: (1_000, 4)\n",
       "┌──────────┬─────────────────────────────┬────────────────────────────┬────────────────────────────┐\n",
       "│ user_id  ┆ ids                         ┆ ptp_recs                   ┆ ptp_v2_recs                │\n",
       "│ ---      ┆ ---                         ┆ ---                        ┆ ---                        │\n",
       "│ i32      ┆ list[i64]                   ┆ list[i64]                  ┆ list[i64]                  │\n",
       "╞══════════╪═════════════════════════════╪════════════════════════════╪════════════════════════════╡\n",
       "│ 8724472  ┆ [142224890, 142744767, …    ┆ [147740723, 140485557, …   ┆ [147740723, 140485557, …   │\n",
       "│          ┆ 16096…                      ┆ 34387…                     ┆ 34387…                     │\n",
       "│ 7829309  ┆ [145923184, 148481531, …    ┆ [326522574, 145923184, …   ┆ [326522574, 145923184, …   │\n",
       "│          ┆ 13263…                      ┆ 73675…                     ┆ 73675…                     │\n",
       "│ 8716908  ┆ [138235117, 140800363, …    ┆ [1053571367, 1417503475, … ┆ [1053571367, 1417503475, … │\n",
       "│          ┆ 14175…                      ┆ 343…                       ┆ 343…                       │\n",
       "│ 3220791  ┆ [139588639]                 ┆ [176152004, 1211546989, …  ┆ [176152004, 1211546989, …  │\n",
       "│          ┆                             ┆ 2569…                      ┆ 3562…                      │\n",
       "│ 2198720  ┆ [148234013, 259441395,      ┆ []                         ┆ [148481523, 356292677, …   │\n",
       "│          ┆ 1525503…                    ┆                            ┆ 39864…                     │\n",
       "│ …        ┆ …                           ┆ …                          ┆ …                          │\n",
       "│ 10656706 ┆ [551428881, 576985723]      ┆ []                         ┆ [148481523, 356292677, …   │\n",
       "│          ┆                             ┆                            ┆ 39864…                     │\n",
       "│ 3707490  ┆ [142331278, 576985723,      ┆ []                         ┆ [148481523, 356292677, …   │\n",
       "│          ┆ 1000411…                    ┆                            ┆ 39864…                     │\n",
       "│ 6749782  ┆ [145564950, 202922326, …    ┆ [472320249, 591160299, …   ┆ [472320249, 591160299, …   │\n",
       "│          ┆ 14823…                      ┆ 18239…                     ┆ 18239…                     │\n",
       "│ 2786756  ┆ [136074027, 137324046, …    ┆ [1090688360, 623145431, …  ┆ [1090688360, 623145431, …  │\n",
       "│          ┆ 15420…                      ┆ 4879…                      ┆ 4879…                      │\n",
       "│ 4596359  ┆ [151482115, 246074718]      ┆ []                         ┆ [148481523, 356292677, …   │\n",
       "│          ┆                             ┆                            ┆ 39864…                     │\n",
       "└──────────┴─────────────────────────────┴────────────────────────────┴────────────────────────────┘"
      ]
     },
     "execution_count": 92,
     "metadata": {},
     "output_type": "execute_result"
    }
   ],
   "source": [
    "recommend_sample_users = (\n",
    "    sample_users\n",
    "    .with_columns([\n",
    "        pl.col('user_id').map_elements(\n",
    "            lambda x: ptp.predict(user_id=x, top_k=10),\n",
    "            return_dtype=pl.List(pl.Int64)\n",
    "        ).alias('ptp_recs'),\n",
    "        pl.col('user_id').map_elements(\n",
    "            lambda x: ptp_v2.predict(user_id=x, top_k=10),\n",
    "            return_dtype=pl.List(pl.Int64)\n",
    "        ).alias('ptp_v2_recs'),\n",
    "    ])\n",
    ")\n",
    "recommend_sample_users"
   ]
  },
  {
   "cell_type": "code",
   "execution_count": 93,
   "id": "4aa9c21a",
   "metadata": {},
   "outputs": [
    {
     "data": {
      "text/html": [
       "<div><style>\n",
       ".dataframe > thead > tr,\n",
       ".dataframe > tbody > tr {\n",
       "  text-align: right;\n",
       "  white-space: pre-wrap;\n",
       "}\n",
       "</style>\n",
       "<small>shape: (1, 2)</small><table border=\"1\" class=\"dataframe\"><thead><tr><th>recall</th><th>precision</th></tr><tr><td>f64</td><td>f64</td></tr></thead><tbody><tr><td>0.080021</td><td>0.0922</td></tr></tbody></table></div>"
      ],
      "text/plain": [
       "shape: (1, 2)\n",
       "┌──────────┬───────────┐\n",
       "│ recall   ┆ precision │\n",
       "│ ---      ┆ ---       │\n",
       "│ f64      ┆ f64       │\n",
       "╞══════════╪═══════════╡\n",
       "│ 0.080021 ┆ 0.0922    │\n",
       "└──────────┴───────────┘"
      ]
     },
     "execution_count": 93,
     "metadata": {},
     "output_type": "execute_result"
    }
   ],
   "source": [
    "calc_pr_metrics_v2(recommend_sample_users, 'ptp_recs')"
   ]
  },
  {
   "cell_type": "code",
   "execution_count": 94,
   "id": "88faa59b",
   "metadata": {},
   "outputs": [
    {
     "data": {
      "text/html": [
       "<div><style>\n",
       ".dataframe > thead > tr,\n",
       ".dataframe > tbody > tr {\n",
       "  text-align: right;\n",
       "  white-space: pre-wrap;\n",
       "}\n",
       "</style>\n",
       "<small>shape: (1, 2)</small><table border=\"1\" class=\"dataframe\"><thead><tr><th>recall</th><th>precision</th></tr><tr><td>f64</td><td>f64</td></tr></thead><tbody><tr><td>0.095633</td><td>0.1</td></tr></tbody></table></div>"
      ],
      "text/plain": [
       "shape: (1, 2)\n",
       "┌──────────┬───────────┐\n",
       "│ recall   ┆ precision │\n",
       "│ ---      ┆ ---       │\n",
       "│ f64      ┆ f64       │\n",
       "╞══════════╪═══════════╡\n",
       "│ 0.095633 ┆ 0.1       │\n",
       "└──────────┴───────────┘"
      ]
     },
     "execution_count": 94,
     "metadata": {},
     "output_type": "execute_result"
    }
   ],
   "source": [
    "calc_pr_metrics_v2(recommend_sample_users, 'ptp_v2_recs')"
   ]
  },
  {
   "cell_type": "code",
   "execution_count": null,
   "id": "8eeb4a79",
   "metadata": {},
   "outputs": [],
   "source": []
  }
 ],
 "metadata": {
  "kernelspec": {
   "display_name": "AM_ML_env",
   "language": "python",
   "name": "am_ml_env"
  },
  "language_info": {
   "codemirror_mode": {
    "name": "ipython",
    "version": 3
   },
   "file_extension": ".py",
   "mimetype": "text/x-python",
   "name": "python",
   "nbconvert_exporter": "python",
   "pygments_lexer": "ipython3",
   "version": "3.9.18"
  }
 },
 "nbformat": 4,
 "nbformat_minor": 5
}
