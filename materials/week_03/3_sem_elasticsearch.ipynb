{
 "cells": [
  {
   "cell_type": "markdown",
   "id": "6d4323c6-5ceb-4074-bdb3-9c66d1112843",
   "metadata": {},
   "source": [
    "## Поднимаем ElasticSearch"
   ]
  },
  {
   "cell_type": "markdown",
   "id": "efffc06a-95df-45b8-85a6-6857bd6a0452",
   "metadata": {},
   "source": [
    "### Настраиваем окружение и поднимаем docker-контейнер\n",
    "\n",
    "```bash\n",
    "mkdir elasticsearch-docker\n",
    "```\n",
    "\n",
    "```bash\n",
    "cd elasticsearch-docker\n",
    "```\n"
   ]
  },
  {
   "cell_type": "markdown",
   "id": "c81fed63-c63e-40d7-9f7c-fd08a9b61b69",
   "metadata": {},
   "source": [
    "#### Собираем `docker-compose.yaml` файлик:\n",
    "\n",
    "```yaml\n",
    "version: '3.8'\n",
    "services:\n",
    "  elasticsearch:\n",
    "    image: elasticsearch:8.17.2\n",
    "    container_name: elasticsearch\n",
    "    environment:\n",
    "      - discovery.type=single-node\n",
    "      - ES_JAVA_OPTS=-Xms512m -Xmx512m\n",
    "      - xpack.security.enabled=false\n",
    "    ports:\n",
    "      - 9200:9200\n",
    "    volumes:\n",
    "      - es_data:/usr/share/elasticsearch/data\n",
    "    networks:\n",
    "      - es_network\n",
    "\n",
    "  kibana:\n",
    "    image: kibana:8.17.2\n",
    "    container_name: kibana\n",
    "    ports:\n",
    "      - 5601:5601\n",
    "    environment:\n",
    "      - ELASTICSEARCH_HOSTS=http://elasticsearch:9200\n",
    "    depends_on:\n",
    "      - elasticsearch\n",
    "    networks:\n",
    "      - es_network\n",
    "\n",
    "volumes:\n",
    "  es_data:\n",
    "    driver: local\n",
    "\n",
    "networks:\n",
    "  es_network:\n",
    "    driver: bridge\n",
    "\n",
    "```\n"
   ]
  },
  {
   "cell_type": "markdown",
   "id": "d4f84acf-137f-4d3b-8474-92649870c79d",
   "metadata": {},
   "source": [
    "#### Поднимаем контейнер\n",
    "\n",
    "```bash\n",
    "docker-compose up\n",
    "```"
   ]
  },
  {
   "cell_type": "markdown",
   "id": "536acedb-d416-486b-b9ec-6261f0f9a5e3",
   "metadata": {},
   "source": [
    "### Проверяем, что всё поднялось и работает:\n",
    "\n",
    "ElasticSearch: http://localhost:9200\n",
    "\n",
    "Kibana: http://localhost:5601"
   ]
  },
  {
   "cell_type": "markdown",
   "id": "e40c9d53-6b0b-4696-b485-11c5a1fe123b",
   "metadata": {},
   "source": [
    "### Подключение к ElasticSearch"
   ]
  },
  {
   "cell_type": "code",
   "execution_count": 2,
   "id": "04076177-3a7b-4f2e-ada9-66eaa9ff8ab2",
   "metadata": {},
   "outputs": [
    {
     "name": "stdout",
     "output_type": "stream",
     "text": [
      "True\n"
     ]
    }
   ],
   "source": [
    "from elasticsearch import Elasticsearch\n",
    "from elasticsearch.helpers import bulk\n",
    "\n",
    "es = Elasticsearch(\"http://localhost:9200\")\n",
    "\n",
    "print(es.ping())  # Should return True"
   ]
  },
  {
   "cell_type": "markdown",
   "id": "5bc9882f-618b-454b-8dc7-feb219f5cb1d",
   "metadata": {},
   "source": [
    "### Создание индекса"
   ]
  },
  {
   "cell_type": "code",
   "execution_count": 3,
   "id": "bf244f60-552a-4a34-b027-7799dcdd698f",
   "metadata": {},
   "outputs": [
    {
     "name": "stdout",
     "output_type": "stream",
     "text": [
      "Index 'my_first_index' created.\n"
     ]
    }
   ],
   "source": [
    "index_name = \"my_first_index\"\n",
    "\n",
    "if not es.indices.exists(index=index_name):\n",
    "    es.indices.create(index=index_name)\n",
    "    print(f\"Index '{index_name}' created.\")\n",
    "else:\n",
    "    print(f\"Index '{index_name}' already exists.\")"
   ]
  },
  {
   "cell_type": "markdown",
   "id": "07564ea9-ffae-4d7d-9d6d-1e3661ea1d3d",
   "metadata": {},
   "source": [
    "### Индексация документов"
   ]
  },
  {
   "cell_type": "markdown",
   "id": "4ac8bc2e-c169-4dd9-b200-10338b6cc5cf",
   "metadata": {},
   "source": [
    "https://www.elastic.co/search-labs/tutorials/search-tutorial/full-text-search/create-index"
   ]
  },
  {
   "cell_type": "code",
   "execution_count": 4,
   "id": "9be4c979-ab1e-4154-9dfd-a7c754dde288",
   "metadata": {},
   "outputs": [
    {
     "name": "stdout",
     "output_type": "stream",
     "text": [
      "Documents indexed successfully.\n"
     ]
    }
   ],
   "source": [
    "documents = [\n",
    "    {\"id\": 1, \"content\": \"Преступление и наказание\"},\n",
    "    {\"id\": 2, \"content\": \"Мастер и Маргарита\"},\n",
    "    {\"id\": 3, \"content\": \"Война и мир\"},\n",
    "]\n",
    "\n",
    "for doc in documents:\n",
    "    es.index(index=index_name, id=doc[\"id\"], body=doc)\n",
    "print(\"Documents indexed successfully.\")"
   ]
  },
  {
   "cell_type": "markdown",
   "id": "7e8f7a9e-f01c-4369-9d15-64eeee1fc3f0",
   "metadata": {},
   "source": [
    "### Поиск документов"
   ]
  },
  {
   "cell_type": "code",
   "execution_count": 5,
   "id": "915dfefd-e070-44aa-8966-f84fd53bbe44",
   "metadata": {},
   "outputs": [
    {
     "name": "stdout",
     "output_type": "stream",
     "text": [
      "Search Results:\n",
      "{'id': 2, 'content': 'Мастер и Маргарита'}\n"
     ]
    }
   ],
   "source": [
    "query = {\n",
    "    \"query\": {\n",
    "        \"match\": {\n",
    "            \"content\": \"маргарита\"\n",
    "        }\n",
    "    }\n",
    "}\n",
    "\n",
    "response = es.search(index=index_name, body=query)\n",
    "print(\"Search Results:\")\n",
    "for hit in response[\"hits\"][\"hits\"]:\n",
    "    print(hit[\"_source\"])"
   ]
  },
  {
   "cell_type": "markdown",
   "id": "65e3fe14-7b02-48dd-aa73-7181dda507da",
   "metadata": {},
   "source": [
    "### Обновление и удаление документов"
   ]
  },
  {
   "cell_type": "code",
   "execution_count": 6,
   "id": "17d82ac4-742e-488e-9073-1ff81eb09bb9",
   "metadata": {},
   "outputs": [
    {
     "name": "stdout",
     "output_type": "stream",
     "text": [
      "Document updated.\n",
      "Document deleted.\n"
     ]
    }
   ],
   "source": [
    "# Update a document\n",
    "update_body = {\n",
    "    \"doc\": {\n",
    "        \"content\": \"Наказание и преступление\"\n",
    "    }\n",
    "}\n",
    "es.update(index=index_name, id=1, body=update_body)\n",
    "print(\"Document updated.\")\n",
    "\n",
    "# Delete a document\n",
    "es.delete(index=index_name, id=3)\n",
    "print(\"Document deleted.\")"
   ]
  },
  {
   "cell_type": "markdown",
   "id": "32f4c379-41ea-47b5-bc6f-0c163a6e897a",
   "metadata": {},
   "source": [
    "### Удаление индекса"
   ]
  },
  {
   "cell_type": "code",
   "execution_count": 7,
   "id": "36b54166-481a-46e6-b310-66cdb40d2b8d",
   "metadata": {},
   "outputs": [
    {
     "data": {
      "text/plain": [
       "ObjectApiResponse({'acknowledged': True})"
      ]
     },
     "execution_count": 7,
     "metadata": {},
     "output_type": "execute_result"
    }
   ],
   "source": [
    "es.indices.delete(index=index_name)"
   ]
  },
  {
   "cell_type": "markdown",
   "id": "45c59e91-57da-4681-b1d7-1531acc4c60a",
   "metadata": {},
   "source": [
    "## Вернемся к нашим данным"
   ]
  },
  {
   "cell_type": "code",
   "execution_count": 8,
   "id": "60826281-0b1b-44fc-b70b-7b8461ea7972",
   "metadata": {},
   "outputs": [],
   "source": [
    "import numpy as np\n",
    "import pandas as pd\n",
    "\n",
    "product_data = pd.read_parquet(\"products_with_names.parquet\")"
   ]
  },
  {
   "cell_type": "code",
   "execution_count": 9,
   "id": "1579fe96-0968-4e69-a8ca-03fedcbb99ce",
   "metadata": {},
   "outputs": [
    {
     "data": {
      "text/html": [
       "<div>\n",
       "<style scoped>\n",
       "    .dataframe tbody tr th:only-of-type {\n",
       "        vertical-align: middle;\n",
       "    }\n",
       "\n",
       "    .dataframe tbody tr th {\n",
       "        vertical-align: top;\n",
       "    }\n",
       "\n",
       "    .dataframe thead th {\n",
       "        text-align: right;\n",
       "    }\n",
       "</style>\n",
       "<table border=\"1\" class=\"dataframe\">\n",
       "  <thead>\n",
       "    <tr style=\"text-align: right;\">\n",
       "      <th></th>\n",
       "      <th>product_id</th>\n",
       "      <th>name</th>\n",
       "    </tr>\n",
       "  </thead>\n",
       "  <tbody>\n",
       "    <tr>\n",
       "      <th>0</th>\n",
       "      <td>4036767</td>\n",
       "      <td>Модуль сменный фильтрующий Аквафор КН, 208731</td>\n",
       "    </tr>\n",
       "    <tr>\n",
       "      <th>1</th>\n",
       "      <td>4050873</td>\n",
       "      <td>Водоочиститель Аквафор модель Кристалл Н, 2059...</td>\n",
       "    </tr>\n",
       "    <tr>\n",
       "      <th>2</th>\n",
       "      <td>4226160</td>\n",
       "      <td>Развиваем мышление (2-3 года) | Земцова Ольга</td>\n",
       "    </tr>\n",
       "    <tr>\n",
       "      <th>3</th>\n",
       "      <td>4644911</td>\n",
       "      <td>Lacoste Вода парфюмерная Pour Femme 50 мл</td>\n",
       "    </tr>\n",
       "    <tr>\n",
       "      <th>4</th>\n",
       "      <td>4788809</td>\n",
       "      <td>Сменные Кассеты Для Мужской Бритвы Gillette Ma...</td>\n",
       "    </tr>\n",
       "  </tbody>\n",
       "</table>\n",
       "</div>"
      ],
      "text/plain": [
       "   product_id                                               name\n",
       "0     4036767      Модуль сменный фильтрующий Аквафор КН, 208731\n",
       "1     4050873  Водоочиститель Аквафор модель Кристалл Н, 2059...\n",
       "2     4226160      Развиваем мышление (2-3 года) | Земцова Ольга\n",
       "3     4644911          Lacoste Вода парфюмерная Pour Femme 50 мл\n",
       "4     4788809  Сменные Кассеты Для Мужской Бритвы Gillette Ma..."
      ]
     },
     "execution_count": 9,
     "metadata": {},
     "output_type": "execute_result"
    }
   ],
   "source": [
    "product_data.head()"
   ]
  },
  {
   "cell_type": "code",
   "execution_count": 10,
   "id": "c0157882-cb51-4972-952b-477ebe3050be",
   "metadata": {},
   "outputs": [],
   "source": [
    "from dataclasses import dataclass\n",
    "\n",
    "@dataclass\n",
    "class Document:\n",
    "    doc_id: int\n",
    "    name: str\n",
    "\n",
    "documents = [Document(doc_id=doc[1][\"product_id\"], name=doc[1][\"name\"]) for doc in product_data.iterrows()]\n"
   ]
  },
  {
   "cell_type": "code",
   "execution_count": 11,
   "id": "c2b3e3b9-5d95-489a-ba8f-424005451d67",
   "metadata": {},
   "outputs": [
    {
     "name": "stdout",
     "output_type": "stream",
     "text": [
      "Index 'products' already exists.\n"
     ]
    }
   ],
   "source": [
    "index_name = \"products\"\n",
    "\n",
    "if not es.indices.exists(index=index_name):\n",
    "    es.indices.create(index=index_name)\n",
    "    print(f\"Index '{index_name}' created.\")\n",
    "else:\n",
    "    print(f\"Index '{index_name}' already exists.\")"
   ]
  },
  {
   "cell_type": "code",
   "execution_count": 12,
   "id": "fc053529-99cb-48b6-a1d2-0ad1ffea69a0",
   "metadata": {},
   "outputs": [
    {
     "data": {
      "text/plain": [
       "(238443, [])"
      ]
     },
     "execution_count": 12,
     "metadata": {},
     "output_type": "execute_result"
    }
   ],
   "source": [
    "actions = [\n",
    "    {\"_index\": \"products\", \"_id\": doc.doc_id, \"_source\": {\"title\": doc.name}}\n",
    "    for doc in documents\n",
    "]\n",
    "\n",
    "bulk(es, actions)\n"
   ]
  },
  {
   "cell_type": "code",
   "execution_count": 13,
   "id": "94f26673-04f3-4dc8-8f2e-1a01d1a0388f",
   "metadata": {},
   "outputs": [
    {
     "name": "stdout",
     "output_type": "stream",
     "text": [
      "Search Results:\n",
      "{'title': 'Молоко 2,5%, 950 мл, Калининское, пастеризованное'}\n",
      "{'title': 'Молоко 3,2%, 930 мл, Экомилк, пастеризованное'}\n",
      "{'title': 'Молоко пастеризованное Кубанская буренка 2.5% 1,4л'}\n",
      "{'title': 'Молоко пастеризованное ЭкоНива, 2,5%, 1 л'}\n",
      "{'title': 'Молоко пастеризованное Кубанская буренка Отборное 930мл'}\n",
      "{'title': 'Молоко пастеризованное 2,5% 930 мл Простоквашино'}\n",
      "{'title': 'Молоко 3,2%, 1400 мл, Простоквашино, пастеризованное'}\n",
      "{'title': 'Молоко пастеризованное Кубанская буренка 2.5% 930мл'}\n",
      "{'title': 'Молоко пастеризованное 3,2 % 1 кг, Вологжанка'}\n",
      "{'title': 'Молоко пастеризованное 3,2% 1400 мл, Простоквашино'}\n"
     ]
    }
   ],
   "source": [
    "query = {\n",
    "    \"query\": {\n",
    "        \"match\": {\n",
    "            \"title\": \"молоко пастеризованное\"\n",
    "        }\n",
    "    }\n",
    "}\n",
    "\n",
    "response = es.search(index=index_name, body=query)\n",
    "print(\"Search Results:\")\n",
    "for hit in response[\"hits\"][\"hits\"]:\n",
    "    print(hit[\"_source\"])"
   ]
  },
  {
   "cell_type": "code",
   "execution_count": 14,
   "id": "c396880f-eb3f-477b-913c-79a27feacbb3",
   "metadata": {},
   "outputs": [
    {
     "name": "stdout",
     "output_type": "stream",
     "text": [
      "Search Results:\n",
      "{'title': 'Сыр Пармезан 45% 180 г, Schonfeld'}\n",
      "{'title': 'Сыр Пармезан 45%, 125 г, Schonfeld'}\n",
      "{'title': 'Крем-сыр Cheese Pleasure Пармезан, 100 г'}\n",
      "{'title': 'Сыр Пармезан 40% 80 г, Schonfeld, гранулы'}\n",
      "{'title': 'Сыр твердый Ricrem Пармезан, 42%, 200 г'}\n",
      "{'title': 'Cheese Gallery Сыр Пармезан, 32%, хлопья, 100 г'}\n",
      "{'title': 'Сыр Пармезан Dolce Platinum, 40 %, 160 - 180 г'}\n",
      "{'title': 'Сыр твердый PALERMO пармезан, слайсы, 40 %, 120 г'}\n",
      "{'title': 'Сыр Пармезан Dolce Platinum, 40 %, 120 - 139 г'}\n",
      "{'title': 'Сыр твердый Пармезан GRANA 43% 190 г, Schonfeld'}\n"
     ]
    }
   ],
   "source": [
    "query = {\n",
    "    \"query\": {\n",
    "        \"match\": {\n",
    "            \"title\": \"сыр пармезан\"\n",
    "        }\n",
    "    }\n",
    "}\n",
    "\n",
    "response = es.search(index=index_name, body=query)\n",
    "print(\"Search Results:\")\n",
    "for hit in response[\"hits\"][\"hits\"]:\n",
    "    print(hit[\"_source\"])"
   ]
  },
  {
   "cell_type": "markdown",
   "id": "4794aa7d-5544-4571-af54-bd8e69187d78",
   "metadata": {},
   "source": [
    "### Продвинутые настройки"
   ]
  },
  {
   "cell_type": "markdown",
   "id": "0d4c3a83-8772-4208-8e5f-fde993bd32ad",
   "metadata": {},
   "source": [
    "https://www.elastic.co/guide/en/elasticsearch/reference/current/specify-analyzer.html\n",
    "\n",
    "https://www.elastic.co/guide/en/elasticsearch/reference/current/analyzer.html\n",
    "\n",
    "https://opster.com/guides/elasticsearch/data-architecture/elasticsearch-text-analyzers/\n",
    "\n",
    "https://www.elastic.co/guide/en/elasticsearch/reference/current/indices-update-settings.html#update-settings-analysis\n"
   ]
  },
  {
   "cell_type": "code",
   "execution_count": 15,
   "id": "fd0524f6-65a6-46d5-ba85-719866d9e16b",
   "metadata": {},
   "outputs": [],
   "source": [
    "advanced_settings = {\n",
    "  \"settings\": {\n",
    "    \"analysis\": {\n",
    "      \"analyzer\": {\n",
    "        \"custom_analyzer\": {\n",
    "          \"type\": \"custom\",\n",
    "          \"tokenizer\": \"whitespace\",\n",
    "          \"char_filter\": [\"replace_yo_filter\"],\n",
    "          \"filter\": [\n",
    "            \"lowercase\",\n",
    "            \"russian_stop\",\n",
    "            \"english_stop\"\n",
    "          ]\n",
    "        }\n",
    "      },\n",
    "      \"char_filter\": {\n",
    "        \"replace_yo_filter\": {\n",
    "          \"type\": \"mapping\",\n",
    "          \"mappings\": [\"ё => е\"]\n",
    "        }\n",
    "      },\n",
    "      \"filter\": {\n",
    "        \"russian_stop\": {\n",
    "          \"type\": \"stop\",\n",
    "          \"stopwords\": \"_russian_\"\n",
    "        },\n",
    "        \"english_stop\": {\n",
    "          \"type\": \"stop\",\n",
    "          \"stopwords\": \"_english_\"\n",
    "        },\n",
    "      }\n",
    "    },\n",
    "    \"similarity\": {\n",
    "        \"default\": {\n",
    "            \"type\": \"BM25\",\n",
    "            \"k1\": 1.2,\n",
    "            \"b\": 0.75\n",
    "        }\n",
    "    }\n",
    "  },\n",
    "  \"mappings\": {\n",
    "    \"properties\": {\n",
    "      \"content\": {\n",
    "        \"type\": \"text\",\n",
    "        \"analyzer\": \"custom_analyzer\",\n",
    "        \"search_analyzer\": \"custom_analyzer\"\n",
    "      }\n",
    "    }\n",
    "  }\n",
    "}"
   ]
  },
  {
   "cell_type": "code",
   "execution_count": 16,
   "id": "9d3726ef-01c7-4b39-8812-133b573e1719",
   "metadata": {},
   "outputs": [
    {
     "name": "stdout",
     "output_type": "stream",
     "text": [
      "Index 'products_with_advanced_settings' already exists. Deleting it.\n",
      "Index 'products_with_advanced_settings' created.\n"
     ]
    }
   ],
   "source": [
    "index_name = \"products_with_advanced_settings\"\n",
    "\n",
    "if es.indices.exists(index=index_name):\n",
    "    print(f\"Index '{index_name}' already exists. Deleting it.\")\n",
    "    es.indices.delete(index=index_name)\n",
    "\n",
    "es.indices.create(index=index_name, body=advanced_settings)\n",
    "print(f\"Index '{index_name}' created.\")\n"
   ]
  },
  {
   "cell_type": "code",
   "execution_count": 17,
   "id": "2dd19c4b-c29a-49cb-a0f5-59f451aaeb84",
   "metadata": {},
   "outputs": [],
   "source": [
    "analyzer_test_text = \"Искусственная ёлка и большая 2 метра\"\n",
    "analyzer_test = es.indices.analyze(\n",
    "    index=index_name,\n",
    "    body={\n",
    "        \"analyzer\": \"custom_analyzer\",\n",
    "        \"text\": analyzer_test_text\n",
    "    }\n",
    ")"
   ]
  },
  {
   "cell_type": "code",
   "execution_count": 18,
   "id": "e344e373-c419-4c6b-8223-e855b8c73068",
   "metadata": {},
   "outputs": [
    {
     "name": "stdout",
     "output_type": "stream",
     "text": [
      "{'tokens': [{'token': 'искусственная', 'start_offset': 0, 'end_offset': 13, 'type': 'word', 'position': 0}, {'token': 'елка', 'start_offset': 14, 'end_offset': 18, 'type': 'word', 'position': 1}, {'token': 'большая', 'start_offset': 21, 'end_offset': 28, 'type': 'word', 'position': 3}, {'token': '2', 'start_offset': 29, 'end_offset': 30, 'type': 'word', 'position': 4}, {'token': 'метра', 'start_offset': 31, 'end_offset': 36, 'type': 'word', 'position': 5}]}\n"
     ]
    }
   ],
   "source": [
    "print(analyzer_test)"
   ]
  },
  {
   "cell_type": "code",
   "execution_count": 19,
   "id": "288da2f3-0d27-4148-ab0e-8e9d9accd836",
   "metadata": {},
   "outputs": [
    {
     "data": {
      "text/plain": [
       "(238443, [])"
      ]
     },
     "execution_count": 19,
     "metadata": {},
     "output_type": "execute_result"
    }
   ],
   "source": [
    "actions = [\n",
    "    {\"_index\": \"products_with_advanced_settings\",  \"_id\": doc.doc_id, \"_source\": {\"title\": doc.name}}\n",
    "    for doc in documents\n",
    "]\n",
    "\n",
    "bulk(es, actions)"
   ]
  },
  {
   "cell_type": "code",
   "execution_count": 20,
   "id": "a9830e66-2b5f-4fdb-8e24-c927d37e5f92",
   "metadata": {},
   "outputs": [
    {
     "name": "stdout",
     "output_type": "stream",
     "text": [
      "Search Results:\n",
      "{'title': 'Дистиллированная вода OILRIGHT 5л'}\n",
      "{'title': 'Дистиллированная вода Аляска 5л ПЭТ'}\n",
      "{'title': 'Дистиллированная вода SPECTROL Аква 5л'}\n",
      "{'title': 'Вода детская питьевая Агуша 5л, с 0 месяцев'}\n",
      "{'title': 'Вода детская питьевая Агуша 5л, с 0 месяцев'}\n",
      "{'title': 'Вода детская питьевая Агуша 5л, с 0 месяцев, Х4'}\n",
      "{'title': 'Вода детская питьевая Агуша 5л, с 0 месяцев, Х4. Уцененный товар'}\n",
      "{'title': 'Вода детская питьевая Агуша 5л, с 0 месяцев, Х4. Уцененный товар'}\n",
      "{'title': 'Вода детская питьевая Агуша 5л, с 0 месяцев, Х4. Уцененный товар'}\n",
      "{'title': 'Вода детская питьевая Агуша 5л, с 0 месяцев, Х4. Уцененный товар'}\n"
     ]
    }
   ],
   "source": [
    "query = {\n",
    "    \"query\": {\n",
    "        \"match\": {\n",
    "            \"title\": {\n",
    "                \"query\": \"вода 5л\",\n",
    "                \"analyzer\": \"custom_analyzer\"\n",
    "            }\n",
    "        }\n",
    "    }\n",
    "}\n",
    "\n",
    "response = es.search(index=index_name, body=query)\n",
    "print(\"Search Results:\")\n",
    "for hit in response[\"hits\"][\"hits\"]:\n",
    "    print(hit[\"_source\"])"
   ]
  },
  {
   "cell_type": "code",
   "execution_count": 21,
   "id": "d5a2df86-b2ac-4088-b029-9b29e3c2fb13",
   "metadata": {},
   "outputs": [
    {
     "name": "stdout",
     "output_type": "stream",
     "text": [
      "Search Results:\n",
      "{'title': 'Искусственная новогодняя елка Царь Елка Фаворит, литая, 220 см'}\n",
      "{'title': 'Искусственная новогодняя елка Царь Елка Фаворит, литая, 160 см'}\n",
      "{'title': 'Elki Lux Елка искусственная Елка, Из ПВХ, 130 см'}\n",
      "{'title': 'Искусственная новогодняя елка Царь Елка Оникс, литая, 80 см'}\n",
      "{'title': 'Искусственная новогодняя елка Царь Елка Алиса, литая, 160 см'}\n",
      "{'title': 'Искусственная новогодняя елка Царь Елка Фаворит, литая, 190 см'}\n",
      "{'title': 'Искусственная новогодняя елка Царь Елка Финская премиум, литая, 120 см'}\n",
      "{'title': 'Искусственная новогодняя елка Царь Елка СМАЙЛ, из ПВХ, 210 см'}\n",
      "{'title': 'Искусственная новогодняя елка Царь Елка СМАЙЛ, из ПВХ, 180 см'}\n",
      "{'title': 'Искусственная новогодняя елка Царь Елка Инфинити 3D, литая, 120 см'}\n"
     ]
    }
   ],
   "source": [
    "query = {\n",
    "    \"query\": {\n",
    "        \"match\": {\n",
    "            \"title\": {\n",
    "                \"query\": \"ёлка\",\n",
    "                \"analyzer\": \"custom_analyzer\"\n",
    "            }\n",
    "        }\n",
    "    }\n",
    "}\n",
    "\n",
    "response = es.search(index=index_name, body=query)\n",
    "print(\"Search Results:\")\n",
    "for hit in response[\"hits\"][\"hits\"]:\n",
    "    print(hit[\"_source\"])"
   ]
  },
  {
   "cell_type": "code",
   "execution_count": 24,
   "id": "46cbdff9-ae5c-4b1c-abc4-1c3300da6624",
   "metadata": {},
   "outputs": [
    {
     "data": {
      "text/plain": [
       "[{'_index': 'products_with_advanced_settings',\n",
       "  '_id': '578552626',\n",
       "  '_score': 11.691586,\n",
       "  '_source': {'title': 'Искусственная новогодняя елка Царь Елка Фаворит, литая, 220 см'}},\n",
       " {'_index': 'products_with_advanced_settings',\n",
       "  '_id': '578552370',\n",
       "  '_score': 11.691586,\n",
       "  '_source': {'title': 'Искусственная новогодняя елка Царь Елка Фаворит, литая, 160 см'}},\n",
       " {'_index': 'products_with_advanced_settings',\n",
       "  '_id': '742064005',\n",
       "  '_score': 11.691586,\n",
       "  '_source': {'title': 'Elki Lux Елка искусственная Елка, Из ПВХ, 130 см'}},\n",
       " {'_index': 'products_with_advanced_settings',\n",
       "  '_id': '252851255',\n",
       "  '_score': 11.691586,\n",
       "  '_source': {'title': 'Искусственная новогодняя елка Царь Елка Оникс, литая, 80 см'}},\n",
       " {'_index': 'products_with_advanced_settings',\n",
       "  '_id': '578553639',\n",
       "  '_score': 11.691586,\n",
       "  '_source': {'title': 'Искусственная новогодняя елка Царь Елка Алиса, литая, 160 см'}},\n",
       " {'_index': 'products_with_advanced_settings',\n",
       "  '_id': '578553451',\n",
       "  '_score': 11.691586,\n",
       "  '_source': {'title': 'Искусственная новогодняя елка Царь Елка Фаворит, литая, 190 см'}},\n",
       " {'_index': 'products_with_advanced_settings',\n",
       "  '_id': '277894977',\n",
       "  '_score': 11.404848,\n",
       "  '_source': {'title': 'Искусственная новогодняя елка Царь Елка Финская премиум, литая, 120 см'}},\n",
       " {'_index': 'products_with_advanced_settings',\n",
       "  '_id': '360913613',\n",
       "  '_score': 11.404848,\n",
       "  '_source': {'title': 'Искусственная новогодняя елка Царь Елка СМАЙЛ, из ПВХ, 210 см'}},\n",
       " {'_index': 'products_with_advanced_settings',\n",
       "  '_id': '360948424',\n",
       "  '_score': 11.404848,\n",
       "  '_source': {'title': 'Искусственная новогодняя елка Царь Елка СМАЙЛ, из ПВХ, 180 см'}},\n",
       " {'_index': 'products_with_advanced_settings',\n",
       "  '_id': '252845310',\n",
       "  '_score': 11.404848,\n",
       "  '_source': {'title': 'Искусственная новогодняя елка Царь Елка Инфинити 3D, литая, 120 см'}}]"
      ]
     },
     "execution_count": 24,
     "metadata": {},
     "output_type": "execute_result"
    }
   ],
   "source": [
    "response[\"hits\"][\"hits\"]"
   ]
  },
  {
   "cell_type": "code",
   "execution_count": 25,
   "id": "f5079cae-3b3a-4978-a963-e5177171d009",
   "metadata": {},
   "outputs": [],
   "source": [
    "def search_with_es(query, limit = 20):\n",
    "    search_query = {\n",
    "        \"query\": {\n",
    "            \"match\": {\n",
    "                \"title\": {\n",
    "                    \"query\": query,  # Search term\n",
    "                    \"analyzer\": \"custom_analyzer\"  # Explicitly specify the analyzer\n",
    "                }\n",
    "            }\n",
    "        },\n",
    "        \"size\": limit\n",
    "    }\n",
    "    \n",
    "    response = es.search(index=index_name, body=search_query)\n",
    "    return [int(x[\"_id\"]) for x in response[\"hits\"][\"hits\"]]"
   ]
  },
  {
   "cell_type": "code",
   "execution_count": 26,
   "id": "2e09f37b-f303-44a8-acab-664c48576632",
   "metadata": {},
   "outputs": [],
   "source": [
    "validation_query_positives = pd.read_parquet(\"validation_query_positives.parquet\")"
   ]
  },
  {
   "cell_type": "code",
   "execution_count": 27,
   "id": "20943eb7-bfab-42fa-9c4a-57faa187836b",
   "metadata": {},
   "outputs": [],
   "source": [
    "validation_query_positives_dict = {\n",
    "    row[1].query: set(row[1].products.tolist()) for row in validation_query_positives.iterrows()\n",
    "}"
   ]
  },
  {
   "cell_type": "code",
   "execution_count": 28,
   "id": "3e1dfe4b-b8f7-45f6-bfe0-76d595ae5633",
   "metadata": {},
   "outputs": [],
   "source": [
    "@dataclass\n",
    "class Metrics:\n",
    "    precision: float\n",
    "    recall: float\n",
    "    f1_score: float\n",
    "        \n",
    "    def __repr__(self):\n",
    "        return f\"precision = {self.precision}\\nrecall = {self.recall}\\nf1_score = {self.f1_score}\"\n"
   ]
  },
  {
   "cell_type": "code",
   "execution_count": 29,
   "id": "cd43e868-1d6e-44b6-a186-9d3734f7e8d7",
   "metadata": {},
   "outputs": [],
   "source": [
    "def calculate_metrics(ground_truth_set, search_results_set):\n",
    "    \n",
    "    # True positives: items that are both in ground truth and search results\n",
    "    tp = len(ground_truth_set.intersection(search_results_set))\n",
    "    \n",
    "    # Precision: tp / (tp + fp)\n",
    "    precision = tp / len(search_results_set) if len(search_results_set) > 0 else 0.0\n",
    "    \n",
    "    # Recall: tp / (tp + fn)\n",
    "    recall = tp / len(ground_truth_set) if len(ground_truth_set) > 0 else 0.0\n",
    "    \n",
    "    # F1-score: harmonic mean of precision and recall\n",
    "    f1_score = 2 * (precision * recall) / (precision + recall) if (precision + recall) > 0 else 0.0\n",
    "    \n",
    "    return Metrics(precision=precision, recall=recall, f1_score=f1_score)\n"
   ]
  },
  {
   "cell_type": "code",
   "execution_count": 30,
   "id": "befcc9bc-2c68-4deb-9b7a-f90e3df5d5c9",
   "metadata": {},
   "outputs": [],
   "source": [
    "def calculate_validation_metrics(search_function, limit=20):\n",
    "    metrics = []\n",
    "    for query, positives in validation_query_positives_dict.items():\n",
    "        metrics.append(\n",
    "            calculate_metrics(positives, search_function(query=query, limit=limit))\n",
    "        )\n",
    "    \n",
    "    return Metrics(\n",
    "        precision=np.mean([x.precision for x in metrics]),\n",
    "        recall=np.mean([x.recall for x in metrics]),\n",
    "        f1_score=np.mean([x.f1_score for x in metrics]),\n",
    "    )\n",
    "    "
   ]
  },
  {
   "cell_type": "code",
   "execution_count": 31,
   "id": "56b6cd16-de79-41cd-93b1-475952e0914b",
   "metadata": {},
   "outputs": [
    {
     "data": {
      "text/plain": [
       "precision = 0.15846644458231876\n",
       "recall = 0.21245135916618588\n",
       "f1_score = 0.1527730349041491"
      ]
     },
     "execution_count": 31,
     "metadata": {},
     "output_type": "execute_result"
    }
   ],
   "source": [
    "calculate_validation_metrics(search_with_es, limit=200)"
   ]
  },
  {
   "cell_type": "code",
   "execution_count": null,
   "id": "2a834271-3251-41f2-b830-6e69f98639ef",
   "metadata": {},
   "outputs": [],
   "source": []
  }
 ],
 "metadata": {
  "kernelspec": {
   "display_name": "Python 3 (ipykernel)",
   "language": "python",
   "name": "python3"
  },
  "language_info": {
   "codemirror_mode": {
    "name": "ipython",
    "version": 3
   },
   "file_extension": ".py",
   "mimetype": "text/x-python",
   "name": "python",
   "nbconvert_exporter": "python",
   "pygments_lexer": "ipython3",
   "version": "3.10.11"
  }
 },
 "nbformat": 4,
 "nbformat_minor": 5
}
