{
 "cells": [
  {
   "cell_type": "code",
   "execution_count": 1,
   "id": "a342a1c5",
   "metadata": {},
   "outputs": [],
   "source": [
    "from typing import List\n",
    "\n",
    "import polars as pl\n",
    "import numpy as np\n",
    "\n",
    "from matplotlib import pyplot as plt\n",
    "import seaborn as sns\n",
    "\n",
    "\n",
    "def get_ozon_link(ids):\n",
    "    for el in ids:\n",
    "        print(f'https://www.ozon.ru/product/{el}')"
   ]
  },
  {
   "cell_type": "markdown",
   "id": "781da03e",
   "metadata": {},
   "source": [
    "# План семинара\n",
    "\n",
    "1. Вспомним прошлые семинары\n",
    "2. Мemory-based подходы\n",
    "3. Мodel-based подходы"
   ]
  },
  {
   "cell_type": "markdown",
   "id": "6366eed2",
   "metadata": {},
   "source": [
    "# Загрузим данные"
   ]
  },
  {
   "cell_type": "code",
   "execution_count": 2,
   "id": "73ae6327",
   "metadata": {},
   "outputs": [
    {
     "data": {
      "text/html": [
       "<div><style>\n",
       ".dataframe > thead > tr,\n",
       ".dataframe > tbody > tr {\n",
       "  text-align: right;\n",
       "  white-space: pre-wrap;\n",
       "}\n",
       "</style>\n",
       "<small>shape: (238_443, 6)</small><table border=\"1\" class=\"dataframe\"><thead><tr><th>product_id</th><th>name</th><th>brand</th><th>type</th><th>category_id</th><th>category_name</th></tr><tr><td>i64</td><td>str</td><td>str</td><td>str</td><td>i32</td><td>str</td></tr></thead><tbody><tr><td>160839072</td><td>&quot;CeraVe Смягчающий крем для сух…</td><td>&quot;CeraVe&quot;</td><td>&quot;Гель для ухода за кожей&quot;</td><td>38</td><td>&quot;Сыворотки для лица&quot;</td></tr><tr><td>161689127</td><td>&quot;Yves Rocher / Ив Роше / Увлажн…</td><td>&quot;Yves Rocher France&quot;</td><td>&quot;Гель для ухода за кожей&quot;</td><td>38</td><td>&quot;Сыворотки для лица&quot;</td></tr><tr><td>221508445</td><td>&quot;Bioderma Эликсир для ухода за …</td><td>&quot;Bioderma&quot;</td><td>&quot;Эликсир для ухода за кожей&quot;</td><td>38</td><td>&quot;Сыворотки для лица&quot;</td></tr><tr><td>309017861</td><td>&quot;ART&amp;FACT. / Сыворотка для лица…</td><td>&quot;ART&amp;FACT.&quot;</td><td>&quot;Сыворотка для лица&quot;</td><td>38</td><td>&quot;Сыворотки для лица&quot;</td></tr><tr><td>793710195</td><td>&quot;Breylee Сыворотка для лица Ант…</td><td>&quot;Breylee&quot;</td><td>&quot;Сыворотка для лица&quot;</td><td>38</td><td>&quot;Сыворотки для лица&quot;</td></tr><tr><td>&hellip;</td><td>&hellip;</td><td>&hellip;</td><td>&hellip;</td><td>&hellip;</td><td>&hellip;</td></tr><tr><td>1154315599</td><td>&quot;Сушилка для овощей и фруктов 3…</td><td>&quot;Великие реки&quot;</td><td>&quot;Дегидратор&quot;</td><td>284</td><td>&quot;Сушилки для овощей&quot;</td></tr><tr><td>1196912369</td><td>&quot;GFGRIL Электрическая сушилка д…</td><td>&quot;GFGRIL&quot;</td><td>&quot;Дегидратор&quot;</td><td>284</td><td>&quot;Сушилки для овощей&quot;</td></tr><tr><td>1255681315</td><td>&quot;Дегидратор сушилка для овощей …</td><td>&quot;Marta&quot;</td><td>&quot;Дегидратор&quot;</td><td>284</td><td>&quot;Сушилки для овощей&quot;</td></tr><tr><td>483756641</td><td>&quot;Дегидратор Kitfort КТ-1915-1, …</td><td>&quot;Kitfort&quot;</td><td>&quot;Дегидратор&quot;</td><td>284</td><td>&quot;Сушилки для овощей&quot;</td></tr><tr><td>1120557009</td><td>&quot;Дегидратор Kitfort КТ-1905, че…</td><td>&quot;Kitfort&quot;</td><td>&quot;Дегидратор&quot;</td><td>284</td><td>&quot;Сушилки для овощей&quot;</td></tr></tbody></table></div>"
      ],
      "text/plain": [
       "shape: (238_443, 6)\n",
       "┌────────────┬────────────────────┬──────────────┬───────────────────┬─────────────┬───────────────┐\n",
       "│ product_id ┆ name               ┆ brand        ┆ type              ┆ category_id ┆ category_name │\n",
       "│ ---        ┆ ---                ┆ ---          ┆ ---               ┆ ---         ┆ ---           │\n",
       "│ i64        ┆ str                ┆ str          ┆ str               ┆ i32         ┆ str           │\n",
       "╞════════════╪════════════════════╪══════════════╪═══════════════════╪═════════════╪═══════════════╡\n",
       "│ 160839072  ┆ CeraVe Смягчающий  ┆ CeraVe       ┆ Гель для ухода за ┆ 38          ┆ Сыворотки для │\n",
       "│            ┆ крем для сух…      ┆              ┆ кожей             ┆             ┆ лица          │\n",
       "│ 161689127  ┆ Yves Rocher / Ив   ┆ Yves Rocher  ┆ Гель для ухода за ┆ 38          ┆ Сыворотки для │\n",
       "│            ┆ Роше / Увлажн…     ┆ France       ┆ кожей             ┆             ┆ лица          │\n",
       "│ 221508445  ┆ Bioderma Эликсир   ┆ Bioderma     ┆ Эликсир для ухода ┆ 38          ┆ Сыворотки для │\n",
       "│            ┆ для ухода за …     ┆              ┆ за кожей          ┆             ┆ лица          │\n",
       "│ 309017861  ┆ ART&FACT. /        ┆ ART&FACT.    ┆ Сыворотка для     ┆ 38          ┆ Сыворотки для │\n",
       "│            ┆ Сыворотка для      ┆              ┆ лица              ┆             ┆ лица          │\n",
       "│            ┆ лица…              ┆              ┆                   ┆             ┆               │\n",
       "│ 793710195  ┆ Breylee Сыворотка  ┆ Breylee      ┆ Сыворотка для     ┆ 38          ┆ Сыворотки для │\n",
       "│            ┆ для лица Ант…      ┆              ┆ лица              ┆             ┆ лица          │\n",
       "│ …          ┆ …                  ┆ …            ┆ …                 ┆ …           ┆ …             │\n",
       "│ 1154315599 ┆ Сушилка для овощей ┆ Великие реки ┆ Дегидратор        ┆ 284         ┆ Сушилки для   │\n",
       "│            ┆ и фруктов 3…       ┆              ┆                   ┆             ┆ овощей        │\n",
       "│ 1196912369 ┆ GFGRIL             ┆ GFGRIL       ┆ Дегидратор        ┆ 284         ┆ Сушилки для   │\n",
       "│            ┆ Электрическая      ┆              ┆                   ┆             ┆ овощей        │\n",
       "│            ┆ сушилка д…         ┆              ┆                   ┆             ┆               │\n",
       "│ 1255681315 ┆ Дегидратор сушилка ┆ Marta        ┆ Дегидратор        ┆ 284         ┆ Сушилки для   │\n",
       "│            ┆ для овощей …       ┆              ┆                   ┆             ┆ овощей        │\n",
       "│ 483756641  ┆ Дегидратор Kitfort ┆ Kitfort      ┆ Дегидратор        ┆ 284         ┆ Сушилки для   │\n",
       "│            ┆ КТ-1915-1, …       ┆              ┆                   ┆             ┆ овощей        │\n",
       "│ 1120557009 ┆ Дегидратор Kitfort ┆ Kitfort      ┆ Дегидратор        ┆ 284         ┆ Сушилки для   │\n",
       "│            ┆ КТ-1905, че…       ┆              ┆                   ┆             ┆ овощей        │\n",
       "└────────────┴────────────────────┴──────────────┴───────────────────┴─────────────┴───────────────┘"
      ]
     },
     "execution_count": 2,
     "metadata": {},
     "output_type": "execute_result"
    }
   ],
   "source": [
    "product_info = pl.read_parquet('product_information_full')\n",
    "product_info"
   ]
  },
  {
   "cell_type": "code",
   "execution_count": 3,
   "id": "6cbe40db",
   "metadata": {},
   "outputs": [
    {
     "data": {
      "text/html": [
       "<div><style>\n",
       ".dataframe > thead > tr,\n",
       ".dataframe > tbody > tr {\n",
       "  text-align: right;\n",
       "  white-space: pre-wrap;\n",
       "}\n",
       "</style>\n",
       "<small>shape: (1_000_000, 7)</small><table border=\"1\" class=\"dataframe\"><thead><tr><th>user_id</th><th>timestamp</th><th>action_type</th><th>widget_name</th><th>search_query</th><th>product_id</th><th>page_product_id</th></tr><tr><td>i32</td><td>datetime[ns]</td><td>str</td><td>str</td><td>str</td><td>f64</td><td>f64</td></tr></thead><tbody><tr><td>5191333</td><td>2024-03-20 11:04:06</td><td>&quot;view&quot;</td><td>&quot;search_catalog_listing&quot;</td><td>null</td><td>9.23442542e8</td><td>null</td></tr><tr><td>3741045</td><td>2024-06-27 18:39:09</td><td>&quot;view&quot;</td><td>&quot;search_catalog_listing&quot;</td><td>&quot;печенье&quot;</td><td>6.18168589e8</td><td>null</td></tr><tr><td>5736030</td><td>2024-03-08 14:50:14</td><td>&quot;view&quot;</td><td>&quot;search_catalog_listing&quot;</td><td>null</td><td>1.2156e9</td><td>null</td></tr><tr><td>2173455</td><td>2024-04-03 12:57:27</td><td>&quot;view&quot;</td><td>&quot;recoms_fresh_personal&quot;</td><td>null</td><td>1.46227155e8</td><td>null</td></tr><tr><td>9569113</td><td>2024-07-26 01:49:36</td><td>&quot;view&quot;</td><td>&quot;search_catalog_listing&quot;</td><td>null</td><td>1.0800e9</td><td>null</td></tr><tr><td>&hellip;</td><td>&hellip;</td><td>&hellip;</td><td>&hellip;</td><td>&hellip;</td><td>&hellip;</td><td>&hellip;</td></tr><tr><td>3795880</td><td>2024-04-09 18:01:25</td><td>&quot;view&quot;</td><td>&quot;recoms_fresh_personal&quot;</td><td>null</td><td>5.01074615e8</td><td>null</td></tr><tr><td>6916747</td><td>2024-04-26 14:46:01</td><td>&quot;view&quot;</td><td>&quot;search_catalog_listing&quot;</td><td>null</td><td>1.43294378e8</td><td>null</td></tr><tr><td>2346229</td><td>2024-06-28 17:16:12</td><td>&quot;view&quot;</td><td>&quot;recoms_fresh_personal&quot;</td><td>null</td><td>4.28674301e8</td><td>null</td></tr><tr><td>441072</td><td>2024-06-08 05:26:42</td><td>&quot;view&quot;</td><td>&quot;search_catalog_listing&quot;</td><td>null</td><td>7.05609233e8</td><td>null</td></tr><tr><td>2137645</td><td>2024-03-05 18:35:39</td><td>&quot;view&quot;</td><td>&quot;search_catalog_listing&quot;</td><td>null</td><td>2.43970371e8</td><td>null</td></tr></tbody></table></div>"
      ],
      "text/plain": [
       "shape: (1_000_000, 7)\n",
       "┌─────────┬──────────────┬─────────────┬──────────────┬──────────────┬──────────────┬──────────────┐\n",
       "│ user_id ┆ timestamp    ┆ action_type ┆ widget_name  ┆ search_query ┆ product_id   ┆ page_product │\n",
       "│ ---     ┆ ---          ┆ ---         ┆ ---          ┆ ---          ┆ ---          ┆ _id          │\n",
       "│ i32     ┆ datetime[ns] ┆ str         ┆ str          ┆ str          ┆ f64          ┆ ---          │\n",
       "│         ┆              ┆             ┆              ┆              ┆              ┆ f64          │\n",
       "╞═════════╪══════════════╪═════════════╪══════════════╪══════════════╪══════════════╪══════════════╡\n",
       "│ 5191333 ┆ 2024-03-20   ┆ view        ┆ search_catal ┆ null         ┆ 9.23442542e8 ┆ null         │\n",
       "│         ┆ 11:04:06     ┆             ┆ og_listing   ┆              ┆              ┆              │\n",
       "│ 3741045 ┆ 2024-06-27   ┆ view        ┆ search_catal ┆ печенье      ┆ 6.18168589e8 ┆ null         │\n",
       "│         ┆ 18:39:09     ┆             ┆ og_listing   ┆              ┆              ┆              │\n",
       "│ 5736030 ┆ 2024-03-08   ┆ view        ┆ search_catal ┆ null         ┆ 1.2156e9     ┆ null         │\n",
       "│         ┆ 14:50:14     ┆             ┆ og_listing   ┆              ┆              ┆              │\n",
       "│ 2173455 ┆ 2024-04-03   ┆ view        ┆ recoms_fresh ┆ null         ┆ 1.46227155e8 ┆ null         │\n",
       "│         ┆ 12:57:27     ┆             ┆ _personal    ┆              ┆              ┆              │\n",
       "│ 9569113 ┆ 2024-07-26   ┆ view        ┆ search_catal ┆ null         ┆ 1.0800e9     ┆ null         │\n",
       "│         ┆ 01:49:36     ┆             ┆ og_listing   ┆              ┆              ┆              │\n",
       "│ …       ┆ …            ┆ …           ┆ …            ┆ …            ┆ …            ┆ …            │\n",
       "│ 3795880 ┆ 2024-04-09   ┆ view        ┆ recoms_fresh ┆ null         ┆ 5.01074615e8 ┆ null         │\n",
       "│         ┆ 18:01:25     ┆             ┆ _personal    ┆              ┆              ┆              │\n",
       "│ 6916747 ┆ 2024-04-26   ┆ view        ┆ search_catal ┆ null         ┆ 1.43294378e8 ┆ null         │\n",
       "│         ┆ 14:46:01     ┆             ┆ og_listing   ┆              ┆              ┆              │\n",
       "│ 2346229 ┆ 2024-06-28   ┆ view        ┆ recoms_fresh ┆ null         ┆ 4.28674301e8 ┆ null         │\n",
       "│         ┆ 17:16:12     ┆             ┆ _personal    ┆              ┆              ┆              │\n",
       "│ 441072  ┆ 2024-06-08   ┆ view        ┆ search_catal ┆ null         ┆ 7.05609233e8 ┆ null         │\n",
       "│         ┆ 05:26:42     ┆             ┆ og_listing   ┆              ┆              ┆              │\n",
       "│ 2137645 ┆ 2024-03-05   ┆ view        ┆ search_catal ┆ null         ┆ 2.43970371e8 ┆ null         │\n",
       "│         ┆ 18:35:39     ┆             ┆ og_listing   ┆              ┆              ┆              │\n",
       "└─────────┴──────────────┴─────────────┴──────────────┴──────────────┴──────────────┴──────────────┘"
      ]
     },
     "execution_count": 3,
     "metadata": {},
     "output_type": "execute_result"
    }
   ],
   "source": [
    "user_actions_sample = pl.read_parquet('user_actions_full_sample_1_000_000')\n",
    "user_actions_sample"
   ]
  },
  {
   "cell_type": "code",
   "execution_count": 4,
   "id": "9f20ab7d",
   "metadata": {},
   "outputs": [
    {
     "data": {
      "text/html": [
       "<div><style>\n",
       ".dataframe > thead > tr,\n",
       ".dataframe > tbody > tr {\n",
       "  text-align: right;\n",
       "  white-space: pre-wrap;\n",
       "}\n",
       "</style>\n",
       "<small>shape: (6, 2)</small><table border=\"1\" class=\"dataframe\"><thead><tr><th>action_type</th><th>len</th></tr><tr><td>str</td><td>u32</td></tr></thead><tbody><tr><td>&quot;view&quot;</td><td>952219</td></tr><tr><td>&quot;to_cart&quot;</td><td>14551</td></tr><tr><td>&quot;search&quot;</td><td>14079</td></tr><tr><td>&quot;click&quot;</td><td>12165</td></tr><tr><td>&quot;order&quot;</td><td>6241</td></tr><tr><td>&quot;favorite&quot;</td><td>745</td></tr></tbody></table></div>"
      ],
      "text/plain": [
       "shape: (6, 2)\n",
       "┌─────────────┬────────┐\n",
       "│ action_type ┆ len    │\n",
       "│ ---         ┆ ---    │\n",
       "│ str         ┆ u32    │\n",
       "╞═════════════╪════════╡\n",
       "│ view        ┆ 952219 │\n",
       "│ to_cart     ┆ 14551  │\n",
       "│ search      ┆ 14079  │\n",
       "│ click       ┆ 12165  │\n",
       "│ order       ┆ 6241   │\n",
       "│ favorite    ┆ 745    │\n",
       "└─────────────┴────────┘"
      ]
     },
     "execution_count": 4,
     "metadata": {},
     "output_type": "execute_result"
    }
   ],
   "source": [
    "(\n",
    "    user_actions_sample\n",
    "    .group_by('action_type')\n",
    "    .len()\n",
    "    .sort('len', descending=True)\n",
    ")"
   ]
  },
  {
   "cell_type": "code",
   "execution_count": 5,
   "id": "0a85b5c4",
   "metadata": {},
   "outputs": [
    {
     "data": {
      "text/plain": [
       "((19592465, 3), (8253307, 3))"
      ]
     },
     "execution_count": 5,
     "metadata": {},
     "output_type": "execute_result"
    }
   ],
   "source": [
    "train = pl.read_parquet('train_orders')\n",
    "test = pl.read_parquet('test_orders')\n",
    "\n",
    "# уберем пакеты, которые нашли на первом семинаре\n",
    "train = (\n",
    "    train\n",
    "    .filter(pl.col('product_id') != 519413018)\n",
    "    .filter(pl.col('product_id') != 576985723)\n",
    "    \n",
    ")\n",
    "test = (\n",
    "    test\n",
    "    .filter(pl.col('product_id') != 519413018)\n",
    "    .filter(pl.col('product_id') != 576985723)\n",
    ")\n",
    "\n",
    "train.shape, test.shape"
   ]
  },
  {
   "cell_type": "code",
   "execution_count": 6,
   "id": "41c55a3c",
   "metadata": {},
   "outputs": [
    {
     "data": {
      "text/plain": [
       "((189713, 3), (82745, 3))"
      ]
     },
     "execution_count": 6,
     "metadata": {},
     "output_type": "execute_result"
    }
   ],
   "source": [
    "# оставим меньше данных, чтобы быстрее считалось\n",
    "train = (\n",
    "    train\n",
    "    .filter(pl.col('user_id') % 100 == 0)\n",
    "#     .sample(n=100_000, seed=0)\n",
    ")\n",
    "test = (\n",
    "    test\n",
    "    .filter(pl.col('user_id') % 100 == 0)\n",
    "#      .sample(n=10_000, seed=0)\n",
    ")\n",
    "\n",
    "train.shape, test.shape"
   ]
  },
  {
   "cell_type": "code",
   "execution_count": 7,
   "id": "ee59b3c5",
   "metadata": {},
   "outputs": [
    {
     "data": {
      "text/html": [
       "<div><style>\n",
       ".dataframe > thead > tr,\n",
       ".dataframe > tbody > tr {\n",
       "  text-align: right;\n",
       "  white-space: pre-wrap;\n",
       "}\n",
       "</style>\n",
       "<small>shape: (189_713, 3)</small><table border=\"1\" class=\"dataframe\"><thead><tr><th>user_id</th><th>product_id</th><th>date</th></tr><tr><td>i32</td><td>i64</td><td>date</td></tr></thead><tbody><tr><td>338900</td><td>174306600</td><td>2024-03-21</td></tr><tr><td>4408100</td><td>519493273</td><td>2024-04-08</td></tr><tr><td>2338900</td><td>365806931</td><td>2024-04-27</td></tr><tr><td>2358800</td><td>146763552</td><td>2024-06-10</td></tr><tr><td>2657500</td><td>704873725</td><td>2024-06-21</td></tr><tr><td>&hellip;</td><td>&hellip;</td><td>&hellip;</td></tr><tr><td>8630900</td><td>235129952</td><td>2024-03-28</td></tr><tr><td>395800</td><td>160572085</td><td>2024-06-07</td></tr><tr><td>7798100</td><td>672960189</td><td>2024-05-26</td></tr><tr><td>2739900</td><td>326522570</td><td>2024-05-13</td></tr><tr><td>975200</td><td>487809905</td><td>2024-06-17</td></tr></tbody></table></div>"
      ],
      "text/plain": [
       "shape: (189_713, 3)\n",
       "┌─────────┬────────────┬────────────┐\n",
       "│ user_id ┆ product_id ┆ date       │\n",
       "│ ---     ┆ ---        ┆ ---        │\n",
       "│ i32     ┆ i64        ┆ date       │\n",
       "╞═════════╪════════════╪════════════╡\n",
       "│ 338900  ┆ 174306600  ┆ 2024-03-21 │\n",
       "│ 4408100 ┆ 519493273  ┆ 2024-04-08 │\n",
       "│ 2338900 ┆ 365806931  ┆ 2024-04-27 │\n",
       "│ 2358800 ┆ 146763552  ┆ 2024-06-10 │\n",
       "│ 2657500 ┆ 704873725  ┆ 2024-06-21 │\n",
       "│ …       ┆ …          ┆ …          │\n",
       "│ 8630900 ┆ 235129952  ┆ 2024-03-28 │\n",
       "│ 395800  ┆ 160572085  ┆ 2024-06-07 │\n",
       "│ 7798100 ┆ 672960189  ┆ 2024-05-26 │\n",
       "│ 2739900 ┆ 326522570  ┆ 2024-05-13 │\n",
       "│ 975200  ┆ 487809905  ┆ 2024-06-17 │\n",
       "└─────────┴────────────┴────────────┘"
      ]
     },
     "execution_count": 7,
     "metadata": {},
     "output_type": "execute_result"
    }
   ],
   "source": [
    "train"
   ]
  },
  {
   "cell_type": "code",
   "execution_count": 8,
   "id": "cc13d456",
   "metadata": {},
   "outputs": [
    {
     "data": {
      "text/plain": [
       "(shape: (1, 1)\n",
       " ┌─────────┐\n",
       " │ user_id │\n",
       " │ ---     │\n",
       " │ u32     │\n",
       " ╞═════════╡\n",
       " │ 10261   │\n",
       " └─────────┘,\n",
       " shape: (1, 1)\n",
       " ┌────────────┐\n",
       " │ product_id │\n",
       " │ ---        │\n",
       " │ u32        │\n",
       " ╞════════════╡\n",
       " │ 16451      │\n",
       " └────────────┘)"
      ]
     },
     "execution_count": 8,
     "metadata": {},
     "output_type": "execute_result"
    }
   ],
   "source": [
    "train.select('user_id').unique().count(), train.select('product_id').unique().count()"
   ]
  },
  {
   "cell_type": "code",
   "execution_count": 9,
   "id": "48cfa59f",
   "metadata": {},
   "outputs": [
    {
     "data": {
      "text/plain": [
       "(shape: (1, 1)\n",
       " ┌─────────┐\n",
       " │ user_id │\n",
       " │ ---     │\n",
       " │ u32     │\n",
       " ╞═════════╡\n",
       " │ 6570    │\n",
       " └─────────┘,\n",
       " shape: (1, 1)\n",
       " ┌────────────┐\n",
       " │ product_id │\n",
       " │ ---        │\n",
       " │ u32        │\n",
       " ╞════════════╡\n",
       " │ 12436      │\n",
       " └────────────┘)"
      ]
     },
     "execution_count": 9,
     "metadata": {},
     "output_type": "execute_result"
    }
   ],
   "source": [
    "test.select('user_id').unique().count(), test.select('product_id').unique().count()"
   ]
  },
  {
   "cell_type": "markdown",
   "id": "4dfbc579",
   "metadata": {},
   "source": [
    "## Вспомним методы с первого семинара"
   ]
  },
  {
   "cell_type": "markdown",
   "id": "e59ef4d6",
   "metadata": {},
   "source": [
    "### Рандомные рекомендации"
   ]
  },
  {
   "cell_type": "code",
   "execution_count": 10,
   "id": "03451420",
   "metadata": {},
   "outputs": [],
   "source": [
    "DEFAULT_USER = 0\n",
    "DEFAULT_TOP_K = 10\n",
    "\n",
    "class Random:\n",
    "    def __init__(self, is_uniform: bool = True, seed: int = 0):\n",
    "        self.seed = seed\n",
    "        self.is_uniform = is_uniform\n",
    "        self.all_ids = None\n",
    "        self.p = None\n",
    "    \n",
    "    def fit(self, data: pl.DataFrame, id_name: str = 'product_id'):\n",
    "        self.all_ids = data[id_name].unique().to_list()\n",
    "        if self.is_uniform:\n",
    "            self.p = [1 / len(self.all_ids)] * len(self.all_ids)\n",
    "        else:\n",
    "            self.p = (\n",
    "                data\n",
    "                .group_by(id_name)\n",
    "                .len()\n",
    "                .with_columns(\n",
    "                    (pl.col('len') / data.shape[0]).alias('p'),\n",
    "                )\n",
    "            )['p'].to_list()\n",
    "        \n",
    "    def predict(\n",
    "        self,\n",
    "        user_id: int = DEFAULT_USER,\n",
    "        top_k: int = DEFAULT_TOP_K,\n",
    "        seed_per_user: bool = True\n",
    "    ) -> List[int]:\n",
    "        seed = self.seed\n",
    "        if seed_per_user:\n",
    "            seed += user_id\n",
    "        np.random.seed(seed)\n",
    "        return np.random.choice(self.all_ids, size=top_k, replace=False, p=self.p)\n",
    "        "
   ]
  },
  {
   "cell_type": "markdown",
   "id": "130f611a",
   "metadata": {},
   "source": [
    "### Топ популярных"
   ]
  },
  {
   "cell_type": "code",
   "execution_count": 11,
   "id": "110e98d8",
   "metadata": {},
   "outputs": [],
   "source": [
    "class TopPopular:\n",
    "    def __init__(self):\n",
    "        self.sort_data = None\n",
    "        self.id_name = None\n",
    "    \n",
    "    def fit(self, data: pl.DataFrame, id_name: str = 'product_id'):\n",
    "        self.sort_data = (\n",
    "            data\n",
    "            .group_by(id_name)\n",
    "            .len()\n",
    "            .sort('len', descending=True)\n",
    "        )\n",
    "        self.id_name = id_name\n",
    "        \n",
    "    def predict(self, user_id: int = DEFAULT_USER, top_k: int = DEFAULT_TOP_K) -> List[int]:\n",
    "        return self.sort_data.limit(top_k)[self.id_name].to_list()\n",
    "        "
   ]
  },
  {
   "cell_type": "code",
   "execution_count": 12,
   "id": "eb844284",
   "metadata": {},
   "outputs": [
    {
     "name": "stdout",
     "output_type": "stream",
     "text": [
      "[148481523, 143259875, 398644623, 356292677, 135653559, 146215073, 266528732, 398644622, 142120588, 261375234]\n",
      "https://www.ozon.ru/product/148481523\n",
      "https://www.ozon.ru/product/143259875\n",
      "https://www.ozon.ru/product/398644623\n",
      "https://www.ozon.ru/product/356292677\n",
      "https://www.ozon.ru/product/135653559\n",
      "https://www.ozon.ru/product/146215073\n",
      "https://www.ozon.ru/product/266528732\n",
      "https://www.ozon.ru/product/398644622\n",
      "https://www.ozon.ru/product/142120588\n",
      "https://www.ozon.ru/product/261375234\n"
     ]
    }
   ],
   "source": [
    "tp = TopPopular()\n",
    "tp.fit(train)\n",
    "\n",
    "ids = tp.predict()\n",
    "print(ids)\n",
    "get_ozon_link(ids)"
   ]
  },
  {
   "cell_type": "markdown",
   "id": "8eabde94",
   "metadata": {},
   "source": [
    "###  Персональный топ популярных"
   ]
  },
  {
   "cell_type": "code",
   "execution_count": 13,
   "id": "e17414e0",
   "metadata": {},
   "outputs": [],
   "source": [
    "class PersonalTopPopular:\n",
    "    def __init__(self):\n",
    "        self.sort_data = None\n",
    "        self.id_name = None\n",
    "        self.user_id = None\n",
    "    \n",
    "    def fit(self, data: pl.DataFrame, id_name: str = 'product_id', user_id: str = 'user_id'):\n",
    "        self.sort_data = (\n",
    "            data\n",
    "            .group_by(user_id, id_name)\n",
    "            .len()\n",
    "            .sort('len', descending=True)\n",
    "        )\n",
    "        self.id_name = id_name\n",
    "        self.user_id = user_id\n",
    "        \n",
    "    def predict(self, user_id: int = DEFAULT_USER, top_k: int = DEFAULT_TOP_K) -> List[int]:\n",
    "        return (\n",
    "            self.sort_data\n",
    "            .filter(pl.col(self.user_id) == user_id)\n",
    "            .limit(top_k)[self.id_name]\n",
    "        ).to_list()"
   ]
  },
  {
   "cell_type": "markdown",
   "id": "26332a67",
   "metadata": {},
   "source": [
    "Возьмем какого-нибудь юзера из теста"
   ]
  },
  {
   "cell_type": "code",
   "execution_count": 14,
   "id": "e5e56934",
   "metadata": {},
   "outputs": [
    {
     "name": "stdout",
     "output_type": "stream",
     "text": [
      "shape: (82_745, 3)\n",
      "┌─────────┬────────────┬────────────┐\n",
      "│ user_id ┆ product_id ┆ date       │\n",
      "│ ---     ┆ ---        ┆ ---        │\n",
      "│ i32     ┆ i64        ┆ date       │\n",
      "╞═════════╪════════════╪════════════╡\n",
      "│ 6075800 ┆ 1040744188 ┆ 2024-07-23 │\n",
      "│ 9492700 ┆ 756423174  ┆ 2024-07-26 │\n",
      "│ 6497200 ┆ 139192369  ┆ 2024-07-14 │\n",
      "│ 2708500 ┆ 585936906  ┆ 2024-07-10 │\n",
      "│ 1781500 ┆ 168666402  ┆ 2024-07-20 │\n",
      "│ …       ┆ …          ┆ …          │\n",
      "│ 1381200 ┆ 311405410  ┆ 2024-07-02 │\n",
      "│ 3013300 ┆ 1052319329 ┆ 2024-07-15 │\n",
      "│ 5245500 ┆ 145923205  ┆ 2024-07-01 │\n",
      "│ 4408100 ┆ 145923199  ┆ 2024-07-03 │\n",
      "│ 5135900 ┆ 676097300  ┆ 2024-07-20 │\n",
      "└─────────┴────────────┴────────────┘\n"
     ]
    }
   ],
   "source": [
    "print(test)"
   ]
  },
  {
   "cell_type": "code",
   "execution_count": 15,
   "id": "7f64bea2",
   "metadata": {
    "scrolled": true
   },
   "outputs": [],
   "source": [
    "ptp = PersonalTopPopular()\n",
    "ptp.fit(train)\n",
    "\n",
    "ids = ptp.predict(user_id=4115173, top_k=10)\n",
    "get_ozon_link(ids)"
   ]
  },
  {
   "cell_type": "markdown",
   "id": "e56ea1e3",
   "metadata": {},
   "source": [
    "### Смешаем персональный топ популярных и общий"
   ]
  },
  {
   "cell_type": "code",
   "execution_count": 16,
   "id": "13e8c8c5",
   "metadata": {},
   "outputs": [],
   "source": [
    "class PersonalTopPopularV2:\n",
    "    def __init__(self, top_popular: TopPopular, personal_top_popular: PersonalTopPopular):\n",
    "        self.top_popular = top_popular\n",
    "        self.personal_top_popular = personal_top_popular\n",
    "    \n",
    "    def fit(self, data: pl.DataFrame, id_name: str = 'product_id', user_id: str = 'user_id'):\n",
    "        self.top_popular.fit(data, id_name)\n",
    "        self.personal_top_popular.fit(data, id_name, user_id)\n",
    "        \n",
    "    def predict(self, user_id: int = DEFAULT_USER, top_k: int = DEFAULT_TOP_K) -> List[int]:\n",
    "        recs = []\n",
    "        pers_top = self.personal_top_popular.predict(user_id, top_k)\n",
    "        if len(pers_top) < top_k:\n",
    "            top = self.top_popular.predict(user_id, top_k - len(pers_top))\n",
    "            recs = pers_top + top\n",
    "        else:\n",
    "            recs = pers_top\n",
    "        return recs"
   ]
  },
  {
   "cell_type": "code",
   "execution_count": 17,
   "id": "2298d751",
   "metadata": {},
   "outputs": [],
   "source": [
    "tp = TopPopular()\n",
    "ptp = PersonalTopPopular()\n",
    "\n",
    "ptp_v2 = PersonalTopPopularV2(top_popular=tp, personal_top_popular=ptp)\n",
    "ptp_v2.fit(train)"
   ]
  },
  {
   "cell_type": "code",
   "execution_count": 18,
   "id": "32e1873c",
   "metadata": {},
   "outputs": [
    {
     "data": {
      "text/html": [
       "<div><style>\n",
       ".dataframe > thead > tr,\n",
       ".dataframe > tbody > tr {\n",
       "  text-align: right;\n",
       "  white-space: pre-wrap;\n",
       "}\n",
       "</style>\n",
       "<small>shape: (16_451, 2)</small><table border=\"1\" class=\"dataframe\"><thead><tr><th>product_id</th><th>len</th></tr><tr><td>i64</td><td>u32</td></tr></thead><tbody><tr><td>148481523</td><td>1384</td></tr><tr><td>143259875</td><td>696</td></tr><tr><td>398644623</td><td>674</td></tr><tr><td>356292677</td><td>640</td></tr><tr><td>135653559</td><td>604</td></tr><tr><td>&hellip;</td><td>&hellip;</td></tr><tr><td>810954369</td><td>1</td></tr><tr><td>985296295</td><td>1</td></tr><tr><td>688374048</td><td>1</td></tr><tr><td>1575221310</td><td>1</td></tr><tr><td>237060645</td><td>1</td></tr></tbody></table></div>"
      ],
      "text/plain": [
       "shape: (16_451, 2)\n",
       "┌────────────┬──────┐\n",
       "│ product_id ┆ len  │\n",
       "│ ---        ┆ ---  │\n",
       "│ i64        ┆ u32  │\n",
       "╞════════════╪══════╡\n",
       "│ 148481523  ┆ 1384 │\n",
       "│ 143259875  ┆ 696  │\n",
       "│ 398644623  ┆ 674  │\n",
       "│ 356292677  ┆ 640  │\n",
       "│ 135653559  ┆ 604  │\n",
       "│ …          ┆ …    │\n",
       "│ 810954369  ┆ 1    │\n",
       "│ 985296295  ┆ 1    │\n",
       "│ 688374048  ┆ 1    │\n",
       "│ 1575221310 ┆ 1    │\n",
       "│ 237060645  ┆ 1    │\n",
       "└────────────┴──────┘"
      ]
     },
     "execution_count": 18,
     "metadata": {},
     "output_type": "execute_result"
    }
   ],
   "source": [
    "ptp_v2.top_popular.sort_data"
   ]
  },
  {
   "cell_type": "markdown",
   "id": "efe05015",
   "metadata": {},
   "source": [
    "### Вспомним метрики"
   ]
  },
  {
   "cell_type": "code",
   "execution_count": 19,
   "id": "b1041d58",
   "metadata": {},
   "outputs": [],
   "source": [
    "# precision recall\n",
    "def calc_pr_metrics(data, recs_column: str, top_k: int = DEFAULT_TOP_K):\n",
    "    metrics = (\n",
    "        data\n",
    "        .select('user_id', 'ids', recs_column)\n",
    "        .with_columns([\n",
    "            pl.col('ids').list.set_intersection(pl.col(recs_column)).alias(f'relevant_in_{recs_column}')\n",
    "        ])\n",
    "        .with_columns([\n",
    "            pl.col(f'relevant_in_{recs_column}').list.len().alias('len1'),\n",
    "            pl.col(recs_column).list.len().alias('len2'),\n",
    "            pl.col('ids').list.len().alias('len3')\n",
    "        ])\n",
    "        .with_columns([\n",
    "            (pl.col('len1') / pl.col('len3')).alias('recall'),\n",
    "            (pl.col('len1') / top_k).alias('precision'),\n",
    "        ])\n",
    "        .fill_nan(0)\n",
    "        .select(\n",
    "            pl.mean('recall').alias('recall'),\n",
    "            pl.mean('precision').alias('precision')\n",
    "        )\n",
    "    )\n",
    "    return metrics"
   ]
  },
  {
   "cell_type": "code",
   "execution_count": 20,
   "id": "4e46bbde",
   "metadata": {},
   "outputs": [],
   "source": [
    "sample_users = (\n",
    "    test\n",
    "    .group_by('user_id')\n",
    "    .agg(\n",
    "        pl.col(\"product_id\").unique().alias(\"ids\")\n",
    "    )\n",
    "    .sample(n=1000, seed=0)\n",
    ")"
   ]
  },
  {
   "cell_type": "code",
   "execution_count": 21,
   "id": "ae724996",
   "metadata": {},
   "outputs": [],
   "source": [
    "tp = TopPopular()\n",
    "tp.fit(train)\n",
    "\n",
    "rn_uniform = Random(is_uniform=True)\n",
    "rn_uniform.fit(train)\n",
    "\n",
    "rn = Random(is_uniform=False)\n",
    "rn.fit(train)\n",
    "\n",
    "ptp = PersonalTopPopular()\n",
    "ptp.fit(train)\n",
    "\n",
    "ptp_v2 = PersonalTopPopularV2(top_popular=TopPopular(), personal_top_popular=PersonalTopPopular())\n",
    "ptp_v2.fit(train)"
   ]
  },
  {
   "cell_type": "code",
   "execution_count": 22,
   "id": "5fe7d070",
   "metadata": {},
   "outputs": [
    {
     "data": {
      "text/html": [
       "<div><style>\n",
       ".dataframe > thead > tr,\n",
       ".dataframe > tbody > tr {\n",
       "  text-align: right;\n",
       "  white-space: pre-wrap;\n",
       "}\n",
       "</style>\n",
       "<small>shape: (1_000, 7)</small><table border=\"1\" class=\"dataframe\"><thead><tr><th>user_id</th><th>ids</th><th>tp_recs</th><th>rn_uniform_recs</th><th>rn_recs</th><th>ptp_recs</th><th>ptp_v2_recs</th></tr><tr><td>i32</td><td>list[i64]</td><td>list[i64]</td><td>list[i64]</td><td>list[i64]</td><td>list[i64]</td><td>list[i64]</td></tr></thead><tbody><tr><td>8063800</td><td>[142624178, 551600569, 551600580]</td><td>[148481523, 143259875, … 261375234]</td><td>[162270003, 714078364, … 420030672]</td><td>[356683327, 253771159, … 306026410]</td><td>[141817610, 901300428, … 31469838]</td><td>[901300428, 141817610, … 141861408]</td></tr><tr><td>522600</td><td>[136074027, 138235076, … 1539026789]</td><td>[148481523, 143259875, … 261375234]</td><td>[642726064, 146958306, … 144576552]</td><td>[142624188, 821661009, … 551600595]</td><td>[1124516137, 563577077, … 139184354]</td><td>[713490449, 1124516137, … 150030863]</td></tr><tr><td>7011100</td><td>[148001285, 266528732, 1480429980]</td><td>[148481523, 143259875, … 261375234]</td><td>[326125181, 845345697, … 930278029]</td><td>[325194329, 844539071, … 925414647]</td><td>[]</td><td>[148481523, 143259875, … 261375234]</td></tr><tr><td>10220500</td><td>[636506536]</td><td>[148481523, 143259875, … 261375234]</td><td>[1176623025, 160055584, … 242510506]</td><td>[1583858815, 143321857, … 219990826]</td><td>[]</td><td>[148481523, 143259875, … 261375234]</td></tr><tr><td>3908100</td><td>[138860233, 141861488, … 997950025]</td><td>[148481523, 143259875, … 261375234]</td><td>[1269916346, 1077378953, … 1453901831]</td><td>[1094209982, 1353333268, … 146395505]</td><td>[]</td><td>[148481523, 143259875, … 261375234]</td></tr><tr><td>&hellip;</td><td>&hellip;</td><td>&hellip;</td><td>&hellip;</td><td>&hellip;</td><td>&hellip;</td><td>&hellip;</td></tr><tr><td>8409400</td><td>[135507648, 141838275, … 538184648]</td><td>[148481523, 143259875, … 261375234]</td><td>[220188988, 1077612555, … 1423835244]</td><td>[212350019, 1074761658, … 1422257621]</td><td>[]</td><td>[148481523, 143259875, … 261375234]</td></tr><tr><td>3089600</td><td>[245351975]</td><td>[148481523, 143259875, … 261375234]</td><td>[280658454, 160572002, … 446876422]</td><td>[281051417, 160542230, … 414758478]</td><td>[]</td><td>[148481523, 143259875, … 261375234]</td></tr><tr><td>9476600</td><td>[146215073, 162288229, … 539878217]</td><td>[148481523, 143259875, … 261375234]</td><td>[148234044, 578363564, … 466991822]</td><td>[147518904, 563280243, … 445947125]</td><td>[]</td><td>[148481523, 143259875, … 261375234]</td></tr><tr><td>3698900</td><td>[679339743]</td><td>[148481523, 143259875, … 261375234]</td><td>[138931592, 804590935, … 146395435]</td><td>[138813142, 800083053, … 145822900]</td><td>[]</td><td>[148481523, 143259875, … 261375234]</td></tr><tr><td>7483100</td><td>[140680859, 154444478]</td><td>[148481523, 143259875, … 261375234]</td><td>[334627918, 946829348, … 662194411]</td><td>[327109141, 944718361, … 653946858]</td><td>[267895952, 146804863, … 327767290]</td><td>[267895952, 146804863, … 1052318167]</td></tr></tbody></table></div>"
      ],
      "text/plain": [
       "shape: (1_000, 7)\n",
       "┌──────────┬──────────────┬──────────────┬──────────────┬──────────────┬─────────────┬─────────────┐\n",
       "│ user_id  ┆ ids          ┆ tp_recs      ┆ rn_uniform_r ┆ rn_recs      ┆ ptp_recs    ┆ ptp_v2_recs │\n",
       "│ ---      ┆ ---          ┆ ---          ┆ ecs          ┆ ---          ┆ ---         ┆ ---         │\n",
       "│ i32      ┆ list[i64]    ┆ list[i64]    ┆ ---          ┆ list[i64]    ┆ list[i64]   ┆ list[i64]   │\n",
       "│          ┆              ┆              ┆ list[i64]    ┆              ┆             ┆             │\n",
       "╞══════════╪══════════════╪══════════════╪══════════════╪══════════════╪═════════════╪═════════════╡\n",
       "│ 8063800  ┆ [142624178,  ┆ [148481523,  ┆ [162270003,  ┆ [356683327,  ┆ [141817610, ┆ [901300428, │\n",
       "│          ┆ 551600569,   ┆ 143259875, … ┆ 714078364, … ┆ 253771159, … ┆ 901300428,  ┆ 141817610,  │\n",
       "│          ┆ 5516005…     ┆ 26137…       ┆ 42003…       ┆ 30602…       ┆ … 31469…    ┆ … 14186…    │\n",
       "│ 522600   ┆ [136074027,  ┆ [148481523,  ┆ [642726064,  ┆ [142624188,  ┆ [1124516137 ┆ [713490449, │\n",
       "│          ┆ 138235076, … ┆ 143259875, … ┆ 146958306, … ┆ 821661009, … ┆ ,           ┆ 1124516137, │\n",
       "│          ┆ 15390…       ┆ 26137…       ┆ 14457…       ┆ 55160…       ┆ 563577077,  ┆ … 1500…     │\n",
       "│          ┆              ┆              ┆              ┆              ┆ … 1391…     ┆             │\n",
       "│ 7011100  ┆ [148001285,  ┆ [148481523,  ┆ [326125181,  ┆ [325194329,  ┆ []          ┆ [148481523, │\n",
       "│          ┆ 266528732,   ┆ 143259875, … ┆ 845345697, … ┆ 844539071, … ┆             ┆ 143259875,  │\n",
       "│          ┆ 1480429…     ┆ 26137…       ┆ 93027…       ┆ 92541…       ┆             ┆ … 26137…    │\n",
       "│ 10220500 ┆ [636506536]  ┆ [148481523,  ┆ [1176623025, ┆ [1583858815, ┆ []          ┆ [148481523, │\n",
       "│          ┆              ┆ 143259875, … ┆ 160055584, … ┆ 143321857, … ┆             ┆ 143259875,  │\n",
       "│          ┆              ┆ 26137…       ┆ 2425…        ┆ 2199…        ┆             ┆ … 26137…    │\n",
       "│ 3908100  ┆ [138860233,  ┆ [148481523,  ┆ [1269916346, ┆ [1094209982, ┆ []          ┆ [148481523, │\n",
       "│          ┆ 141861488, … ┆ 143259875, … ┆ 1077378953,  ┆ 1353333268,  ┆             ┆ 143259875,  │\n",
       "│          ┆ 99795…       ┆ 26137…       ┆ … 145…       ┆ … 146…       ┆             ┆ … 26137…    │\n",
       "│ …        ┆ …            ┆ …            ┆ …            ┆ …            ┆ …           ┆ …           │\n",
       "│ 8409400  ┆ [135507648,  ┆ [148481523,  ┆ [220188988,  ┆ [212350019,  ┆ []          ┆ [148481523, │\n",
       "│          ┆ 141838275, … ┆ 143259875, … ┆ 1077612555,  ┆ 1074761658,  ┆             ┆ 143259875,  │\n",
       "│          ┆ 53818…       ┆ 26137…       ┆ … 1423…      ┆ … 1422…      ┆             ┆ … 26137…    │\n",
       "│ 3089600  ┆ [245351975]  ┆ [148481523,  ┆ [280658454,  ┆ [281051417,  ┆ []          ┆ [148481523, │\n",
       "│          ┆              ┆ 143259875, … ┆ 160572002, … ┆ 160542230, … ┆             ┆ 143259875,  │\n",
       "│          ┆              ┆ 26137…       ┆ 44687…       ┆ 41475…       ┆             ┆ … 26137…    │\n",
       "│ 9476600  ┆ [146215073,  ┆ [148481523,  ┆ [148234044,  ┆ [147518904,  ┆ []          ┆ [148481523, │\n",
       "│          ┆ 162288229, … ┆ 143259875, … ┆ 578363564, … ┆ 563280243, … ┆             ┆ 143259875,  │\n",
       "│          ┆ 53987…       ┆ 26137…       ┆ 46699…       ┆ 44594…       ┆             ┆ … 26137…    │\n",
       "│ 3698900  ┆ [679339743]  ┆ [148481523,  ┆ [138931592,  ┆ [138813142,  ┆ []          ┆ [148481523, │\n",
       "│          ┆              ┆ 143259875, … ┆ 804590935, … ┆ 800083053, … ┆             ┆ 143259875,  │\n",
       "│          ┆              ┆ 26137…       ┆ 14639…       ┆ 14582…       ┆             ┆ … 26137…    │\n",
       "│ 7483100  ┆ [140680859,  ┆ [148481523,  ┆ [334627918,  ┆ [327109141,  ┆ [267895952, ┆ [267895952, │\n",
       "│          ┆ 154444478]   ┆ 143259875, … ┆ 946829348, … ┆ 944718361, … ┆ 146804863,  ┆ 146804863,  │\n",
       "│          ┆              ┆ 26137…       ┆ 66219…       ┆ 65394…       ┆ … 32776…    ┆ … 10523…    │\n",
       "└──────────┴──────────────┴──────────────┴──────────────┴──────────────┴─────────────┴─────────────┘"
      ]
     },
     "execution_count": 22,
     "metadata": {},
     "output_type": "execute_result"
    }
   ],
   "source": [
    "recommemd_sample_users = (\n",
    "    sample_users\n",
    "    .with_columns([\n",
    "        pl.col('user_id').map_elements(\n",
    "            lambda x: tp.predict(user_id=x, top_k=10),\n",
    "            return_dtype=pl.List(pl.Int64)\n",
    "        ).alias('tp_recs'),\n",
    "        \n",
    "        pl.col('user_id').map_elements(\n",
    "            lambda x: rn_uniform.predict(user_id=x, top_k=10),\n",
    "            return_dtype=pl.List(pl.Int64)\n",
    "        ).alias('rn_uniform_recs'),\n",
    "        \n",
    "        pl.col('user_id').map_elements(\n",
    "            lambda x: rn.predict(user_id=x, top_k=10),\n",
    "            return_dtype=pl.List(pl.Int64)\n",
    "        ).alias('rn_recs'),\n",
    "        \n",
    "        pl.col('user_id').map_elements(\n",
    "            lambda x: ptp.predict(user_id=x, top_k=10),\n",
    "            return_dtype=pl.List(pl.Int64)\n",
    "        ).alias('ptp_recs'),\n",
    "        \n",
    "        pl.col('user_id').map_elements(\n",
    "            lambda x: ptp_v2.predict(user_id=x, top_k=10),\n",
    "            return_dtype=pl.List(pl.Int64)\n",
    "        ).alias('ptp_v2_recs'),\n",
    "        \n",
    "    ])\n",
    ")\n",
    "recommemd_sample_users"
   ]
  },
  {
   "cell_type": "code",
   "execution_count": 23,
   "id": "a5a9fe63",
   "metadata": {},
   "outputs": [],
   "source": [
    "interactions = (\n",
    "    recommemd_sample_users\n",
    "    .select('user_id', pl.col('ids').alias('item_id'))\n",
    "    .explode('item_id')\n",
    ").to_pandas()\n",
    "\n",
    "reco = (\n",
    "    recommemd_sample_users\n",
    "    .select('user_id', pl.col('ptp_recs').alias('item_id'), pl.lit(1).alias('rank'))\n",
    "    .explode('item_id')\n",
    ").to_pandas()"
   ]
  },
  {
   "cell_type": "code",
   "execution_count": 24,
   "id": "1e61203f",
   "metadata": {},
   "outputs": [
    {
     "data": {
      "text/html": [
       "<div><style>\n",
       ".dataframe > thead > tr,\n",
       ".dataframe > tbody > tr {\n",
       "  text-align: right;\n",
       "  white-space: pre-wrap;\n",
       "}\n",
       "</style>\n",
       "<small>shape: (1, 2)</small><table border=\"1\" class=\"dataframe\"><thead><tr><th>recall</th><th>precision</th></tr><tr><td>f64</td><td>f64</td></tr></thead><tbody><tr><td>0.017945</td><td>0.0291</td></tr></tbody></table></div>"
      ],
      "text/plain": [
       "shape: (1, 2)\n",
       "┌──────────┬───────────┐\n",
       "│ recall   ┆ precision │\n",
       "│ ---      ┆ ---       │\n",
       "│ f64      ┆ f64       │\n",
       "╞══════════╪═══════════╡\n",
       "│ 0.017945 ┆ 0.0291    │\n",
       "└──────────┴───────────┘"
      ]
     },
     "execution_count": 24,
     "metadata": {},
     "output_type": "execute_result"
    }
   ],
   "source": [
    "calc_pr_metrics(recommemd_sample_users, 'tp_recs')"
   ]
  },
  {
   "cell_type": "code",
   "execution_count": 25,
   "id": "c14e71e1",
   "metadata": {},
   "outputs": [
    {
     "data": {
      "text/html": [
       "<div><style>\n",
       ".dataframe > thead > tr,\n",
       ".dataframe > tbody > tr {\n",
       "  text-align: right;\n",
       "  white-space: pre-wrap;\n",
       "}\n",
       "</style>\n",
       "<small>shape: (1, 2)</small><table border=\"1\" class=\"dataframe\"><thead><tr><th>recall</th><th>precision</th></tr><tr><td>f64</td><td>f64</td></tr></thead><tbody><tr><td>0.082001</td><td>0.0847</td></tr></tbody></table></div>"
      ],
      "text/plain": [
       "shape: (1, 2)\n",
       "┌──────────┬───────────┐\n",
       "│ recall   ┆ precision │\n",
       "│ ---      ┆ ---       │\n",
       "│ f64      ┆ f64       │\n",
       "╞══════════╪═══════════╡\n",
       "│ 0.082001 ┆ 0.0847    │\n",
       "└──────────┴───────────┘"
      ]
     },
     "execution_count": 25,
     "metadata": {},
     "output_type": "execute_result"
    }
   ],
   "source": [
    "calc_pr_metrics(recommemd_sample_users, 'ptp_recs')"
   ]
  },
  {
   "cell_type": "code",
   "execution_count": 26,
   "id": "af8576ff",
   "metadata": {},
   "outputs": [
    {
     "data": {
      "text/html": [
       "<div><style>\n",
       ".dataframe > thead > tr,\n",
       ".dataframe > tbody > tr {\n",
       "  text-align: right;\n",
       "  white-space: pre-wrap;\n",
       "}\n",
       "</style>\n",
       "<small>shape: (1, 2)</small><table border=\"1\" class=\"dataframe\"><thead><tr><th>recall</th><th>precision</th></tr><tr><td>f64</td><td>f64</td></tr></thead><tbody><tr><td>0.092013</td><td>0.0958</td></tr></tbody></table></div>"
      ],
      "text/plain": [
       "shape: (1, 2)\n",
       "┌──────────┬───────────┐\n",
       "│ recall   ┆ precision │\n",
       "│ ---      ┆ ---       │\n",
       "│ f64      ┆ f64       │\n",
       "╞══════════╪═══════════╡\n",
       "│ 0.092013 ┆ 0.0958    │\n",
       "└──────────┴───────────┘"
      ]
     },
     "execution_count": 26,
     "metadata": {},
     "output_type": "execute_result"
    }
   ],
   "source": [
    "calc_pr_metrics(recommemd_sample_users, 'ptp_v2_recs')"
   ]
  },
  {
   "cell_type": "markdown",
   "id": "5de6b08a",
   "metadata": {},
   "source": [
    "## Рассмотрим memory-based подход\n",
    "### EASE"
   ]
  },
  {
   "cell_type": "markdown",
   "id": "7889e528",
   "metadata": {},
   "source": [
    "Модель EASE (Embarrassingly Shallow Autoencoder) представляет собой интересный подход к рекомендациям, основанный на принципах глубокого обучения, но при этом старается сохранить простоту в архитектуре. В отличие от сложных нейронных сетей, EASE использует упрощённую структуру, что делает ее более легковесной и устойчивой к переобучению.\n",
    "\n",
    "### Обзор модели EASE\n",
    "\n",
    "Основной идеей модели EASE является использование автокодировщиков для создания представлений пользователей и объектов на основе взаимодействий. Модель фокусируется на использовании данных рейтингов для генерации предсказаний. Она применяет метод наименьших квадратов (least squares) для обучения, что позволяет вычислять параметры модели в закрытой форме, обеспечивая устойчивость и простоту.\n",
    "\n",
    "\n",
    "#### Преимущества и недостатки\n",
    "\n",
    "Модель EASE обладает рядом преимуществ. Во-первых, ее простота делает обучение и интерпретацию результатов более доступными, особенно в средах, где объяснение рекомендаций является важным. Во-вторых, благодаря \"поверхностной\" структуре, EASE менее подвержена переобучению по сравнению с более сложными подходами, такие как глубокие нейронные сети.\n",
    "\n",
    "Однако у модели есть и ограничения. Очевидным минусом является то, что она может не справляться с очень сложными паттернами взаимодействий между пользователями и объектами, что может привести к более низкой точности предсказаний по сравнению с более продвинутыми методами. Также EASE, как правило, требует достаточно много взаимодействий для успешного обучения модели.\n"
   ]
  },
  {
   "cell_type": "markdown",
   "id": "ece77247",
   "metadata": {},
   "source": [
    "Модель заключается в минимизации следующей функции:\n",
    "\n",
    "$$\n",
    "\\begin{cases} \n",
    "\\min_{B} ||X - XB||_{F}^{2} + \\lambda \\cdot ||B||_{F}^{2} \\\\ \n",
    "\\text{diag}(B) = 0 \n",
    "\\end{cases}\n",
    "$$\n",
    "\n",
    "где:\n",
    "- $X$ — матрица взаимодействий,\n",
    "- $B$ — матрица весов, которую необходимо найти,\n",
    "- $||X - XB||_{F}$ — норма Фробениуса,\n",
    "- $\\lambda$ — регуляризационный член для предотвращения переобучения.\n",
    "\n",
    "\n",
    "Алгоритм включает следующие шаги:\n",
    "\n",
    "1. Определить $G = X \\cdot X^{T}$.\n",
    "2. Добавить $\\lambda$ к диагональным элементам $G$.\n",
    "3. Найти обратную матрицу $G^{-1}$.\n",
    "4. $B = G^{-1} \\cdot \\text{diag}(G^{-1})$, где $\\text{diag}(G^{-1})$ — массив диагональных элементов.\n",
    "5. Установить все элементы диагонали $B$ равными нулю. \n",
    "\n"
   ]
  },
  {
   "attachments": {
    "image-2.png": {
     "image/png": "[encoded data removed]"
    }
   },
   "cell_type": "markdown",
   "id": "2e73e72b",
   "metadata": {},
   "source": [
    "![image-2.png](attachment:image-2.png)"
   ]
  },
  {
   "cell_type": "code",
   "execution_count": 27,
   "id": "87cf0dec",
   "metadata": {},
   "outputs": [],
   "source": [
    "from rectools.models import EASEModel\n",
    "from rectools.dataset import Dataset"
   ]
  },
  {
   "cell_type": "code",
   "execution_count": 28,
   "id": "2244c195",
   "metadata": {},
   "outputs": [
    {
     "data": {
      "text/html": [
       "<div><style>\n",
       ".dataframe > thead > tr,\n",
       ".dataframe > tbody > tr {\n",
       "  text-align: right;\n",
       "  white-space: pre-wrap;\n",
       "}\n",
       "</style>\n",
       "<small>shape: (189_713, 3)</small><table border=\"1\" class=\"dataframe\"><thead><tr><th>user_id</th><th>product_id</th><th>date</th></tr><tr><td>i32</td><td>i64</td><td>date</td></tr></thead><tbody><tr><td>338900</td><td>174306600</td><td>2024-03-21</td></tr><tr><td>4408100</td><td>519493273</td><td>2024-04-08</td></tr><tr><td>2338900</td><td>365806931</td><td>2024-04-27</td></tr><tr><td>2358800</td><td>146763552</td><td>2024-06-10</td></tr><tr><td>2657500</td><td>704873725</td><td>2024-06-21</td></tr><tr><td>&hellip;</td><td>&hellip;</td><td>&hellip;</td></tr><tr><td>8630900</td><td>235129952</td><td>2024-03-28</td></tr><tr><td>395800</td><td>160572085</td><td>2024-06-07</td></tr><tr><td>7798100</td><td>672960189</td><td>2024-05-26</td></tr><tr><td>2739900</td><td>326522570</td><td>2024-05-13</td></tr><tr><td>975200</td><td>487809905</td><td>2024-06-17</td></tr></tbody></table></div>"
      ],
      "text/plain": [
       "shape: (189_713, 3)\n",
       "┌─────────┬────────────┬────────────┐\n",
       "│ user_id ┆ product_id ┆ date       │\n",
       "│ ---     ┆ ---        ┆ ---        │\n",
       "│ i32     ┆ i64        ┆ date       │\n",
       "╞═════════╪════════════╪════════════╡\n",
       "│ 338900  ┆ 174306600  ┆ 2024-03-21 │\n",
       "│ 4408100 ┆ 519493273  ┆ 2024-04-08 │\n",
       "│ 2338900 ┆ 365806931  ┆ 2024-04-27 │\n",
       "│ 2358800 ┆ 146763552  ┆ 2024-06-10 │\n",
       "│ 2657500 ┆ 704873725  ┆ 2024-06-21 │\n",
       "│ …       ┆ …          ┆ …          │\n",
       "│ 8630900 ┆ 235129952  ┆ 2024-03-28 │\n",
       "│ 395800  ┆ 160572085  ┆ 2024-06-07 │\n",
       "│ 7798100 ┆ 672960189  ┆ 2024-05-26 │\n",
       "│ 2739900 ┆ 326522570  ┆ 2024-05-13 │\n",
       "│ 975200  ┆ 487809905  ┆ 2024-06-17 │\n",
       "└─────────┴────────────┴────────────┘"
      ]
     },
     "execution_count": 28,
     "metadata": {},
     "output_type": "execute_result"
    }
   ],
   "source": [
    "train"
   ]
  },
  {
   "cell_type": "code",
   "execution_count": 29,
   "id": "5c96e8f6",
   "metadata": {},
   "outputs": [],
   "source": [
    "train_interactions = (\n",
    "    train\n",
    "    .select(\n",
    "        'user_id', \n",
    "        pl.col('product_id').alias('item_id'),\n",
    "        pl.col('date').alias('datetime'),\n",
    "        pl.lit(1).alias('weight')\n",
    "    )\n",
    "    .to_pandas()\n",
    ")"
   ]
  },
  {
   "cell_type": "code",
   "execution_count": 30,
   "id": "642deed7",
   "metadata": {},
   "outputs": [],
   "source": [
    "dataset = Dataset.construct(\n",
    "    interactions_df=train_interactions\n",
    ")"
   ]
  },
  {
   "cell_type": "code",
   "execution_count": 31,
   "id": "a354c72a",
   "metadata": {},
   "outputs": [
    {
     "name": "stdout",
     "output_type": "stream",
     "text": [
      "CPU times: user 7min 50s, sys: 12.3 s, total: 8min 3s\n",
      "Wall time: 1min 23s\n"
     ]
    },
    {
     "data": {
      "text/plain": [
       "<rectools.models.ease.EASEModel at 0x10764f610>"
      ]
     },
     "execution_count": 31,
     "metadata": {},
     "output_type": "execute_result"
    }
   ],
   "source": [
    "%%time\n",
    "model = EASEModel(regularization=500)\n",
    "model.fit(dataset);"
   ]
  },
  {
   "cell_type": "code",
   "execution_count": 72,
   "id": "d2166099",
   "metadata": {},
   "outputs": [
    {
     "data": {
      "text/html": [
       "<div><style>\n",
       ".dataframe > thead > tr,\n",
       ".dataframe > tbody > tr {\n",
       "  text-align: right;\n",
       "  white-space: pre-wrap;\n",
       "}\n",
       "</style>\n",
       "<small>shape: (1, 1)</small><table border=\"1\" class=\"dataframe\"><thead><tr><th>user_id</th></tr><tr><td>u32</td></tr></thead><tbody><tr><td>10261</td></tr></tbody></table></div>"
      ],
      "text/plain": [
       "shape: (1, 1)\n",
       "┌─────────┐\n",
       "│ user_id │\n",
       "│ ---     │\n",
       "│ u32     │\n",
       "╞═════════╡\n",
       "│ 10261   │\n",
       "└─────────┘"
      ]
     },
     "execution_count": 72,
     "metadata": {},
     "output_type": "execute_result"
    }
   ],
   "source": [
    "train.select('user_id').unique().count()"
   ]
  },
  {
   "cell_type": "markdown",
   "id": "a0988db3",
   "metadata": {},
   "source": [
    "Посмотрим для какого множества пользователей сможем сделать предсказание"
   ]
  },
  {
   "cell_type": "code",
   "execution_count": 32,
   "id": "f7c18945",
   "metadata": {},
   "outputs": [
    {
     "data": {
      "text/plain": [
       "522"
      ]
     },
     "execution_count": 32,
     "metadata": {},
     "output_type": "execute_result"
    }
   ],
   "source": [
    "test_users = (\n",
    "    recommemd_sample_users\n",
    "    .join(train.select('user_id').unique(), 'user_id', 'inner')\n",
    "    .select('user_id').unique().to_numpy().flatten()\n",
    ")\n",
    "len(test_users)"
   ]
  },
  {
   "cell_type": "code",
   "execution_count": 33,
   "id": "e3120e83",
   "metadata": {},
   "outputs": [],
   "source": [
    "recos = model.recommend(\n",
    "    users=test_users,\n",
    "    dataset=dataset,\n",
    "    k=10,\n",
    "    filter_viewed=False,\n",
    ")\n"
   ]
  },
  {
   "cell_type": "code",
   "execution_count": null,
   "id": "a26cfb86",
   "metadata": {},
   "outputs": [],
   "source": []
  },
  {
   "cell_type": "code",
   "execution_count": 35,
   "id": "b6b07061",
   "metadata": {},
   "outputs": [
    {
     "data": {
      "text/html": [
       "<div><style>\n",
       ".dataframe > thead > tr,\n",
       ".dataframe > tbody > tr {\n",
       "  text-align: right;\n",
       "  white-space: pre-wrap;\n",
       "}\n",
       "</style>\n",
       "<small>shape: (522, 2)</small><table border=\"1\" class=\"dataframe\"><thead><tr><th>user_id</th><th>ease_recs</th></tr><tr><td>i32</td><td>list[i64]</td></tr></thead><tbody><tr><td>32000</td><td>[146763548, 1046198056, … 695659551]</td></tr><tr><td>41300</td><td>[923442561, 163600536, … 864376721]</td></tr><tr><td>59900</td><td>[326522570, 149262631, … 140800365]</td></tr><tr><td>80300</td><td>[232917893, 196962654, … 1074808936]</td></tr><tr><td>101200</td><td>[487809905, 750579819, … 669835829]</td></tr><tr><td>&hellip;</td><td>&hellip;</td></tr><tr><td>11100600</td><td>[266528732, 148590542, … 913957970]</td></tr><tr><td>11130600</td><td>[160571964, 398644622, … 168328427]</td></tr><tr><td>11142200</td><td>[145923211, 145081637, … 1032351794]</td></tr><tr><td>11170400</td><td>[466992921, 859976847, … 966438673]</td></tr><tr><td>11174000</td><td>[804974766, 140490814, … 146763547]</td></tr></tbody></table></div>"
      ],
      "text/plain": [
       "shape: (522, 2)\n",
       "┌──────────┬─────────────────────────────────┐\n",
       "│ user_id  ┆ ease_recs                       │\n",
       "│ ---      ┆ ---                             │\n",
       "│ i32      ┆ list[i64]                       │\n",
       "╞══════════╪═════════════════════════════════╡\n",
       "│ 32000    ┆ [146763548, 1046198056, … 6956… │\n",
       "│ 41300    ┆ [923442561, 163600536, … 86437… │\n",
       "│ 59900    ┆ [326522570, 149262631, … 14080… │\n",
       "│ 80300    ┆ [232917893, 196962654, … 10748… │\n",
       "│ 101200   ┆ [487809905, 750579819, … 66983… │\n",
       "│ …        ┆ …                               │\n",
       "│ 11100600 ┆ [266528732, 148590542, … 91395… │\n",
       "│ 11130600 ┆ [160571964, 398644622, … 16832… │\n",
       "│ 11142200 ┆ [145923211, 145081637, … 10323… │\n",
       "│ 11170400 ┆ [466992921, 859976847, … 96643… │\n",
       "│ 11174000 ┆ [804974766, 140490814, … 14676… │\n",
       "└──────────┴─────────────────────────────────┘"
      ]
     },
     "execution_count": 35,
     "metadata": {},
     "output_type": "execute_result"
    }
   ],
   "source": [
    "recos = pl.DataFrame(recos)\n",
    "recos = recos.group_by('user_id').agg(pl.col('item_id').alias('ease_recs')).sort('user_id')\n",
    "recos"
   ]
  },
  {
   "cell_type": "code",
   "execution_count": null,
   "id": "a485d98a",
   "metadata": {},
   "outputs": [],
   "source": []
  },
  {
   "cell_type": "code",
   "execution_count": 36,
   "id": "c835bd82",
   "metadata": {},
   "outputs": [
    {
     "data": {
      "text/html": [
       "<div><style>\n",
       ".dataframe > thead > tr,\n",
       ".dataframe > tbody > tr {\n",
       "  text-align: right;\n",
       "  white-space: pre-wrap;\n",
       "}\n",
       "</style>\n",
       "<small>shape: (3, 8)</small><table border=\"1\" class=\"dataframe\"><thead><tr><th>user_id</th><th>ids</th><th>tp_recs</th><th>rn_uniform_recs</th><th>rn_recs</th><th>ptp_recs</th><th>ptp_v2_recs</th><th>ease_recs</th></tr><tr><td>i32</td><td>list[i64]</td><td>list[i64]</td><td>list[i64]</td><td>list[i64]</td><td>list[i64]</td><td>list[i64]</td><td>list[i64]</td></tr></thead><tbody><tr><td>8063800</td><td>[142624178, 551600569, 551600580]</td><td>[148481523, 143259875, … 261375234]</td><td>[162270003, 714078364, … 420030672]</td><td>[356683327, 253771159, … 306026410]</td><td>[141817610, 901300428, … 31469838]</td><td>[901300428, 141817610, … 141861408]</td><td>[695659542, 138860208, … 600850741]</td></tr><tr><td>522600</td><td>[136074027, 138235076, … 1539026789]</td><td>[148481523, 143259875, … 261375234]</td><td>[642726064, 146958306, … 144576552]</td><td>[142624188, 821661009, … 551600595]</td><td>[1124516137, 563577077, … 139184354]</td><td>[713490449, 1124516137, … 150030863]</td><td>[139864792, 142624188, … 142624185]</td></tr><tr><td>7011100</td><td>[148001285, 266528732, 1480429980]</td><td>[148481523, 143259875, … 261375234]</td><td>[326125181, 845345697, … 930278029]</td><td>[325194329, 844539071, … 925414647]</td><td>[]</td><td>[148481523, 143259875, … 261375234]</td><td>null</td></tr></tbody></table></div>"
      ],
      "text/plain": [
       "shape: (3, 8)\n",
       "┌─────────┬────────────┬────────────┬────────────┬────────────┬────────────┬───────────┬───────────┐\n",
       "│ user_id ┆ ids        ┆ tp_recs    ┆ rn_uniform ┆ rn_recs    ┆ ptp_recs   ┆ ptp_v2_re ┆ ease_recs │\n",
       "│ ---     ┆ ---        ┆ ---        ┆ _recs      ┆ ---        ┆ ---        ┆ cs        ┆ ---       │\n",
       "│ i32     ┆ list[i64]  ┆ list[i64]  ┆ ---        ┆ list[i64]  ┆ list[i64]  ┆ ---       ┆ list[i64] │\n",
       "│         ┆            ┆            ┆ list[i64]  ┆            ┆            ┆ list[i64] ┆           │\n",
       "╞═════════╪════════════╪════════════╪════════════╪════════════╪════════════╪═══════════╪═══════════╡\n",
       "│ 8063800 ┆ [142624178 ┆ [148481523 ┆ [162270003 ┆ [356683327 ┆ [141817610 ┆ [90130042 ┆ [69565954 │\n",
       "│         ┆ ,          ┆ ,          ┆ ,          ┆ ,          ┆ ,          ┆ 8, 141817 ┆ 2, 138860 │\n",
       "│         ┆ 551600569, ┆ 143259875, ┆ 714078364, ┆ 253771159, ┆ 901300428, ┆ 610, …    ┆ 208, …    │\n",
       "│         ┆ 5516005…   ┆ … 26137…   ┆ … 42003…   ┆ … 30602…   ┆ … 31469…   ┆ 14186…    ┆ 60085…    │\n",
       "│ 522600  ┆ [136074027 ┆ [148481523 ┆ [642726064 ┆ [142624188 ┆ [112451613 ┆ [71349044 ┆ [13986479 │\n",
       "│         ┆ ,          ┆ ,          ┆ ,          ┆ ,          ┆ 7,         ┆ 9, 112451 ┆ 2, 142624 │\n",
       "│         ┆ 138235076, ┆ 143259875, ┆ 146958306, ┆ 821661009, ┆ 563577077, ┆ 6137, …   ┆ 188, …    │\n",
       "│         ┆ … 15390…   ┆ … 26137…   ┆ … 14457…   ┆ … 55160…   ┆ … 1391…    ┆ 1500…     ┆ 14262…    │\n",
       "│ 7011100 ┆ [148001285 ┆ [148481523 ┆ [326125181 ┆ [325194329 ┆ []         ┆ [14848152 ┆ null      │\n",
       "│         ┆ ,          ┆ ,          ┆ ,          ┆ ,          ┆            ┆ 3, 143259 ┆           │\n",
       "│         ┆ 266528732, ┆ 143259875, ┆ 845345697, ┆ 844539071, ┆            ┆ 875, …    ┆           │\n",
       "│         ┆ 1480429…   ┆ … 26137…   ┆ … 93027…   ┆ … 92541…   ┆            ┆ 26137…    ┆           │\n",
       "└─────────┴────────────┴────────────┴────────────┴────────────┴────────────┴───────────┴───────────┘"
      ]
     },
     "execution_count": 36,
     "metadata": {},
     "output_type": "execute_result"
    }
   ],
   "source": [
    "recommemd_sample_users_with_ease = (\n",
    "    recommemd_sample_users\n",
    "    .join(\n",
    "        recos,\n",
    "        on='user_id',\n",
    "        how='left'\n",
    "    )\n",
    "    \n",
    ")\n",
    "recommemd_sample_users_with_ease.head(3)"
   ]
  },
  {
   "cell_type": "markdown",
   "id": "03f7ae40",
   "metadata": {},
   "source": [
    "Сравним метрики с прошлыми подходами"
   ]
  },
  {
   "cell_type": "code",
   "execution_count": 37,
   "id": "c9eef814",
   "metadata": {},
   "outputs": [
    {
     "data": {
      "text/html": [
       "<div><style>\n",
       ".dataframe > thead > tr,\n",
       ".dataframe > tbody > tr {\n",
       "  text-align: right;\n",
       "  white-space: pre-wrap;\n",
       "}\n",
       "</style>\n",
       "<small>shape: (1, 2)</small><table border=\"1\" class=\"dataframe\"><thead><tr><th>recall</th><th>precision</th></tr><tr><td>f64</td><td>f64</td></tr></thead><tbody><tr><td>0.035868</td><td>0.0545</td></tr></tbody></table></div>"
      ],
      "text/plain": [
       "shape: (1, 2)\n",
       "┌──────────┬───────────┐\n",
       "│ recall   ┆ precision │\n",
       "│ ---      ┆ ---       │\n",
       "│ f64      ┆ f64       │\n",
       "╞══════════╪═══════════╡\n",
       "│ 0.035868 ┆ 0.0545    │\n",
       "└──────────┴───────────┘"
      ]
     },
     "execution_count": 37,
     "metadata": {},
     "output_type": "execute_result"
    }
   ],
   "source": [
    "calc_pr_metrics(recommemd_sample_users_with_ease, 'ease_recs')"
   ]
  },
  {
   "cell_type": "code",
   "execution_count": 38,
   "id": "e79af51d",
   "metadata": {},
   "outputs": [
    {
     "data": {
      "text/html": [
       "<div><style>\n",
       ".dataframe > thead > tr,\n",
       ".dataframe > tbody > tr {\n",
       "  text-align: right;\n",
       "  white-space: pre-wrap;\n",
       "}\n",
       "</style>\n",
       "<small>shape: (1, 2)</small><table border=\"1\" class=\"dataframe\"><thead><tr><th>recall</th><th>precision</th></tr><tr><td>f64</td><td>f64</td></tr></thead><tbody><tr><td>0.092013</td><td>0.0958</td></tr></tbody></table></div>"
      ],
      "text/plain": [
       "shape: (1, 2)\n",
       "┌──────────┬───────────┐\n",
       "│ recall   ┆ precision │\n",
       "│ ---      ┆ ---       │\n",
       "│ f64      ┆ f64       │\n",
       "╞══════════╪═══════════╡\n",
       "│ 0.092013 ┆ 0.0958    │\n",
       "└──────────┴───────────┘"
      ]
     },
     "execution_count": 38,
     "metadata": {},
     "output_type": "execute_result"
    }
   ],
   "source": [
    "calc_pr_metrics(recommemd_sample_users_with_ease, 'ptp_v2_recs')"
   ]
  },
  {
   "cell_type": "code",
   "execution_count": 39,
   "id": "8f68485d",
   "metadata": {},
   "outputs": [
    {
     "data": {
      "text/html": [
       "<div><style>\n",
       ".dataframe > thead > tr,\n",
       ".dataframe > tbody > tr {\n",
       "  text-align: right;\n",
       "  white-space: pre-wrap;\n",
       "}\n",
       "</style>\n",
       "<small>shape: (1, 2)</small><table border=\"1\" class=\"dataframe\"><thead><tr><th>recall</th><th>precision</th></tr><tr><td>f64</td><td>f64</td></tr></thead><tbody><tr><td>0.000376</td><td>0.0004</td></tr></tbody></table></div>"
      ],
      "text/plain": [
       "shape: (1, 2)\n",
       "┌──────────┬───────────┐\n",
       "│ recall   ┆ precision │\n",
       "│ ---      ┆ ---       │\n",
       "│ f64      ┆ f64       │\n",
       "╞══════════╪═══════════╡\n",
       "│ 0.000376 ┆ 0.0004    │\n",
       "└──────────┴───────────┘"
      ]
     },
     "execution_count": 39,
     "metadata": {},
     "output_type": "execute_result"
    }
   ],
   "source": [
    "calc_pr_metrics(recommemd_sample_users_with_ease, 'rn_recs')"
   ]
  },
  {
   "cell_type": "code",
   "execution_count": 40,
   "id": "1f48ecdf",
   "metadata": {},
   "outputs": [
    {
     "data": {
      "text/html": [
       "<div><style>\n",
       ".dataframe > thead > tr,\n",
       ".dataframe > tbody > tr {\n",
       "  text-align: right;\n",
       "  white-space: pre-wrap;\n",
       "}\n",
       "</style>\n",
       "<small>shape: (1, 1)</small><table border=\"1\" class=\"dataframe\"><thead><tr><th>user_id</th></tr><tr><td>u32</td></tr></thead><tbody><tr><td>1000</td></tr></tbody></table></div>"
      ],
      "text/plain": [
       "shape: (1, 1)\n",
       "┌─────────┐\n",
       "│ user_id │\n",
       "│ ---     │\n",
       "│ u32     │\n",
       "╞═════════╡\n",
       "│ 1000    │\n",
       "└─────────┘"
      ]
     },
     "execution_count": 40,
     "metadata": {},
     "output_type": "execute_result"
    }
   ],
   "source": [
    "recommemd_sample_users_with_ease.select('user_id').unique().count()"
   ]
  },
  {
   "cell_type": "markdown",
   "id": "432222a1",
   "metadata": {},
   "source": [
    "## Model based подходы\n",
    "Можем ли обучить обе матрицы сразу?"
   ]
  },
  {
   "cell_type": "code",
   "execution_count": 41,
   "id": "792ffcf7",
   "metadata": {},
   "outputs": [],
   "source": [
    "import torch\n",
    "from torch import nn, optim\n",
    "import numpy as np\n",
    "import pandas as pd\n",
    "from surprise import Dataset, Reader, SVD, CoClustering\n",
    "from surprise.model_selection import train_test_split\n",
    "from surprise import accuracy\n",
    "from sklearn.preprocessing import LabelEncoder\n"
   ]
  },
  {
   "cell_type": "code",
   "execution_count": 42,
   "id": "d2abfb47",
   "metadata": {},
   "outputs": [
    {
     "data": {
      "text/html": [
       "<div>\n",
       "<style scoped>\n",
       "    .dataframe tbody tr th:only-of-type {\n",
       "        vertical-align: middle;\n",
       "    }\n",
       "\n",
       "    .dataframe tbody tr th {\n",
       "        vertical-align: top;\n",
       "    }\n",
       "\n",
       "    .dataframe thead th {\n",
       "        text-align: right;\n",
       "    }\n",
       "</style>\n",
       "<table border=\"1\" class=\"dataframe\">\n",
       "  <thead>\n",
       "    <tr style=\"text-align: right;\">\n",
       "      <th></th>\n",
       "      <th>user_id</th>\n",
       "      <th>product_id</th>\n",
       "      <th>rating</th>\n",
       "    </tr>\n",
       "  </thead>\n",
       "  <tbody>\n",
       "    <tr>\n",
       "      <th>0</th>\n",
       "      <td>338900</td>\n",
       "      <td>174306600</td>\n",
       "      <td>1</td>\n",
       "    </tr>\n",
       "    <tr>\n",
       "      <th>1</th>\n",
       "      <td>4408100</td>\n",
       "      <td>519493273</td>\n",
       "      <td>1</td>\n",
       "    </tr>\n",
       "    <tr>\n",
       "      <th>2</th>\n",
       "      <td>2338900</td>\n",
       "      <td>365806931</td>\n",
       "      <td>1</td>\n",
       "    </tr>\n",
       "    <tr>\n",
       "      <th>3</th>\n",
       "      <td>2358800</td>\n",
       "      <td>146763552</td>\n",
       "      <td>1</td>\n",
       "    </tr>\n",
       "    <tr>\n",
       "      <th>4</th>\n",
       "      <td>2657500</td>\n",
       "      <td>704873725</td>\n",
       "      <td>1</td>\n",
       "    </tr>\n",
       "    <tr>\n",
       "      <th>...</th>\n",
       "      <td>...</td>\n",
       "      <td>...</td>\n",
       "      <td>...</td>\n",
       "    </tr>\n",
       "    <tr>\n",
       "      <th>189708</th>\n",
       "      <td>8630900</td>\n",
       "      <td>235129952</td>\n",
       "      <td>1</td>\n",
       "    </tr>\n",
       "    <tr>\n",
       "      <th>189709</th>\n",
       "      <td>395800</td>\n",
       "      <td>160572085</td>\n",
       "      <td>1</td>\n",
       "    </tr>\n",
       "    <tr>\n",
       "      <th>189710</th>\n",
       "      <td>7798100</td>\n",
       "      <td>672960189</td>\n",
       "      <td>1</td>\n",
       "    </tr>\n",
       "    <tr>\n",
       "      <th>189711</th>\n",
       "      <td>2739900</td>\n",
       "      <td>326522570</td>\n",
       "      <td>1</td>\n",
       "    </tr>\n",
       "    <tr>\n",
       "      <th>189712</th>\n",
       "      <td>975200</td>\n",
       "      <td>487809905</td>\n",
       "      <td>1</td>\n",
       "    </tr>\n",
       "  </tbody>\n",
       "</table>\n",
       "<p>189713 rows × 3 columns</p>\n",
       "</div>"
      ],
      "text/plain": [
       "        user_id  product_id  rating\n",
       "0        338900   174306600       1\n",
       "1       4408100   519493273       1\n",
       "2       2338900   365806931       1\n",
       "3       2358800   146763552       1\n",
       "4       2657500   704873725       1\n",
       "...         ...         ...     ...\n",
       "189708  8630900   235129952       1\n",
       "189709   395800   160572085       1\n",
       "189710  7798100   672960189       1\n",
       "189711  2739900   326522570       1\n",
       "189712   975200   487809905       1\n",
       "\n",
       "[189713 rows x 3 columns]"
      ]
     },
     "execution_count": 42,
     "metadata": {},
     "output_type": "execute_result"
    }
   ],
   "source": [
    "train_ratings = (\n",
    "    train\n",
    "    .select('user_id', 'product_id', pl.lit(1).alias('rating'))\n",
    "    .to_pandas()\n",
    ")\n",
    "train_ratings"
   ]
  },
  {
   "cell_type": "code",
   "execution_count": 43,
   "id": "fd460347",
   "metadata": {},
   "outputs": [
    {
     "data": {
      "text/html": [
       "<div>\n",
       "<style scoped>\n",
       "    .dataframe tbody tr th:only-of-type {\n",
       "        vertical-align: middle;\n",
       "    }\n",
       "\n",
       "    .dataframe tbody tr th {\n",
       "        vertical-align: top;\n",
       "    }\n",
       "\n",
       "    .dataframe thead th {\n",
       "        text-align: right;\n",
       "    }\n",
       "</style>\n",
       "<table border=\"1\" class=\"dataframe\">\n",
       "  <thead>\n",
       "    <tr style=\"text-align: right;\">\n",
       "      <th></th>\n",
       "      <th>user_id</th>\n",
       "      <th>product_id</th>\n",
       "      <th>rating</th>\n",
       "    </tr>\n",
       "  </thead>\n",
       "  <tbody>\n",
       "    <tr>\n",
       "      <th>0</th>\n",
       "      <td>6075800</td>\n",
       "      <td>1040744188</td>\n",
       "      <td>1</td>\n",
       "    </tr>\n",
       "    <tr>\n",
       "      <th>1</th>\n",
       "      <td>9492700</td>\n",
       "      <td>756423174</td>\n",
       "      <td>1</td>\n",
       "    </tr>\n",
       "    <tr>\n",
       "      <th>2</th>\n",
       "      <td>6497200</td>\n",
       "      <td>139192369</td>\n",
       "      <td>1</td>\n",
       "    </tr>\n",
       "    <tr>\n",
       "      <th>3</th>\n",
       "      <td>2708500</td>\n",
       "      <td>585936906</td>\n",
       "      <td>1</td>\n",
       "    </tr>\n",
       "    <tr>\n",
       "      <th>4</th>\n",
       "      <td>1781500</td>\n",
       "      <td>168666402</td>\n",
       "      <td>1</td>\n",
       "    </tr>\n",
       "    <tr>\n",
       "      <th>...</th>\n",
       "      <td>...</td>\n",
       "      <td>...</td>\n",
       "      <td>...</td>\n",
       "    </tr>\n",
       "    <tr>\n",
       "      <th>82740</th>\n",
       "      <td>1381200</td>\n",
       "      <td>311405410</td>\n",
       "      <td>1</td>\n",
       "    </tr>\n",
       "    <tr>\n",
       "      <th>82741</th>\n",
       "      <td>3013300</td>\n",
       "      <td>1052319329</td>\n",
       "      <td>1</td>\n",
       "    </tr>\n",
       "    <tr>\n",
       "      <th>82742</th>\n",
       "      <td>5245500</td>\n",
       "      <td>145923205</td>\n",
       "      <td>1</td>\n",
       "    </tr>\n",
       "    <tr>\n",
       "      <th>82743</th>\n",
       "      <td>4408100</td>\n",
       "      <td>145923199</td>\n",
       "      <td>1</td>\n",
       "    </tr>\n",
       "    <tr>\n",
       "      <th>82744</th>\n",
       "      <td>5135900</td>\n",
       "      <td>676097300</td>\n",
       "      <td>1</td>\n",
       "    </tr>\n",
       "  </tbody>\n",
       "</table>\n",
       "<p>82745 rows × 3 columns</p>\n",
       "</div>"
      ],
      "text/plain": [
       "       user_id  product_id  rating\n",
       "0      6075800  1040744188       1\n",
       "1      9492700   756423174       1\n",
       "2      6497200   139192369       1\n",
       "3      2708500   585936906       1\n",
       "4      1781500   168666402       1\n",
       "...        ...         ...     ...\n",
       "82740  1381200   311405410       1\n",
       "82741  3013300  1052319329       1\n",
       "82742  5245500   145923205       1\n",
       "82743  4408100   145923199       1\n",
       "82744  5135900   676097300       1\n",
       "\n",
       "[82745 rows x 3 columns]"
      ]
     },
     "execution_count": 43,
     "metadata": {},
     "output_type": "execute_result"
    }
   ],
   "source": [
    "test_ratings = (\n",
    "    test\n",
    "    .select('user_id', 'product_id', pl.lit(1).alias('rating'))\n",
    "    .to_pandas()\n",
    ")\n",
    "test_ratings"
   ]
  },
  {
   "cell_type": "code",
   "execution_count": null,
   "id": "8344f324",
   "metadata": {},
   "outputs": [],
   "source": []
  },
  {
   "cell_type": "code",
   "execution_count": 44,
   "id": "6a9e277b",
   "metadata": {},
   "outputs": [],
   "source": [
    "n_item = train_ratings.product_id.nunique() #16451\n",
    "n_user = train_ratings.user_id.nunique() # 10261\n",
    "\n",
    "embedding_size = 10\n",
    "lr = 0.001\n",
    "reg = 0.01"
   ]
  },
  {
   "cell_type": "code",
   "execution_count": 45,
   "id": "0eed362a",
   "metadata": {},
   "outputs": [],
   "source": [
    "user_label_encoder = LabelEncoder()\n",
    "item_label_encoder = LabelEncoder()\n",
    "\n",
    "train_ratings['user_id'] = user_label_encoder.fit_transform(train_ratings['user_id'])\n",
    "train_ratings['product_id'] = item_label_encoder.fit_transform(train_ratings['product_id'])\n",
    "\n",
    "user_ids = torch.LongTensor(train_ratings['user_id'].values)\n",
    "item_ids = torch.LongTensor(train_ratings['product_id'].values)\n",
    "user_ratings = torch.FloatTensor(train_ratings['rating'].values)"
   ]
  },
  {
   "cell_type": "code",
   "execution_count": null,
   "id": "930f969e",
   "metadata": {},
   "outputs": [],
   "source": []
  },
  {
   "cell_type": "code",
   "execution_count": 46,
   "id": "35435203",
   "metadata": {},
   "outputs": [],
   "source": [
    "class MatrixFactorization(nn.Module):\n",
    "    def __init__(self, n_user, n_item, embedding_size):\n",
    "        super(MatrixFactorization, self).__init__()\n",
    "        self.user_embedding = nn.Embedding(n_user, embedding_size)\n",
    "        self.item_embedding = nn.Embedding(n_item, embedding_size)\n",
    "        self.user_bias_embedding = nn.Embedding(n_user, 1)\n",
    "        self.item_bias_embedding = nn.Embedding(n_item, 1)\n",
    "        self.global_bias = nn.Parameter(torch.zeros(1))\n",
    "\n",
    "    def forward(self, user, item):\n",
    "        u = self.user_embedding(user)\n",
    "        m = self.item_embedding(item)\n",
    "        u_bias = self.user_bias_embedding(user).squeeze()\n",
    "        m_bias = self.item_bias_embedding(item).squeeze()\n",
    "        predicted_rating = torch.sum(u * m, dim=1) + u_bias + m_bias + self.global_bias\n",
    "        return predicted_rating"
   ]
  },
  {
   "cell_type": "code",
   "execution_count": 47,
   "id": "43bab499",
   "metadata": {},
   "outputs": [],
   "source": [
    "model = MatrixFactorization(n_user, n_item, embedding_size)\n",
    "criterion = nn.MSELoss()\n",
    "optimizer = optim.Adam(model.parameters(), lr=lr, weight_decay=reg)"
   ]
  },
  {
   "cell_type": "code",
   "execution_count": 48,
   "id": "1201a4b8",
   "metadata": {},
   "outputs": [
    {
     "name": "stdout",
     "output_type": "stream",
     "text": [
      "RMSE 0.004919832572340965\n",
      "RMSE 0.005068871192634106\n",
      "RMSE 0.005068913102149963\n",
      "RMSE 0.005068980157375336\n",
      "RMSE 0.005069031845778227\n",
      "RMSE 0.005068977363407612\n",
      "RMSE 0.0050689782947301865\n",
      "RMSE 0.005069360136985779\n",
      "RMSE 0.005068677477538586\n",
      "RMSE 0.005068968515843153\n"
     ]
    }
   ],
   "source": [
    "batch_size = 16\n",
    "n_epoch = 10\n",
    "\n",
    "for epoch in range(n_epoch):\n",
    "    for start in range(0, len(user_ratings) - batch_size, batch_size):\n",
    "        end = start + batch_size\n",
    "        user_batch = user_ids[start:end]\n",
    "        item_batch = item_ids[start:end]\n",
    "        rating_batch = user_ratings[start:end]\n",
    "\n",
    "        optimizer.zero_grad()\n",
    "        outputs = model(user_batch, item_batch)\n",
    "        loss = criterion(outputs, rating_batch)\n",
    "        loss.backward()\n",
    "        optimizer.step()\n",
    "\n",
    "    print(\"RMSE\", torch.sqrt(loss).item())\n",
    "\n",
    "# Access the embeddings\n",
    "item_embeddings = model.item_embedding.weight.detach().numpy()"
   ]
  },
  {
   "cell_type": "markdown",
   "id": "cea9abba",
   "metadata": {},
   "source": [
    "Почему видим такие метрики?"
   ]
  },
  {
   "cell_type": "markdown",
   "id": "e64abd2e",
   "metadata": {},
   "source": [
    "## ALS\n",
    "\n",
    "Итак, поставлена задача построения модели со скрытыми переменными (latent factor model) для коллаборативной фильтрации:\n",
    "\n",
    "$$\\sum_{u,i} (r_{ui} - \\langle p_u, q_i \\rangle)^2 \\to \\min_{P,Q}. $$\n",
    "\n",
    "Напомним, что суммирование ведется по всем парам $(u, i),$ для которых известен рейтинг $r_{ui}$ (и только по ним), а $p_u, q_i$ – латентные представления пользователя $u$ и товара $i$ из соответствующих матрицы $P, Q$.\n",
    "\n",
    "Подход ALS (Alternating Least Squares) решает задачу, попеременно фиксируя матрицы $P$ и $Q$, — оказывается, что, зафиксировав одну из матриц, можно выписать аналитическое решение задачи для другой.\n",
    "\n",
    "$$\\nabla_{p_u} \\bigg[ \\sum_{u,i} (r_{ui} - \\langle p_u, q_i \\rangle)^2 \\bigg] = \\sum_{i} 2(r_{ui} - \\langle p_u, q_i \\rangle)q_i = 0$$\n",
    "\n",
    "Воспользовавшись тем, что $a^Tbc = cb^Ta$, получим\n",
    "$$\\sum_{i} r_{ui}q_i - \\sum_i q_i q_i^T p_u = 0.$$\n",
    "Тогда окончательно каждый столбец матрицы $P$ можно найти по формуле\n",
    "$$p_u = \\bigg( \\sum_i q_i q_i^T\\bigg)^{-1}\\sum_ir_{ui}q_i \\;\\; \\forall u,$$\n",
    "аналогично для столбцов матрицы $Q$\n",
    "$$q_i = \\bigg( \\sum_u p_u p_u^T\\bigg)^{-1}\\sum_ur_{ui}p_u \\;\\; \\forall i.$$\n",
    "\n",
    "Таким образом мы можем решать оптимизационную задачу, поочередно фиксируя одну из матриц $P$ или $Q$ и проводя оптимизацию по второй.\n",
    "\n",
    "**Оригинальная статья (для explicit feedback):**\n",
    "\n",
    "Bell, R.M. and Koren, Y., 2007, October. Scalable collaborative filtering with jointly derived neighborhood interpolation weights. In Seventh IEEE international conference on data mining (ICDM 2007) (pp. 43-52). IEEE.\n"
   ]
  },
  {
   "cell_type": "markdown",
   "id": "485c9020",
   "metadata": {},
   "source": [
    "### iALS\n",
    "\n",
    "\n",
    "**Статья для implicit данных:**\n",
    "\n",
    "\n",
    "Implicit feedback ALS:\n",
    "* Hu, Y., Koren, Y. and Volinsky, C., 2008, December. Collaborative filtering for implicit feedback datasets. In 2008 Eighth IEEE international conference on data mining (pp. 263-272). Ieee. http://yifanhu.net/PUB/cf.pdf\n",
    "\n",
    "**Особенности:**\n",
    "\n",
    "1. Нет explicit данных (явных позитивных и отрицательных оценок). <br>\n",
    "2. Много шума в данных.  <br>\n",
    "3. Используются свои функции и метрики для оценки implicit feedback. Если в explicit $r_ui$ - это оценки предпочтений пользователя, то в implicit - это степень уверенности. <br>"
   ]
  },
  {
   "attachments": {
    "image-2.png": {
     "image/png": "[encoded data removed]"
    },
    "image-3.png": {
     "image/png": "[encoded data removed]"
    },
    "image.png": {
     "image/png": "[encoded data removed]"
    }
   },
   "cell_type": "markdown",
   "id": "cdb4e32f",
   "metadata": {},
   "source": [
    "Наша задача оптимизации в том, что мы стремимся минимизировать целевую функцию и найти\n",
    "оптимальные $X$ и $Y$. В частности, мы стремимся минимизировать ошибку наименьших квадратов наблюдаемых оценок\n",
    "(и упорядочить):\n",
    "\n",
    "![image.png](attachment:image.png)  \n",
    "\n",
    "Для implicit feedback:\n",
    "\n",
    "![image-2.png](attachment:image-2.png)  \n",
    "\n",
    "![image-3.png](attachment:image-3.png)\n",
    "\n",
    "\n",
    "Авторы статьи вводят набор переменных, $c_ui$, которые измеряют нашу уверенность в наблюдении за $p_ui$. Чем больше значение наблюдения за пользовательским элементом, тем больше вы уверены в этом значении. Таким образом, у нас есть некоторая минимальная уверенность в $p_ui$ для каждой пары пользовательских элементов, но по мере того, как мы наблюдаем больше положительных предпочтений по паре пользователь-объект, наша уверенность в $p_ui$ = 1 соответственно возрастает. Скорость увеличения регулируется константой $\\alpha$.\n",
    "\n",
    "<img src='https://raw.githubusercontent.com/anamarina/RecSys_course/main/week2/images/als.png' width=700 height=500>\n"
   ]
  },
  {
   "cell_type": "markdown",
   "id": "7c229f45",
   "metadata": {},
   "source": [
    "\n",
    "| Критерий | ALS  |  iALS | \n",
    "|---|---|---|\n",
    "| Тип данных | Этот подход используется, когда у вас есть явные рейтинги или оценки, предоставленные пользователями для различных предметов. Например, пользователи могут оценивать фильмы по шкале от 1 до 5. |  Этот подход используется, когда у вас есть неявные сигналы взаимодействия между пользователями и предметами, такие как клики, просмотры, покупки или временные интервалы между действиями. |  \n",
    "|\n",
    "|Цель | Модель стремится точно предсказать явные рейтинги или оценки, которые пользователи могли бы дать предметам. | Модель стремится моделировать уровень уверенности или важности взаимодействия между пользователем и предметом, но не предсказывает явные рейтинги.|  \n",
    "|\n",
    "|Функции потерь| Обычно использует функцию потерь, такую как среднеквадратичная ошибка (MSE), для минимизации разницы между предсказанными и фактическими оценками. | Использует функцию потерь, которая учитывает уверенность в неявных взаимодействиях и стремится увеличить уверенность для более важных взаимодействий.| \n",
    "|\n",
    "|Взвешивание| Не уделяет внимания взаимодействиям, которые не были явно оценены пользователями. Исключает информацию о неявных действиях. | Дополнительная параметризация. Учитывает все неявные действия, но с учетом их уверенности или веса, что позволяет модели учесть важность различных видов взаимодействий| \n",
    "|"
   ]
  },
  {
   "cell_type": "markdown",
   "id": "8056d7cb",
   "metadata": {},
   "source": [
    "Напишем небольшую обертку вокруг готовой реализации implicit als"
   ]
  },
  {
   "cell_type": "code",
   "execution_count": 50,
   "id": "7842f324",
   "metadata": {},
   "outputs": [],
   "source": [
    "from scipy.sparse import csr_matrix\n",
    "from implicit.als import AlternatingLeastSquares\n",
    "\n",
    "from tqdm.auto import tqdm\n",
    "\n",
    "\n",
    "class ImplicitModel:\n",
    "    def __init__(self, model):\n",
    "        self.model = model\n",
    "        self.trained = False\n",
    "\n",
    "    def fit(self, train_df: pd.DataFrame):\n",
    "        self.item_encoder = LabelEncoder()\n",
    "        self.user_encoder = LabelEncoder()\n",
    "        self.item_encoder.fit(train_df.item_id)\n",
    "        self.user_encoder.fit(train_df.user_id)\n",
    "\n",
    "        self.train_ratings = self.encode_table(train_df, [\"user_id\", \"item_id\"])\n",
    "        self.model.fit(self.train_ratings)\n",
    "        self.trained = True\n",
    "\n",
    "    def predict(self, test_df: pd.DataFrame, top_k: int = 100):\n",
    "        if not self.trained:\n",
    "            raise ValueError(\"Model is not fitted. Please, fit the model first\")\n",
    "        users_to_predict = test_df.user_id\n",
    "        encoded_users = self.user_encoder.transform(users_to_predict)\n",
    "        user_recs = self.model.recommend(\n",
    "            encoded_users, self.train_ratings[encoded_users], N=top_k, filter_already_liked_items=True\n",
    "        )[0]\n",
    "        recs = [self.item_encoder.inverse_transform(x) for x in user_recs]\n",
    "        return recs\n",
    "\n",
    "    def encode_table(\n",
    "        self,\n",
    "        df: pd.DataFrame,\n",
    "        axis_names: List[str],\n",
    "    ) -> np.ndarray:\n",
    "        user_ids = self.user_encoder.transform(df[axis_names[0]])\n",
    "        item_ids = self.item_encoder.transform(df[axis_names[1]])\n",
    "\n",
    "        matrix_shape = len(self.user_encoder.classes_), len(self.item_encoder.classes_)\n",
    "\n",
    "        sparse = csr_matrix((np.ones(len(user_ids)), (user_ids, item_ids)), shape=matrix_shape, dtype=np.float32)\n",
    "\n",
    "        return sparse"
   ]
  },
  {
   "cell_type": "code",
   "execution_count": 54,
   "id": "e0d98899",
   "metadata": {},
   "outputs": [
    {
     "data": {
      "text/html": [
       "<div>\n",
       "<style scoped>\n",
       "    .dataframe tbody tr th:only-of-type {\n",
       "        vertical-align: middle;\n",
       "    }\n",
       "\n",
       "    .dataframe tbody tr th {\n",
       "        vertical-align: top;\n",
       "    }\n",
       "\n",
       "    .dataframe thead th {\n",
       "        text-align: right;\n",
       "    }\n",
       "</style>\n",
       "<table border=\"1\" class=\"dataframe\">\n",
       "  <thead>\n",
       "    <tr style=\"text-align: right;\">\n",
       "      <th></th>\n",
       "      <th>user_id</th>\n",
       "      <th>item_id</th>\n",
       "      <th>rating</th>\n",
       "    </tr>\n",
       "  </thead>\n",
       "  <tbody>\n",
       "    <tr>\n",
       "      <th>0</th>\n",
       "      <td>298</td>\n",
       "      <td>4680</td>\n",
       "      <td>1</td>\n",
       "    </tr>\n",
       "    <tr>\n",
       "      <th>1</th>\n",
       "      <td>4090</td>\n",
       "      <td>8751</td>\n",
       "      <td>1</td>\n",
       "    </tr>\n",
       "    <tr>\n",
       "      <th>2</th>\n",
       "      <td>2145</td>\n",
       "      <td>7669</td>\n",
       "      <td>1</td>\n",
       "    </tr>\n",
       "    <tr>\n",
       "      <th>3</th>\n",
       "      <td>2164</td>\n",
       "      <td>2693</td>\n",
       "      <td>1</td>\n",
       "    </tr>\n",
       "    <tr>\n",
       "      <th>4</th>\n",
       "      <td>2440</td>\n",
       "      <td>10530</td>\n",
       "      <td>1</td>\n",
       "    </tr>\n",
       "    <tr>\n",
       "      <th>...</th>\n",
       "      <td>...</td>\n",
       "      <td>...</td>\n",
       "      <td>...</td>\n",
       "    </tr>\n",
       "    <tr>\n",
       "      <th>189708</th>\n",
       "      <td>8004</td>\n",
       "      <td>5705</td>\n",
       "      <td>1</td>\n",
       "    </tr>\n",
       "    <tr>\n",
       "      <th>189709</th>\n",
       "      <td>361</td>\n",
       "      <td>4006</td>\n",
       "      <td>1</td>\n",
       "    </tr>\n",
       "    <tr>\n",
       "      <th>189710</th>\n",
       "      <td>7231</td>\n",
       "      <td>10244</td>\n",
       "      <td>1</td>\n",
       "    </tr>\n",
       "    <tr>\n",
       "      <th>189711</th>\n",
       "      <td>2520</td>\n",
       "      <td>7272</td>\n",
       "      <td>1</td>\n",
       "    </tr>\n",
       "    <tr>\n",
       "      <th>189712</th>\n",
       "      <td>902</td>\n",
       "      <td>8476</td>\n",
       "      <td>1</td>\n",
       "    </tr>\n",
       "  </tbody>\n",
       "</table>\n",
       "<p>189713 rows × 3 columns</p>\n",
       "</div>"
      ],
      "text/plain": [
       "        user_id  item_id  rating\n",
       "0           298     4680       1\n",
       "1          4090     8751       1\n",
       "2          2145     7669       1\n",
       "3          2164     2693       1\n",
       "4          2440    10530       1\n",
       "...         ...      ...     ...\n",
       "189708     8004     5705       1\n",
       "189709      361     4006       1\n",
       "189710     7231    10244       1\n",
       "189711     2520     7272       1\n",
       "189712      902     8476       1\n",
       "\n",
       "[189713 rows x 3 columns]"
      ]
     },
     "execution_count": 54,
     "metadata": {},
     "output_type": "execute_result"
    }
   ],
   "source": [
    "train_df = train_ratings[['user_id', 'product_id', 'rating']].rename(columns={'product_id': 'item_id'})\n",
    "train_df"
   ]
  },
  {
   "cell_type": "code",
   "execution_count": 55,
   "id": "3a1956ec",
   "metadata": {},
   "outputs": [
    {
     "name": "stderr",
     "output_type": "stream",
     "text": [
      "/Users/osinovskov/miniconda3/lib/python3.8/site-packages/implicit/cpu/als.py:95: RuntimeWarning: OpenBLAS is configured to use 8 threads. It is highly recommended to disable its internal threadpool by setting the environment variable 'OPENBLAS_NUM_THREADS=1' or by calling 'threadpoolctl.threadpool_limits(1, \"blas\")'. Having OpenBLAS use a threadpool can lead to severe performance issues here.\n",
      "  check_blas_config()\n"
     ]
    },
    {
     "data": {
      "application/json": {
       "ascii": false,
       "bar_format": null,
       "colour": null,
       "elapsed": 0.012372970581054688,
       "initial": 0,
       "n": 0,
       "ncols": null,
       "nrows": 24,
       "postfix": null,
       "prefix": "",
       "rate": null,
       "total": 3,
       "unit": "it",
       "unit_divisor": 1000,
       "unit_scale": false
      },
      "application/vnd.jupyter.widget-view+json": {
       "model_id": "0978677d7ebf4a75957571b2375c72c3",
       "version_major": 2,
       "version_minor": 0
      },
      "text/plain": [
       "  0%|          | 0/3 [00:00<?, ?it/s]"
      ]
     },
     "metadata": {},
     "output_type": "display_data"
    }
   ],
   "source": [
    "als = AlternatingLeastSquares(iterations=3, factors=32, regularization=0.01, calculate_training_loss=True)\n",
    "als_recommender = ImplicitModel(als)\n",
    "als_recommender.fit(train_df)"
   ]
  },
  {
   "cell_type": "markdown",
   "id": "c3d65083",
   "metadata": {},
   "source": [
    "В домашнем задании сравним метрики"
   ]
  }
 ],
 "metadata": {
  "kernelspec": {
   "display_name": "Python 3 (ipykernel)",
   "language": "python",
   "name": "python3"
  },
  "language_info": {
   "codemirror_mode": {
    "name": "ipython",
    "version": 3
   },
   "file_extension": ".py",
   "mimetype": "text/x-python",
   "name": "python",
   "nbconvert_exporter": "python",
   "pygments_lexer": "ipython3",
   "version": "3.8.11"
  }
 },
 "nbformat": 4,
 "nbformat_minor": 5
}
