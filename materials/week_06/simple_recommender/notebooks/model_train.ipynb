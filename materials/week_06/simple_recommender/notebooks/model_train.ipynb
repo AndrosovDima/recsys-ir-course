{
 "cells": [
  {
   "metadata": {},
   "cell_type": "markdown",
   "source": "## Ranker",
   "id": "af9ebb233abcd471"
  },
  {
   "cell_type": "code",
   "id": "initial_id",
   "metadata": {
    "collapsed": true,
    "ExecuteTime": {
     "end_time": "2025-03-24T12:04:59.558559Z",
     "start_time": "2025-03-24T12:04:58.982795Z"
    }
   },
   "source": [
    "from implicit.als import AlternatingLeastSquares\n",
    "import polars as pl\n",
    "from datetime import date, timedelta"
   ],
   "outputs": [],
   "execution_count": 1
  },
  {
   "metadata": {
    "ExecuteTime": {
     "end_time": "2025-03-24T12:05:31.683577Z",
     "start_time": "2025-03-24T12:05:30.140964Z"
    }
   },
   "cell_type": "code",
   "source": "user_actions_full = pl.read_parquet('../data/user_actions_full')",
   "id": "646b6879e8c6bfb0",
   "outputs": [],
   "execution_count": 11
  },
  {
   "metadata": {
    "ExecuteTime": {
     "end_time": "2025-03-24T16:40:56.555823Z",
     "start_time": "2025-03-24T16:40:56.524747Z"
    }
   },
   "cell_type": "code",
   "source": "user_actions_full",
   "id": "1b3300fe8a81777d",
   "outputs": [
    {
     "data": {
      "text/plain": [
       "shape: (178_615_795, 4)\n",
       "┌──────────┬────────────┬────────────┬─────────────┐\n",
       "│ user_id  ┆ product_id ┆ date       ┆ action_type │\n",
       "│ ---      ┆ ---        ┆ ---        ┆ ---         │\n",
       "│ i32      ┆ i64        ┆ date       ┆ str         │\n",
       "╞══════════╪════════════╪════════════╪═════════════╡\n",
       "│ 10542465 ┆ 166798937  ┆ 2024-04-03 ┆ to_cart     │\n",
       "│ 8348185  ┆ 146763544  ┆ 2024-07-22 ┆ order       │\n",
       "│ 1423743  ┆ 180730425  ┆ 2024-05-11 ┆ to_cart     │\n",
       "│ 2102996  ┆ 322819992  ┆ 2024-07-29 ┆ click       │\n",
       "│ 2569829  ┆ 25343359   ┆ 2024-06-05 ┆ order       │\n",
       "│ …        ┆ …          ┆ …          ┆ …           │\n",
       "│ 10655608 ┆ 172793428  ┆ 2024-04-09 ┆ click       │\n",
       "│ 8142373  ┆ 316742407  ┆ 2024-05-23 ┆ click       │\n",
       "│ 5884019  ┆ 1215921361 ┆ 2024-07-05 ┆ order       │\n",
       "│ 9193750  ┆ 135462825  ┆ 2024-06-11 ┆ click       │\n",
       "│ 10236635 ┆ 144052224  ┆ 2024-03-06 ┆ click       │\n",
       "└──────────┴────────────┴────────────┴─────────────┘"
      ],
      "text/html": [
       "<div><style>\n",
       ".dataframe > thead > tr,\n",
       ".dataframe > tbody > tr {\n",
       "  text-align: right;\n",
       "  white-space: pre-wrap;\n",
       "}\n",
       "</style>\n",
       "<small>shape: (178_615_795, 4)</small><table border=\"1\" class=\"dataframe\"><thead><tr><th>user_id</th><th>product_id</th><th>date</th><th>action_type</th></tr><tr><td>i32</td><td>i64</td><td>date</td><td>str</td></tr></thead><tbody><tr><td>10542465</td><td>166798937</td><td>2024-04-03</td><td>&quot;to_cart&quot;</td></tr><tr><td>8348185</td><td>146763544</td><td>2024-07-22</td><td>&quot;order&quot;</td></tr><tr><td>1423743</td><td>180730425</td><td>2024-05-11</td><td>&quot;to_cart&quot;</td></tr><tr><td>2102996</td><td>322819992</td><td>2024-07-29</td><td>&quot;click&quot;</td></tr><tr><td>2569829</td><td>25343359</td><td>2024-06-05</td><td>&quot;order&quot;</td></tr><tr><td>&hellip;</td><td>&hellip;</td><td>&hellip;</td><td>&hellip;</td></tr><tr><td>10655608</td><td>172793428</td><td>2024-04-09</td><td>&quot;click&quot;</td></tr><tr><td>8142373</td><td>316742407</td><td>2024-05-23</td><td>&quot;click&quot;</td></tr><tr><td>5884019</td><td>1215921361</td><td>2024-07-05</td><td>&quot;order&quot;</td></tr><tr><td>9193750</td><td>135462825</td><td>2024-06-11</td><td>&quot;click&quot;</td></tr><tr><td>10236635</td><td>144052224</td><td>2024-03-06</td><td>&quot;click&quot;</td></tr></tbody></table></div>"
      ]
     },
     "execution_count": 39,
     "metadata": {},
     "output_type": "execute_result"
    }
   ],
   "execution_count": 39
  },
  {
   "metadata": {
    "ExecuteTime": {
     "end_time": "2025-03-24T11:37:59.823398Z",
     "start_time": "2025-03-24T11:37:59.821464Z"
    }
   },
   "cell_type": "code",
   "source": "TEST_START = date(2024, 7, 1)",
   "id": "80579f4234befe89",
   "outputs": [],
   "execution_count": 4
  },
  {
   "metadata": {
    "ExecuteTime": {
     "end_time": "2025-03-24T10:26:40.092533Z",
     "start_time": "2025-03-24T10:26:35.279034Z"
    }
   },
   "cell_type": "code",
   "source": [
    "train_orders = (\n",
    "    user_actions_full\n",
    "    .filter(pl.col('date') < TEST_START)\n",
    "    .filter(pl.col('date') >= TEST_START - timedelta(days=3 * 30))\n",
    "    .filter(pl.col('action_type') == 'order')\n",
    "    .select('user_id', 'product_id', 'date')\n",
    ")"
   ],
   "id": "9c0c4da933dfbdf2",
   "outputs": [],
   "execution_count": 6
  },
  {
   "metadata": {
    "ExecuteTime": {
     "end_time": "2025-03-24T11:37:56.191304Z",
     "start_time": "2025-03-24T11:37:56.186948Z"
    }
   },
   "cell_type": "code",
   "source": [
    "import os\n",
    "os.environ[\"OPENBLAS_NUM_THREADS\"] = \"1\""
   ],
   "id": "96308c652ab32633",
   "outputs": [],
   "execution_count": 2
  },
  {
   "metadata": {
    "ExecuteTime": {
     "end_time": "2025-03-22T21:05:38.267146Z",
     "start_time": "2025-03-22T21:05:38.264911Z"
    }
   },
   "cell_type": "code",
   "source": "",
   "id": "cbd3076c1dc81e33",
   "outputs": [],
   "execution_count": 12
  },
  {
   "metadata": {
    "ExecuteTime": {
     "end_time": "2025-03-24T10:26:40.707653Z",
     "start_time": "2025-03-24T10:26:40.098956Z"
    }
   },
   "cell_type": "code",
   "source": [
    "from rectools.models import ImplicitALSWrapperModel\n",
    "from rectools.dataset import Dataset"
   ],
   "id": "c9fc6f8af4b9c2d2",
   "outputs": [],
   "execution_count": 8
  },
  {
   "metadata": {
    "ExecuteTime": {
     "end_time": "2025-03-24T10:35:54.058931Z",
     "start_time": "2025-03-24T10:35:51.419771Z"
    }
   },
   "cell_type": "code",
   "source": [
    "train_dataset = Dataset.construct(\n",
    "    interactions_df=(\n",
    "        train_orders\n",
    "        .select('user_id', pl.col('product_id').alias('item_id'), pl.lit(1).alias('weight'), pl.col('date').alias('datetime'))\n",
    "        .to_pandas()\n",
    "    ),\n",
    ")"
   ],
   "id": "1e9949c070612163",
   "outputs": [],
   "execution_count": 15
  },
  {
   "metadata": {
    "ExecuteTime": {
     "end_time": "2025-03-24T10:35:54.065639Z",
     "start_time": "2025-03-24T10:35:54.060168Z"
    }
   },
   "cell_type": "code",
   "source": [
    "model = ImplicitALSWrapperModel(\n",
    "    AlternatingLeastSquares(\n",
    "        factors=64,\n",
    "        regularization=0.01,\n",
    "        alpha=1.0,\n",
    "        random_state=0,\n",
    "        use_gpu=False,\n",
    "        num_threads=32,\n",
    "        iterations=15,\n",
    "    ),\n",
    ")"
   ],
   "id": "8a427f7ca8a4edab",
   "outputs": [],
   "execution_count": 16
  },
  {
   "metadata": {
    "ExecuteTime": {
     "end_time": "2025-03-24T10:40:35.571307Z",
     "start_time": "2025-03-24T10:35:55.122022Z"
    }
   },
   "cell_type": "code",
   "source": [
    "%%time\n",
    "model.fit(train_dataset)"
   ],
   "id": "9c45c90941d10694",
   "outputs": [
    {
     "name": "stdout",
     "output_type": "stream",
     "text": [
      "CPU times: user 21min 20s, sys: 9min 20s, total: 30min 40s\n",
      "Wall time: 4min 40s\n"
     ]
    },
    {
     "data": {
      "text/plain": [
       "<rectools.models.implicit_als.ImplicitALSWrapperModel at 0x47923b370>"
      ]
     },
     "execution_count": 17,
     "metadata": {},
     "output_type": "execute_result"
    }
   ],
   "execution_count": 17
  },
  {
   "metadata": {
    "ExecuteTime": {
     "end_time": "2025-03-24T10:40:35.583960Z",
     "start_time": "2025-03-24T10:40:35.577105Z"
    }
   },
   "cell_type": "code",
   "source": "TEST_START - timedelta(days=3 * 30), TEST_START - timedelta(days=1)",
   "id": "618c5e99b974df0c",
   "outputs": [
    {
     "data": {
      "text/plain": [
       "(datetime.date(2024, 4, 2), datetime.date(2024, 6, 30))"
      ]
     },
     "execution_count": 18,
     "metadata": {},
     "output_type": "execute_result"
    }
   ],
   "execution_count": 18
  },
  {
   "metadata": {
    "ExecuteTime": {
     "end_time": "2025-03-24T10:40:35.857664Z",
     "start_time": "2025-03-24T10:40:35.588795Z"
    }
   },
   "cell_type": "code",
   "source": "model.save('../models/implicit_als_0402_0630.pkl')",
   "id": "f61da793a4590b58",
   "outputs": [
    {
     "data": {
      "text/plain": [
       "248753186"
      ]
     },
     "execution_count": 19,
     "metadata": {},
     "output_type": "execute_result"
    }
   ],
   "execution_count": 19
  },
  {
   "metadata": {},
   "cell_type": "code",
   "outputs": [],
   "execution_count": null,
   "source": "",
   "id": "8dbc953001264fb1"
  },
  {
   "metadata": {
    "ExecuteTime": {
     "end_time": "2025-03-24T10:40:40.164724Z",
     "start_time": "2025-03-24T10:40:40.162489Z"
    }
   },
   "cell_type": "code",
   "source": "from rectools.models import load_model",
   "id": "c627be404598af40",
   "outputs": [],
   "execution_count": 21
  },
  {
   "metadata": {
    "ExecuteTime": {
     "end_time": "2025-03-24T10:40:41.286985Z",
     "start_time": "2025-03-24T10:40:41.144308Z"
    }
   },
   "cell_type": "code",
   "source": "model_load = load_model('../models/implicit_als_0402_0630.pkl')",
   "id": "529bc04d0af2166",
   "outputs": [],
   "execution_count": 22
  },
  {
   "metadata": {
    "ExecuteTime": {
     "end_time": "2025-03-24T10:40:42.631288Z",
     "start_time": "2025-03-24T10:40:42.505044Z"
    }
   },
   "cell_type": "code",
   "source": [
    "recoms = model_load.recommend(\n",
    "    users=[7829309],\n",
    "    dataset=train_dataset,\n",
    "    k=100,\n",
    "    filter_viewed=False,\n",
    ")"
   ],
   "id": "d702cfa0d18993c0",
   "outputs": [],
   "execution_count": 23
  },
  {
   "metadata": {
    "ExecuteTime": {
     "end_time": "2025-03-24T10:26:54.946208Z",
     "start_time": "2025-03-24T10:26:54.938781Z"
    }
   },
   "cell_type": "code",
   "source": "recoms",
   "id": "546d805365add8e0",
   "outputs": [
    {
     "data": {
      "text/plain": [
       "    user_id    item_id     score  rank\n",
       "0   7829309  145923184  1.063576     1\n",
       "1   7829309  148481523  1.055408     2\n",
       "2   7829309  261375234  0.932172     3\n",
       "3   7829309  267896010  0.655970     4\n",
       "4   7829309  267897402  0.636042     5\n",
       "..      ...        ...       ...   ...\n",
       "95  7829309  546521032  0.152953    96\n",
       "96  7829309  267896691  0.152602    97\n",
       "97  7829309  267896015  0.152581    98\n",
       "98  7829309  291634789  0.151809    99\n",
       "99  7829309  143484939  0.149162   100\n",
       "\n",
       "[100 rows x 4 columns]"
      ],
      "text/html": [
       "<div>\n",
       "<style scoped>\n",
       "    .dataframe tbody tr th:only-of-type {\n",
       "        vertical-align: middle;\n",
       "    }\n",
       "\n",
       "    .dataframe tbody tr th {\n",
       "        vertical-align: top;\n",
       "    }\n",
       "\n",
       "    .dataframe thead th {\n",
       "        text-align: right;\n",
       "    }\n",
       "</style>\n",
       "<table border=\"1\" class=\"dataframe\">\n",
       "  <thead>\n",
       "    <tr style=\"text-align: right;\">\n",
       "      <th></th>\n",
       "      <th>user_id</th>\n",
       "      <th>item_id</th>\n",
       "      <th>score</th>\n",
       "      <th>rank</th>\n",
       "    </tr>\n",
       "  </thead>\n",
       "  <tbody>\n",
       "    <tr>\n",
       "      <th>0</th>\n",
       "      <td>7829309</td>\n",
       "      <td>145923184</td>\n",
       "      <td>1.063576</td>\n",
       "      <td>1</td>\n",
       "    </tr>\n",
       "    <tr>\n",
       "      <th>1</th>\n",
       "      <td>7829309</td>\n",
       "      <td>148481523</td>\n",
       "      <td>1.055408</td>\n",
       "      <td>2</td>\n",
       "    </tr>\n",
       "    <tr>\n",
       "      <th>2</th>\n",
       "      <td>7829309</td>\n",
       "      <td>261375234</td>\n",
       "      <td>0.932172</td>\n",
       "      <td>3</td>\n",
       "    </tr>\n",
       "    <tr>\n",
       "      <th>3</th>\n",
       "      <td>7829309</td>\n",
       "      <td>267896010</td>\n",
       "      <td>0.655970</td>\n",
       "      <td>4</td>\n",
       "    </tr>\n",
       "    <tr>\n",
       "      <th>4</th>\n",
       "      <td>7829309</td>\n",
       "      <td>267897402</td>\n",
       "      <td>0.636042</td>\n",
       "      <td>5</td>\n",
       "    </tr>\n",
       "    <tr>\n",
       "      <th>...</th>\n",
       "      <td>...</td>\n",
       "      <td>...</td>\n",
       "      <td>...</td>\n",
       "      <td>...</td>\n",
       "    </tr>\n",
       "    <tr>\n",
       "      <th>95</th>\n",
       "      <td>7829309</td>\n",
       "      <td>546521032</td>\n",
       "      <td>0.152953</td>\n",
       "      <td>96</td>\n",
       "    </tr>\n",
       "    <tr>\n",
       "      <th>96</th>\n",
       "      <td>7829309</td>\n",
       "      <td>267896691</td>\n",
       "      <td>0.152602</td>\n",
       "      <td>97</td>\n",
       "    </tr>\n",
       "    <tr>\n",
       "      <th>97</th>\n",
       "      <td>7829309</td>\n",
       "      <td>267896015</td>\n",
       "      <td>0.152581</td>\n",
       "      <td>98</td>\n",
       "    </tr>\n",
       "    <tr>\n",
       "      <th>98</th>\n",
       "      <td>7829309</td>\n",
       "      <td>291634789</td>\n",
       "      <td>0.151809</td>\n",
       "      <td>99</td>\n",
       "    </tr>\n",
       "    <tr>\n",
       "      <th>99</th>\n",
       "      <td>7829309</td>\n",
       "      <td>143484939</td>\n",
       "      <td>0.149162</td>\n",
       "      <td>100</td>\n",
       "    </tr>\n",
       "  </tbody>\n",
       "</table>\n",
       "<p>100 rows × 4 columns</p>\n",
       "</div>"
      ]
     },
     "execution_count": 14,
     "metadata": {},
     "output_type": "execute_result"
    }
   ],
   "execution_count": 14
  },
  {
   "metadata": {
    "ExecuteTime": {
     "end_time": "2025-03-24T10:08:36.967818Z",
     "start_time": "2025-03-24T10:08:32.302037Z"
    }
   },
   "cell_type": "code",
   "source": [
    "test_orders = (\n",
    "    user_actions_full\n",
    "    .filter(pl.col('date') >= TEST_START)\n",
    "    .filter(pl.col('action_type') == 'order')\n",
    "    .select('user_id', 'product_id')\n",
    ")\n",
    "sample_users = (\n",
    "    test_orders\n",
    "    .group_by('user_id')\n",
    "    .agg(\n",
    "        pl.col(\"product_id\").unique().alias(\"ids\")\n",
    "    )\n",
    "    .sample(n=1000, seed=0)\n",
    ")"
   ],
   "id": "a055a54e1e646f95",
   "outputs": [],
   "execution_count": 27
  },
  {
   "metadata": {
    "ExecuteTime": {
     "end_time": "2025-03-24T10:11:33.427770Z",
     "start_time": "2025-03-24T10:11:33.132386Z"
    }
   },
   "cell_type": "code",
   "source": [
    "model.recommend(\n",
    "    users=sample_df,\n",
    "    dataset=train_dataset,\n",
    "    k=30,\n",
    "    filter_viewed=False,\n",
    "    on_unsupported_targets=\"ignore\"\n",
    ")"
   ],
   "id": "2431914a782001c3",
   "outputs": [
    {
     "data": {
      "text/plain": [
       "       user_id    item_id     score  rank\n",
       "0      9201201  142120588  0.946217     1\n",
       "1      9201201  184276495  0.606800     2\n",
       "2      9201201  145803938  0.369289     3\n",
       "3      9201201  138860233  0.362406     4\n",
       "4      9201201  148234014  0.359161     5\n",
       "...        ...        ...       ...   ...\n",
       "15685  1375307  261375240  0.046411    26\n",
       "15686  1375307  621041182  0.045993    27\n",
       "15687  1375307  686790318  0.045402    28\n",
       "15688  1375307  690589606  0.045336    29\n",
       "15689  1375307  171452688  0.045066    30\n",
       "\n",
       "[15690 rows x 4 columns]"
      ],
      "text/html": [
       "<div>\n",
       "<style scoped>\n",
       "    .dataframe tbody tr th:only-of-type {\n",
       "        vertical-align: middle;\n",
       "    }\n",
       "\n",
       "    .dataframe tbody tr th {\n",
       "        vertical-align: top;\n",
       "    }\n",
       "\n",
       "    .dataframe thead th {\n",
       "        text-align: right;\n",
       "    }\n",
       "</style>\n",
       "<table border=\"1\" class=\"dataframe\">\n",
       "  <thead>\n",
       "    <tr style=\"text-align: right;\">\n",
       "      <th></th>\n",
       "      <th>user_id</th>\n",
       "      <th>item_id</th>\n",
       "      <th>score</th>\n",
       "      <th>rank</th>\n",
       "    </tr>\n",
       "  </thead>\n",
       "  <tbody>\n",
       "    <tr>\n",
       "      <th>0</th>\n",
       "      <td>9201201</td>\n",
       "      <td>142120588</td>\n",
       "      <td>0.946217</td>\n",
       "      <td>1</td>\n",
       "    </tr>\n",
       "    <tr>\n",
       "      <th>1</th>\n",
       "      <td>9201201</td>\n",
       "      <td>184276495</td>\n",
       "      <td>0.606800</td>\n",
       "      <td>2</td>\n",
       "    </tr>\n",
       "    <tr>\n",
       "      <th>2</th>\n",
       "      <td>9201201</td>\n",
       "      <td>145803938</td>\n",
       "      <td>0.369289</td>\n",
       "      <td>3</td>\n",
       "    </tr>\n",
       "    <tr>\n",
       "      <th>3</th>\n",
       "      <td>9201201</td>\n",
       "      <td>138860233</td>\n",
       "      <td>0.362406</td>\n",
       "      <td>4</td>\n",
       "    </tr>\n",
       "    <tr>\n",
       "      <th>4</th>\n",
       "      <td>9201201</td>\n",
       "      <td>148234014</td>\n",
       "      <td>0.359161</td>\n",
       "      <td>5</td>\n",
       "    </tr>\n",
       "    <tr>\n",
       "      <th>...</th>\n",
       "      <td>...</td>\n",
       "      <td>...</td>\n",
       "      <td>...</td>\n",
       "      <td>...</td>\n",
       "    </tr>\n",
       "    <tr>\n",
       "      <th>15685</th>\n",
       "      <td>1375307</td>\n",
       "      <td>261375240</td>\n",
       "      <td>0.046411</td>\n",
       "      <td>26</td>\n",
       "    </tr>\n",
       "    <tr>\n",
       "      <th>15686</th>\n",
       "      <td>1375307</td>\n",
       "      <td>621041182</td>\n",
       "      <td>0.045993</td>\n",
       "      <td>27</td>\n",
       "    </tr>\n",
       "    <tr>\n",
       "      <th>15687</th>\n",
       "      <td>1375307</td>\n",
       "      <td>686790318</td>\n",
       "      <td>0.045402</td>\n",
       "      <td>28</td>\n",
       "    </tr>\n",
       "    <tr>\n",
       "      <th>15688</th>\n",
       "      <td>1375307</td>\n",
       "      <td>690589606</td>\n",
       "      <td>0.045336</td>\n",
       "      <td>29</td>\n",
       "    </tr>\n",
       "    <tr>\n",
       "      <th>15689</th>\n",
       "      <td>1375307</td>\n",
       "      <td>171452688</td>\n",
       "      <td>0.045066</td>\n",
       "      <td>30</td>\n",
       "    </tr>\n",
       "  </tbody>\n",
       "</table>\n",
       "<p>15690 rows × 4 columns</p>\n",
       "</div>"
      ]
     },
     "execution_count": 35,
     "metadata": {},
     "output_type": "execute_result"
    }
   ],
   "execution_count": 35
  },
  {
   "metadata": {},
   "cell_type": "code",
   "outputs": [],
   "execution_count": null,
   "source": "",
   "id": "931a332dca6ca762"
  },
  {
   "metadata": {},
   "cell_type": "markdown",
   "source": "## Ranker",
   "id": "72b45599fdaf87a3"
  },
  {
   "metadata": {
    "ExecuteTime": {
     "end_time": "2025-03-24T16:58:47.579882Z",
     "start_time": "2025-03-24T16:58:47.181305Z"
    }
   },
   "cell_type": "code",
   "source": [
    "ranker_data = pl.read_parquet('../data/user_actions_7_days_ranker')\n",
    "ranker_data.select(pl.max('date').alias('max_date'), pl.min('date').alias('min_date'))"
   ],
   "id": "81ab131a6df34991",
   "outputs": [
    {
     "data": {
      "text/plain": [
       "shape: (1, 2)\n",
       "┌────────────┬────────────┐\n",
       "│ max_date   ┆ min_date   │\n",
       "│ ---        ┆ ---        │\n",
       "│ date       ┆ date       │\n",
       "╞════════════╪════════════╡\n",
       "│ 2024-06-30 ┆ 2024-06-23 │\n",
       "└────────────┴────────────┘"
      ],
      "text/html": [
       "<div><style>\n",
       ".dataframe > thead > tr,\n",
       ".dataframe > tbody > tr {\n",
       "  text-align: right;\n",
       "  white-space: pre-wrap;\n",
       "}\n",
       "</style>\n",
       "<small>shape: (1, 2)</small><table border=\"1\" class=\"dataframe\"><thead><tr><th>max_date</th><th>min_date</th></tr><tr><td>date</td><td>date</td></tr></thead><tbody><tr><td>2024-06-30</td><td>2024-06-23</td></tr></tbody></table></div>"
      ]
     },
     "execution_count": 47,
     "metadata": {},
     "output_type": "execute_result"
    }
   ],
   "execution_count": 47
  },
  {
   "metadata": {
    "ExecuteTime": {
     "end_time": "2025-03-24T16:58:48.349830Z",
     "start_time": "2025-03-24T16:58:48.348026Z"
    }
   },
   "cell_type": "code",
   "source": "TEST_START = date(2024, 6, 23)",
   "id": "3200756af594867c",
   "outputs": [],
   "execution_count": 48
  },
  {
   "metadata": {
    "ExecuteTime": {
     "end_time": "2025-03-24T16:58:48.985248Z",
     "start_time": "2025-03-24T16:58:48.981534Z"
    }
   },
   "cell_type": "code",
   "source": "ranker_data",
   "id": "f0896d9edccb8d7d",
   "outputs": [
    {
     "data": {
      "text/plain": [
       "shape: (33_910_864, 4)\n",
       "┌─────────┬────────────┬────────────┬─────────────┐\n",
       "│ user_id ┆ product_id ┆ date       ┆ action_type │\n",
       "│ ---     ┆ ---        ┆ ---        ┆ ---         │\n",
       "│ i32     ┆ i64        ┆ date       ┆ str         │\n",
       "╞═════════╪════════════╪════════════╪═════════════╡\n",
       "│ 4453096 ┆ 621177276  ┆ 2024-06-27 ┆ view        │\n",
       "│ 2346229 ┆ 390557159  ┆ 2024-06-23 ┆ view        │\n",
       "│ 9589535 ┆ 146396320  ┆ 2024-06-23 ┆ view        │\n",
       "│ 2085760 ┆ 149293540  ┆ 2024-06-30 ┆ view        │\n",
       "│ 1289097 ┆ 851213293  ┆ 2024-06-27 ┆ view        │\n",
       "│ …       ┆ …          ┆ …          ┆ …           │\n",
       "│ 9786236 ┆ 138860210  ┆ 2024-06-28 ┆ order       │\n",
       "│ 6661721 ┆ 147740723  ┆ 2024-06-30 ┆ view        │\n",
       "│ 8865354 ┆ 261366874  ┆ 2024-06-30 ┆ view        │\n",
       "│ 2391586 ┆ 252410311  ┆ 2024-06-26 ┆ view        │\n",
       "│ 9570324 ┆ 142401013  ┆ 2024-06-28 ┆ view        │\n",
       "└─────────┴────────────┴────────────┴─────────────┘"
      ],
      "text/html": [
       "<div><style>\n",
       ".dataframe > thead > tr,\n",
       ".dataframe > tbody > tr {\n",
       "  text-align: right;\n",
       "  white-space: pre-wrap;\n",
       "}\n",
       "</style>\n",
       "<small>shape: (33_910_864, 4)</small><table border=\"1\" class=\"dataframe\"><thead><tr><th>user_id</th><th>product_id</th><th>date</th><th>action_type</th></tr><tr><td>i32</td><td>i64</td><td>date</td><td>str</td></tr></thead><tbody><tr><td>4453096</td><td>621177276</td><td>2024-06-27</td><td>&quot;view&quot;</td></tr><tr><td>2346229</td><td>390557159</td><td>2024-06-23</td><td>&quot;view&quot;</td></tr><tr><td>9589535</td><td>146396320</td><td>2024-06-23</td><td>&quot;view&quot;</td></tr><tr><td>2085760</td><td>149293540</td><td>2024-06-30</td><td>&quot;view&quot;</td></tr><tr><td>1289097</td><td>851213293</td><td>2024-06-27</td><td>&quot;view&quot;</td></tr><tr><td>&hellip;</td><td>&hellip;</td><td>&hellip;</td><td>&hellip;</td></tr><tr><td>9786236</td><td>138860210</td><td>2024-06-28</td><td>&quot;order&quot;</td></tr><tr><td>6661721</td><td>147740723</td><td>2024-06-30</td><td>&quot;view&quot;</td></tr><tr><td>8865354</td><td>261366874</td><td>2024-06-30</td><td>&quot;view&quot;</td></tr><tr><td>2391586</td><td>252410311</td><td>2024-06-26</td><td>&quot;view&quot;</td></tr><tr><td>9570324</td><td>142401013</td><td>2024-06-28</td><td>&quot;view&quot;</td></tr></tbody></table></div>"
      ]
     },
     "execution_count": 49,
     "metadata": {},
     "output_type": "execute_result"
    }
   ],
   "execution_count": 49
  },
  {
   "metadata": {
    "ExecuteTime": {
     "end_time": "2025-03-24T16:58:50.843064Z",
     "start_time": "2025-03-24T16:58:50.252873Z"
    }
   },
   "cell_type": "code",
   "source": "ranker_data.group_by('action_type').agg(pl.count(\"product_id\"))",
   "id": "ca1da26e92b53184",
   "outputs": [
    {
     "data": {
      "text/plain": [
       "shape: (5, 2)\n",
       "┌─────────────┬────────────┐\n",
       "│ action_type ┆ product_id │\n",
       "│ ---         ┆ ---        │\n",
       "│ str         ┆ u32        │\n",
       "╞═════════════╪════════════╡\n",
       "│ click       ┆ 3240738    │\n",
       "│ view        ┆ 24461070   │\n",
       "│ order       ┆ 2103547    │\n",
       "│ favorite    ┆ 193474     │\n",
       "│ to_cart     ┆ 3912035    │\n",
       "└─────────────┴────────────┘"
      ],
      "text/html": [
       "<div><style>\n",
       ".dataframe > thead > tr,\n",
       ".dataframe > tbody > tr {\n",
       "  text-align: right;\n",
       "  white-space: pre-wrap;\n",
       "}\n",
       "</style>\n",
       "<small>shape: (5, 2)</small><table border=\"1\" class=\"dataframe\"><thead><tr><th>action_type</th><th>product_id</th></tr><tr><td>str</td><td>u32</td></tr></thead><tbody><tr><td>&quot;click&quot;</td><td>3240738</td></tr><tr><td>&quot;view&quot;</td><td>24461070</td></tr><tr><td>&quot;order&quot;</td><td>2103547</td></tr><tr><td>&quot;favorite&quot;</td><td>193474</td></tr><tr><td>&quot;to_cart&quot;</td><td>3912035</td></tr></tbody></table></div>"
      ]
     },
     "execution_count": 50,
     "metadata": {},
     "output_type": "execute_result"
    }
   ],
   "execution_count": 50
  },
  {
   "metadata": {
    "ExecuteTime": {
     "end_time": "2025-03-24T16:58:50.848957Z",
     "start_time": "2025-03-24T16:58:50.844450Z"
    }
   },
   "cell_type": "code",
   "source": [
    "map_target = {\n",
    "    'view': 0,\n",
    "    'click': 0.01,\n",
    "    'favorite': 0.1,\n",
    "    'to_cart': 0.3,\n",
    "    'order': 0.59,\n",
    "}\n",
    "map_target_df = pl.DataFrame(data={\n",
    "    'action_type': map_target.keys(),\n",
    "    'target': map_target.values(),\n",
    "}, schema={\"action_type\": pl.String, \"target\": pl.Float32})"
   ],
   "id": "2ccac9193f081757",
   "outputs": [],
   "execution_count": 51
  },
  {
   "metadata": {
    "ExecuteTime": {
     "end_time": "2025-03-24T16:58:51.750862Z",
     "start_time": "2025-03-24T16:58:51.372379Z"
    }
   },
   "cell_type": "code",
   "source": [
    "# create targets\n",
    "ranker_data_target = (\n",
    "    ranker_data\n",
    "    .join(map_target_df, on='action_type')\n",
    "    .select('user_id', 'product_id', 'target')\n",
    ")"
   ],
   "id": "cead3e8a1f11100a",
   "outputs": [],
   "execution_count": 52
  },
  {
   "metadata": {
    "ExecuteTime": {
     "end_time": "2025-03-24T16:58:51.942395Z",
     "start_time": "2025-03-24T16:58:51.939294Z"
    }
   },
   "cell_type": "code",
   "source": "ranker_data_target",
   "id": "afd7c159bdfc4ec6",
   "outputs": [
    {
     "data": {
      "text/plain": [
       "shape: (33_910_864, 3)\n",
       "┌─────────┬────────────┬────────┐\n",
       "│ user_id ┆ product_id ┆ target │\n",
       "│ ---     ┆ ---        ┆ ---    │\n",
       "│ i32     ┆ i64        ┆ f32    │\n",
       "╞═════════╪════════════╪════════╡\n",
       "│ 4453096 ┆ 621177276  ┆ 0.0    │\n",
       "│ 2346229 ┆ 390557159  ┆ 0.0    │\n",
       "│ 9589535 ┆ 146396320  ┆ 0.0    │\n",
       "│ 2085760 ┆ 149293540  ┆ 0.0    │\n",
       "│ 1289097 ┆ 851213293  ┆ 0.0    │\n",
       "│ …       ┆ …          ┆ …      │\n",
       "│ 9786236 ┆ 138860210  ┆ 0.59   │\n",
       "│ 6661721 ┆ 147740723  ┆ 0.0    │\n",
       "│ 8865354 ┆ 261366874  ┆ 0.0    │\n",
       "│ 2391586 ┆ 252410311  ┆ 0.0    │\n",
       "│ 9570324 ┆ 142401013  ┆ 0.0    │\n",
       "└─────────┴────────────┴────────┘"
      ],
      "text/html": [
       "<div><style>\n",
       ".dataframe > thead > tr,\n",
       ".dataframe > tbody > tr {\n",
       "  text-align: right;\n",
       "  white-space: pre-wrap;\n",
       "}\n",
       "</style>\n",
       "<small>shape: (33_910_864, 3)</small><table border=\"1\" class=\"dataframe\"><thead><tr><th>user_id</th><th>product_id</th><th>target</th></tr><tr><td>i32</td><td>i64</td><td>f32</td></tr></thead><tbody><tr><td>4453096</td><td>621177276</td><td>0.0</td></tr><tr><td>2346229</td><td>390557159</td><td>0.0</td></tr><tr><td>9589535</td><td>146396320</td><td>0.0</td></tr><tr><td>2085760</td><td>149293540</td><td>0.0</td></tr><tr><td>1289097</td><td>851213293</td><td>0.0</td></tr><tr><td>&hellip;</td><td>&hellip;</td><td>&hellip;</td></tr><tr><td>9786236</td><td>138860210</td><td>0.59</td></tr><tr><td>6661721</td><td>147740723</td><td>0.0</td></tr><tr><td>8865354</td><td>261366874</td><td>0.0</td></tr><tr><td>2391586</td><td>252410311</td><td>0.0</td></tr><tr><td>9570324</td><td>142401013</td><td>0.0</td></tr></tbody></table></div>"
      ]
     },
     "execution_count": 53,
     "metadata": {},
     "output_type": "execute_result"
    }
   ],
   "execution_count": 53
  },
  {
   "metadata": {
    "ExecuteTime": {
     "end_time": "2025-03-24T16:58:53.125119Z",
     "start_time": "2025-03-24T16:58:52.727448Z"
    }
   },
   "cell_type": "code",
   "source": [
    "pos_users = (\n",
    "    ranker_data_target\n",
    "    .group_by('user_id')\n",
    "    .agg(pl.max('target').alias('max_target'))\n",
    "    .filter(pl.col('max_target') > 0)\n",
    "    .sort(by='user_id')\n",
    "    .sample(100_000, seed=0)\n",
    ")"
   ],
   "id": "7de596b93aeaac15",
   "outputs": [],
   "execution_count": 54
  },
  {
   "metadata": {
    "ExecuteTime": {
     "end_time": "2025-03-24T16:58:54.162035Z",
     "start_time": "2025-03-24T16:58:53.907600Z"
    }
   },
   "cell_type": "code",
   "source": [
    "ranker_data_target_filtered = (\n",
    "    ranker_data_target\n",
    "    .join(pos_users, on='user_id')\n",
    "    .group_by('user_id', 'product_id')\n",
    "    .agg(pl.sum('target').alias('target'))\n",
    ")\n",
    "ranker_data_target_filtered.shape"
   ],
   "id": "3b9d42354cbce965",
   "outputs": [
    {
     "data": {
      "text/plain": [
       "(2706980, 3)"
      ]
     },
     "execution_count": 55,
     "metadata": {},
     "output_type": "execute_result"
    }
   ],
   "execution_count": 55
  },
  {
   "metadata": {
    "ExecuteTime": {
     "end_time": "2025-03-24T16:58:54.820183Z",
     "start_time": "2025-03-24T16:58:54.771335Z"
    }
   },
   "cell_type": "code",
   "source": "ranker_data_target_filtered.sort('user_id')",
   "id": "7aa283c9d30de638",
   "outputs": [
    {
     "data": {
      "text/plain": [
       "shape: (2_706_980, 3)\n",
       "┌──────────┬────────────┬────────┐\n",
       "│ user_id  ┆ product_id ┆ target │\n",
       "│ ---      ┆ ---        ┆ ---    │\n",
       "│ i32      ┆ i64        ┆ f32    │\n",
       "╞══════════╪════════════╪════════╡\n",
       "│ 54       ┆ 147887697  ┆ 0.01   │\n",
       "│ 128      ┆ 1562705601 ┆ 0.0    │\n",
       "│ 128      ┆ 149724906  ┆ 0.89   │\n",
       "│ 128      ┆ 1023814617 ┆ 0.0    │\n",
       "│ 170      ┆ 1528912372 ┆ 0.0    │\n",
       "│ …        ┆ …          ┆ …      │\n",
       "│ 11184165 ┆ 686824985  ┆ 0.0    │\n",
       "│ 11184165 ┆ 138423936  ┆ 0.01   │\n",
       "│ 11184165 ┆ 583497558  ┆ 0.0    │\n",
       "│ 11184165 ┆ 312129116  ┆ 0.89   │\n",
       "│ 11184165 ┆ 135507650  ┆ 0.0    │\n",
       "└──────────┴────────────┴────────┘"
      ],
      "text/html": [
       "<div><style>\n",
       ".dataframe > thead > tr,\n",
       ".dataframe > tbody > tr {\n",
       "  text-align: right;\n",
       "  white-space: pre-wrap;\n",
       "}\n",
       "</style>\n",
       "<small>shape: (2_706_980, 3)</small><table border=\"1\" class=\"dataframe\"><thead><tr><th>user_id</th><th>product_id</th><th>target</th></tr><tr><td>i32</td><td>i64</td><td>f32</td></tr></thead><tbody><tr><td>54</td><td>147887697</td><td>0.01</td></tr><tr><td>128</td><td>1562705601</td><td>0.0</td></tr><tr><td>128</td><td>149724906</td><td>0.89</td></tr><tr><td>128</td><td>1023814617</td><td>0.0</td></tr><tr><td>170</td><td>1528912372</td><td>0.0</td></tr><tr><td>&hellip;</td><td>&hellip;</td><td>&hellip;</td></tr><tr><td>11184165</td><td>686824985</td><td>0.0</td></tr><tr><td>11184165</td><td>138423936</td><td>0.01</td></tr><tr><td>11184165</td><td>583497558</td><td>0.0</td></tr><tr><td>11184165</td><td>312129116</td><td>0.89</td></tr><tr><td>11184165</td><td>135507650</td><td>0.0</td></tr></tbody></table></div>"
      ]
     },
     "execution_count": 56,
     "metadata": {},
     "output_type": "execute_result"
    }
   ],
   "execution_count": 56
  },
  {
   "metadata": {
    "ExecuteTime": {
     "end_time": "2025-03-24T16:58:56.335750Z",
     "start_time": "2025-03-24T16:58:56.331002Z"
    }
   },
   "cell_type": "code",
   "source": "TEST_START",
   "id": "f31609d16c6dd2b3",
   "outputs": [
    {
     "data": {
      "text/plain": [
       "datetime.date(2024, 6, 23)"
      ]
     },
     "execution_count": 57,
     "metadata": {},
     "output_type": "execute_result"
    }
   ],
   "execution_count": 57
  },
  {
   "metadata": {
    "ExecuteTime": {
     "end_time": "2025-03-24T16:59:02.719630Z",
     "start_time": "2025-03-24T16:58:56.820799Z"
    }
   },
   "cell_type": "code",
   "source": [
    "data = (\n",
    "    user_actions_full\n",
    "    .filter(pl.col('date') < TEST_START)\n",
    "    .filter(pl.col('date') >= TEST_START - timedelta(days=3 * 30))\n",
    ")\n",
    "data.shape   "
   ],
   "id": "d8f4a6065e81e583",
   "outputs": [
    {
     "data": {
      "text/plain": [
       "(102174245, 4)"
      ]
     },
     "execution_count": 58,
     "metadata": {},
     "output_type": "execute_result"
    }
   ],
   "execution_count": 58
  },
  {
   "metadata": {
    "ExecuteTime": {
     "end_time": "2025-03-24T16:59:02.794168Z",
     "start_time": "2025-03-24T16:59:02.723016Z"
    }
   },
   "cell_type": "code",
   "source": [
    "product_information_full = pl.read_parquet('../data/product_information_full')\n",
    "product_information_full"
   ],
   "id": "e06cf269f6a99f4f",
   "outputs": [
    {
     "data": {
      "text/plain": [
       "shape: (238_443, 6)\n",
       "┌────────────┬────────────────────┬──────────────┬───────────────────┬─────────────┬───────────────┐\n",
       "│ product_id ┆ name               ┆ brand        ┆ type              ┆ category_id ┆ category_name │\n",
       "│ ---        ┆ ---                ┆ ---          ┆ ---               ┆ ---         ┆ ---           │\n",
       "│ i64        ┆ str                ┆ str          ┆ str               ┆ i32         ┆ str           │\n",
       "╞════════════╪════════════════════╪══════════════╪═══════════════════╪═════════════╪═══════════════╡\n",
       "│ 160839072  ┆ CeraVe Смягчающий  ┆ CeraVe       ┆ Гель для ухода за ┆ 38          ┆ Сыворотки для │\n",
       "│            ┆ крем для сух…      ┆              ┆ кожей             ┆             ┆ лица          │\n",
       "│ 161689127  ┆ Yves Rocher / Ив   ┆ Yves Rocher  ┆ Гель для ухода за ┆ 38          ┆ Сыворотки для │\n",
       "│            ┆ Роше / Увлажн…     ┆ France       ┆ кожей             ┆             ┆ лица          │\n",
       "│ 221508445  ┆ Bioderma Эликсир   ┆ Bioderma     ┆ Эликсир для ухода ┆ 38          ┆ Сыворотки для │\n",
       "│            ┆ для ухода за …     ┆              ┆ за кожей          ┆             ┆ лица          │\n",
       "│ 309017861  ┆ ART&FACT. /        ┆ ART&FACT.    ┆ Сыворотка для     ┆ 38          ┆ Сыворотки для │\n",
       "│            ┆ Сыворотка для      ┆              ┆ лица              ┆             ┆ лица          │\n",
       "│            ┆ лица…              ┆              ┆                   ┆             ┆               │\n",
       "│ 793710195  ┆ Breylee Сыворотка  ┆ Breylee      ┆ Сыворотка для     ┆ 38          ┆ Сыворотки для │\n",
       "│            ┆ для лица Ант…      ┆              ┆ лица              ┆             ┆ лица          │\n",
       "│ …          ┆ …                  ┆ …            ┆ …                 ┆ …           ┆ …             │\n",
       "│ 1154315599 ┆ Сушилка для овощей ┆ Великие реки ┆ Дегидратор        ┆ 284         ┆ Сушилки для   │\n",
       "│            ┆ и фруктов 3…       ┆              ┆                   ┆             ┆ овощей        │\n",
       "│ 1196912369 ┆ GFGRIL             ┆ GFGRIL       ┆ Дегидратор        ┆ 284         ┆ Сушилки для   │\n",
       "│            ┆ Электрическая      ┆              ┆                   ┆             ┆ овощей        │\n",
       "│            ┆ сушилка д…         ┆              ┆                   ┆             ┆               │\n",
       "│ 1255681315 ┆ Дегидратор сушилка ┆ Marta        ┆ Дегидратор        ┆ 284         ┆ Сушилки для   │\n",
       "│            ┆ для овощей …       ┆              ┆                   ┆             ┆ овощей        │\n",
       "│ 483756641  ┆ Дегидратор Kitfort ┆ Kitfort      ┆ Дегидратор        ┆ 284         ┆ Сушилки для   │\n",
       "│            ┆ КТ-1915-1, …       ┆              ┆                   ┆             ┆ овощей        │\n",
       "│ 1120557009 ┆ Дегидратор Kitfort ┆ Kitfort      ┆ Дегидратор        ┆ 284         ┆ Сушилки для   │\n",
       "│            ┆ КТ-1905, че…       ┆              ┆                   ┆             ┆ овощей        │\n",
       "└────────────┴────────────────────┴──────────────┴───────────────────┴─────────────┴───────────────┘"
      ],
      "text/html": [
       "<div><style>\n",
       ".dataframe > thead > tr,\n",
       ".dataframe > tbody > tr {\n",
       "  text-align: right;\n",
       "  white-space: pre-wrap;\n",
       "}\n",
       "</style>\n",
       "<small>shape: (238_443, 6)</small><table border=\"1\" class=\"dataframe\"><thead><tr><th>product_id</th><th>name</th><th>brand</th><th>type</th><th>category_id</th><th>category_name</th></tr><tr><td>i64</td><td>str</td><td>str</td><td>str</td><td>i32</td><td>str</td></tr></thead><tbody><tr><td>160839072</td><td>&quot;CeraVe Смягчающий крем для сух…</td><td>&quot;CeraVe&quot;</td><td>&quot;Гель для ухода за кожей&quot;</td><td>38</td><td>&quot;Сыворотки для лица&quot;</td></tr><tr><td>161689127</td><td>&quot;Yves Rocher / Ив Роше / Увлажн…</td><td>&quot;Yves Rocher France&quot;</td><td>&quot;Гель для ухода за кожей&quot;</td><td>38</td><td>&quot;Сыворотки для лица&quot;</td></tr><tr><td>221508445</td><td>&quot;Bioderma Эликсир для ухода за …</td><td>&quot;Bioderma&quot;</td><td>&quot;Эликсир для ухода за кожей&quot;</td><td>38</td><td>&quot;Сыворотки для лица&quot;</td></tr><tr><td>309017861</td><td>&quot;ART&amp;FACT. / Сыворотка для лица…</td><td>&quot;ART&amp;FACT.&quot;</td><td>&quot;Сыворотка для лица&quot;</td><td>38</td><td>&quot;Сыворотки для лица&quot;</td></tr><tr><td>793710195</td><td>&quot;Breylee Сыворотка для лица Ант…</td><td>&quot;Breylee&quot;</td><td>&quot;Сыворотка для лица&quot;</td><td>38</td><td>&quot;Сыворотки для лица&quot;</td></tr><tr><td>&hellip;</td><td>&hellip;</td><td>&hellip;</td><td>&hellip;</td><td>&hellip;</td><td>&hellip;</td></tr><tr><td>1154315599</td><td>&quot;Сушилка для овощей и фруктов 3…</td><td>&quot;Великие реки&quot;</td><td>&quot;Дегидратор&quot;</td><td>284</td><td>&quot;Сушилки для овощей&quot;</td></tr><tr><td>1196912369</td><td>&quot;GFGRIL Электрическая сушилка д…</td><td>&quot;GFGRIL&quot;</td><td>&quot;Дегидратор&quot;</td><td>284</td><td>&quot;Сушилки для овощей&quot;</td></tr><tr><td>1255681315</td><td>&quot;Дегидратор сушилка для овощей …</td><td>&quot;Marta&quot;</td><td>&quot;Дегидратор&quot;</td><td>284</td><td>&quot;Сушилки для овощей&quot;</td></tr><tr><td>483756641</td><td>&quot;Дегидратор Kitfort КТ-1915-1, …</td><td>&quot;Kitfort&quot;</td><td>&quot;Дегидратор&quot;</td><td>284</td><td>&quot;Сушилки для овощей&quot;</td></tr><tr><td>1120557009</td><td>&quot;Дегидратор Kitfort КТ-1905, че…</td><td>&quot;Kitfort&quot;</td><td>&quot;Дегидратор&quot;</td><td>284</td><td>&quot;Сушилки для овощей&quot;</td></tr></tbody></table></div>"
      ]
     },
     "execution_count": 59,
     "metadata": {},
     "output_type": "execute_result"
    }
   ],
   "execution_count": 59
  },
  {
   "metadata": {
    "ExecuteTime": {
     "end_time": "2025-03-24T16:59:02.796969Z",
     "start_time": "2025-03-24T16:59:02.794923Z"
    }
   },
   "cell_type": "code",
   "source": "feature_dfs = {}",
   "id": "b6664569ff83d2b4",
   "outputs": [],
   "execution_count": 60
  },
  {
   "metadata": {
    "ExecuteTime": {
     "end_time": "2025-03-24T16:59:27.271341Z",
     "start_time": "2025-03-24T16:59:02.798886Z"
    }
   },
   "cell_type": "code",
   "source": [
    "for suf in ['click', 'favorite', 'to_cart', 'order']:\n",
    "    feature_dfs[f'{suf}_ui_features'] = (\n",
    "        data\n",
    "        .filter(pl.col('action_type') == suf)\n",
    "        .group_by('user_id', 'product_id')\n",
    "        .agg(\n",
    "            pl.count('product_id').alias(f'ui_num_{suf}')\n",
    "        )\n",
    "    )\n",
    "    feature_dfs[f'{suf}_i_features'] = (\n",
    "        data\n",
    "        .filter(pl.col('action_type') == suf)\n",
    "        .group_by('product_id')\n",
    "        .agg(\n",
    "            pl.count('user_id').alias(f'i_num_{suf}')\n",
    "        )\n",
    "    )"
   ],
   "id": "baee10368d6c3645",
   "outputs": [],
   "execution_count": 61
  },
  {
   "metadata": {
    "ExecuteTime": {
     "end_time": "2025-03-24T16:59:31.986944Z",
     "start_time": "2025-03-24T16:59:27.275752Z"
    }
   },
   "cell_type": "code",
   "source": [
    "ranker_data_target_filtered_with_features = ranker_data_target_filtered\n",
    "for key, df in feature_dfs.items():\n",
    "    if 'ui' in key:\n",
    "        ranker_data_target_filtered_with_features = (\n",
    "            ranker_data_target_filtered_with_features\n",
    "            .join(df, on=['user_id', 'product_id'], how='left')\n",
    "        )\n",
    "    else:\n",
    "        ranker_data_target_filtered_with_features = (\n",
    "            ranker_data_target_filtered_with_features\n",
    "            .join(df, on=['product_id'], how='left')\n",
    "        )"
   ],
   "id": "fec1733aae8772bf",
   "outputs": [],
   "execution_count": 62
  },
  {
   "metadata": {
    "ExecuteTime": {
     "end_time": "2025-03-24T16:59:32.087988Z",
     "start_time": "2025-03-24T16:59:31.989560Z"
    }
   },
   "cell_type": "code",
   "source": "del feature_dfs",
   "id": "f2cafc60c057e04",
   "outputs": [],
   "execution_count": 63
  },
  {
   "metadata": {
    "ExecuteTime": {
     "end_time": "2025-03-24T16:59:32.267407Z",
     "start_time": "2025-03-24T16:59:32.090761Z"
    }
   },
   "cell_type": "code",
   "source": "del data",
   "id": "b61d1f4726fee2dd",
   "outputs": [],
   "execution_count": 64
  },
  {
   "metadata": {
    "ExecuteTime": {
     "end_time": "2025-03-24T16:59:32.272610Z",
     "start_time": "2025-03-24T16:59:32.268234Z"
    }
   },
   "cell_type": "code",
   "source": "ranker_data_target_filtered_with_features.shape",
   "id": "3b31479bec9d402f",
   "outputs": [
    {
     "data": {
      "text/plain": [
       "(2706980, 11)"
      ]
     },
     "execution_count": 65,
     "metadata": {},
     "output_type": "execute_result"
    }
   ],
   "execution_count": 65
  },
  {
   "metadata": {
    "ExecuteTime": {
     "end_time": "2025-03-24T16:59:32.279843Z",
     "start_time": "2025-03-24T16:59:32.273333Z"
    }
   },
   "cell_type": "code",
   "source": "ranker_data_target_filtered_with_features",
   "id": "c728193d081d4d57",
   "outputs": [
    {
     "data": {
      "text/plain": [
       "shape: (2_706_980, 11)\n",
       "┌──────────┬────────────┬────────┬────────────┬───┬────────────┬───────────┬───────────┬───────────┐\n",
       "│ user_id  ┆ product_id ┆ target ┆ ui_num_cli ┆ … ┆ ui_num_to_ ┆ i_num_to_ ┆ ui_num_or ┆ i_num_ord │\n",
       "│ ---      ┆ ---        ┆ ---    ┆ ck         ┆   ┆ cart       ┆ cart      ┆ der       ┆ er        │\n",
       "│ i32      ┆ i64        ┆ f32    ┆ ---        ┆   ┆ ---        ┆ ---       ┆ ---       ┆ ---       │\n",
       "│          ┆            ┆        ┆ u32        ┆   ┆ u32        ┆ u32       ┆ u32       ┆ u32       │\n",
       "╞══════════╪════════════╪════════╪════════════╪═══╪════════════╪═══════════╪═══════════╪═══════════╡\n",
       "│ 1020859  ┆ 965580704  ┆ 0.0    ┆ null       ┆ … ┆ null       ┆ 1322      ┆ null      ┆ 331       │\n",
       "│ 7223791  ┆ 240480230  ┆ 0.3    ┆ null       ┆ … ┆ null       ┆ 771       ┆ null      ┆ 245       │\n",
       "│ 10875382 ┆ 1525488864 ┆ 0.0    ┆ null       ┆ … ┆ null       ┆ 8537      ┆ null      ┆ 3001      │\n",
       "│ 4719515  ┆ 303734515  ┆ 0.59   ┆ null       ┆ … ┆ 1          ┆ 16441     ┆ 11        ┆ 6307      │\n",
       "│ 3239820  ┆ 1506192518 ┆ 0.0    ┆ null       ┆ … ┆ null       ┆ 2233      ┆ null      ┆ 669       │\n",
       "│ …        ┆ …          ┆ …      ┆ …          ┆ … ┆ …          ┆ …         ┆ …         ┆ …         │\n",
       "│ 7718163  ┆ 142120787  ┆ 0.0    ┆ 1          ┆ … ┆ 1          ┆ 6916      ┆ null      ┆ 2158      │\n",
       "│ 126513   ┆ 296399078  ┆ 0.3    ┆ null       ┆ … ┆ null       ┆ 3860      ┆ null      ┆ 1175      │\n",
       "│ 9209518  ┆ 1074808936 ┆ 0.0    ┆ null       ┆ … ┆ null       ┆ 12504     ┆ null      ┆ 3997      │\n",
       "│ 3856441  ┆ 261375229  ┆ 0.0    ┆ null       ┆ … ┆ null       ┆ 4710      ┆ null      ┆ 1862      │\n",
       "│ 7257249  ┆ 1041074638 ┆ 0.0    ┆ null       ┆ … ┆ null       ┆ 258       ┆ null      ┆ 30        │\n",
       "└──────────┴────────────┴────────┴────────────┴───┴────────────┴───────────┴───────────┴───────────┘"
      ],
      "text/html": [
       "<div><style>\n",
       ".dataframe > thead > tr,\n",
       ".dataframe > tbody > tr {\n",
       "  text-align: right;\n",
       "  white-space: pre-wrap;\n",
       "}\n",
       "</style>\n",
       "<small>shape: (2_706_980, 11)</small><table border=\"1\" class=\"dataframe\"><thead><tr><th>user_id</th><th>product_id</th><th>target</th><th>ui_num_click</th><th>i_num_click</th><th>ui_num_favorite</th><th>i_num_favorite</th><th>ui_num_to_cart</th><th>i_num_to_cart</th><th>ui_num_order</th><th>i_num_order</th></tr><tr><td>i32</td><td>i64</td><td>f32</td><td>u32</td><td>u32</td><td>u32</td><td>u32</td><td>u32</td><td>u32</td><td>u32</td><td>u32</td></tr></thead><tbody><tr><td>1020859</td><td>965580704</td><td>0.0</td><td>null</td><td>10001</td><td>null</td><td>711</td><td>null</td><td>1322</td><td>null</td><td>331</td></tr><tr><td>7223791</td><td>240480230</td><td>0.3</td><td>null</td><td>1387</td><td>null</td><td>68</td><td>null</td><td>771</td><td>null</td><td>245</td></tr><tr><td>10875382</td><td>1525488864</td><td>0.0</td><td>null</td><td>5256</td><td>null</td><td>504</td><td>null</td><td>8537</td><td>null</td><td>3001</td></tr><tr><td>4719515</td><td>303734515</td><td>0.59</td><td>null</td><td>3304</td><td>null</td><td>109</td><td>1</td><td>16441</td><td>11</td><td>6307</td></tr><tr><td>3239820</td><td>1506192518</td><td>0.0</td><td>null</td><td>2731</td><td>null</td><td>355</td><td>null</td><td>2233</td><td>null</td><td>669</td></tr><tr><td>&hellip;</td><td>&hellip;</td><td>&hellip;</td><td>&hellip;</td><td>&hellip;</td><td>&hellip;</td><td>&hellip;</td><td>&hellip;</td><td>&hellip;</td><td>&hellip;</td><td>&hellip;</td></tr><tr><td>7718163</td><td>142120787</td><td>0.0</td><td>1</td><td>8798</td><td>null</td><td>401</td><td>1</td><td>6916</td><td>null</td><td>2158</td></tr><tr><td>126513</td><td>296399078</td><td>0.3</td><td>null</td><td>3690</td><td>null</td><td>122</td><td>null</td><td>3860</td><td>null</td><td>1175</td></tr><tr><td>9209518</td><td>1074808936</td><td>0.0</td><td>null</td><td>3879</td><td>null</td><td>425</td><td>null</td><td>12504</td><td>null</td><td>3997</td></tr><tr><td>3856441</td><td>261375229</td><td>0.0</td><td>null</td><td>905</td><td>null</td><td>50</td><td>null</td><td>4710</td><td>null</td><td>1862</td></tr><tr><td>7257249</td><td>1041074638</td><td>0.0</td><td>null</td><td>2078</td><td>null</td><td>121</td><td>null</td><td>258</td><td>null</td><td>30</td></tr></tbody></table></div>"
      ]
     },
     "execution_count": 66,
     "metadata": {},
     "output_type": "execute_result"
    }
   ],
   "execution_count": 66
  },
  {
   "metadata": {
    "ExecuteTime": {
     "end_time": "2025-03-24T17:00:18.860135Z",
     "start_time": "2025-03-24T17:00:18.824025Z"
    }
   },
   "cell_type": "code",
   "source": [
    "ranker_data_target_filtered_with_features = (\n",
    "    ranker_data_target_filtered_with_features\n",
    "    .join(\n",
    "        product_information_full\n",
    "        .select('product_id', 'brand', 'type', 'category_id'),\n",
    "        on=['product_id'],\n",
    "        # how='left'\n",
    "    )\n",
    "    # .with_columns(\n",
    "    #     pl.col('brand').fill_nan(pl.lit('no_brand')),\n",
    "    #     pl.col('category_id').fill_nan(pl.lit(0)),\n",
    "    #     pl.col('type').fill_nan(pl.lit('no_type')),\n",
    "    # )\n",
    ")"
   ],
   "id": "dad2a554cef1e6f6",
   "outputs": [],
   "execution_count": 68
  },
  {
   "metadata": {
    "ExecuteTime": {
     "end_time": "2025-03-24T17:00:32.295749Z",
     "start_time": "2025-03-24T17:00:32.292656Z"
    }
   },
   "cell_type": "code",
   "source": "ranker_data_target_filtered_with_features.shape",
   "id": "63389b36242b68a5",
   "outputs": [
    {
     "data": {
      "text/plain": [
       "(2703911, 14)"
      ]
     },
     "execution_count": 70,
     "metadata": {},
     "output_type": "execute_result"
    }
   ],
   "execution_count": 70
  },
  {
   "metadata": {
    "ExecuteTime": {
     "end_time": "2025-03-24T17:00:21.197051Z",
     "start_time": "2025-03-24T17:00:21.192015Z"
    }
   },
   "cell_type": "code",
   "source": "ranker_data_target_filtered_with_features",
   "id": "ced3d9257f47677e",
   "outputs": [
    {
     "data": {
      "text/plain": [
       "shape: (2_703_911, 14)\n",
       "┌──────────┬────────────┬────────┬────────────┬───┬────────────┬───────────┬───────────┬───────────┐\n",
       "│ user_id  ┆ product_id ┆ target ┆ ui_num_cli ┆ … ┆ i_num_orde ┆ brand     ┆ type      ┆ category_ │\n",
       "│ ---      ┆ ---        ┆ ---    ┆ ck         ┆   ┆ r          ┆ ---       ┆ ---       ┆ id        │\n",
       "│ i32      ┆ i64        ┆ f32    ┆ ---        ┆   ┆ ---        ┆ str       ┆ str       ┆ ---       │\n",
       "│          ┆            ┆        ┆ u32        ┆   ┆ u32        ┆           ┆           ┆ i32       │\n",
       "╞══════════╪════════════╪════════╪════════════╪═══╪════════════╪═══════════╪═══════════╪═══════════╡\n",
       "│ 1020859  ┆ 965580704  ┆ 0.0    ┆ null       ┆ … ┆ 331        ┆ Crazy     ┆ Комплект  ┆ 345       │\n",
       "│          ┆            ┆        ┆            ┆   ┆            ┆ Getup     ┆ постельно ┆           │\n",
       "│          ┆            ┆        ┆            ┆   ┆            ┆           ┆ го белья  ┆           │\n",
       "│ 7223791  ┆ 240480230  ┆ 0.3    ┆ null       ┆ … ┆ 245        ┆ Fitstart  ┆ Хлебцы    ┆ 296       │\n",
       "│ 10875382 ┆ 1525488864 ┆ 0.0    ┆ null       ┆ … ┆ 3001       ┆ Lay's     ┆ Чипсы     ┆ 236       │\n",
       "│ 4719515  ┆ 303734515  ┆ 0.59   ┆ null       ┆ … ┆ 6307       ┆ ЭкоНива   ┆ Молоко    ┆ 420       │\n",
       "│ 3239820  ┆ 1506192518 ┆ 0.0    ┆ null       ┆ … ┆ 669        ┆ Ozon      ┆ Заморожен ┆ 910       │\n",
       "│          ┆            ┆        ┆            ┆   ┆            ┆ fresh     ┆ ные ягоды ┆           │\n",
       "│ …        ┆ …          ┆ …      ┆ …          ┆ … ┆ …          ┆ …         ┆ …         ┆ …         │\n",
       "│ 7718163  ┆ 142120787  ┆ 0.0    ┆ 1          ┆ … ┆ 2158       ┆ Индилайт  ┆ Птица охл ┆ 623       │\n",
       "│          ┆            ┆        ┆            ┆   ┆            ┆           ┆ ажденная  ┆           │\n",
       "│ 126513   ┆ 296399078  ┆ 0.3    ┆ null       ┆ … ┆ 1175       ┆ Городской ┆ Хлеб      ┆ 858       │\n",
       "│          ┆            ┆        ┆            ┆   ┆            ┆ батон     ┆           ┆           │\n",
       "│ 9209518  ┆ 1074808936 ┆ 0.0    ┆ null       ┆ … ┆ 3997       ┆ Село      ┆ Мороженое ┆ 413       │\n",
       "│          ┆            ┆        ┆            ┆   ┆            ┆ Зеленое   ┆           ┆           │\n",
       "│ 3856441  ┆ 261375229  ┆ 0.0    ┆ null       ┆ … ┆ 1862       ┆ Простоква ┆ Творог    ┆ 354       │\n",
       "│          ┆            ┆        ┆            ┆   ┆            ┆ шино      ┆           ┆           │\n",
       "│ 7257249  ┆ 1041074638 ┆ 0.0    ┆ null       ┆ … ┆ 30         ┆ GRINOTEKA ┆ Комнатные ┆ 614       │\n",
       "│          ┆            ┆        ┆            ┆   ┆            ┆           ┆ растения  ┆           │\n",
       "└──────────┴────────────┴────────┴────────────┴───┴────────────┴───────────┴───────────┴───────────┘"
      ],
      "text/html": [
       "<div><style>\n",
       ".dataframe > thead > tr,\n",
       ".dataframe > tbody > tr {\n",
       "  text-align: right;\n",
       "  white-space: pre-wrap;\n",
       "}\n",
       "</style>\n",
       "<small>shape: (2_703_911, 14)</small><table border=\"1\" class=\"dataframe\"><thead><tr><th>user_id</th><th>product_id</th><th>target</th><th>ui_num_click</th><th>i_num_click</th><th>ui_num_favorite</th><th>i_num_favorite</th><th>ui_num_to_cart</th><th>i_num_to_cart</th><th>ui_num_order</th><th>i_num_order</th><th>brand</th><th>type</th><th>category_id</th></tr><tr><td>i32</td><td>i64</td><td>f32</td><td>u32</td><td>u32</td><td>u32</td><td>u32</td><td>u32</td><td>u32</td><td>u32</td><td>u32</td><td>str</td><td>str</td><td>i32</td></tr></thead><tbody><tr><td>1020859</td><td>965580704</td><td>0.0</td><td>null</td><td>10001</td><td>null</td><td>711</td><td>null</td><td>1322</td><td>null</td><td>331</td><td>&quot;Crazy Getup&quot;</td><td>&quot;Комплект постельного белья&quot;</td><td>345</td></tr><tr><td>7223791</td><td>240480230</td><td>0.3</td><td>null</td><td>1387</td><td>null</td><td>68</td><td>null</td><td>771</td><td>null</td><td>245</td><td>&quot;Fitstart&quot;</td><td>&quot;Хлебцы&quot;</td><td>296</td></tr><tr><td>10875382</td><td>1525488864</td><td>0.0</td><td>null</td><td>5256</td><td>null</td><td>504</td><td>null</td><td>8537</td><td>null</td><td>3001</td><td>&quot;Lay&#x27;s&quot;</td><td>&quot;Чипсы&quot;</td><td>236</td></tr><tr><td>4719515</td><td>303734515</td><td>0.59</td><td>null</td><td>3304</td><td>null</td><td>109</td><td>1</td><td>16441</td><td>11</td><td>6307</td><td>&quot;ЭкоНива&quot;</td><td>&quot;Молоко&quot;</td><td>420</td></tr><tr><td>3239820</td><td>1506192518</td><td>0.0</td><td>null</td><td>2731</td><td>null</td><td>355</td><td>null</td><td>2233</td><td>null</td><td>669</td><td>&quot;Ozon fresh&quot;</td><td>&quot;Замороженные ягоды&quot;</td><td>910</td></tr><tr><td>&hellip;</td><td>&hellip;</td><td>&hellip;</td><td>&hellip;</td><td>&hellip;</td><td>&hellip;</td><td>&hellip;</td><td>&hellip;</td><td>&hellip;</td><td>&hellip;</td><td>&hellip;</td><td>&hellip;</td><td>&hellip;</td><td>&hellip;</td></tr><tr><td>7718163</td><td>142120787</td><td>0.0</td><td>1</td><td>8798</td><td>null</td><td>401</td><td>1</td><td>6916</td><td>null</td><td>2158</td><td>&quot;Индилайт&quot;</td><td>&quot;Птица охлажденная&quot;</td><td>623</td></tr><tr><td>126513</td><td>296399078</td><td>0.3</td><td>null</td><td>3690</td><td>null</td><td>122</td><td>null</td><td>3860</td><td>null</td><td>1175</td><td>&quot;Городской батон&quot;</td><td>&quot;Хлеб&quot;</td><td>858</td></tr><tr><td>9209518</td><td>1074808936</td><td>0.0</td><td>null</td><td>3879</td><td>null</td><td>425</td><td>null</td><td>12504</td><td>null</td><td>3997</td><td>&quot;Село Зеленое&quot;</td><td>&quot;Мороженое&quot;</td><td>413</td></tr><tr><td>3856441</td><td>261375229</td><td>0.0</td><td>null</td><td>905</td><td>null</td><td>50</td><td>null</td><td>4710</td><td>null</td><td>1862</td><td>&quot;Простоквашино&quot;</td><td>&quot;Творог&quot;</td><td>354</td></tr><tr><td>7257249</td><td>1041074638</td><td>0.0</td><td>null</td><td>2078</td><td>null</td><td>121</td><td>null</td><td>258</td><td>null</td><td>30</td><td>&quot;GRINOTEKA&quot;</td><td>&quot;Комнатные растения&quot;</td><td>614</td></tr></tbody></table></div>"
      ]
     },
     "execution_count": 69,
     "metadata": {},
     "output_type": "execute_result"
    }
   ],
   "execution_count": 69
  },
  {
   "metadata": {
    "ExecuteTime": {
     "end_time": "2025-03-24T17:00:56.433889Z",
     "start_time": "2025-03-24T17:00:56.431143Z"
    }
   },
   "cell_type": "code",
   "source": "import catboost",
   "id": "f75af3a7ba513e2b",
   "outputs": [],
   "execution_count": 71
  },
  {
   "metadata": {
    "ExecuteTime": {
     "end_time": "2025-03-24T17:01:13.774556Z",
     "start_time": "2025-03-24T17:01:13.434917Z"
    }
   },
   "cell_type": "code",
   "source": [
    "df = ranker_data_target_filtered_with_features.sort(by='user_id').to_pandas()\n",
    "mask = df.user_id % 10 <= 7"
   ],
   "id": "68fa0d9c35a6fea8",
   "outputs": [],
   "execution_count": 72
  },
  {
   "metadata": {
    "ExecuteTime": {
     "end_time": "2025-03-24T17:01:18.424228Z",
     "start_time": "2025-03-24T17:01:18.421035Z"
    }
   },
   "cell_type": "code",
   "source": "df.columns",
   "id": "e9b76343d461a103",
   "outputs": [
    {
     "data": {
      "text/plain": [
       "Index(['user_id', 'product_id', 'target', 'ui_num_click', 'i_num_click',\n",
       "       'ui_num_favorite', 'i_num_favorite', 'ui_num_to_cart', 'i_num_to_cart',\n",
       "       'ui_num_order', 'i_num_order', 'brand', 'type', 'category_id'],\n",
       "      dtype='object')"
      ]
     },
     "execution_count": 73,
     "metadata": {},
     "output_type": "execute_result"
    }
   ],
   "execution_count": 73
  },
  {
   "metadata": {
    "ExecuteTime": {
     "end_time": "2025-03-24T17:01:22.882698Z",
     "start_time": "2025-03-24T17:01:22.880799Z"
    }
   },
   "cell_type": "code",
   "source": [
    "cols = [\n",
    "    'ui_num_click', 'i_num_click',\n",
    "    'ui_num_favorite', 'i_num_favorite', 'ui_num_to_cart', 'i_num_to_cart',\n",
    "    'ui_num_order', 'i_num_order',\n",
    "]"
   ],
   "id": "ba8898c3af343ea",
   "outputs": [],
   "execution_count": 74
  },
  {
   "metadata": {
    "ExecuteTime": {
     "end_time": "2025-03-24T17:01:30.321852Z",
     "start_time": "2025-03-24T17:01:29.533867Z"
    }
   },
   "cell_type": "code",
   "source": [
    "train_pool = catboost.Pool(\n",
    "    df.loc[mask, cols],\n",
    "    label=df.loc[mask].target,\n",
    "    group_id=df.loc[mask].user_id,\n",
    "    # cat_features=['brand', 'type', 'category_id'],\n",
    ")\n",
    "eval_pool = catboost.Pool(\n",
    "    df.loc[~mask, cols],\n",
    "    label=df.loc[~mask].target,\n",
    "    group_id=df.loc[~mask].user_id,\n",
    "    # cat_features=['brand', 'type', 'category_id'],\n",
    ")"
   ],
   "id": "ebaba93355d5ccbb",
   "outputs": [],
   "execution_count": 75
  },
  {
   "metadata": {
    "ExecuteTime": {
     "end_time": "2025-03-24T17:01:50.704749Z",
     "start_time": "2025-03-24T17:01:50.702027Z"
    }
   },
   "cell_type": "code",
   "source": [
    "params = {\n",
    "    'iterations': 200,\n",
    "    'thread_count': -1,\n",
    "    'depth': 6, \n",
    "    'learning_rate': 0.1, \n",
    "    'random_state': 1,\n",
    "    'loss_function': 'YetiRankPairwise',\n",
    "    'eval_metric': 'NDCG',\n",
    "#     'eval_metric': 'AUC',\n",
    "#     'loss_function': 'Logloss',\n",
    "    'task_type': 'CPU',\n",
    "}"
   ],
   "id": "3cbe2c3307c1439d",
   "outputs": [],
   "execution_count": 76
  },
  {
   "metadata": {
    "ExecuteTime": {
     "end_time": "2025-03-24T12:12:26.788746Z",
     "start_time": "2025-03-24T12:08:04.420754Z"
    }
   },
   "cell_type": "code",
   "source": [
    "model = catboost.CatBoost(params)\n",
    "model.fit(\n",
    "    train_pool, \n",
    "    eval_set=eval_pool,\n",
    "    use_best_model=True,\n",
    "    verbose=10,\n",
    "    early_stopping_rounds=50,\n",
    ")"
   ],
   "id": "ac052a7ad062aa0f",
   "outputs": [
    {
     "name": "stdout",
     "output_type": "stream",
     "text": [
      "0:\ttest: 0.6282144\tbest: 0.6282144 (0)\ttotal: 1.34s\tremaining: 4m 26s\n",
      "10:\ttest: 0.6691653\tbest: 0.6691653 (10)\ttotal: 14.9s\tremaining: 4m 15s\n",
      "20:\ttest: 0.6777329\tbest: 0.6777329 (20)\ttotal: 28s\tremaining: 3m 58s\n",
      "30:\ttest: 0.6883204\tbest: 0.6883204 (30)\ttotal: 40.8s\tremaining: 3m 42s\n",
      "40:\ttest: 0.6919649\tbest: 0.6919649 (40)\ttotal: 54.5s\tremaining: 3m 31s\n",
      "50:\ttest: 0.6931478\tbest: 0.6931614 (49)\ttotal: 1m 7s\tremaining: 3m 16s\n",
      "60:\ttest: 0.6996091\tbest: 0.6996091 (60)\ttotal: 1m 20s\tremaining: 3m 2s\n",
      "70:\ttest: 0.7000428\tbest: 0.7000428 (70)\ttotal: 1m 33s\tremaining: 2m 49s\n",
      "80:\ttest: 0.7006474\tbest: 0.7007887 (78)\ttotal: 1m 46s\tremaining: 2m 36s\n",
      "90:\ttest: 0.7033825\tbest: 0.7034330 (87)\ttotal: 1m 59s\tremaining: 2m 23s\n",
      "100:\ttest: 0.7041027\tbest: 0.7041027 (100)\ttotal: 2m 12s\tremaining: 2m 10s\n",
      "110:\ttest: 0.7052497\tbest: 0.7052497 (110)\ttotal: 2m 25s\tremaining: 1m 56s\n",
      "120:\ttest: 0.7058822\tbest: 0.7061790 (117)\ttotal: 2m 37s\tremaining: 1m 43s\n",
      "130:\ttest: 0.7062165\tbest: 0.7063451 (127)\ttotal: 2m 50s\tremaining: 1m 29s\n",
      "140:\ttest: 0.7062996\tbest: 0.7063700 (134)\ttotal: 3m 3s\tremaining: 1m 16s\n",
      "150:\ttest: 0.7066945\tbest: 0.7066945 (150)\ttotal: 3m 16s\tremaining: 1m 3s\n",
      "160:\ttest: 0.7075003\tbest: 0.7075801 (159)\ttotal: 3m 30s\tremaining: 50.9s\n",
      "170:\ttest: 0.7078593\tbest: 0.7078593 (170)\ttotal: 3m 43s\tremaining: 37.9s\n",
      "180:\ttest: 0.7081916\tbest: 0.7081916 (180)\ttotal: 3m 57s\tremaining: 24.9s\n",
      "190:\ttest: 0.7083201\tbest: 0.7083201 (190)\ttotal: 4m 10s\tremaining: 11.8s\n",
      "199:\ttest: 0.7084494\tbest: 0.7086077 (194)\ttotal: 4m 22s\tremaining: 0us\n",
      "\n",
      "bestTest = 0.7086077378\n",
      "bestIteration = 194\n",
      "\n",
      "Shrink model to first 195 iterations.\n"
     ]
    },
    {
     "data": {
      "text/plain": [
       "<catboost.core.CatBoost at 0x35c870f70>"
      ]
     },
     "execution_count": 32,
     "metadata": {},
     "output_type": "execute_result"
    }
   ],
   "execution_count": 32
  },
  {
   "metadata": {
    "ExecuteTime": {
     "end_time": "2025-03-24T12:12:26.794287Z",
     "start_time": "2025-03-24T12:12:26.790468Z"
    }
   },
   "cell_type": "code",
   "source": [
    "name = 'ranker_v1'\n",
    "model.save_model(f\"../models/{name}.bin\")"
   ],
   "id": "82f217a881527387",
   "outputs": [],
   "execution_count": 33
  },
  {
   "metadata": {
    "ExecuteTime": {
     "end_time": "2025-03-24T12:12:27.796591Z",
     "start_time": "2025-03-24T12:12:26.795063Z"
    }
   },
   "cell_type": "code",
   "source": [
    "fi = model.get_feature_importance(eval_pool, prettified=True)\n",
    "fi.head(50)"
   ],
   "id": "60f3691a73deb75d",
   "outputs": [
    {
     "data": {
      "text/plain": [
       "        Feature Id  Importances\n",
       "0   ui_num_to_cart     0.016169\n",
       "1     ui_num_order     0.004055\n",
       "2     ui_num_click     0.003388\n",
       "3   i_num_favorite     0.002410\n",
       "4      i_num_click     0.001336\n",
       "5  ui_num_favorite     0.000278\n",
       "6    i_num_to_cart     0.000054\n",
       "7      i_num_order    -0.003105"
      ],
      "text/html": [
       "<div>\n",
       "<style scoped>\n",
       "    .dataframe tbody tr th:only-of-type {\n",
       "        vertical-align: middle;\n",
       "    }\n",
       "\n",
       "    .dataframe tbody tr th {\n",
       "        vertical-align: top;\n",
       "    }\n",
       "\n",
       "    .dataframe thead th {\n",
       "        text-align: right;\n",
       "    }\n",
       "</style>\n",
       "<table border=\"1\" class=\"dataframe\">\n",
       "  <thead>\n",
       "    <tr style=\"text-align: right;\">\n",
       "      <th></th>\n",
       "      <th>Feature Id</th>\n",
       "      <th>Importances</th>\n",
       "    </tr>\n",
       "  </thead>\n",
       "  <tbody>\n",
       "    <tr>\n",
       "      <th>0</th>\n",
       "      <td>ui_num_to_cart</td>\n",
       "      <td>0.016169</td>\n",
       "    </tr>\n",
       "    <tr>\n",
       "      <th>1</th>\n",
       "      <td>ui_num_order</td>\n",
       "      <td>0.004055</td>\n",
       "    </tr>\n",
       "    <tr>\n",
       "      <th>2</th>\n",
       "      <td>ui_num_click</td>\n",
       "      <td>0.003388</td>\n",
       "    </tr>\n",
       "    <tr>\n",
       "      <th>3</th>\n",
       "      <td>i_num_favorite</td>\n",
       "      <td>0.002410</td>\n",
       "    </tr>\n",
       "    <tr>\n",
       "      <th>4</th>\n",
       "      <td>i_num_click</td>\n",
       "      <td>0.001336</td>\n",
       "    </tr>\n",
       "    <tr>\n",
       "      <th>5</th>\n",
       "      <td>ui_num_favorite</td>\n",
       "      <td>0.000278</td>\n",
       "    </tr>\n",
       "    <tr>\n",
       "      <th>6</th>\n",
       "      <td>i_num_to_cart</td>\n",
       "      <td>0.000054</td>\n",
       "    </tr>\n",
       "    <tr>\n",
       "      <th>7</th>\n",
       "      <td>i_num_order</td>\n",
       "      <td>-0.003105</td>\n",
       "    </tr>\n",
       "  </tbody>\n",
       "</table>\n",
       "</div>"
      ]
     },
     "execution_count": 34,
     "metadata": {},
     "output_type": "execute_result"
    }
   ],
   "execution_count": 34
  },
  {
   "metadata": {
    "ExecuteTime": {
     "end_time": "2025-03-24T17:11:08.898107Z",
     "start_time": "2025-03-24T17:11:08.894931Z"
    }
   },
   "cell_type": "code",
   "source": "model",
   "id": "f4a6387338c6ef6e",
   "outputs": [
    {
     "data": {
      "text/plain": [
       "<catboost.core.CatBoost at 0x35c870f70>"
      ]
     },
     "execution_count": 77,
     "metadata": {},
     "output_type": "execute_result"
    }
   ],
   "execution_count": 77
  },
  {
   "metadata": {
    "ExecuteTime": {
     "end_time": "2025-03-24T17:11:29.492993Z",
     "start_time": "2025-03-24T17:11:29.464749Z"
    }
   },
   "cell_type": "code",
   "source": [
    "model_load = catboost.CatBoost()\n",
    "model_load.load_model(f\"../models/{name}.bin\")"
   ],
   "id": "5283f53e5278840b",
   "outputs": [
    {
     "data": {
      "text/plain": [
       "<catboost.core.CatBoost at 0x547b239d0>"
      ]
     },
     "execution_count": 78,
     "metadata": {},
     "output_type": "execute_result"
    }
   ],
   "execution_count": 78
  },
  {
   "metadata": {},
   "cell_type": "code",
   "outputs": [],
   "execution_count": null,
   "source": "",
   "id": "aab3f1cc0c838aa3"
  },
  {
   "metadata": {
    "ExecuteTime": {
     "end_time": "2025-03-24T17:19:04.783617Z",
     "start_time": "2025-03-24T17:19:04.780836Z"
    }
   },
   "cell_type": "code",
   "source": [
    "user_id = 0\n",
    "cand = [1, 2, 3, 4]\n",
    "user_id_col = [user_id] * len(cand)"
   ],
   "id": "31a6a46bea2241e2",
   "outputs": [],
   "execution_count": 80
  },
  {
   "metadata": {
    "ExecuteTime": {
     "end_time": "2025-03-24T17:31:18.498304Z",
     "start_time": "2025-03-24T17:31:18.455263Z"
    }
   },
   "cell_type": "code",
   "source": "pl.DataFrame(data={\"user_id\": user_id_col, \"product_id\": cand}, schema={\"user_id\": pl.Int32, \"product_id\": pl.Int32})",
   "id": "6c04aee1a2dcce62",
   "outputs": [
    {
     "data": {
      "text/plain": [
       "shape: (4, 2)\n",
       "┌─────────┬────────────┐\n",
       "│ user_id ┆ product_id │\n",
       "│ ---     ┆ ---        │\n",
       "│ i32     ┆ i32        │\n",
       "╞═════════╪════════════╡\n",
       "│ 0       ┆ 1          │\n",
       "│ 0       ┆ 2          │\n",
       "│ 0       ┆ 3          │\n",
       "│ 0       ┆ 4          │\n",
       "└─────────┴────────────┘"
      ],
      "text/html": [
       "<div><style>\n",
       ".dataframe > thead > tr,\n",
       ".dataframe > tbody > tr {\n",
       "  text-align: right;\n",
       "  white-space: pre-wrap;\n",
       "}\n",
       "</style>\n",
       "<small>shape: (4, 2)</small><table border=\"1\" class=\"dataframe\"><thead><tr><th>user_id</th><th>product_id</th></tr><tr><td>i32</td><td>i32</td></tr></thead><tbody><tr><td>0</td><td>1</td></tr><tr><td>0</td><td>2</td></tr><tr><td>0</td><td>3</td></tr><tr><td>0</td><td>4</td></tr></tbody></table></div>"
      ]
     },
     "execution_count": 84,
     "metadata": {},
     "output_type": "execute_result"
    }
   ],
   "execution_count": 84
  },
  {
   "metadata": {
    "ExecuteTime": {
     "end_time": "2025-03-24T17:26:27.851245Z",
     "start_time": "2025-03-24T17:26:27.847665Z"
    }
   },
   "cell_type": "code",
   "source": "pl.DataFrame(data={\"user_id\": user_id_col, \"product_id\": cand}, schema={\"user_id\": pl.Int32, \"product_id\": pl.Int32})['user_id'][0]",
   "id": "19d5228f54709f71",
   "outputs": [
    {
     "data": {
      "text/plain": [
       "0"
      ]
     },
     "execution_count": 83,
     "metadata": {},
     "output_type": "execute_result"
    }
   ],
   "execution_count": 83
  },
  {
   "metadata": {},
   "cell_type": "code",
   "outputs": [],
   "execution_count": null,
   "source": "model.predict()",
   "id": "75277d605e7ecdaa"
  },
  {
   "metadata": {},
   "cell_type": "code",
   "outputs": [],
   "execution_count": null,
   "source": "",
   "id": "ef3ca075dc2aceb5"
  }
 ],
 "metadata": {
  "kernelspec": {
   "display_name": "Python 3",
   "language": "python",
   "name": "python3"
  },
  "language_info": {
   "codemirror_mode": {
    "name": "ipython",
    "version": 2
   },
   "file_extension": ".py",
   "mimetype": "text/x-python",
   "name": "python",
   "nbconvert_exporter": "python",
   "pygments_lexer": "ipython2",
   "version": "2.7.6"
  }
 },
 "nbformat": 4,
 "nbformat_minor": 5
}
