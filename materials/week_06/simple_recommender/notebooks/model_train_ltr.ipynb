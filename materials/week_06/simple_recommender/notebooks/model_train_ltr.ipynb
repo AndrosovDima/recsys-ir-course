{
 "cells": [
  {
   "metadata": {},
   "cell_type": "code",
   "outputs": [],
   "execution_count": null,
   "source": [
    "import polars as pl\n",
    "from datetime import date, timedelta"
   ],
   "id": "8a3f74fba789fee0"
  },
  {
   "metadata": {},
   "cell_type": "markdown",
   "source": "## Ranker",
   "id": "72b45599fdaf87a3"
  },
  {
   "metadata": {},
   "cell_type": "code",
   "outputs": [],
   "execution_count": null,
   "source": "user_actions_full = pl.read_parquet('../data/user_actions_full')",
   "id": "f842f38b95c5c015"
  },
  {
   "metadata": {
    "ExecuteTime": {
     "end_time": "2025-03-24T16:58:47.579882Z",
     "start_time": "2025-03-24T16:58:47.181305Z"
    }
   },
   "cell_type": "code",
   "source": [
    "ranker_data = pl.read_parquet('../data/user_actions_7_days_ranker')\n",
    "ranker_data.select(pl.max('date').alias('max_date'), pl.min('date').alias('min_date'))"
   ],
   "id": "81ab131a6df34991",
   "outputs": [
    {
     "data": {
      "text/plain": [
       "shape: (1, 2)\n",
       "┌────────────┬────────────┐\n",
       "│ max_date   ┆ min_date   │\n",
       "│ ---        ┆ ---        │\n",
       "│ date       ┆ date       │\n",
       "╞════════════╪════════════╡\n",
       "│ 2024-06-30 ┆ 2024-06-23 │\n",
       "└────────────┴────────────┘"
      ],
      "text/html": [
       "<div><style>\n",
       ".dataframe > thead > tr,\n",
       ".dataframe > tbody > tr {\n",
       "  text-align: right;\n",
       "  white-space: pre-wrap;\n",
       "}\n",
       "</style>\n",
       "<small>shape: (1, 2)</small><table border=\"1\" class=\"dataframe\"><thead><tr><th>max_date</th><th>min_date</th></tr><tr><td>date</td><td>date</td></tr></thead><tbody><tr><td>2024-06-30</td><td>2024-06-23</td></tr></tbody></table></div>"
      ]
     },
     "execution_count": 47,
     "metadata": {},
     "output_type": "execute_result"
    }
   ],
   "execution_count": 47
  },
  {
   "metadata": {
    "ExecuteTime": {
     "end_time": "2025-03-24T16:58:48.349830Z",
     "start_time": "2025-03-24T16:58:48.348026Z"
    }
   },
   "cell_type": "code",
   "source": "TEST_START = date(2024, 6, 23)",
   "id": "3200756af594867c",
   "outputs": [],
   "execution_count": 48
  },
  {
   "metadata": {
    "ExecuteTime": {
     "end_time": "2025-03-24T16:58:48.985248Z",
     "start_time": "2025-03-24T16:58:48.981534Z"
    }
   },
   "cell_type": "code",
   "source": "ranker_data",
   "id": "f0896d9edccb8d7d",
   "outputs": [
    {
     "data": {
      "text/plain": [
       "shape: (33_910_864, 4)\n",
       "┌─────────┬────────────┬────────────┬─────────────┐\n",
       "│ user_id ┆ product_id ┆ date       ┆ action_type │\n",
       "│ ---     ┆ ---        ┆ ---        ┆ ---         │\n",
       "│ i32     ┆ i64        ┆ date       ┆ str         │\n",
       "╞═════════╪════════════╪════════════╪═════════════╡\n",
       "│ 4453096 ┆ 621177276  ┆ 2024-06-27 ┆ view        │\n",
       "│ 2346229 ┆ 390557159  ┆ 2024-06-23 ┆ view        │\n",
       "│ 9589535 ┆ 146396320  ┆ 2024-06-23 ┆ view        │\n",
       "│ 2085760 ┆ 149293540  ┆ 2024-06-30 ┆ view        │\n",
       "│ 1289097 ┆ 851213293  ┆ 2024-06-27 ┆ view        │\n",
       "│ …       ┆ …          ┆ …          ┆ …           │\n",
       "│ 9786236 ┆ 138860210  ┆ 2024-06-28 ┆ order       │\n",
       "│ 6661721 ┆ 147740723  ┆ 2024-06-30 ┆ view        │\n",
       "│ 8865354 ┆ 261366874  ┆ 2024-06-30 ┆ view        │\n",
       "│ 2391586 ┆ 252410311  ┆ 2024-06-26 ┆ view        │\n",
       "│ 9570324 ┆ 142401013  ┆ 2024-06-28 ┆ view        │\n",
       "└─────────┴────────────┴────────────┴─────────────┘"
      ],
      "text/html": [
       "<div><style>\n",
       ".dataframe > thead > tr,\n",
       ".dataframe > tbody > tr {\n",
       "  text-align: right;\n",
       "  white-space: pre-wrap;\n",
       "}\n",
       "</style>\n",
       "<small>shape: (33_910_864, 4)</small><table border=\"1\" class=\"dataframe\"><thead><tr><th>user_id</th><th>product_id</th><th>date</th><th>action_type</th></tr><tr><td>i32</td><td>i64</td><td>date</td><td>str</td></tr></thead><tbody><tr><td>4453096</td><td>621177276</td><td>2024-06-27</td><td>&quot;view&quot;</td></tr><tr><td>2346229</td><td>390557159</td><td>2024-06-23</td><td>&quot;view&quot;</td></tr><tr><td>9589535</td><td>146396320</td><td>2024-06-23</td><td>&quot;view&quot;</td></tr><tr><td>2085760</td><td>149293540</td><td>2024-06-30</td><td>&quot;view&quot;</td></tr><tr><td>1289097</td><td>851213293</td><td>2024-06-27</td><td>&quot;view&quot;</td></tr><tr><td>&hellip;</td><td>&hellip;</td><td>&hellip;</td><td>&hellip;</td></tr><tr><td>9786236</td><td>138860210</td><td>2024-06-28</td><td>&quot;order&quot;</td></tr><tr><td>6661721</td><td>147740723</td><td>2024-06-30</td><td>&quot;view&quot;</td></tr><tr><td>8865354</td><td>261366874</td><td>2024-06-30</td><td>&quot;view&quot;</td></tr><tr><td>2391586</td><td>252410311</td><td>2024-06-26</td><td>&quot;view&quot;</td></tr><tr><td>9570324</td><td>142401013</td><td>2024-06-28</td><td>&quot;view&quot;</td></tr></tbody></table></div>"
      ]
     },
     "execution_count": 49,
     "metadata": {},
     "output_type": "execute_result"
    }
   ],
   "execution_count": 49
  },
  {
   "metadata": {
    "ExecuteTime": {
     "end_time": "2025-03-24T16:58:50.843064Z",
     "start_time": "2025-03-24T16:58:50.252873Z"
    }
   },
   "cell_type": "code",
   "source": "ranker_data.group_by('action_type').agg(pl.count(\"product_id\"))",
   "id": "ca1da26e92b53184",
   "outputs": [
    {
     "data": {
      "text/plain": [
       "shape: (5, 2)\n",
       "┌─────────────┬────────────┐\n",
       "│ action_type ┆ product_id │\n",
       "│ ---         ┆ ---        │\n",
       "│ str         ┆ u32        │\n",
       "╞═════════════╪════════════╡\n",
       "│ click       ┆ 3240738    │\n",
       "│ view        ┆ 24461070   │\n",
       "│ order       ┆ 2103547    │\n",
       "│ favorite    ┆ 193474     │\n",
       "│ to_cart     ┆ 3912035    │\n",
       "└─────────────┴────────────┘"
      ],
      "text/html": [
       "<div><style>\n",
       ".dataframe > thead > tr,\n",
       ".dataframe > tbody > tr {\n",
       "  text-align: right;\n",
       "  white-space: pre-wrap;\n",
       "}\n",
       "</style>\n",
       "<small>shape: (5, 2)</small><table border=\"1\" class=\"dataframe\"><thead><tr><th>action_type</th><th>product_id</th></tr><tr><td>str</td><td>u32</td></tr></thead><tbody><tr><td>&quot;click&quot;</td><td>3240738</td></tr><tr><td>&quot;view&quot;</td><td>24461070</td></tr><tr><td>&quot;order&quot;</td><td>2103547</td></tr><tr><td>&quot;favorite&quot;</td><td>193474</td></tr><tr><td>&quot;to_cart&quot;</td><td>3912035</td></tr></tbody></table></div>"
      ]
     },
     "execution_count": 50,
     "metadata": {},
     "output_type": "execute_result"
    }
   ],
   "execution_count": 50
  },
  {
   "metadata": {
    "ExecuteTime": {
     "end_time": "2025-03-24T16:58:50.848957Z",
     "start_time": "2025-03-24T16:58:50.844450Z"
    }
   },
   "cell_type": "code",
   "source": [
    "map_target = {\n",
    "    'view': 0,\n",
    "    'click': 0.01,\n",
    "    'favorite': 0.1,\n",
    "    'to_cart': 0.3,\n",
    "    'order': 0.59,\n",
    "}\n",
    "map_target_df = pl.DataFrame(data={\n",
    "    'action_type': map_target.keys(),\n",
    "    'target': map_target.values(),\n",
    "}, schema={\"action_type\": pl.String, \"target\": pl.Float32})"
   ],
   "id": "2ccac9193f081757",
   "outputs": [],
   "execution_count": 51
  },
  {
   "metadata": {
    "ExecuteTime": {
     "end_time": "2025-03-24T16:58:51.750862Z",
     "start_time": "2025-03-24T16:58:51.372379Z"
    }
   },
   "cell_type": "code",
   "source": [
    "# create targets\n",
    "ranker_data_target = (\n",
    "    ranker_data\n",
    "    .join(map_target_df, on='action_type')\n",
    "    .select('user_id', 'product_id', 'target')\n",
    ")"
   ],
   "id": "cead3e8a1f11100a",
   "outputs": [],
   "execution_count": 52
  },
  {
   "metadata": {
    "ExecuteTime": {
     "end_time": "2025-03-24T16:58:51.942395Z",
     "start_time": "2025-03-24T16:58:51.939294Z"
    }
   },
   "cell_type": "code",
   "source": "ranker_data_target",
   "id": "afd7c159bdfc4ec6",
   "outputs": [
    {
     "data": {
      "text/plain": [
       "shape: (33_910_864, 3)\n",
       "┌─────────┬────────────┬────────┐\n",
       "│ user_id ┆ product_id ┆ target │\n",
       "│ ---     ┆ ---        ┆ ---    │\n",
       "│ i32     ┆ i64        ┆ f32    │\n",
       "╞═════════╪════════════╪════════╡\n",
       "│ 4453096 ┆ 621177276  ┆ 0.0    │\n",
       "│ 2346229 ┆ 390557159  ┆ 0.0    │\n",
       "│ 9589535 ┆ 146396320  ┆ 0.0    │\n",
       "│ 2085760 ┆ 149293540  ┆ 0.0    │\n",
       "│ 1289097 ┆ 851213293  ┆ 0.0    │\n",
       "│ …       ┆ …          ┆ …      │\n",
       "│ 9786236 ┆ 138860210  ┆ 0.59   │\n",
       "│ 6661721 ┆ 147740723  ┆ 0.0    │\n",
       "│ 8865354 ┆ 261366874  ┆ 0.0    │\n",
       "│ 2391586 ┆ 252410311  ┆ 0.0    │\n",
       "│ 9570324 ┆ 142401013  ┆ 0.0    │\n",
       "└─────────┴────────────┴────────┘"
      ],
      "text/html": [
       "<div><style>\n",
       ".dataframe > thead > tr,\n",
       ".dataframe > tbody > tr {\n",
       "  text-align: right;\n",
       "  white-space: pre-wrap;\n",
       "}\n",
       "</style>\n",
       "<small>shape: (33_910_864, 3)</small><table border=\"1\" class=\"dataframe\"><thead><tr><th>user_id</th><th>product_id</th><th>target</th></tr><tr><td>i32</td><td>i64</td><td>f32</td></tr></thead><tbody><tr><td>4453096</td><td>621177276</td><td>0.0</td></tr><tr><td>2346229</td><td>390557159</td><td>0.0</td></tr><tr><td>9589535</td><td>146396320</td><td>0.0</td></tr><tr><td>2085760</td><td>149293540</td><td>0.0</td></tr><tr><td>1289097</td><td>851213293</td><td>0.0</td></tr><tr><td>&hellip;</td><td>&hellip;</td><td>&hellip;</td></tr><tr><td>9786236</td><td>138860210</td><td>0.59</td></tr><tr><td>6661721</td><td>147740723</td><td>0.0</td></tr><tr><td>8865354</td><td>261366874</td><td>0.0</td></tr><tr><td>2391586</td><td>252410311</td><td>0.0</td></tr><tr><td>9570324</td><td>142401013</td><td>0.0</td></tr></tbody></table></div>"
      ]
     },
     "execution_count": 53,
     "metadata": {},
     "output_type": "execute_result"
    }
   ],
   "execution_count": 53
  },
  {
   "metadata": {
    "ExecuteTime": {
     "end_time": "2025-03-24T16:58:53.125119Z",
     "start_time": "2025-03-24T16:58:52.727448Z"
    }
   },
   "cell_type": "code",
   "source": [
    "pos_users = (\n",
    "    ranker_data_target\n",
    "    .group_by('user_id')\n",
    "    .agg(pl.max('target').alias('max_target'))\n",
    "    .filter(pl.col('max_target') > 0)\n",
    "    .sort(by='user_id')\n",
    "    .sample(100_000, seed=0)\n",
    ")"
   ],
   "id": "7de596b93aeaac15",
   "outputs": [],
   "execution_count": 54
  },
  {
   "metadata": {
    "ExecuteTime": {
     "end_time": "2025-03-24T16:58:54.162035Z",
     "start_time": "2025-03-24T16:58:53.907600Z"
    }
   },
   "cell_type": "code",
   "source": [
    "ranker_data_target_filtered = (\n",
    "    ranker_data_target\n",
    "    .join(pos_users, on='user_id')\n",
    "    .group_by('user_id', 'product_id')\n",
    "    .agg(pl.sum('target').alias('target'))\n",
    ")\n",
    "ranker_data_target_filtered.shape"
   ],
   "id": "3b9d42354cbce965",
   "outputs": [
    {
     "data": {
      "text/plain": [
       "(2706980, 3)"
      ]
     },
     "execution_count": 55,
     "metadata": {},
     "output_type": "execute_result"
    }
   ],
   "execution_count": 55
  },
  {
   "metadata": {
    "ExecuteTime": {
     "end_time": "2025-03-24T16:58:54.820183Z",
     "start_time": "2025-03-24T16:58:54.771335Z"
    }
   },
   "cell_type": "code",
   "source": "ranker_data_target_filtered.sort('user_id')",
   "id": "7aa283c9d30de638",
   "outputs": [
    {
     "data": {
      "text/plain": [
       "shape: (2_706_980, 3)\n",
       "┌──────────┬────────────┬────────┐\n",
       "│ user_id  ┆ product_id ┆ target │\n",
       "│ ---      ┆ ---        ┆ ---    │\n",
       "│ i32      ┆ i64        ┆ f32    │\n",
       "╞══════════╪════════════╪════════╡\n",
       "│ 54       ┆ 147887697  ┆ 0.01   │\n",
       "│ 128      ┆ 1562705601 ┆ 0.0    │\n",
       "│ 128      ┆ 149724906  ┆ 0.89   │\n",
       "│ 128      ┆ 1023814617 ┆ 0.0    │\n",
       "│ 170      ┆ 1528912372 ┆ 0.0    │\n",
       "│ …        ┆ …          ┆ …      │\n",
       "│ 11184165 ┆ 686824985  ┆ 0.0    │\n",
       "│ 11184165 ┆ 138423936  ┆ 0.01   │\n",
       "│ 11184165 ┆ 583497558  ┆ 0.0    │\n",
       "│ 11184165 ┆ 312129116  ┆ 0.89   │\n",
       "│ 11184165 ┆ 135507650  ┆ 0.0    │\n",
       "└──────────┴────────────┴────────┘"
      ],
      "text/html": [
       "<div><style>\n",
       ".dataframe > thead > tr,\n",
       ".dataframe > tbody > tr {\n",
       "  text-align: right;\n",
       "  white-space: pre-wrap;\n",
       "}\n",
       "</style>\n",
       "<small>shape: (2_706_980, 3)</small><table border=\"1\" class=\"dataframe\"><thead><tr><th>user_id</th><th>product_id</th><th>target</th></tr><tr><td>i32</td><td>i64</td><td>f32</td></tr></thead><tbody><tr><td>54</td><td>147887697</td><td>0.01</td></tr><tr><td>128</td><td>1562705601</td><td>0.0</td></tr><tr><td>128</td><td>149724906</td><td>0.89</td></tr><tr><td>128</td><td>1023814617</td><td>0.0</td></tr><tr><td>170</td><td>1528912372</td><td>0.0</td></tr><tr><td>&hellip;</td><td>&hellip;</td><td>&hellip;</td></tr><tr><td>11184165</td><td>686824985</td><td>0.0</td></tr><tr><td>11184165</td><td>138423936</td><td>0.01</td></tr><tr><td>11184165</td><td>583497558</td><td>0.0</td></tr><tr><td>11184165</td><td>312129116</td><td>0.89</td></tr><tr><td>11184165</td><td>135507650</td><td>0.0</td></tr></tbody></table></div>"
      ]
     },
     "execution_count": 56,
     "metadata": {},
     "output_type": "execute_result"
    }
   ],
   "execution_count": 56
  },
  {
   "metadata": {
    "ExecuteTime": {
     "end_time": "2025-03-24T16:58:56.335750Z",
     "start_time": "2025-03-24T16:58:56.331002Z"
    }
   },
   "cell_type": "code",
   "source": "TEST_START",
   "id": "f31609d16c6dd2b3",
   "outputs": [
    {
     "data": {
      "text/plain": [
       "datetime.date(2024, 6, 23)"
      ]
     },
     "execution_count": 57,
     "metadata": {},
     "output_type": "execute_result"
    }
   ],
   "execution_count": 57
  },
  {
   "metadata": {
    "ExecuteTime": {
     "end_time": "2025-03-24T16:59:02.719630Z",
     "start_time": "2025-03-24T16:58:56.820799Z"
    }
   },
   "cell_type": "code",
   "source": [
    "data = (\n",
    "    user_actions_full\n",
    "    .filter(pl.col('date') < TEST_START)\n",
    "    .filter(pl.col('date') >= TEST_START - timedelta(days=3 * 30))\n",
    ")\n",
    "data.shape   "
   ],
   "id": "d8f4a6065e81e583",
   "outputs": [
    {
     "data": {
      "text/plain": [
       "(102174245, 4)"
      ]
     },
     "execution_count": 58,
     "metadata": {},
     "output_type": "execute_result"
    }
   ],
   "execution_count": 58
  },
  {
   "metadata": {
    "ExecuteTime": {
     "end_time": "2025-03-24T16:59:02.794168Z",
     "start_time": "2025-03-24T16:59:02.723016Z"
    }
   },
   "cell_type": "code",
   "source": [
    "product_information_full = pl.read_parquet('../data/product_information_full')\n",
    "product_information_full"
   ],
   "id": "e06cf269f6a99f4f",
   "outputs": [
    {
     "data": {
      "text/plain": [
       "shape: (238_443, 6)\n",
       "┌────────────┬────────────────────┬──────────────┬───────────────────┬─────────────┬───────────────┐\n",
       "│ product_id ┆ name               ┆ brand        ┆ type              ┆ category_id ┆ category_name │\n",
       "│ ---        ┆ ---                ┆ ---          ┆ ---               ┆ ---         ┆ ---           │\n",
       "│ i64        ┆ str                ┆ str          ┆ str               ┆ i32         ┆ str           │\n",
       "╞════════════╪════════════════════╪══════════════╪═══════════════════╪═════════════╪═══════════════╡\n",
       "│ 160839072  ┆ CeraVe Смягчающий  ┆ CeraVe       ┆ Гель для ухода за ┆ 38          ┆ Сыворотки для │\n",
       "│            ┆ крем для сух…      ┆              ┆ кожей             ┆             ┆ лица          │\n",
       "│ 161689127  ┆ Yves Rocher / Ив   ┆ Yves Rocher  ┆ Гель для ухода за ┆ 38          ┆ Сыворотки для │\n",
       "│            ┆ Роше / Увлажн…     ┆ France       ┆ кожей             ┆             ┆ лица          │\n",
       "│ 221508445  ┆ Bioderma Эликсир   ┆ Bioderma     ┆ Эликсир для ухода ┆ 38          ┆ Сыворотки для │\n",
       "│            ┆ для ухода за …     ┆              ┆ за кожей          ┆             ┆ лица          │\n",
       "│ 309017861  ┆ ART&FACT. /        ┆ ART&FACT.    ┆ Сыворотка для     ┆ 38          ┆ Сыворотки для │\n",
       "│            ┆ Сыворотка для      ┆              ┆ лица              ┆             ┆ лица          │\n",
       "│            ┆ лица…              ┆              ┆                   ┆             ┆               │\n",
       "│ 793710195  ┆ Breylee Сыворотка  ┆ Breylee      ┆ Сыворотка для     ┆ 38          ┆ Сыворотки для │\n",
       "│            ┆ для лица Ант…      ┆              ┆ лица              ┆             ┆ лица          │\n",
       "│ …          ┆ …                  ┆ …            ┆ …                 ┆ …           ┆ …             │\n",
       "│ 1154315599 ┆ Сушилка для овощей ┆ Великие реки ┆ Дегидратор        ┆ 284         ┆ Сушилки для   │\n",
       "│            ┆ и фруктов 3…       ┆              ┆                   ┆             ┆ овощей        │\n",
       "│ 1196912369 ┆ GFGRIL             ┆ GFGRIL       ┆ Дегидратор        ┆ 284         ┆ Сушилки для   │\n",
       "│            ┆ Электрическая      ┆              ┆                   ┆             ┆ овощей        │\n",
       "│            ┆ сушилка д…         ┆              ┆                   ┆             ┆               │\n",
       "│ 1255681315 ┆ Дегидратор сушилка ┆ Marta        ┆ Дегидратор        ┆ 284         ┆ Сушилки для   │\n",
       "│            ┆ для овощей …       ┆              ┆                   ┆             ┆ овощей        │\n",
       "│ 483756641  ┆ Дегидратор Kitfort ┆ Kitfort      ┆ Дегидратор        ┆ 284         ┆ Сушилки для   │\n",
       "│            ┆ КТ-1915-1, …       ┆              ┆                   ┆             ┆ овощей        │\n",
       "│ 1120557009 ┆ Дегидратор Kitfort ┆ Kitfort      ┆ Дегидратор        ┆ 284         ┆ Сушилки для   │\n",
       "│            ┆ КТ-1905, че…       ┆              ┆                   ┆             ┆ овощей        │\n",
       "└────────────┴────────────────────┴──────────────┴───────────────────┴─────────────┴───────────────┘"
      ],
      "text/html": [
       "<div><style>\n",
       ".dataframe > thead > tr,\n",
       ".dataframe > tbody > tr {\n",
       "  text-align: right;\n",
       "  white-space: pre-wrap;\n",
       "}\n",
       "</style>\n",
       "<small>shape: (238_443, 6)</small><table border=\"1\" class=\"dataframe\"><thead><tr><th>product_id</th><th>name</th><th>brand</th><th>type</th><th>category_id</th><th>category_name</th></tr><tr><td>i64</td><td>str</td><td>str</td><td>str</td><td>i32</td><td>str</td></tr></thead><tbody><tr><td>160839072</td><td>&quot;CeraVe Смягчающий крем для сух…</td><td>&quot;CeraVe&quot;</td><td>&quot;Гель для ухода за кожей&quot;</td><td>38</td><td>&quot;Сыворотки для лица&quot;</td></tr><tr><td>161689127</td><td>&quot;Yves Rocher / Ив Роше / Увлажн…</td><td>&quot;Yves Rocher France&quot;</td><td>&quot;Гель для ухода за кожей&quot;</td><td>38</td><td>&quot;Сыворотки для лица&quot;</td></tr><tr><td>221508445</td><td>&quot;Bioderma Эликсир для ухода за …</td><td>&quot;Bioderma&quot;</td><td>&quot;Эликсир для ухода за кожей&quot;</td><td>38</td><td>&quot;Сыворотки для лица&quot;</td></tr><tr><td>309017861</td><td>&quot;ART&amp;FACT. / Сыворотка для лица…</td><td>&quot;ART&amp;FACT.&quot;</td><td>&quot;Сыворотка для лица&quot;</td><td>38</td><td>&quot;Сыворотки для лица&quot;</td></tr><tr><td>793710195</td><td>&quot;Breylee Сыворотка для лица Ант…</td><td>&quot;Breylee&quot;</td><td>&quot;Сыворотка для лица&quot;</td><td>38</td><td>&quot;Сыворотки для лица&quot;</td></tr><tr><td>&hellip;</td><td>&hellip;</td><td>&hellip;</td><td>&hellip;</td><td>&hellip;</td><td>&hellip;</td></tr><tr><td>1154315599</td><td>&quot;Сушилка для овощей и фруктов 3…</td><td>&quot;Великие реки&quot;</td><td>&quot;Дегидратор&quot;</td><td>284</td><td>&quot;Сушилки для овощей&quot;</td></tr><tr><td>1196912369</td><td>&quot;GFGRIL Электрическая сушилка д…</td><td>&quot;GFGRIL&quot;</td><td>&quot;Дегидратор&quot;</td><td>284</td><td>&quot;Сушилки для овощей&quot;</td></tr><tr><td>1255681315</td><td>&quot;Дегидратор сушилка для овощей …</td><td>&quot;Marta&quot;</td><td>&quot;Дегидратор&quot;</td><td>284</td><td>&quot;Сушилки для овощей&quot;</td></tr><tr><td>483756641</td><td>&quot;Дегидратор Kitfort КТ-1915-1, …</td><td>&quot;Kitfort&quot;</td><td>&quot;Дегидратор&quot;</td><td>284</td><td>&quot;Сушилки для овощей&quot;</td></tr><tr><td>1120557009</td><td>&quot;Дегидратор Kitfort КТ-1905, че…</td><td>&quot;Kitfort&quot;</td><td>&quot;Дегидратор&quot;</td><td>284</td><td>&quot;Сушилки для овощей&quot;</td></tr></tbody></table></div>"
      ]
     },
     "execution_count": 59,
     "metadata": {},
     "output_type": "execute_result"
    }
   ],
   "execution_count": 59
  },
  {
   "metadata": {
    "ExecuteTime": {
     "end_time": "2025-03-24T16:59:02.796969Z",
     "start_time": "2025-03-24T16:59:02.794923Z"
    }
   },
   "cell_type": "code",
   "source": "feature_dfs = {}",
   "id": "b6664569ff83d2b4",
   "outputs": [],
   "execution_count": 60
  },
  {
   "metadata": {
    "ExecuteTime": {
     "end_time": "2025-03-24T16:59:27.271341Z",
     "start_time": "2025-03-24T16:59:02.798886Z"
    }
   },
   "cell_type": "code",
   "source": [
    "for suf in ['click', 'favorite', 'to_cart', 'order']:\n",
    "    feature_dfs[f'{suf}_ui_features'] = (\n",
    "        data\n",
    "        .filter(pl.col('action_type') == suf)\n",
    "        .group_by('user_id', 'product_id')\n",
    "        .agg(\n",
    "            pl.count('product_id').alias(f'ui_num_{suf}')\n",
    "        )\n",
    "    )\n",
    "    feature_dfs[f'{suf}_i_features'] = (\n",
    "        data\n",
    "        .filter(pl.col('action_type') == suf)\n",
    "        .group_by('product_id')\n",
    "        .agg(\n",
    "            pl.count('user_id').alias(f'i_num_{suf}')\n",
    "        )\n",
    "    )"
   ],
   "id": "baee10368d6c3645",
   "outputs": [],
   "execution_count": 61
  },
  {
   "metadata": {
    "ExecuteTime": {
     "end_time": "2025-03-24T16:59:31.986944Z",
     "start_time": "2025-03-24T16:59:27.275752Z"
    }
   },
   "cell_type": "code",
   "source": [
    "ranker_data_target_filtered_with_features = ranker_data_target_filtered\n",
    "for key, df in feature_dfs.items():\n",
    "    if 'ui' in key:\n",
    "        ranker_data_target_filtered_with_features = (\n",
    "            ranker_data_target_filtered_with_features\n",
    "            .join(df, on=['user_id', 'product_id'], how='left')\n",
    "        )\n",
    "    else:\n",
    "        ranker_data_target_filtered_with_features = (\n",
    "            ranker_data_target_filtered_with_features\n",
    "            .join(df, on=['product_id'], how='left')\n",
    "        )"
   ],
   "id": "fec1733aae8772bf",
   "outputs": [],
   "execution_count": 62
  },
  {
   "metadata": {
    "ExecuteTime": {
     "end_time": "2025-03-24T16:59:32.087988Z",
     "start_time": "2025-03-24T16:59:31.989560Z"
    }
   },
   "cell_type": "code",
   "source": "del feature_dfs",
   "id": "f2cafc60c057e04",
   "outputs": [],
   "execution_count": 63
  },
  {
   "metadata": {
    "ExecuteTime": {
     "end_time": "2025-03-24T16:59:32.267407Z",
     "start_time": "2025-03-24T16:59:32.090761Z"
    }
   },
   "cell_type": "code",
   "source": "del data",
   "id": "b61d1f4726fee2dd",
   "outputs": [],
   "execution_count": 64
  },
  {
   "metadata": {
    "ExecuteTime": {
     "end_time": "2025-03-24T16:59:32.272610Z",
     "start_time": "2025-03-24T16:59:32.268234Z"
    }
   },
   "cell_type": "code",
   "source": "ranker_data_target_filtered_with_features.shape",
   "id": "3b31479bec9d402f",
   "outputs": [
    {
     "data": {
      "text/plain": [
       "(2706980, 11)"
      ]
     },
     "execution_count": 65,
     "metadata": {},
     "output_type": "execute_result"
    }
   ],
   "execution_count": 65
  },
  {
   "metadata": {
    "ExecuteTime": {
     "end_time": "2025-03-24T16:59:32.279843Z",
     "start_time": "2025-03-24T16:59:32.273333Z"
    }
   },
   "cell_type": "code",
   "source": "ranker_data_target_filtered_with_features",
   "id": "c728193d081d4d57",
   "outputs": [
    {
     "data": {
      "text/plain": [
       "shape: (2_706_980, 11)\n",
       "┌──────────┬────────────┬────────┬────────────┬───┬────────────┬───────────┬───────────┬───────────┐\n",
       "│ user_id  ┆ product_id ┆ target ┆ ui_num_cli ┆ … ┆ ui_num_to_ ┆ i_num_to_ ┆ ui_num_or ┆ i_num_ord │\n",
       "│ ---      ┆ ---        ┆ ---    ┆ ck         ┆   ┆ cart       ┆ cart      ┆ der       ┆ er        │\n",
       "│ i32      ┆ i64        ┆ f32    ┆ ---        ┆   ┆ ---        ┆ ---       ┆ ---       ┆ ---       │\n",
       "│          ┆            ┆        ┆ u32        ┆   ┆ u32        ┆ u32       ┆ u32       ┆ u32       │\n",
       "╞══════════╪════════════╪════════╪════════════╪═══╪════════════╪═══════════╪═══════════╪═══════════╡\n",
       "│ 1020859  ┆ 965580704  ┆ 0.0    ┆ null       ┆ … ┆ null       ┆ 1322      ┆ null      ┆ 331       │\n",
       "│ 7223791  ┆ 240480230  ┆ 0.3    ┆ null       ┆ … ┆ null       ┆ 771       ┆ null      ┆ 245       │\n",
       "│ 10875382 ┆ 1525488864 ┆ 0.0    ┆ null       ┆ … ┆ null       ┆ 8537      ┆ null      ┆ 3001      │\n",
       "│ 4719515  ┆ 303734515  ┆ 0.59   ┆ null       ┆ … ┆ 1          ┆ 16441     ┆ 11        ┆ 6307      │\n",
       "│ 3239820  ┆ 1506192518 ┆ 0.0    ┆ null       ┆ … ┆ null       ┆ 2233      ┆ null      ┆ 669       │\n",
       "│ …        ┆ …          ┆ …      ┆ …          ┆ … ┆ …          ┆ …         ┆ …         ┆ …         │\n",
       "│ 7718163  ┆ 142120787  ┆ 0.0    ┆ 1          ┆ … ┆ 1          ┆ 6916      ┆ null      ┆ 2158      │\n",
       "│ 126513   ┆ 296399078  ┆ 0.3    ┆ null       ┆ … ┆ null       ┆ 3860      ┆ null      ┆ 1175      │\n",
       "│ 9209518  ┆ 1074808936 ┆ 0.0    ┆ null       ┆ … ┆ null       ┆ 12504     ┆ null      ┆ 3997      │\n",
       "│ 3856441  ┆ 261375229  ┆ 0.0    ┆ null       ┆ … ┆ null       ┆ 4710      ┆ null      ┆ 1862      │\n",
       "│ 7257249  ┆ 1041074638 ┆ 0.0    ┆ null       ┆ … ┆ null       ┆ 258       ┆ null      ┆ 30        │\n",
       "└──────────┴────────────┴────────┴────────────┴───┴────────────┴───────────┴───────────┴───────────┘"
      ],
      "text/html": [
       "<div><style>\n",
       ".dataframe > thead > tr,\n",
       ".dataframe > tbody > tr {\n",
       "  text-align: right;\n",
       "  white-space: pre-wrap;\n",
       "}\n",
       "</style>\n",
       "<small>shape: (2_706_980, 11)</small><table border=\"1\" class=\"dataframe\"><thead><tr><th>user_id</th><th>product_id</th><th>target</th><th>ui_num_click</th><th>i_num_click</th><th>ui_num_favorite</th><th>i_num_favorite</th><th>ui_num_to_cart</th><th>i_num_to_cart</th><th>ui_num_order</th><th>i_num_order</th></tr><tr><td>i32</td><td>i64</td><td>f32</td><td>u32</td><td>u32</td><td>u32</td><td>u32</td><td>u32</td><td>u32</td><td>u32</td><td>u32</td></tr></thead><tbody><tr><td>1020859</td><td>965580704</td><td>0.0</td><td>null</td><td>10001</td><td>null</td><td>711</td><td>null</td><td>1322</td><td>null</td><td>331</td></tr><tr><td>7223791</td><td>240480230</td><td>0.3</td><td>null</td><td>1387</td><td>null</td><td>68</td><td>null</td><td>771</td><td>null</td><td>245</td></tr><tr><td>10875382</td><td>1525488864</td><td>0.0</td><td>null</td><td>5256</td><td>null</td><td>504</td><td>null</td><td>8537</td><td>null</td><td>3001</td></tr><tr><td>4719515</td><td>303734515</td><td>0.59</td><td>null</td><td>3304</td><td>null</td><td>109</td><td>1</td><td>16441</td><td>11</td><td>6307</td></tr><tr><td>3239820</td><td>1506192518</td><td>0.0</td><td>null</td><td>2731</td><td>null</td><td>355</td><td>null</td><td>2233</td><td>null</td><td>669</td></tr><tr><td>&hellip;</td><td>&hellip;</td><td>&hellip;</td><td>&hellip;</td><td>&hellip;</td><td>&hellip;</td><td>&hellip;</td><td>&hellip;</td><td>&hellip;</td><td>&hellip;</td><td>&hellip;</td></tr><tr><td>7718163</td><td>142120787</td><td>0.0</td><td>1</td><td>8798</td><td>null</td><td>401</td><td>1</td><td>6916</td><td>null</td><td>2158</td></tr><tr><td>126513</td><td>296399078</td><td>0.3</td><td>null</td><td>3690</td><td>null</td><td>122</td><td>null</td><td>3860</td><td>null</td><td>1175</td></tr><tr><td>9209518</td><td>1074808936</td><td>0.0</td><td>null</td><td>3879</td><td>null</td><td>425</td><td>null</td><td>12504</td><td>null</td><td>3997</td></tr><tr><td>3856441</td><td>261375229</td><td>0.0</td><td>null</td><td>905</td><td>null</td><td>50</td><td>null</td><td>4710</td><td>null</td><td>1862</td></tr><tr><td>7257249</td><td>1041074638</td><td>0.0</td><td>null</td><td>2078</td><td>null</td><td>121</td><td>null</td><td>258</td><td>null</td><td>30</td></tr></tbody></table></div>"
      ]
     },
     "execution_count": 66,
     "metadata": {},
     "output_type": "execute_result"
    }
   ],
   "execution_count": 66
  },
  {
   "metadata": {
    "ExecuteTime": {
     "end_time": "2025-03-24T17:00:18.860135Z",
     "start_time": "2025-03-24T17:00:18.824025Z"
    }
   },
   "cell_type": "code",
   "source": [
    "ranker_data_target_filtered_with_features = (\n",
    "    ranker_data_target_filtered_with_features\n",
    "    .join(\n",
    "        product_information_full\n",
    "        .select('product_id', 'brand', 'type', 'category_id'),\n",
    "        on=['product_id'],\n",
    "        # how='left'\n",
    "    )\n",
    "    # .with_columns(\n",
    "    #     pl.col('brand').fill_nan(pl.lit('no_brand')),\n",
    "    #     pl.col('category_id').fill_nan(pl.lit(0)),\n",
    "    #     pl.col('type').fill_nan(pl.lit('no_type')),\n",
    "    # )\n",
    ")"
   ],
   "id": "dad2a554cef1e6f6",
   "outputs": [],
   "execution_count": 68
  },
  {
   "metadata": {
    "ExecuteTime": {
     "end_time": "2025-03-24T17:00:32.295749Z",
     "start_time": "2025-03-24T17:00:32.292656Z"
    }
   },
   "cell_type": "code",
   "source": "ranker_data_target_filtered_with_features.shape",
   "id": "63389b36242b68a5",
   "outputs": [
    {
     "data": {
      "text/plain": [
       "(2703911, 14)"
      ]
     },
     "execution_count": 70,
     "metadata": {},
     "output_type": "execute_result"
    }
   ],
   "execution_count": 70
  },
  {
   "metadata": {
    "ExecuteTime": {
     "end_time": "2025-03-24T17:00:21.197051Z",
     "start_time": "2025-03-24T17:00:21.192015Z"
    }
   },
   "cell_type": "code",
   "source": "ranker_data_target_filtered_with_features",
   "id": "ced3d9257f47677e",
   "outputs": [
    {
     "data": {
      "text/plain": [
       "shape: (2_703_911, 14)\n",
       "┌──────────┬────────────┬────────┬────────────┬───┬────────────┬───────────┬───────────┬───────────┐\n",
       "│ user_id  ┆ product_id ┆ target ┆ ui_num_cli ┆ … ┆ i_num_orde ┆ brand     ┆ type      ┆ category_ │\n",
       "│ ---      ┆ ---        ┆ ---    ┆ ck         ┆   ┆ r          ┆ ---       ┆ ---       ┆ id        │\n",
       "│ i32      ┆ i64        ┆ f32    ┆ ---        ┆   ┆ ---        ┆ str       ┆ str       ┆ ---       │\n",
       "│          ┆            ┆        ┆ u32        ┆   ┆ u32        ┆           ┆           ┆ i32       │\n",
       "╞══════════╪════════════╪════════╪════════════╪═══╪════════════╪═══════════╪═══════════╪═══════════╡\n",
       "│ 1020859  ┆ 965580704  ┆ 0.0    ┆ null       ┆ … ┆ 331        ┆ Crazy     ┆ Комплект  ┆ 345       │\n",
       "│          ┆            ┆        ┆            ┆   ┆            ┆ Getup     ┆ постельно ┆           │\n",
       "│          ┆            ┆        ┆            ┆   ┆            ┆           ┆ го белья  ┆           │\n",
       "│ 7223791  ┆ 240480230  ┆ 0.3    ┆ null       ┆ … ┆ 245        ┆ Fitstart  ┆ Хлебцы    ┆ 296       │\n",
       "│ 10875382 ┆ 1525488864 ┆ 0.0    ┆ null       ┆ … ┆ 3001       ┆ Lay's     ┆ Чипсы     ┆ 236       │\n",
       "│ 4719515  ┆ 303734515  ┆ 0.59   ┆ null       ┆ … ┆ 6307       ┆ ЭкоНива   ┆ Молоко    ┆ 420       │\n",
       "│ 3239820  ┆ 1506192518 ┆ 0.0    ┆ null       ┆ … ┆ 669        ┆ Ozon      ┆ Заморожен ┆ 910       │\n",
       "│          ┆            ┆        ┆            ┆   ┆            ┆ fresh     ┆ ные ягоды ┆           │\n",
       "│ …        ┆ …          ┆ …      ┆ …          ┆ … ┆ …          ┆ …         ┆ …         ┆ …         │\n",
       "│ 7718163  ┆ 142120787  ┆ 0.0    ┆ 1          ┆ … ┆ 2158       ┆ Индилайт  ┆ Птица охл ┆ 623       │\n",
       "│          ┆            ┆        ┆            ┆   ┆            ┆           ┆ ажденная  ┆           │\n",
       "│ 126513   ┆ 296399078  ┆ 0.3    ┆ null       ┆ … ┆ 1175       ┆ Городской ┆ Хлеб      ┆ 858       │\n",
       "│          ┆            ┆        ┆            ┆   ┆            ┆ батон     ┆           ┆           │\n",
       "│ 9209518  ┆ 1074808936 ┆ 0.0    ┆ null       ┆ … ┆ 3997       ┆ Село      ┆ Мороженое ┆ 413       │\n",
       "│          ┆            ┆        ┆            ┆   ┆            ┆ Зеленое   ┆           ┆           │\n",
       "│ 3856441  ┆ 261375229  ┆ 0.0    ┆ null       ┆ … ┆ 1862       ┆ Простоква ┆ Творог    ┆ 354       │\n",
       "│          ┆            ┆        ┆            ┆   ┆            ┆ шино      ┆           ┆           │\n",
       "│ 7257249  ┆ 1041074638 ┆ 0.0    ┆ null       ┆ … ┆ 30         ┆ GRINOTEKA ┆ Комнатные ┆ 614       │\n",
       "│          ┆            ┆        ┆            ┆   ┆            ┆           ┆ растения  ┆           │\n",
       "└──────────┴────────────┴────────┴────────────┴───┴────────────┴───────────┴───────────┴───────────┘"
      ],
      "text/html": [
       "<div><style>\n",
       ".dataframe > thead > tr,\n",
       ".dataframe > tbody > tr {\n",
       "  text-align: right;\n",
       "  white-space: pre-wrap;\n",
       "}\n",
       "</style>\n",
       "<small>shape: (2_703_911, 14)</small><table border=\"1\" class=\"dataframe\"><thead><tr><th>user_id</th><th>product_id</th><th>target</th><th>ui_num_click</th><th>i_num_click</th><th>ui_num_favorite</th><th>i_num_favorite</th><th>ui_num_to_cart</th><th>i_num_to_cart</th><th>ui_num_order</th><th>i_num_order</th><th>brand</th><th>type</th><th>category_id</th></tr><tr><td>i32</td><td>i64</td><td>f32</td><td>u32</td><td>u32</td><td>u32</td><td>u32</td><td>u32</td><td>u32</td><td>u32</td><td>u32</td><td>str</td><td>str</td><td>i32</td></tr></thead><tbody><tr><td>1020859</td><td>965580704</td><td>0.0</td><td>null</td><td>10001</td><td>null</td><td>711</td><td>null</td><td>1322</td><td>null</td><td>331</td><td>&quot;Crazy Getup&quot;</td><td>&quot;Комплект постельного белья&quot;</td><td>345</td></tr><tr><td>7223791</td><td>240480230</td><td>0.3</td><td>null</td><td>1387</td><td>null</td><td>68</td><td>null</td><td>771</td><td>null</td><td>245</td><td>&quot;Fitstart&quot;</td><td>&quot;Хлебцы&quot;</td><td>296</td></tr><tr><td>10875382</td><td>1525488864</td><td>0.0</td><td>null</td><td>5256</td><td>null</td><td>504</td><td>null</td><td>8537</td><td>null</td><td>3001</td><td>&quot;Lay&#x27;s&quot;</td><td>&quot;Чипсы&quot;</td><td>236</td></tr><tr><td>4719515</td><td>303734515</td><td>0.59</td><td>null</td><td>3304</td><td>null</td><td>109</td><td>1</td><td>16441</td><td>11</td><td>6307</td><td>&quot;ЭкоНива&quot;</td><td>&quot;Молоко&quot;</td><td>420</td></tr><tr><td>3239820</td><td>1506192518</td><td>0.0</td><td>null</td><td>2731</td><td>null</td><td>355</td><td>null</td><td>2233</td><td>null</td><td>669</td><td>&quot;Ozon fresh&quot;</td><td>&quot;Замороженные ягоды&quot;</td><td>910</td></tr><tr><td>&hellip;</td><td>&hellip;</td><td>&hellip;</td><td>&hellip;</td><td>&hellip;</td><td>&hellip;</td><td>&hellip;</td><td>&hellip;</td><td>&hellip;</td><td>&hellip;</td><td>&hellip;</td><td>&hellip;</td><td>&hellip;</td><td>&hellip;</td></tr><tr><td>7718163</td><td>142120787</td><td>0.0</td><td>1</td><td>8798</td><td>null</td><td>401</td><td>1</td><td>6916</td><td>null</td><td>2158</td><td>&quot;Индилайт&quot;</td><td>&quot;Птица охлажденная&quot;</td><td>623</td></tr><tr><td>126513</td><td>296399078</td><td>0.3</td><td>null</td><td>3690</td><td>null</td><td>122</td><td>null</td><td>3860</td><td>null</td><td>1175</td><td>&quot;Городской батон&quot;</td><td>&quot;Хлеб&quot;</td><td>858</td></tr><tr><td>9209518</td><td>1074808936</td><td>0.0</td><td>null</td><td>3879</td><td>null</td><td>425</td><td>null</td><td>12504</td><td>null</td><td>3997</td><td>&quot;Село Зеленое&quot;</td><td>&quot;Мороженое&quot;</td><td>413</td></tr><tr><td>3856441</td><td>261375229</td><td>0.0</td><td>null</td><td>905</td><td>null</td><td>50</td><td>null</td><td>4710</td><td>null</td><td>1862</td><td>&quot;Простоквашино&quot;</td><td>&quot;Творог&quot;</td><td>354</td></tr><tr><td>7257249</td><td>1041074638</td><td>0.0</td><td>null</td><td>2078</td><td>null</td><td>121</td><td>null</td><td>258</td><td>null</td><td>30</td><td>&quot;GRINOTEKA&quot;</td><td>&quot;Комнатные растения&quot;</td><td>614</td></tr></tbody></table></div>"
      ]
     },
     "execution_count": 69,
     "metadata": {},
     "output_type": "execute_result"
    }
   ],
   "execution_count": 69
  },
  {
   "metadata": {
    "ExecuteTime": {
     "end_time": "2025-03-24T17:00:56.433889Z",
     "start_time": "2025-03-24T17:00:56.431143Z"
    }
   },
   "cell_type": "code",
   "source": "import catboost",
   "id": "f75af3a7ba513e2b",
   "outputs": [],
   "execution_count": 71
  },
  {
   "metadata": {
    "ExecuteTime": {
     "end_time": "2025-03-24T17:01:13.774556Z",
     "start_time": "2025-03-24T17:01:13.434917Z"
    }
   },
   "cell_type": "code",
   "source": [
    "df = ranker_data_target_filtered_with_features.sort(by='user_id').to_pandas()\n",
    "mask = df.user_id % 10 <= 7"
   ],
   "id": "68fa0d9c35a6fea8",
   "outputs": [],
   "execution_count": 72
  },
  {
   "metadata": {
    "ExecuteTime": {
     "end_time": "2025-03-24T17:01:18.424228Z",
     "start_time": "2025-03-24T17:01:18.421035Z"
    }
   },
   "cell_type": "code",
   "source": "df.columns",
   "id": "e9b76343d461a103",
   "outputs": [
    {
     "data": {
      "text/plain": [
       "Index(['user_id', 'product_id', 'target', 'ui_num_click', 'i_num_click',\n",
       "       'ui_num_favorite', 'i_num_favorite', 'ui_num_to_cart', 'i_num_to_cart',\n",
       "       'ui_num_order', 'i_num_order', 'brand', 'type', 'category_id'],\n",
       "      dtype='object')"
      ]
     },
     "execution_count": 73,
     "metadata": {},
     "output_type": "execute_result"
    }
   ],
   "execution_count": 73
  },
  {
   "metadata": {
    "ExecuteTime": {
     "end_time": "2025-03-24T17:01:22.882698Z",
     "start_time": "2025-03-24T17:01:22.880799Z"
    }
   },
   "cell_type": "code",
   "source": [
    "cols = [\n",
    "    'ui_num_click', 'i_num_click',\n",
    "    'ui_num_favorite', 'i_num_favorite', 'ui_num_to_cart', 'i_num_to_cart',\n",
    "    'ui_num_order', 'i_num_order',\n",
    "]"
   ],
   "id": "ba8898c3af343ea",
   "outputs": [],
   "execution_count": 74
  },
  {
   "metadata": {
    "ExecuteTime": {
     "end_time": "2025-03-24T17:01:30.321852Z",
     "start_time": "2025-03-24T17:01:29.533867Z"
    }
   },
   "cell_type": "code",
   "source": [
    "train_pool = catboost.Pool(\n",
    "    df.loc[mask, cols],\n",
    "    label=df.loc[mask].target,\n",
    "    group_id=df.loc[mask].user_id,\n",
    "    # cat_features=['brand', 'type', 'category_id'],\n",
    ")\n",
    "eval_pool = catboost.Pool(\n",
    "    df.loc[~mask, cols],\n",
    "    label=df.loc[~mask].target,\n",
    "    group_id=df.loc[~mask].user_id,\n",
    "    # cat_features=['brand', 'type', 'category_id'],\n",
    ")"
   ],
   "id": "ebaba93355d5ccbb",
   "outputs": [],
   "execution_count": 75
  },
  {
   "metadata": {
    "ExecuteTime": {
     "end_time": "2025-03-24T17:01:50.704749Z",
     "start_time": "2025-03-24T17:01:50.702027Z"
    }
   },
   "cell_type": "code",
   "source": [
    "params = {\n",
    "    'iterations': 200,\n",
    "    'thread_count': -1,\n",
    "    'depth': 6, \n",
    "    'learning_rate': 0.1, \n",
    "    'random_state': 1,\n",
    "    'loss_function': 'YetiRankPairwise',\n",
    "    'eval_metric': 'NDCG',\n",
    "#     'eval_metric': 'AUC',\n",
    "#     'loss_function': 'Logloss',\n",
    "    'task_type': 'CPU',\n",
    "}"
   ],
   "id": "3cbe2c3307c1439d",
   "outputs": [],
   "execution_count": 76
  },
  {
   "metadata": {
    "ExecuteTime": {
     "end_time": "2025-03-24T12:12:26.788746Z",
     "start_time": "2025-03-24T12:08:04.420754Z"
    }
   },
   "cell_type": "code",
   "source": [
    "model = catboost.CatBoost(params)\n",
    "model.fit(\n",
    "    train_pool, \n",
    "    eval_set=eval_pool,\n",
    "    use_best_model=True,\n",
    "    verbose=10,\n",
    "    early_stopping_rounds=50,\n",
    ")"
   ],
   "id": "ac052a7ad062aa0f",
   "outputs": [
    {
     "name": "stdout",
     "output_type": "stream",
     "text": [
      "0:\ttest: 0.6282144\tbest: 0.6282144 (0)\ttotal: 1.34s\tremaining: 4m 26s\n",
      "10:\ttest: 0.6691653\tbest: 0.6691653 (10)\ttotal: 14.9s\tremaining: 4m 15s\n",
      "20:\ttest: 0.6777329\tbest: 0.6777329 (20)\ttotal: 28s\tremaining: 3m 58s\n",
      "30:\ttest: 0.6883204\tbest: 0.6883204 (30)\ttotal: 40.8s\tremaining: 3m 42s\n",
      "40:\ttest: 0.6919649\tbest: 0.6919649 (40)\ttotal: 54.5s\tremaining: 3m 31s\n",
      "50:\ttest: 0.6931478\tbest: 0.6931614 (49)\ttotal: 1m 7s\tremaining: 3m 16s\n",
      "60:\ttest: 0.6996091\tbest: 0.6996091 (60)\ttotal: 1m 20s\tremaining: 3m 2s\n",
      "70:\ttest: 0.7000428\tbest: 0.7000428 (70)\ttotal: 1m 33s\tremaining: 2m 49s\n",
      "80:\ttest: 0.7006474\tbest: 0.7007887 (78)\ttotal: 1m 46s\tremaining: 2m 36s\n",
      "90:\ttest: 0.7033825\tbest: 0.7034330 (87)\ttotal: 1m 59s\tremaining: 2m 23s\n",
      "100:\ttest: 0.7041027\tbest: 0.7041027 (100)\ttotal: 2m 12s\tremaining: 2m 10s\n",
      "110:\ttest: 0.7052497\tbest: 0.7052497 (110)\ttotal: 2m 25s\tremaining: 1m 56s\n",
      "120:\ttest: 0.7058822\tbest: 0.7061790 (117)\ttotal: 2m 37s\tremaining: 1m 43s\n",
      "130:\ttest: 0.7062165\tbest: 0.7063451 (127)\ttotal: 2m 50s\tremaining: 1m 29s\n",
      "140:\ttest: 0.7062996\tbest: 0.7063700 (134)\ttotal: 3m 3s\tremaining: 1m 16s\n",
      "150:\ttest: 0.7066945\tbest: 0.7066945 (150)\ttotal: 3m 16s\tremaining: 1m 3s\n",
      "160:\ttest: 0.7075003\tbest: 0.7075801 (159)\ttotal: 3m 30s\tremaining: 50.9s\n",
      "170:\ttest: 0.7078593\tbest: 0.7078593 (170)\ttotal: 3m 43s\tremaining: 37.9s\n",
      "180:\ttest: 0.7081916\tbest: 0.7081916 (180)\ttotal: 3m 57s\tremaining: 24.9s\n",
      "190:\ttest: 0.7083201\tbest: 0.7083201 (190)\ttotal: 4m 10s\tremaining: 11.8s\n",
      "199:\ttest: 0.7084494\tbest: 0.7086077 (194)\ttotal: 4m 22s\tremaining: 0us\n",
      "\n",
      "bestTest = 0.7086077378\n",
      "bestIteration = 194\n",
      "\n",
      "Shrink model to first 195 iterations.\n"
     ]
    },
    {
     "data": {
      "text/plain": [
       "<catboost.core.CatBoost at 0x35c870f70>"
      ]
     },
     "execution_count": 32,
     "metadata": {},
     "output_type": "execute_result"
    }
   ],
   "execution_count": 32
  },
  {
   "metadata": {
    "ExecuteTime": {
     "end_time": "2025-03-24T12:12:26.794287Z",
     "start_time": "2025-03-24T12:12:26.790468Z"
    }
   },
   "cell_type": "code",
   "source": [
    "name = 'ranker_v1'\n",
    "model.save_model(f\"../models/{name}.bin\")"
   ],
   "id": "82f217a881527387",
   "outputs": [],
   "execution_count": 33
  },
  {
   "metadata": {
    "ExecuteTime": {
     "end_time": "2025-03-24T12:12:27.796591Z",
     "start_time": "2025-03-24T12:12:26.795063Z"
    }
   },
   "cell_type": "code",
   "source": [
    "fi = model.get_feature_importance(eval_pool, prettified=True)\n",
    "fi.head(50)"
   ],
   "id": "60f3691a73deb75d",
   "outputs": [
    {
     "data": {
      "text/plain": [
       "        Feature Id  Importances\n",
       "0   ui_num_to_cart     0.016169\n",
       "1     ui_num_order     0.004055\n",
       "2     ui_num_click     0.003388\n",
       "3   i_num_favorite     0.002410\n",
       "4      i_num_click     0.001336\n",
       "5  ui_num_favorite     0.000278\n",
       "6    i_num_to_cart     0.000054\n",
       "7      i_num_order    -0.003105"
      ],
      "text/html": [
       "<div>\n",
       "<style scoped>\n",
       "    .dataframe tbody tr th:only-of-type {\n",
       "        vertical-align: middle;\n",
       "    }\n",
       "\n",
       "    .dataframe tbody tr th {\n",
       "        vertical-align: top;\n",
       "    }\n",
       "\n",
       "    .dataframe thead th {\n",
       "        text-align: right;\n",
       "    }\n",
       "</style>\n",
       "<table border=\"1\" class=\"dataframe\">\n",
       "  <thead>\n",
       "    <tr style=\"text-align: right;\">\n",
       "      <th></th>\n",
       "      <th>Feature Id</th>\n",
       "      <th>Importances</th>\n",
       "    </tr>\n",
       "  </thead>\n",
       "  <tbody>\n",
       "    <tr>\n",
       "      <th>0</th>\n",
       "      <td>ui_num_to_cart</td>\n",
       "      <td>0.016169</td>\n",
       "    </tr>\n",
       "    <tr>\n",
       "      <th>1</th>\n",
       "      <td>ui_num_order</td>\n",
       "      <td>0.004055</td>\n",
       "    </tr>\n",
       "    <tr>\n",
       "      <th>2</th>\n",
       "      <td>ui_num_click</td>\n",
       "      <td>0.003388</td>\n",
       "    </tr>\n",
       "    <tr>\n",
       "      <th>3</th>\n",
       "      <td>i_num_favorite</td>\n",
       "      <td>0.002410</td>\n",
       "    </tr>\n",
       "    <tr>\n",
       "      <th>4</th>\n",
       "      <td>i_num_click</td>\n",
       "      <td>0.001336</td>\n",
       "    </tr>\n",
       "    <tr>\n",
       "      <th>5</th>\n",
       "      <td>ui_num_favorite</td>\n",
       "      <td>0.000278</td>\n",
       "    </tr>\n",
       "    <tr>\n",
       "      <th>6</th>\n",
       "      <td>i_num_to_cart</td>\n",
       "      <td>0.000054</td>\n",
       "    </tr>\n",
       "    <tr>\n",
       "      <th>7</th>\n",
       "      <td>i_num_order</td>\n",
       "      <td>-0.003105</td>\n",
       "    </tr>\n",
       "  </tbody>\n",
       "</table>\n",
       "</div>"
      ]
     },
     "execution_count": 34,
     "metadata": {},
     "output_type": "execute_result"
    }
   ],
   "execution_count": 34
  },
  {
   "metadata": {
    "ExecuteTime": {
     "end_time": "2025-03-24T17:11:08.898107Z",
     "start_time": "2025-03-24T17:11:08.894931Z"
    }
   },
   "cell_type": "code",
   "source": "model",
   "id": "f4a6387338c6ef6e",
   "outputs": [
    {
     "data": {
      "text/plain": [
       "<catboost.core.CatBoost at 0x35c870f70>"
      ]
     },
     "execution_count": 77,
     "metadata": {},
     "output_type": "execute_result"
    }
   ],
   "execution_count": 77
  },
  {
   "metadata": {
    "ExecuteTime": {
     "end_time": "2025-03-24T17:11:29.492993Z",
     "start_time": "2025-03-24T17:11:29.464749Z"
    }
   },
   "cell_type": "code",
   "source": [
    "model_load = catboost.CatBoost()\n",
    "model_load.load_model(f\"../models/{name}.bin\")"
   ],
   "id": "5283f53e5278840b",
   "outputs": [
    {
     "data": {
      "text/plain": [
       "<catboost.core.CatBoost at 0x547b239d0>"
      ]
     },
     "execution_count": 78,
     "metadata": {},
     "output_type": "execute_result"
    }
   ],
   "execution_count": 78
  },
  {
   "metadata": {},
   "cell_type": "code",
   "outputs": [],
   "execution_count": null,
   "source": "",
   "id": "aab3f1cc0c838aa3"
  }
 ],
 "metadata": {
  "kernelspec": {
   "display_name": "Python 3",
   "language": "python",
   "name": "python3"
  },
  "language_info": {
   "codemirror_mode": {
    "name": "ipython",
    "version": 2
   },
   "file_extension": ".py",
   "mimetype": "text/x-python",
   "name": "python",
   "nbconvert_exporter": "python",
   "pygments_lexer": "ipython2",
   "version": "2.7.6"
  }
 },
 "nbformat": 4,
 "nbformat_minor": 5
}
