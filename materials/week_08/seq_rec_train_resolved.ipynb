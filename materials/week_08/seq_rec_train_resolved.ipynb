{
 "cells": [
  {
   "cell_type": "code",
   "execution_count": 9,
   "id": "initial_id",
   "metadata": {
    "ExecuteTime": {
     "end_time": "2025-04-13T16:08:30.189767Z",
     "start_time": "2025-04-13T16:08:30.187523Z"
    },
    "collapsed": true,
    "jupyter": {
     "outputs_hidden": true
    }
   },
   "outputs": [],
   "source": [
    "import polars as pl\n",
    "import torch\n",
    "from datetime import date, timedelta"
   ]
  },
  {
   "cell_type": "code",
   "execution_count": 10,
   "id": "c09ed86b5ec90357",
   "metadata": {
    "ExecuteTime": {
     "end_time": "2025-04-13T16:26:30.666707Z",
     "start_time": "2025-04-13T16:26:30.595914Z"
    }
   },
   "outputs": [],
   "source": [
    "%load_ext autoreload\n",
    "%autoreload 2"
   ]
  },
  {
   "cell_type": "code",
   "execution_count": 11,
   "id": "35b0e8c6731a97fe",
   "metadata": {
    "ExecuteTime": {
     "end_time": "2025-04-13T16:26:43.894508Z",
     "start_time": "2025-04-13T16:26:43.879001Z"
    }
   },
   "outputs": [],
   "source": [
    "TEST_START = date(2024, 7, 1)"
   ]
  },
  {
   "cell_type": "code",
   "execution_count": 13,
   "id": "6db965fa6e524b21",
   "metadata": {
    "ExecuteTime": {
     "end_time": "2025-04-13T16:27:02.559869Z",
     "start_time": "2025-04-13T16:27:00.088582Z"
    }
   },
   "outputs": [],
   "source": [
    "user_actions_full = pl.read_parquet('../data/user_actions_full')"
   ]
  },
  {
   "cell_type": "code",
   "execution_count": 14,
   "id": "45ef129b98749e62",
   "metadata": {
    "ExecuteTime": {
     "end_time": "2025-04-13T16:27:09.109465Z",
     "start_time": "2025-04-13T16:27:04.479971Z"
    }
   },
   "outputs": [],
   "source": [
    "train_orders = (\n",
    "    user_actions_full\n",
    "    .filter(pl.col('date') < TEST_START)\n",
    "    .filter(pl.col('date') >= TEST_START - timedelta(days=3 * 30))\n",
    "    .filter(pl.col('action_type') == 'order')\n",
    "    .select('user_id', 'product_id', 'date')\n",
    ")"
   ]
  },
  {
   "cell_type": "code",
   "execution_count": 54,
   "id": "d4717724cd43d64",
   "metadata": {
    "ExecuteTime": {
     "end_time": "2025-04-13T16:57:40.794640Z",
     "start_time": "2025-04-13T16:57:40.368930Z"
    }
   },
   "outputs": [],
   "source": [
    "del user_actions_full"
   ]
  },
  {
   "cell_type": "code",
   "execution_count": 22,
   "id": "697d7fa5b346b871",
   "metadata": {
    "ExecuteTime": {
     "end_time": "2025-04-13T16:30:23.455081Z",
     "start_time": "2025-04-13T16:30:23.367161Z"
    }
   },
   "outputs": [],
   "source": [
    "id_mapping = (\n",
    "    train_orders\n",
    "    .select('product_id')\n",
    "    .unique()\n",
    "    .sort('product_id')\n",
    "    .with_row_index('id')\n",
    "    .with_columns([\n",
    "        (pl.col('id') + 1).alias('id')\n",
    "    ])\n",
    ")"
   ]
  },
  {
   "cell_type": "code",
   "execution_count": 27,
   "id": "a3c47207304b599",
   "metadata": {
    "ExecuteTime": {
     "end_time": "2025-04-13T16:33:15.953440Z",
     "start_time": "2025-04-13T16:33:14.990481Z"
    }
   },
   "outputs": [],
   "source": [
    "user_with_ids = (\n",
    "    train_orders\n",
    "    .join(id_mapping, on='product_id')\n",
    "    .sort('user_id', 'date', 'id')\n",
    "    .group_by('user_id')\n",
    "    .agg(pl.col('id').alias('ids'))\n",
    ")"
   ]
  },
  {
   "cell_type": "code",
   "execution_count": 38,
   "id": "d3c76a9917d46a00",
   "metadata": {
    "ExecuteTime": {
     "end_time": "2025-04-13T16:40:56.138124Z",
     "start_time": "2025-04-13T16:40:56.110555Z"
    }
   },
   "outputs": [
    {
     "data": {
      "text/html": [
       "<div><style>\n",
       ".dataframe > thead > tr,\n",
       ".dataframe > tbody > tr {\n",
       "  text-align: right;\n",
       "  white-space: pre-wrap;\n",
       "}\n",
       "</style>\n",
       "<small>shape: (1, 3)</small><table border=\"1\" class=\"dataframe\"><thead><tr><th>max_len</th><th>min_len</th><th>median_len</th></tr><tr><td>u32</td><td>u32</td><td>f64</td></tr></thead><tbody><tr><td>1752</td><td>1</td><td>5.0</td></tr></tbody></table></div>"
      ],
      "text/plain": [
       "shape: (1, 3)\n",
       "┌─────────┬─────────┬────────────┐\n",
       "│ max_len ┆ min_len ┆ median_len │\n",
       "│ ---     ┆ ---     ┆ ---        │\n",
       "│ u32     ┆ u32     ┆ f64        │\n",
       "╞═════════╪═════════╪════════════╡\n",
       "│ 1752    ┆ 1       ┆ 5.0        │\n",
       "└─────────┴─────────┴────────────┘"
      ]
     },
     "execution_count": 38,
     "metadata": {},
     "output_type": "execute_result"
    }
   ],
   "source": [
    "(\n",
    "    user_with_ids\n",
    "    .with_columns([\n",
    "        pl.col('ids').list.len().alias('ids_len')\n",
    "    ])\n",
    "    .select(\n",
    "        pl.max('ids_len').alias('max_len'),\n",
    "        pl.min('ids_len').alias('min_len'),\n",
    "        pl.quantile('ids_len', 0.5).alias('median_len'),\n",
    "    )\n",
    ")"
   ]
  },
  {
   "cell_type": "code",
   "execution_count": 49,
   "id": "2fbd3022ccf05f5c",
   "metadata": {
    "ExecuteTime": {
     "end_time": "2025-04-13T16:54:50.306126Z",
     "start_time": "2025-04-13T16:54:50.058874Z"
    }
   },
   "outputs": [],
   "source": [
    "user_with_ids_filtered = (\n",
    "    user_with_ids\n",
    "    .with_columns([\n",
    "        pl.col('ids').list.slice(-64, 64).alias('ids'),\n",
    "    ])\n",
    "    .filter(pl.col('ids').list.len() > 1)\n",
    ")"
   ]
  },
  {
   "cell_type": "code",
   "execution_count": 50,
   "id": "50b8a06163135015",
   "metadata": {
    "ExecuteTime": {
     "end_time": "2025-04-13T16:54:51.825406Z",
     "start_time": "2025-04-13T16:54:51.807893Z"
    }
   },
   "outputs": [
    {
     "data": {
      "text/html": [
       "<div><style>\n",
       ".dataframe > thead > tr,\n",
       ".dataframe > tbody > tr {\n",
       "  text-align: right;\n",
       "  white-space: pre-wrap;\n",
       "}\n",
       "</style>\n",
       "<small>shape: (1, 3)</small><table border=\"1\" class=\"dataframe\"><thead><tr><th>max_len</th><th>min_len</th><th>median_len</th></tr><tr><td>u32</td><td>u32</td><td>f64</td></tr></thead><tbody><tr><td>64</td><td>2</td><td>8.0</td></tr></tbody></table></div>"
      ],
      "text/plain": [
       "shape: (1, 3)\n",
       "┌─────────┬─────────┬────────────┐\n",
       "│ max_len ┆ min_len ┆ median_len │\n",
       "│ ---     ┆ ---     ┆ ---        │\n",
       "│ u32     ┆ u32     ┆ f64        │\n",
       "╞═════════╪═════════╪════════════╡\n",
       "│ 64      ┆ 2       ┆ 8.0        │\n",
       "└─────────┴─────────┴────────────┘"
      ]
     },
     "execution_count": 50,
     "metadata": {},
     "output_type": "execute_result"
    }
   ],
   "source": [
    "(\n",
    "    user_with_ids_filtered\n",
    "    .with_columns([\n",
    "        pl.col('ids').list.len().alias('ids_len')\n",
    "    ])\n",
    "    .select(\n",
    "        pl.max('ids_len').alias('max_len'),\n",
    "        pl.min('ids_len').alias('min_len'),\n",
    "        pl.quantile('ids_len', 0.5).alias('median_len'),\n",
    "    )\n",
    ")"
   ]
  },
  {
   "cell_type": "code",
   "execution_count": 52,
   "id": "292ed14b7e58fb3a",
   "metadata": {
    "ExecuteTime": {
     "end_time": "2025-04-13T16:55:16.049478Z",
     "start_time": "2025-04-13T16:55:16.032829Z"
    }
   },
   "outputs": [
    {
     "data": {
      "text/plain": [
       "(713166, 2)"
      ]
     },
     "execution_count": 52,
     "metadata": {},
     "output_type": "execute_result"
    }
   ],
   "source": [
    "user_with_ids_filtered.shape"
   ]
  },
  {
   "cell_type": "code",
   "execution_count": 53,
   "id": "d43d70fd03a20a97",
   "metadata": {
    "ExecuteTime": {
     "end_time": "2025-04-13T16:55:29.574100Z",
     "start_time": "2025-04-13T16:55:29.535280Z"
    }
   },
   "outputs": [
    {
     "data": {
      "text/plain": [
       "(53755, 2)"
      ]
     },
     "execution_count": 53,
     "metadata": {},
     "output_type": "execute_result"
    }
   ],
   "source": [
    "id_mapping.shape"
   ]
  },
  {
   "cell_type": "code",
   "execution_count": 53,
   "id": "93b534088212a92a",
   "metadata": {
    "ExecuteTime": {
     "end_time": "2025-04-13T16:57:23.771416Z",
     "start_time": "2025-04-13T16:57:23.755115Z"
    }
   },
   "outputs": [],
   "source": []
  },
  {
   "cell_type": "code",
   "execution_count": null,
   "id": "458147c21dd513e3",
   "metadata": {},
   "outputs": [],
   "source": []
  },
  {
   "cell_type": "code",
   "execution_count": null,
   "id": "6df952c6f121308d",
   "metadata": {},
   "outputs": [],
   "source": []
  },
  {
   "cell_type": "markdown",
   "id": "de260677c960e8f7",
   "metadata": {},
   "source": [
    "![title](/Users/alkrasnov/Documents/RS_IR_25/lecture6/simple_recommender/notebooks/pic/sasrec_bert4rec.png)"
   ]
  },
  {
   "cell_type": "code",
   "execution_count": 60,
   "id": "4f340f6fb09a5e12",
   "metadata": {
    "ExecuteTime": {
     "end_time": "2025-04-13T17:22:07.393354Z",
     "start_time": "2025-04-13T17:22:07.373751Z"
    }
   },
   "outputs": [
    {
     "data": {
      "text/plain": [
       "[30136, 39889]"
      ]
     },
     "execution_count": 60,
     "metadata": {},
     "output_type": "execute_result"
    }
   ],
   "source": [
    "user_with_ids_filtered[0]['ids'].to_list()[0]"
   ]
  },
  {
   "cell_type": "code",
   "execution_count": 129,
   "id": "5e7f48298194eb38",
   "metadata": {
    "ExecuteTime": {
     "end_time": "2025-04-13T19:09:45.177568Z",
     "start_time": "2025-04-13T19:09:45.158126Z"
    }
   },
   "outputs": [
    {
     "data": {
      "text/plain": [
       "(53755, 2)"
      ]
     },
     "execution_count": 129,
     "metadata": {},
     "output_type": "execute_result"
    }
   ],
   "source": [
    "id_mapping.shape"
   ]
  },
  {
   "cell_type": "code",
   "execution_count": 130,
   "id": "e0433793337f14",
   "metadata": {
    "ExecuteTime": {
     "end_time": "2025-04-13T19:09:51.200308Z",
     "start_time": "2025-04-13T19:09:51.184968Z"
    }
   },
   "outputs": [],
   "source": [
    "num_items = id_mapping.shape[0]"
   ]
  },
  {
   "cell_type": "code",
   "execution_count": 55,
   "id": "7462631c0c138046",
   "metadata": {
    "ExecuteTime": {
     "end_time": "2025-04-13T17:05:59.549156Z",
     "start_time": "2025-04-13T17:05:59.503115Z"
    }
   },
   "outputs": [],
   "source": [
    "from torch.utils.data import DataLoader, Dataset"
   ]
  },
  {
   "cell_type": "code",
   "execution_count": 136,
   "id": "54f909ce33c94bb8",
   "metadata": {
    "ExecuteTime": {
     "end_time": "2025-04-13T19:11:55.987520Z",
     "start_time": "2025-04-13T19:11:55.970589Z"
    }
   },
   "outputs": [],
   "source": [
    "class Orders(Dataset):\n",
    "    def __init__(self, orders_df: pl.DataFrame, max_len: int, pad_value: int):\n",
    "        super().__init__()\n",
    "        self.orders_df = orders_df\n",
    "        self.max_len = max_len\n",
    "        self.pad_value = pad_value\n",
    "        \n",
    "    def __len__(self):\n",
    "        return len(self.orders_df)\n",
    "    \n",
    "    def __getitem__(self, idx):\n",
    "        row = self.orders_df[idx]\n",
    "        ids = row['ids'].to_list()[0]\n",
    "        if len(ids) < self.max_len:\n",
    "            ids = [self.pad_value] * (self.max_len - len(ids)) + ids\n",
    "        return torch.tensor(ids, dtype=torch.int64)"
   ]
  },
  {
   "cell_type": "code",
   "execution_count": 137,
   "id": "2f2d91a559dfb1de",
   "metadata": {
    "ExecuteTime": {
     "end_time": "2025-04-13T19:11:56.578539Z",
     "start_time": "2025-04-13T19:11:56.564852Z"
    }
   },
   "outputs": [],
   "source": [
    "orders = Orders(user_with_ids_filtered, max_len=64+1, pad_value=num_items+1)"
   ]
  },
  {
   "cell_type": "code",
   "execution_count": 138,
   "id": "6e3c256e93985f6b",
   "metadata": {
    "ExecuteTime": {
     "end_time": "2025-04-13T19:11:57.162852Z",
     "start_time": "2025-04-13T19:11:57.148393Z"
    }
   },
   "outputs": [],
   "source": [
    "def collate_train(input_batch, pad_value, num_negatives):\n",
    "    batch_cat = torch.stack([input_batch[i] for i in range(len(input_batch))], dim=0)\n",
    "    negatives = torch.randint(low=1, high=pad_value, size=(batch_cat.size(0), batch_cat.size(1), num_negatives))\n",
    "    return [batch_cat, negatives]"
   ]
  },
  {
   "cell_type": "code",
   "execution_count": 139,
   "id": "98017b7eaef65676",
   "metadata": {
    "ExecuteTime": {
     "end_time": "2025-04-13T19:11:57.733822Z",
     "start_time": "2025-04-13T19:11:57.720200Z"
    }
   },
   "outputs": [],
   "source": [
    "def get_train_dataloader(\n",
    "        orders_df: pl.DataFrame,\n",
    "        pad_value: int,\n",
    "        batch_size=32,\n",
    "        max_len=64,\n",
    "        train_neg_per_positive=256,\n",
    "):\n",
    "    train_dataset = Orders(orders_df, max_len=max_len + 1, pad_value=pad_value)\n",
    "    train_loader = DataLoader(\n",
    "        train_dataset,\n",
    "        batch_size=batch_size,\n",
    "        shuffle=True,\n",
    "        collate_fn=lambda x: collate_train(x, pad_value=pad_value, num_negatives=train_neg_per_positive)\n",
    "    )\n",
    "    return train_loader"
   ]
  },
  {
   "cell_type": "code",
   "execution_count": 143,
   "id": "1ab539cb7e1fcfb2",
   "metadata": {
    "ExecuteTime": {
     "end_time": "2025-04-13T19:12:10.252505Z",
     "start_time": "2025-04-13T19:12:10.236510Z"
    }
   },
   "outputs": [],
   "source": [
    "train_dataloader = get_train_dataloader(\n",
    "    user_with_ids_filtered,\n",
    "    pad_value=id_mapping.shape[0]+1,\n",
    "    batch_size=256,\n",
    "    max_len=64,\n",
    "    train_neg_per_positive=128,\n",
    ")"
   ]
  },
  {
   "cell_type": "code",
   "execution_count": 144,
   "id": "9c31affebc87f19c",
   "metadata": {
    "ExecuteTime": {
     "end_time": "2025-04-13T19:12:10.882804Z",
     "start_time": "2025-04-13T19:12:10.832115Z"
    }
   },
   "outputs": [],
   "source": [
    "for batch in train_dataloader:\n",
    "    break"
   ]
  },
  {
   "cell_type": "code",
   "execution_count": 145,
   "id": "7c9f7e8509a46749",
   "metadata": {
    "ExecuteTime": {
     "end_time": "2025-04-13T19:12:11.379610Z",
     "start_time": "2025-04-13T19:12:11.364420Z"
    }
   },
   "outputs": [
    {
     "data": {
      "text/plain": [
       "tensor([53756, 53756, 53756, 53756, 53756, 53756, 53756, 53756, 53756, 53756,\n",
       "        53756, 53756, 53756, 53756, 53756, 53756, 53756, 53756, 53756, 53756,\n",
       "        53756, 53756, 53756, 53756, 53756, 53756, 53756, 53756, 53756, 53756,\n",
       "        53756, 53756, 53756, 53756, 53756, 53756, 53756, 53756, 53756, 53756,\n",
       "        53756, 53756, 53756, 53756, 53756, 53756, 53756, 53756, 53756, 53756,\n",
       "        53756, 53756, 53756, 53756, 53756, 53756, 53756, 53756,  2000,  6962,\n",
       "         7210, 21426, 21708,  6256, 10238])"
      ]
     },
     "execution_count": 145,
     "metadata": {},
     "output_type": "execute_result"
    }
   ],
   "source": [
    "batch[0][0]"
   ]
  },
  {
   "cell_type": "code",
   "execution_count": 146,
   "id": "e6ab9a7aedaeeb0",
   "metadata": {
    "ExecuteTime": {
     "end_time": "2025-04-13T19:12:12.651577Z",
     "start_time": "2025-04-13T19:12:12.634878Z"
    }
   },
   "outputs": [
    {
     "data": {
      "text/plain": [
       "tensor([[38577, 18167, 16791,  ..., 10163, 28285, 42310],\n",
       "        [17320, 27711,  7356,  ..., 43424, 44999, 37190],\n",
       "        [26808, 24614, 47072,  ..., 21841, 45173,   912],\n",
       "        ...,\n",
       "        [39255, 32103, 29848,  ..., 33937,  9083, 15550],\n",
       "        [30248, 21747, 15466,  ...,    83, 53131, 26752],\n",
       "        [43666, 42889, 33373,  ..., 38804, 43915, 15656]])"
      ]
     },
     "execution_count": 146,
     "metadata": {},
     "output_type": "execute_result"
    }
   ],
   "source": [
    "batch[1][0]"
   ]
  },
  {
   "cell_type": "code",
   "execution_count": 147,
   "id": "b0b49d62840d86b7",
   "metadata": {
    "ExecuteTime": {
     "end_time": "2025-04-13T19:12:22.189229Z",
     "start_time": "2025-04-13T19:12:22.159911Z"
    }
   },
   "outputs": [],
   "source": [
    "import torch.nn as nn\n",
    "import torch.nn.functional as F\n",
    "\n",
    "\n",
    "class MultiHeadAttention(nn.Module):\n",
    "    def __init__(self, dim, num_heads, dropout_rate=0.5):\n",
    "        super(MultiHeadAttention, self).__init__()\n",
    "        self.num_heads = num_heads\n",
    "        self.query_proj = nn.Linear(dim, dim)\n",
    "        self.key_proj = nn.Linear(dim, dim)\n",
    "        self.val_proj = nn.Linear(dim, dim)\n",
    "        self.dropout = nn.Dropout(dropout_rate) # Change the dropout rate as needed\n",
    "\n",
    "    def forward(self, queries, keys, causality=False):\n",
    "        Q = self.query_proj(queries)\n",
    "        K = self.key_proj(keys)\n",
    "        V = self.val_proj(keys)\n",
    "\n",
    "        # Split and concat\n",
    "        Q_ = torch.cat(Q.chunk(self.num_heads, dim=2), dim=0)\n",
    "        K_ = torch.cat(K.chunk(self.num_heads, dim=2), dim=0)\n",
    "        V_ = torch.cat(V.chunk(self.num_heads, dim=2), dim=0)\n",
    "\n",
    "        # Multiplication\n",
    "        outputs = torch.matmul(Q_, K_.transpose(1, 2))\n",
    "\n",
    "        # Scale\n",
    "        outputs = outputs / (K_.size(-1) ** 0.5)\n",
    "\n",
    "        # Key Masking\n",
    "        key_masks = torch.sign(torch.sum(torch.abs(keys), dim=-1))\n",
    "        key_masks = key_masks.repeat(self.num_heads, 1)\n",
    "        key_masks = key_masks.unsqueeze(1).repeat(1, queries.size(1), 1)\n",
    "        \n",
    "        outputs = outputs.masked_fill(key_masks == 0, float('-inf'))\n",
    "\n",
    "        # Causality\n",
    "        if causality:\n",
    "            diag_vals = torch.ones_like(outputs[0])\n",
    "            tril = torch.tril(diag_vals)\n",
    "            masks = tril[None, :, :].repeat(outputs.size(0), 1, 1)\n",
    "\n",
    "            outputs = outputs.masked_fill(masks == 0, float('-inf'))\n",
    "\n",
    "        # Activation\n",
    "        outputs = F.softmax(outputs, dim=-1)\n",
    "        outputs = torch.nan_to_num(outputs, nan=0.0, posinf=0.0, neginf=0.0)\n",
    "\n",
    "\n",
    "        # Query Masking\n",
    "        query_masks = torch.sign(torch.sum(torch.abs(queries), dim=-1))\n",
    "        query_masks = query_masks.repeat(self.num_heads, 1)\n",
    "        query_masks = query_masks.unsqueeze(-1).repeat(1, 1, keys.size(1))\n",
    "\n",
    "        outputs *= query_masks\n",
    "\n",
    "        attention_chunks = outputs.chunk(self.num_heads, dim=0)\n",
    "        attention_weights = torch.stack(attention_chunks, dim=1)\n",
    "\n",
    "\n",
    "        # Dropouts\n",
    "        outputs = self.dropout(outputs)\n",
    "\n",
    "        # Weighted sum\n",
    "        outputs = torch.matmul(outputs, V_)\n",
    "\n",
    "        # Restore shape\n",
    "        outputs = torch.cat(outputs.chunk(self.num_heads, dim=0), dim=2)\n",
    "        return outputs, attention_weights\n",
    "\n",
    "\n",
    "class TransformerBlock(nn.Module):\n",
    "    def __init__(self, dim, num_heads, hidden_dim, dropout_rate=0.5, causality=True):\n",
    "        super(TransformerBlock, self).__init__()\n",
    "        \n",
    "        self.first_norm = nn.LayerNorm(dim)\n",
    "        self.second_norm = nn.LayerNorm(dim)\n",
    "        \n",
    "        self.multihead_attention = MultiHeadAttention(dim, num_heads, dropout_rate)\n",
    "        \n",
    "        self.dense1 = nn.Linear(dim, hidden_dim)\n",
    "        self.dense2 = nn.Linear(hidden_dim, dim)\n",
    "        \n",
    "        self.dropout = nn.Dropout(dropout_rate)\n",
    "        self.causality = causality\n",
    "        \n",
    "    def forward(self, seq, mask=None):\n",
    "        x = self.first_norm(seq)\n",
    "        queries = x\n",
    "        keys = seq\n",
    "        x, attentions = self.multihead_attention(queries, keys, self.causality)\n",
    "        \n",
    "        # Add & Norm\n",
    "        x = x + queries\n",
    "        x = self.second_norm(x)\n",
    "        \n",
    "        # Feed Forward\n",
    "        residual = x\n",
    "        x = self.dense1(x)\n",
    "        x = F.relu(x)\n",
    "        x = self.dropout(x)\n",
    "        x = self.dense2(x)\n",
    "        x = self.dropout(x)\n",
    "        \n",
    "        # Add & Norm\n",
    "        x = x + residual\n",
    "        \n",
    "        # Apply mask if provided\n",
    "        if mask is not None:\n",
    "            x *= mask\n",
    "            \n",
    "        return x, attentions"
   ]
  },
  {
   "cell_type": "code",
   "execution_count": 148,
   "id": "8597774e1663f48d",
   "metadata": {
    "ExecuteTime": {
     "end_time": "2025-04-13T19:13:39.729189Z",
     "start_time": "2025-04-13T19:13:39.685929Z"
    }
   },
   "outputs": [],
   "source": [
    "import torch \n",
    "\n",
    "class SASRec(torch.nn.Module):\n",
    "    def __init__ (\n",
    "            self,\n",
    "            num_items,\n",
    "            sequence_length=64,\n",
    "            embedding_dim=256,\n",
    "            num_heads=4,\n",
    "            num_blocks=3,\n",
    "            dropout_rate=0.5,\n",
    "            reuse_item_embeddings=False\n",
    "    ):\n",
    "        super(SASRec, self).__init__()\n",
    "        self.num_items = num_items\n",
    "        self.sequence_length = sequence_length\n",
    "        self.embedding_dim = embedding_dim\n",
    "        self.embeddings_dropout = torch.nn.Dropout(dropout_rate)\n",
    "\n",
    "        self.num_heads = num_heads\n",
    "\n",
    "        self.item_embedding = torch.nn.Embedding(self.num_items + 2, self.embedding_dim) \n",
    "        self.position_embedding = torch.nn.Embedding(self.sequence_length, self.embedding_dim)\n",
    "    \n",
    "        self.transformer_blocks = torch.nn.ModuleList([\n",
    "            TransformerBlock(self.embedding_dim, self.num_heads, self.embedding_dim, dropout_rate)\n",
    "            for _ in range(num_blocks)\n",
    "        ])\n",
    "        self.seq_norm = torch.nn.LayerNorm(self.embedding_dim)\n",
    "        self.reuse_item_embeddings = reuse_item_embeddings\n",
    "        if not self.reuse_item_embeddings:\n",
    "            self.output_embedding = torch.nn.Embedding(self.num_items + 2, self.embedding_dim)\n",
    "\n",
    "    def get_output_embeddings(self) -> torch.nn.Embedding:\n",
    "        if self.reuse_item_embeddings:\n",
    "            return self.item_embedding\n",
    "        else:\n",
    "            return self.output_embedding\n",
    "\n",
    "    #returns last hidden state and the attention weights\n",
    "    def forward(self, input: torch.Tensor):\n",
    "        seq = self.item_embedding(input.long())\n",
    "        mask = (input != self.num_items + 1).float().unsqueeze(-1)\n",
    "        \n",
    "        bs = seq.size(0)\n",
    "        positions = torch.arange(seq.shape[1]).unsqueeze(0).repeat(bs, 1).to(input.device)\n",
    "        pos_embeddings = self.position_embedding(positions)[:input.size(0)]\n",
    "        seq = seq + pos_embeddings\n",
    "        seq = self.embeddings_dropout(seq)\n",
    "        seq *= mask\n",
    "        \n",
    "        attentions = []\n",
    "        for i, block in enumerate(self.transformer_blocks):\n",
    "            seq, attention = block(seq, mask)\n",
    "            attentions.append(attention)\n",
    "        \n",
    "        seq_emb = self.seq_norm(seq)\n",
    "        return seq_emb, attentions\n",
    "    \n",
    "    def get_predictions(self, input, limit, rated=None):\n",
    "        with torch.no_grad():\n",
    "            model_out, _ = self.forward(input)\n",
    "            seq_emb = model_out[:,-1,:] \n",
    "            output_embeddings = self.get_output_embeddings()\n",
    "            scores = torch.einsum('bd,nd->bn', seq_emb, output_embeddings.weight)\n",
    "            scores[:,0] = float(\"-inf\")\n",
    "            scores[:,self.num_items+1:] = float(\"-inf\")\n",
    "            if rated is not None:\n",
    "                for i in range(len(input)):\n",
    "                    for j in rated[i]:\n",
    "                        scores[i, j] = float(\"-inf\")\n",
    "            result = torch.topk(scores, limit, dim=1)\n",
    "            return result.indices, result.values"
   ]
  },
  {
   "cell_type": "code",
   "execution_count": 149,
   "id": "cc234fea9ba2a3d7",
   "metadata": {
    "ExecuteTime": {
     "end_time": "2025-04-13T19:20:44.692972Z",
     "start_time": "2025-04-13T19:20:44.650247Z"
    }
   },
   "outputs": [
    {
     "data": {
      "text/plain": [
       "<torch.utils.data.dataloader.DataLoader at 0x3184b2680>"
      ]
     },
     "execution_count": 149,
     "metadata": {},
     "output_type": "execute_result"
    }
   ],
   "source": [
    "train_dataloader"
   ]
  },
  {
   "cell_type": "code",
   "execution_count": 154,
   "id": "59ba6c37cd7340c3",
   "metadata": {
    "ExecuteTime": {
     "end_time": "2025-04-13T19:25:14.493929Z",
     "start_time": "2025-04-13T19:25:14.397716Z"
    }
   },
   "outputs": [],
   "source": [
    "model = SASRec(\n",
    "    num_items,\n",
    "    sequence_length=64,\n",
    "    embedding_dim=128,\n",
    "    num_heads=4,\n",
    "    num_blocks=3,\n",
    "    dropout_rate=0.0,\n",
    "    reuse_item_embeddings=True,\n",
    ")\n",
    "    "
   ]
  },
  {
   "cell_type": "code",
   "execution_count": 152,
   "id": "462f23d1317e81e5",
   "metadata": {
    "ExecuteTime": {
     "end_time": "2025-04-13T19:24:27.149181Z",
     "start_time": "2025-04-13T19:24:26.484529Z"
    }
   },
   "outputs": [],
   "source": [
    "from tqdm import tqdm\n",
    "\n",
    "device = \"cpu\"\n",
    "optimiser = torch.optim.Adam(model.parameters())\n"
   ]
  },
  {
   "cell_type": "code",
   "execution_count": 155,
   "id": "cf84d2b80292695f",
   "metadata": {
    "ExecuteTime": {
     "end_time": "2025-04-13T19:25:19.229598Z",
     "start_time": "2025-04-13T19:25:19.194583Z"
    }
   },
   "outputs": [
    {
     "data": {
      "text/plain": [
       "SASRec(\n",
       "  (embeddings_dropout): Dropout(p=0.0, inplace=False)\n",
       "  (item_embedding): Embedding(53757, 128)\n",
       "  (position_embedding): Embedding(64, 128)\n",
       "  (transformer_blocks): ModuleList(\n",
       "    (0-2): 3 x TransformerBlock(\n",
       "      (first_norm): LayerNorm((128,), eps=1e-05, elementwise_affine=True)\n",
       "      (second_norm): LayerNorm((128,), eps=1e-05, elementwise_affine=True)\n",
       "      (multihead_attention): MultiHeadAttention(\n",
       "        (query_proj): Linear(in_features=128, out_features=128, bias=True)\n",
       "        (key_proj): Linear(in_features=128, out_features=128, bias=True)\n",
       "        (val_proj): Linear(in_features=128, out_features=128, bias=True)\n",
       "        (dropout): Dropout(p=0.0, inplace=False)\n",
       "      )\n",
       "      (dense1): Linear(in_features=128, out_features=128, bias=True)\n",
       "      (dense2): Linear(in_features=128, out_features=128, bias=True)\n",
       "      (dropout): Dropout(p=0.0, inplace=False)\n",
       "    )\n",
       "  )\n",
       "  (seq_norm): LayerNorm((128,), eps=1e-05, elementwise_affine=True)\n",
       ")"
      ]
     },
     "execution_count": 155,
     "metadata": {},
     "output_type": "execute_result"
    }
   ],
   "source": [
    "model"
   ]
  },
  {
   "cell_type": "code",
   "execution_count": 156,
   "id": "2a85688b6c4ab030",
   "metadata": {
    "ExecuteTime": {
     "end_time": "2025-04-14T04:54:10.413930Z",
     "start_time": "2025-04-14T04:54:10.260060Z"
    }
   },
   "outputs": [],
   "source": [
    "for batch in train_dataloader:\n",
    "    break"
   ]
  },
  {
   "cell_type": "code",
   "execution_count": 157,
   "id": "f7f91bb510b9efdf",
   "metadata": {
    "ExecuteTime": {
     "end_time": "2025-04-14T04:54:18.151663Z",
     "start_time": "2025-04-14T04:54:18.135160Z"
    }
   },
   "outputs": [],
   "source": [
    "positives, negatives = batch"
   ]
  },
  {
   "cell_type": "code",
   "execution_count": 158,
   "id": "d669c6c57327b600",
   "metadata": {
    "ExecuteTime": {
     "end_time": "2025-04-14T04:54:25.388623Z",
     "start_time": "2025-04-14T04:54:25.348627Z"
    }
   },
   "outputs": [],
   "source": [
    "model_input = positives[:, :-1]"
   ]
  },
  {
   "cell_type": "code",
   "execution_count": 160,
   "id": "73d59e2469b6b7a",
   "metadata": {
    "ExecuteTime": {
     "end_time": "2025-04-14T04:54:47.512204Z",
     "start_time": "2025-04-14T04:54:47.218652Z"
    }
   },
   "outputs": [],
   "source": [
    "last_hidden_state, attentions = model(model_input)\n",
    "labels = positives[:, 1:]"
   ]
  },
  {
   "cell_type": "code",
   "execution_count": 161,
   "id": "8642891570cd3074",
   "metadata": {
    "ExecuteTime": {
     "end_time": "2025-04-14T04:54:52.771339Z",
     "start_time": "2025-04-14T04:54:52.725497Z"
    }
   },
   "outputs": [
    {
     "data": {
      "text/plain": [
       "torch.Size([256, 64, 128])"
      ]
     },
     "execution_count": 161,
     "metadata": {},
     "output_type": "execute_result"
    }
   ],
   "source": [
    "last_hidden_state.shape"
   ]
  },
  {
   "cell_type": "code",
   "execution_count": 166,
   "id": "2381ec8f06625f96",
   "metadata": {
    "ExecuteTime": {
     "end_time": "2025-04-14T04:56:07.120012Z",
     "start_time": "2025-04-14T04:56:07.058249Z"
    }
   },
   "outputs": [],
   "source": [
    "negatives = negatives[:, 1:, :]"
   ]
  },
  {
   "cell_type": "code",
   "execution_count": 164,
   "id": "c4fd6697b4d4d210",
   "metadata": {
    "ExecuteTime": {
     "end_time": "2025-04-14T04:55:41.105238Z",
     "start_time": "2025-04-14T04:55:41.034252Z"
    }
   },
   "outputs": [
    {
     "data": {
      "text/plain": [
       "torch.Size([256, 64, 1])"
      ]
     },
     "execution_count": 164,
     "metadata": {},
     "output_type": "execute_result"
    }
   ],
   "source": [
    "labels.unsqueeze(-1).shape"
   ]
  },
  {
   "cell_type": "code",
   "execution_count": 165,
   "id": "9628ecb9d441d217",
   "metadata": {
    "ExecuteTime": {
     "end_time": "2025-04-14T04:55:48.919630Z",
     "start_time": "2025-04-14T04:55:48.896877Z"
    }
   },
   "outputs": [
    {
     "data": {
      "text/plain": [
       "torch.Size([256, 65, 128])"
      ]
     },
     "execution_count": 165,
     "metadata": {},
     "output_type": "execute_result"
    }
   ],
   "source": [
    "negatives.shape"
   ]
  },
  {
   "cell_type": "code",
   "execution_count": 167,
   "id": "8f6075e90f5e8efc",
   "metadata": {
    "ExecuteTime": {
     "end_time": "2025-04-14T04:56:10.233603Z",
     "start_time": "2025-04-14T04:56:10.199929Z"
    }
   },
   "outputs": [],
   "source": [
    "pos_neg_concat = torch.cat([labels.unsqueeze(-1), negatives], dim=-1)\n",
    "output_embeddings = model.get_output_embeddings()"
   ]
  },
  {
   "cell_type": "code",
   "execution_count": 168,
   "id": "f70e256687ff9e8d",
   "metadata": {
    "ExecuteTime": {
     "end_time": "2025-04-14T04:56:24.518993Z",
     "start_time": "2025-04-14T04:56:24.121305Z"
    }
   },
   "outputs": [],
   "source": [
    "pos_neg_embeddings = output_embeddings(pos_neg_concat)"
   ]
  },
  {
   "cell_type": "code",
   "execution_count": 169,
   "id": "274e8cc7e944d178",
   "metadata": {
    "ExecuteTime": {
     "end_time": "2025-04-14T04:56:59.027387Z",
     "start_time": "2025-04-14T04:56:58.975392Z"
    }
   },
   "outputs": [
    {
     "data": {
      "text/plain": [
       "53755"
      ]
     },
     "execution_count": 169,
     "metadata": {},
     "output_type": "execute_result"
    }
   ],
   "source": [
    "num_items"
   ]
  },
  {
   "cell_type": "code",
   "execution_count": 170,
   "id": "a22871bacfcb9ec6",
   "metadata": {
    "ExecuteTime": {
     "end_time": "2025-04-14T04:57:05.277071Z",
     "start_time": "2025-04-14T04:57:05.259545Z"
    }
   },
   "outputs": [],
   "source": [
    "mask = (model_input != num_items + 1).float()"
   ]
  },
  {
   "cell_type": "code",
   "execution_count": 171,
   "id": "4b7b3246560eaabb",
   "metadata": {
    "ExecuteTime": {
     "end_time": "2025-04-14T04:57:11.553120Z",
     "start_time": "2025-04-14T04:57:11.534201Z"
    }
   },
   "outputs": [
    {
     "data": {
      "text/plain": [
       "tensor([[0., 0., 0.,  ..., 0., 1., 1.],\n",
       "        [0., 0., 0.,  ..., 1., 1., 1.],\n",
       "        [0., 0., 0.,  ..., 1., 1., 1.],\n",
       "        ...,\n",
       "        [0., 0., 0.,  ..., 1., 1., 1.],\n",
       "        [0., 0., 0.,  ..., 1., 1., 1.],\n",
       "        [0., 0., 0.,  ..., 1., 1., 1.]])"
      ]
     },
     "execution_count": 171,
     "metadata": {},
     "output_type": "execute_result"
    }
   ],
   "source": [
    "mask"
   ]
  },
  {
   "cell_type": "code",
   "execution_count": 172,
   "id": "7de4807d7fbf6f6b",
   "metadata": {
    "ExecuteTime": {
     "end_time": "2025-04-14T04:58:25.474760Z",
     "start_time": "2025-04-14T04:58:25.079834Z"
    }
   },
   "outputs": [],
   "source": [
    "logits = torch.einsum('bse, bsne -> bsn', last_hidden_state, pos_neg_embeddings)"
   ]
  },
  {
   "cell_type": "code",
   "execution_count": 174,
   "id": "21af3179af6e7acf",
   "metadata": {
    "ExecuteTime": {
     "end_time": "2025-04-14T04:58:45.922686Z",
     "start_time": "2025-04-14T04:58:45.861429Z"
    }
   },
   "outputs": [
    {
     "data": {
      "text/plain": [
       "(torch.Size([256, 64, 128]), torch.Size([256, 64, 129, 128]))"
      ]
     },
     "execution_count": 174,
     "metadata": {},
     "output_type": "execute_result"
    }
   ],
   "source": [
    "last_hidden_state.shape, pos_neg_embeddings.shape"
   ]
  },
  {
   "cell_type": "code",
   "execution_count": 173,
   "id": "f34f720d1f7fb7b",
   "metadata": {
    "ExecuteTime": {
     "end_time": "2025-04-14T04:58:34.846933Z",
     "start_time": "2025-04-14T04:58:34.826916Z"
    }
   },
   "outputs": [
    {
     "data": {
      "text/plain": [
       "torch.Size([256, 64, 129])"
      ]
     },
     "execution_count": 173,
     "metadata": {},
     "output_type": "execute_result"
    }
   ],
   "source": [
    "logits.shape"
   ]
  },
  {
   "cell_type": "code",
   "execution_count": 175,
   "id": "e1a5c9f876b3cbb6",
   "metadata": {
    "ExecuteTime": {
     "end_time": "2025-04-14T04:59:43.758480Z",
     "start_time": "2025-04-14T04:59:43.691444Z"
    }
   },
   "outputs": [],
   "source": [
    "gt = torch.zeros_like(logits)\n",
    "gt[:, :, 0] = 1"
   ]
  },
  {
   "cell_type": "code",
   "execution_count": 176,
   "id": "e2651a6fb7515dcc",
   "metadata": {
    "ExecuteTime": {
     "end_time": "2025-04-14T05:01:48.689020Z",
     "start_time": "2025-04-14T05:01:48.634195Z"
    }
   },
   "outputs": [],
   "source": [
    "alpha = 128 / (num_items - 1)\n",
    "t = 0.75\n",
    "beta = alpha * ((1 - 1/alpha)*t + 1/alpha)"
   ]
  },
  {
   "cell_type": "code",
   "execution_count": 177,
   "id": "3cd33d737ac2e86a",
   "metadata": {
    "ExecuteTime": {
     "end_time": "2025-04-14T05:02:13.433401Z",
     "start_time": "2025-04-14T05:02:13.364537Z"
    }
   },
   "outputs": [],
   "source": [
    "positive_logits = logits[:, :, 0:1].to(torch.float64) #use float64 to increase numerical stability\n",
    "negative_logits = logits[:,:,1:].to(torch.float64)\n",
    "eps = 1e-10\n",
    "positive_probs = torch.clamp(torch.sigmoid(positive_logits), eps, 1-eps)\n",
    "positive_probs_adjusted = torch.clamp(positive_probs.pow(-beta), 1+eps, torch.finfo(torch.float64).max)\n",
    "to_log = torch.clamp(torch.div(1.0, (positive_probs_adjusted  - 1)), eps, torch.finfo(torch.float64).max)\n",
    "positive_logits_transformed = to_log.log()\n",
    "logits = torch.cat([positive_logits_transformed, negative_logits], -1)\n",
    "loss_per_element = torch.nn.functional.binary_cross_entropy_with_logits(logits, gt, reduction='none').mean(-1)*mask\n",
    "loss = loss_per_element.sum() / mask.sum()"
   ]
  },
  {
   "cell_type": "code",
   "execution_count": 178,
   "id": "b2e2db9ea453331e",
   "metadata": {
    "ExecuteTime": {
     "end_time": "2025-04-14T05:02:15.916891Z",
     "start_time": "2025-04-14T05:02:15.893099Z"
    }
   },
   "outputs": [
    {
     "data": {
      "text/plain": [
       "tensor(4.5457, grad_fn=<DivBackward0>)"
      ]
     },
     "execution_count": 178,
     "metadata": {},
     "output_type": "execute_result"
    }
   ],
   "source": [
    "loss"
   ]
  },
  {
   "cell_type": "code",
   "execution_count": null,
   "id": "7b8c33c35911fee6",
   "metadata": {},
   "outputs": [],
   "source": [
    "loss_sum = 0"
   ]
  },
  {
   "cell_type": "code",
   "execution_count": null,
   "id": "3d6ab18450ade4fd",
   "metadata": {},
   "outputs": [],
   "source": [
    "loss.backward()\n",
    "optimiser.step()\n",
    "optimiser.zero_grad()\n",
    "loss_sum += loss.item()"
   ]
  },
  {
   "cell_type": "code",
   "execution_count": null,
   "id": "a7cbbe1d52c8dea6",
   "metadata": {},
   "outputs": [],
   "source": []
  },
  {
   "cell_type": "code",
   "execution_count": null,
   "id": "9d24cbdd6e00550c",
   "metadata": {},
   "outputs": [],
   "source": []
  },
  {
   "cell_type": "markdown",
   "id": "a88da2d62e6a9f88",
   "metadata": {},
   "source": [
    "https://github.com/MobileTeleSystems/RecTools/blob/main/examples/tutorials/transformers_tutorial.ipynb\n",
    "https://github.com/asash/gSASRec-pytorch/blob/main/README.md"
   ]
  },
  {
   "cell_type": "code",
   "execution_count": null,
   "id": "baccace0693add63",
   "metadata": {},
   "outputs": [],
   "source": []
  }
 ],
 "metadata": {
  "kernelspec": {
   "display_name": "Python 3 (ipykernel)",
   "language": "python",
   "name": "python3"
  },
  "language_info": {
   "codemirror_mode": {
    "name": "ipython",
    "version": 3
   },
   "file_extension": ".py",
   "mimetype": "text/x-python",
   "name": "python",
   "nbconvert_exporter": "python",
   "pygments_lexer": "ipython3",
   "version": "3.9.18"
  }
 },
 "nbformat": 4,
 "nbformat_minor": 5
}
