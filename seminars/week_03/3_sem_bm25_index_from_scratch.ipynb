{
 "cells": [
  {
   "cell_type": "code",
   "execution_count": 1,
   "id": "1dec634c-6e3a-4fb0-a6b3-4e063ca707be",
   "metadata": {},
   "outputs": [],
   "source": [
    "import string\n",
    "from typing import Optional\n",
    "from dataclasses import dataclass\n",
    "from collections import defaultdict\n",
    "import json\n",
    "import numpy as np\n",
    "import pandas as pd\n",
    "from tqdm import tqdm\n",
    "from functools import cached_property\n",
    "from math import log\n",
    "\n",
    "from nltk.corpus import stopwords\n",
    "from pymorphy2 import MorphAnalyzer\n",
    "\n",
    "np.random.seed(42)"
   ]
  },
  {
   "cell_type": "markdown",
   "id": "9ff1ccc4-b017-4882-8ae2-3baf640bc2da",
   "metadata": {},
   "source": [
    "## Расчет метрик"
   ]
  },
  {
   "cell_type": "code",
   "execution_count": 2,
   "id": "d8144624-722b-4ae9-ad20-bcecffb38ed4",
   "metadata": {},
   "outputs": [],
   "source": [
    "validation_query_positives = pd.read_parquet(\"validation_query_positives.parquet\")"
   ]
  },
  {
   "cell_type": "code",
   "execution_count": 3,
   "id": "c3851217-9acb-4ef6-baf5-0ba9c1f3c44d",
   "metadata": {},
   "outputs": [
    {
     "data": {
      "text/html": [
       "<div>\n",
       "<style scoped>\n",
       "    .dataframe tbody tr th:only-of-type {\n",
       "        vertical-align: middle;\n",
       "    }\n",
       "\n",
       "    .dataframe tbody tr th {\n",
       "        vertical-align: top;\n",
       "    }\n",
       "\n",
       "    .dataframe thead th {\n",
       "        text-align: right;\n",
       "    }\n",
       "</style>\n",
       "<table border=\"1\" class=\"dataframe\">\n",
       "  <thead>\n",
       "    <tr style=\"text-align: right;\">\n",
       "      <th></th>\n",
       "      <th>query</th>\n",
       "      <th>products</th>\n",
       "    </tr>\n",
       "  </thead>\n",
       "  <tbody>\n",
       "    <tr>\n",
       "      <th>0</th>\n",
       "      <td>вафли</td>\n",
       "      <td>[400888832, 264708097, 184276484, 941928453, 1...</td>\n",
       "    </tr>\n",
       "    <tr>\n",
       "      <th>1</th>\n",
       "      <td>минеральная</td>\n",
       "      <td>[140030724, 148001285, 1147920517, 1211305607,...</td>\n",
       "    </tr>\n",
       "    <tr>\n",
       "      <th>2</th>\n",
       "      <td>минеральная вода газированная</td>\n",
       "      <td>[1318867975, 148001288, 148001289, 1318867977,...</td>\n",
       "    </tr>\n",
       "    <tr>\n",
       "      <th>3</th>\n",
       "      <td>фруктовые пюре детские</td>\n",
       "      <td>[146804864, 146804992, 146804995, 282172038, 1...</td>\n",
       "    </tr>\n",
       "    <tr>\n",
       "      <th>4</th>\n",
       "      <td>хлеб тостовый</td>\n",
       "      <td>[612105734, 756423174, 1326541838, 266528783, ...</td>\n",
       "    </tr>\n",
       "  </tbody>\n",
       "</table>\n",
       "</div>"
      ],
      "text/plain": [
       "                           query  \\\n",
       "0                          вафли   \n",
       "1                    минеральная   \n",
       "2  минеральная вода газированная   \n",
       "3         фруктовые пюре детские   \n",
       "4                  хлеб тостовый   \n",
       "\n",
       "                                            products  \n",
       "0  [400888832, 264708097, 184276484, 941928453, 1...  \n",
       "1  [140030724, 148001285, 1147920517, 1211305607,...  \n",
       "2  [1318867975, 148001288, 148001289, 1318867977,...  \n",
       "3  [146804864, 146804992, 146804995, 282172038, 1...  \n",
       "4  [612105734, 756423174, 1326541838, 266528783, ...  "
      ]
     },
     "execution_count": 3,
     "metadata": {},
     "output_type": "execute_result"
    }
   ],
   "source": [
    "validation_query_positives.head()"
   ]
  },
  {
   "cell_type": "code",
   "execution_count": 4,
   "id": "e553fbd3-123d-4c4b-928d-7129de49dcdc",
   "metadata": {},
   "outputs": [],
   "source": [
    "validation_query_positives_dict = {\n",
    "    row[1].query: set(row[1].products.tolist()) for row in validation_query_positives.iterrows()\n",
    "}"
   ]
  },
  {
   "cell_type": "code",
   "execution_count": 5,
   "id": "8bc7741c-f1d3-4d22-bfe0-7f3144f7ae79",
   "metadata": {},
   "outputs": [],
   "source": [
    "@dataclass\n",
    "class Metrics:\n",
    "    precision: float\n",
    "    recall: float\n",
    "    f1_score: float\n",
    "        \n",
    "    def __repr__(self):\n",
    "        return f\"precision = {self.precision}\\nrecall = {self.recall}\\nf1_score = {self.f1_score}\"\n"
   ]
  },
  {
   "cell_type": "code",
   "execution_count": 6,
   "id": "494d2841-8431-44dc-ac4e-87d805a7cb6f",
   "metadata": {},
   "outputs": [],
   "source": [
    "def calculate_metrics(ground_truth_set, search_results_set):\n",
    "    \n",
    "    # True positives: items that are both in ground truth and search results\n",
    "    tp = len(ground_truth_set.intersection(search_results_set))\n",
    "    \n",
    "    # Precision: tp / (tp + fp)\n",
    "    precision = tp / len(search_results_set) if len(search_results_set) > 0 else 0.0\n",
    "    \n",
    "    # Recall: tp / (tp + fn)\n",
    "    recall = tp / len(ground_truth_set) if len(ground_truth_set) > 0 else 0.0\n",
    "    \n",
    "    # F1-score: harmonic mean of precision and recall\n",
    "    f1_score = 2 * (precision * recall) / (precision + recall) if (precision + recall) > 0 else 0.0\n",
    "    \n",
    "    return Metrics(precision=precision, recall=recall, f1_score=f1_score)\n"
   ]
  },
  {
   "cell_type": "code",
   "execution_count": 7,
   "id": "8a226ebc-7557-455e-a3ad-2c7b545dac07",
   "metadata": {},
   "outputs": [],
   "source": [
    "def calculate_validation_metrics(search_function, limit=20):\n",
    "    metrics = []\n",
    "    for query, positives in validation_query_positives_dict.items():\n",
    "        metrics.append(\n",
    "            calculate_metrics(positives, search_function(query=query, limit=limit))\n",
    "        )\n",
    "    \n",
    "    return Metrics(\n",
    "        precision=np.mean([x.precision for x in metrics]),\n",
    "        recall=np.mean([x.recall for x in metrics]),\n",
    "        f1_score=np.mean([x.f1_score for x in metrics]),\n",
    "    )\n",
    "    "
   ]
  },
  {
   "cell_type": "markdown",
   "id": "fa8b9f91-2db0-4be7-b40a-bd30f683519a",
   "metadata": {},
   "source": [
    "## Обработка документов"
   ]
  },
  {
   "cell_type": "code",
   "execution_count": 8,
   "id": "4846430f-23cb-4179-b88f-1ade043a6686",
   "metadata": {},
   "outputs": [],
   "source": [
    "dataset = pd.read_parquet(\"products_with_names.parquet\")"
   ]
  },
  {
   "cell_type": "code",
   "execution_count": 9,
   "id": "a1ad8067-fe8d-41e0-961e-7e4f5336a33f",
   "metadata": {},
   "outputs": [
    {
     "data": {
      "text/html": [
       "<div>\n",
       "<style scoped>\n",
       "    .dataframe tbody tr th:only-of-type {\n",
       "        vertical-align: middle;\n",
       "    }\n",
       "\n",
       "    .dataframe tbody tr th {\n",
       "        vertical-align: top;\n",
       "    }\n",
       "\n",
       "    .dataframe thead th {\n",
       "        text-align: right;\n",
       "    }\n",
       "</style>\n",
       "<table border=\"1\" class=\"dataframe\">\n",
       "  <thead>\n",
       "    <tr style=\"text-align: right;\">\n",
       "      <th></th>\n",
       "      <th>product_id</th>\n",
       "      <th>name</th>\n",
       "    </tr>\n",
       "  </thead>\n",
       "  <tbody>\n",
       "    <tr>\n",
       "      <th>0</th>\n",
       "      <td>4036767</td>\n",
       "      <td>Модуль сменный фильтрующий Аквафор КН, 208731</td>\n",
       "    </tr>\n",
       "    <tr>\n",
       "      <th>1</th>\n",
       "      <td>4050873</td>\n",
       "      <td>Водоочиститель Аквафор модель Кристалл Н, 2059...</td>\n",
       "    </tr>\n",
       "    <tr>\n",
       "      <th>2</th>\n",
       "      <td>4226160</td>\n",
       "      <td>Развиваем мышление (2-3 года) | Земцова Ольга</td>\n",
       "    </tr>\n",
       "    <tr>\n",
       "      <th>3</th>\n",
       "      <td>4644911</td>\n",
       "      <td>Lacoste Вода парфюмерная Pour Femme 50 мл</td>\n",
       "    </tr>\n",
       "    <tr>\n",
       "      <th>4</th>\n",
       "      <td>4788809</td>\n",
       "      <td>Сменные Кассеты Для Мужской Бритвы Gillette Ma...</td>\n",
       "    </tr>\n",
       "  </tbody>\n",
       "</table>\n",
       "</div>"
      ],
      "text/plain": [
       "   product_id                                               name\n",
       "0     4036767      Модуль сменный фильтрующий Аквафор КН, 208731\n",
       "1     4050873  Водоочиститель Аквафор модель Кристалл Н, 2059...\n",
       "2     4226160      Развиваем мышление (2-3 года) | Земцова Ольга\n",
       "3     4644911          Lacoste Вода парфюмерная Pour Femme 50 мл\n",
       "4     4788809  Сменные Кассеты Для Мужской Бритвы Gillette Ma..."
      ]
     },
     "execution_count": 9,
     "metadata": {},
     "output_type": "execute_result"
    }
   ],
   "source": [
    "dataset.head()"
   ]
  },
  {
   "cell_type": "code",
   "execution_count": 10,
   "id": "4efbbd36-7996-457d-bcf2-f17abc864dfb",
   "metadata": {},
   "outputs": [],
   "source": [
    "documents_dict = {\n",
    "    doc[1][\"product_id\"]: doc[1][\"name\"] for doc in dataset.iterrows()\n",
    "}"
   ]
  },
  {
   "cell_type": "code",
   "execution_count": 11,
   "id": "c2898c3f-0364-401c-8ec2-6d6dbe38f140",
   "metadata": {},
   "outputs": [],
   "source": [
    "@dataclass\n",
    "class Document:\n",
    "    doc_id: int\n",
    "    name: str\n",
    "\n",
    "documents = [Document(doc_id=doc[1][\"product_id\"], name=doc[1][\"name\"]) for doc in dataset.iterrows()]\n"
   ]
  },
  {
   "cell_type": "code",
   "execution_count": 12,
   "id": "25349719-28ae-4778-9c6e-1670071c1ae6",
   "metadata": {},
   "outputs": [],
   "source": [
    "class TextProcessor:\n",
    "    def __init__(self):\n",
    "        self.symbols_to_replace = {\"ё\": \"е\"}\n",
    "        self.stopwords = set(stopwords.words(\"russian\"))\n",
    "        self.linguist = MorphAnalyzer()\n",
    "\n",
    "    def lowercase_text(self, text: str) -> str:\n",
    "        return text.lower()\n",
    "\n",
    "    def replace_symbols(self, text: str) -> str:\n",
    "        for old, new in self.symbols_to_replace.items():\n",
    "            text = text.replace(old, new)\n",
    "        return text\n",
    "\n",
    "    def process_punctuation_simple(self, text: str) -> str:\n",
    "        translation_table = str.maketrans(string.punctuation, ' ' * len(string.punctuation))\n",
    "        text_without_punc = text.translate(translation_table)\n",
    "        text_without_double_spaces = ' '.join(text_without_punc.split())\n",
    "        return text_without_double_spaces\n",
    "\n",
    "    def tokenize_simple(self, text: str) -> list[str]:\n",
    "        return text.split()\n",
    "\n",
    "    def remove_stopwords(self, doc: list[str]) -> list[str]:\n",
    "        return [token for token in doc if token not in self.stopwords]\n",
    "\n",
    "    def lemmatize_token(self, token: str) -> str:\n",
    "        return self.linguist.normal_forms(token)[0]\n",
    "    \n",
    "    def lemmatize_tokenized_text(self, tokenized_text: list[str]) -> list[str]:\n",
    "        return [self.lemmatize_token(token) for token in tokenized_text]\n",
    "\n",
    "    def process_text(self, text: str) -> list[str]:\n",
    "        text = self.lowercase_text(text)\n",
    "        text = self.replace_symbols(text)\n",
    "        text = self.process_punctuation_simple(text)\n",
    "        text_tokens = self.tokenize_simple(text)\n",
    "        text_tokens = self.remove_stopwords(text_tokens)\n",
    "        return self.lemmatize_tokenized_text(text_tokens)\n",
    "        "
   ]
  },
  {
   "cell_type": "code",
   "execution_count": 13,
   "id": "79386b06-0a5c-4df2-bfee-0dd179fe4e73",
   "metadata": {},
   "outputs": [],
   "source": [
    "text_processor = TextProcessor()"
   ]
  },
  {
   "cell_type": "code",
   "execution_count": 14,
   "id": "20a54ad2-7ed8-4814-a95c-2863248ecc5d",
   "metadata": {},
   "outputs": [
    {
     "name": "stderr",
     "output_type": "stream",
     "text": [
      "100%|███████████████████████████████████████████████████████████████████████████████████████████████████████████████████████████████████████████████████████████████████████| 238443/238443 [02:30<00:00, 1580.98it/s]\n"
     ]
    }
   ],
   "source": [
    "documents_processed = [(document.doc_id, text_processor.process_text(document.name)) for document in tqdm(documents)]"
   ]
  },
  {
   "cell_type": "code",
   "execution_count": 15,
   "id": "62b3e1a7-fc64-4e52-8e4c-f61a2e3e7acb",
   "metadata": {},
   "outputs": [],
   "source": [
    "def print_ozon_link(product_id: int) -> str:\n",
    "    print(f\"https://ozon.ru/product/{product_id}\")"
   ]
  },
  {
   "cell_type": "markdown",
   "id": "f8b1ea99-88bb-4759-9c2d-12ead61a0666",
   "metadata": {},
   "source": [
    "## Абстрактный поисковый движок"
   ]
  },
  {
   "cell_type": "code",
   "execution_count": 17,
   "id": "aea4822f-df07-49cf-ae51-14378bec54b9",
   "metadata": {},
   "outputs": [],
   "source": [
    "from abc import ABC, abstractmethod\n",
    "\n",
    "\n",
    "class SearchEngine(ABC):\n",
    "    @abstractmethod\n",
    "    def index_documents(self, documents_processed: list[tuple[int, list[str]]]) -> None: ...\n",
    "\n",
    "    @abstractmethod\n",
    "    def search(self, query: str, limit: Optional[int] = None) -> dict[int, float]: ...\n"
   ]
  },
  {
   "cell_type": "markdown",
   "id": "9b35555b-77a9-4364-b075-6e91e6da7543",
   "metadata": {},
   "source": [
    "## Поиск по обратному индексу с ранжированием по term frequency"
   ]
  },
  {
   "cell_type": "code",
   "execution_count": 18,
   "id": "4dbff918-bd23-4053-b6e3-aff5a0e01ca0",
   "metadata": {},
   "outputs": [],
   "source": [
    "class SearchEngineTf(SearchEngine):\n",
    "    def __init__(self, text_processor: TextProcessor):\n",
    "        super().__init__()\n",
    "        self._index: dict[str, dict[int, int]] = defaultdict(lambda: defaultdict(int))\n",
    "        self._documents: set[int] = set()\n",
    "        self._text_processor = text_processor\n",
    "\n",
    "    def index_documents(self, documents_processed: list[tuple[int, list[str]]]) -> None:\n",
    "        for doc_id, name in documents_processed:\n",
    "            self.index(doc_id, name)\n",
    "\n",
    "    def index(self, doc_id: int, name: list[str]) -> None:\n",
    "        self._documents.add(doc_id)\n",
    "        for token in name:\n",
    "            self._index[token][doc_id] += 1\n",
    "\n",
    "    def search(self, query: str, limit: Optional[int] = None) -> dict[int, float]:\n",
    "        query_processed = self._text_processor.process_text(query)\n",
    "        product_scores: dict[int, float] = dict()\n",
    "        for query_token in query_processed:\n",
    "            query_token_product_scores = self._index[query_token]\n",
    "            product_scores = self.update_product_scores(product_scores, query_token_product_scores)\n",
    "        return [doc[0] for doc in sorted(product_scores.items(), key=lambda x: x[1], reverse=True)][:limit]\n",
    "\n",
    "    def update_product_scores(self, old: dict[int, float], new: dict[int, float]) -> dict[int, float]:\n",
    "        for doc_id, score in new.items():\n",
    "            if doc_id in old:\n",
    "                old[doc_id] += score\n",
    "            else:\n",
    "                old[doc_id] = score\n",
    "        return old\n"
   ]
  },
  {
   "cell_type": "code",
   "execution_count": 19,
   "id": "9c65a6a6-350a-47b0-84bf-535057d1e4bf",
   "metadata": {},
   "outputs": [],
   "source": [
    "search_engine_tf = SearchEngineTf(text_processor)"
   ]
  },
  {
   "cell_type": "code",
   "execution_count": 20,
   "id": "926b0a60-dec7-49d0-9049-d66009c96c14",
   "metadata": {},
   "outputs": [],
   "source": [
    "search_engine_tf.index_documents(documents_processed)"
   ]
  },
  {
   "cell_type": "code",
   "execution_count": 21,
   "id": "c6007bc7-24af-4a3d-b4e3-b4a1711a231e",
   "metadata": {},
   "outputs": [
    {
     "data": {
      "text/plain": [
       "precision = 0.13169453942460838\n",
       "recall = 0.18880294358930627\n",
       "f1_score = 0.13554963302537784"
      ]
     },
     "execution_count": 21,
     "metadata": {},
     "output_type": "execute_result"
    }
   ],
   "source": [
    "calculate_validation_metrics(search_engine_tf.search, limit=200)"
   ]
  },
  {
   "cell_type": "markdown",
   "id": "b309284e-8008-4149-85f6-685dfe362f9c",
   "metadata": {},
   "source": [
    "## Поиск по обратному индексу с ранжированием по tf-idf"
   ]
  },
  {
   "cell_type": "code",
   "execution_count": 22,
   "id": "1846cede-5ea0-407d-af58-5ebb22606841",
   "metadata": {},
   "outputs": [],
   "source": [
    "class SearchEngineTfIdf(SearchEngine):\n",
    "    def __init__(self, text_processor: TextProcessor):\n",
    "        super().__init__()\n",
    "        self._index: dict[str, dict[int, int]] = defaultdict(lambda: defaultdict(int))\n",
    "        self._documents: set[int] = set()\n",
    "        self._text_processor = text_processor\n",
    "\n",
    "    def index_documents(self, documents_processed: list[tuple[int, list[str]]]) -> None:\n",
    "        for doc_id, name in documents_processed:\n",
    "            self.index(doc_id, name)\n",
    "\n",
    "    def index(self, doc_id: int, name: list[str]) -> None:\n",
    "        self._documents.add(doc_id)\n",
    "        for token in name:\n",
    "            self._index[token][doc_id] += 1\n",
    "\n",
    "    @property\n",
    "    def number_of_documents(self) -> int:\n",
    "        return len(self._documents)\n",
    "\n",
    "    def idf(self, query_token: str) -> float:\n",
    "        N = self.number_of_documents\n",
    "        n_query_token_docs = len(self._index[query_token])\n",
    "        return log((N - n_query_token_docs + 0.5) / (n_query_token_docs + 0.5) + 1)\n",
    "\n",
    "    def _get_query_token_document_scores(self, query_token: str) -> dict[int, float]:\n",
    "        idf_score = self.idf(query_token)\n",
    "        return {doc_id: tf * idf_score for doc_id, tf in self._index[query_token].items()}\n",
    "\n",
    "    def search(self, query: str, limit: Optional[int] = None) -> dict[int, float]:\n",
    "        query_processed = self._text_processor.process_text(query)\n",
    "        product_scores: dict[int, float] = dict()\n",
    "        for query_token in query_processed:\n",
    "            query_token_product_scores = self._get_query_token_document_scores(query_token)\n",
    "            product_scores = self.update_product_scores(product_scores, query_token_product_scores)\n",
    "        return [doc[0] for doc in sorted(product_scores.items(), key=lambda x: x[1], reverse=True)][:limit]\n",
    "\n",
    "    def update_product_scores(self, old: dict[int, float], new: dict[int, float]) -> dict[int, float]:\n",
    "        for doc_id, score in new.items():\n",
    "            if doc_id in old:\n",
    "                old[doc_id] += score\n",
    "            else:\n",
    "                old[doc_id] = score\n",
    "        return old\n"
   ]
  },
  {
   "cell_type": "code",
   "execution_count": 23,
   "id": "a2fb11c8-2e21-406c-8377-4b7c7380aebd",
   "metadata": {},
   "outputs": [],
   "source": [
    "search_engine_tf_idf = SearchEngineTfIdf(text_processor)"
   ]
  },
  {
   "cell_type": "code",
   "execution_count": 24,
   "id": "ca22e20c-cda5-41c1-9bbd-c10826207a84",
   "metadata": {},
   "outputs": [],
   "source": [
    "search_engine_tf_idf.index_documents(documents_processed)"
   ]
  },
  {
   "cell_type": "code",
   "execution_count": 25,
   "id": "b688135c-2553-40a5-9e62-214e4470bab0",
   "metadata": {},
   "outputs": [
    {
     "data": {
      "text/plain": [
       "precision = 0.13344453942460838\n",
       "recall = 0.19305872757962741\n",
       "f1_score = 0.13788085205734998"
      ]
     },
     "execution_count": 25,
     "metadata": {},
     "output_type": "execute_result"
    }
   ],
   "source": [
    "calculate_validation_metrics(search_engine_tf_idf.search, limit=200)"
   ]
  },
  {
   "cell_type": "markdown",
   "id": "663322cc-79f2-4719-a429-dd72900e5d24",
   "metadata": {},
   "source": [
    "## Поиск по обратному индексу с ранжированием по bm25"
   ]
  },
  {
   "cell_type": "code",
   "execution_count": 33,
   "id": "3e4e738c-fa03-4ce4-9465-874644f1b910",
   "metadata": {},
   "outputs": [],
   "source": [
    "class SearchEngineBm25(SearchEngine):\n",
    "    def __init__(self, text_processor: TextProcessor, k1: float = 1.2, b: float = 0.75):\n",
    "        super().__init__()\n",
    "        self._index: dict[str, dict[int, int]] = defaultdict(lambda: defaultdict(int))\n",
    "        self._documents: dict[int, list[str]] = dict()\n",
    "        self._text_processor = text_processor\n",
    "        self.k1 = k1\n",
    "        self.b = b\n",
    "\n",
    "    def index_documents(self, documents_processed: list[tuple[int, list[str]]]) -> None:\n",
    "        for doc_id, name in documents_processed:\n",
    "            self.index(doc_id, name)\n",
    "\n",
    "    def index(self, doc_id: int, name: list[str]) -> None:\n",
    "        self._documents[doc_id] = name\n",
    "        for token in name:\n",
    "            self._index[token][doc_id] += 1\n",
    "\n",
    "    @cached_property\n",
    "    def number_of_documents(self) -> int:\n",
    "        return len(self._documents)\n",
    "\n",
    "    def idf(self, query_token: str) -> float:\n",
    "        N = self.number_of_documents\n",
    "        n_query_token_docs = len(self._index[query_token])\n",
    "        return log((N - n_query_token_docs + 0.5) / (n_query_token_docs + 0.5) + 1)\n",
    "\n",
    "    @cached_property\n",
    "    def avdl(self) -> float:\n",
    "        return sum(len(doc) for doc in self._documents.values()) / self.number_of_documents\n",
    "\n",
    "    def _get_query_token_document_scores(self, query_token: str) -> dict[int, float]:\n",
    "        idf_score = self.idf(query_token)\n",
    "        return {\n",
    "            doc_id: idf_score * tf * (self.k1 + 1) / (tf + self.k1 * (1 - self.b + self.b * (len(self._documents[doc_id]) / self.avdl)))\n",
    "            for doc_id, tf in self._index[query_token].items()\n",
    "        }\n",
    "\n",
    "    def search(self, query: str, limit: Optional[int] = None) -> dict[int, float]:\n",
    "        query_processed = self._text_processor.process_text(query)\n",
    "        product_scores: dict[int, float] = dict()\n",
    "        for query_token in query_processed:\n",
    "            query_token_product_scores = self._get_query_token_document_scores(query_token)\n",
    "            product_scores = self.update_product_scores(product_scores, query_token_product_scores)\n",
    "        return [doc[0] for doc in sorted(product_scores.items(), key=lambda x: x[1], reverse=True)][:limit]\n",
    "\n",
    "    def update_product_scores(self, old: dict[int, float], new: dict[int, float]) -> dict[int, float]:\n",
    "        for doc_id, score in new.items():\n",
    "            if doc_id in old:\n",
    "                old[doc_id] += score\n",
    "            else:\n",
    "                old[doc_id] = score\n",
    "        return old\n"
   ]
  },
  {
   "cell_type": "code",
   "execution_count": 34,
   "id": "7149d5b7-ff42-4667-9046-df26a1ad0a16",
   "metadata": {},
   "outputs": [],
   "source": [
    "search_engine_bm25 = SearchEngineBm25(text_processor, k1=1.2, b=0.75)"
   ]
  },
  {
   "cell_type": "code",
   "execution_count": 35,
   "id": "f94128e1-e0e5-43da-8848-bb322e650340",
   "metadata": {},
   "outputs": [],
   "source": [
    "search_engine_bm25.index_documents(documents_processed)"
   ]
  },
  {
   "cell_type": "code",
   "execution_count": 36,
   "id": "a889d5f3-d4b9-47d2-a360-e3d4ef1f9007",
   "metadata": {},
   "outputs": [
    {
     "data": {
      "text/plain": [
       "precision = 0.1547195394246084\n",
       "recall = 0.2418148590206131\n",
       "f1_score = 0.16617490389624023"
      ]
     },
     "execution_count": 36,
     "metadata": {},
     "output_type": "execute_result"
    }
   ],
   "source": [
    "calculate_validation_metrics(search_engine_bm25.search, limit=200)"
   ]
  },
  {
   "cell_type": "markdown",
   "id": "1fb73571-df53-4e09-985a-e11d348727a1",
   "metadata": {},
   "source": [
    "## Поиск по обратному индексу на n-gram-ах с ранжированием по BM25 "
   ]
  },
  {
   "cell_type": "code",
   "execution_count": 50,
   "id": "5054bebf-f693-4b7f-b3e3-fb2b71ab3887",
   "metadata": {},
   "outputs": [],
   "source": [
    "from collections import defaultdict\n",
    "from typing import List, Tuple, Optional, Dict, Set\n",
    "import itertools\n",
    "\n",
    "class SearchEngineNgramBm25(SearchEngine):\n",
    "    def __init__(self, text_processor: TextProcessor, k1: float = 1.2, b: float = 0.75, n_grams_size: int = 3):\n",
    "        super().__init__()\n",
    "        self._index: dict[str, dict[int, int]] = defaultdict(lambda: defaultdict(int))\n",
    "        self._documents: dict[int, list[str]] = dict()\n",
    "        self._text_processor = text_processor\n",
    "        self.k1 = k1\n",
    "        self.b = b\n",
    "        self._n_grams_size = n_grams_size\n",
    "\n",
    "    def index_documents(self, documents: list[tuple[int, str]]) -> None:\n",
    "        for doc in documents:\n",
    "            self.index(doc.doc_id, doc.name)\n",
    "\n",
    "    def index(self, doc_id: int, name: list[str]) -> None:\n",
    "        doc_name_processed = self._text_processor.process_text(name)\n",
    "        ngrams = self._generate_ngrams(doc_name_processed)\n",
    "        self._documents[doc_id] = ngrams\n",
    "        for ngram in ngrams:\n",
    "            self._index[ngram][doc_id] += 1\n",
    "\n",
    "    def _generate_ngrams(self, doc_name: str) -> list[str]:\n",
    "        ngrams = []\n",
    "        for i in range(len(doc_name) - self._n_grams_size + 1):\n",
    "            ngrams.append(doc_name[i: i + self._n_grams_size])\n",
    "        return ngrams\n",
    "\n",
    "    @cached_property\n",
    "    def number_of_documents(self) -> int:\n",
    "        return len(self._documents)\n",
    "\n",
    "    def idf(self, query_token: str) -> float:\n",
    "        N = self.number_of_documents\n",
    "        n_query_token_docs = len(self._index[query_token])\n",
    "        return log((N - n_query_token_docs + 0.5) / (n_query_token_docs + 0.5) + 1)\n",
    "\n",
    "    @cached_property\n",
    "    def avdl(self) -> float:\n",
    "        return sum(len(doc) for doc in self._documents.values()) / self.number_of_documents\n",
    "\n",
    "    def _get_query_token_document_scores(self, query_token: str) -> dict[int, float]:\n",
    "        idf_score = self.idf(query_token)\n",
    "        return {\n",
    "            doc_id: idf_score * tf * (self.k1 + 1) / (tf + self.k1 * (1 - self.b + self.b * (len(self._documents[doc_id]) / self.avdl)))\n",
    "            for doc_id, tf in self._index[query_token].items()\n",
    "        }\n",
    "\n",
    "    def search(self, query: str, limit: Optional[int] = None) -> dict[int, float]:\n",
    "        query_ngrams = self._generate_ngrams(self._text_processor.process_text(query))\n",
    "        product_scores: dict[int, float] = dict()\n",
    "        for query_ngram in query_ngrams:\n",
    "            query_ngram_product_scores = self._get_query_token_document_scores(query_ngram)\n",
    "            product_scores = self.update_product_scores(product_scores, query_ngram_product_scores)\n",
    "        return [doc[0] for doc in sorted(product_scores.items(), key=lambda x: x[1], reverse=True)][:limit]\n",
    "\n",
    "    def update_product_scores(self, old: dict[int, float], new: dict[int, float]) -> dict[int, float]:\n",
    "        for doc_id, score in new.items():\n",
    "            if doc_id in old:\n",
    "                old[doc_id] += score\n",
    "            else:\n",
    "                old[doc_id] = score\n",
    "        return old"
   ]
  },
  {
   "cell_type": "code",
   "execution_count": 51,
   "id": "dfa6a328-8acd-47b3-ad31-e53969bb8a3d",
   "metadata": {},
   "outputs": [],
   "source": [
    "class SimpleTextProcessor(TextProcessor):\n",
    "    def process_text(self, text: str) -> str:\n",
    "        text = self.lowercase_text(text)\n",
    "        text = self.replace_symbols(text)\n",
    "        return self.process_punctuation_simple(text)\n",
    "        "
   ]
  },
  {
   "cell_type": "code",
   "execution_count": 52,
   "id": "e43f9839-9ffd-4303-983c-bfafa83a0f3e",
   "metadata": {},
   "outputs": [],
   "source": [
    "simple_text_processor = SimpleTextProcessor()"
   ]
  },
  {
   "cell_type": "code",
   "execution_count": 53,
   "id": "65cfcc95-99c3-43d6-acf0-467c6dc74573",
   "metadata": {},
   "outputs": [],
   "source": [
    "search_engine_ngram_bm25 = SearchEngineNgramBm25(simple_text_processor, k1=1.2, b=0.75, n_grams_size=3)"
   ]
  },
  {
   "cell_type": "code",
   "execution_count": 54,
   "id": "41c5bf8c-c109-4602-bcbc-7722587d6047",
   "metadata": {},
   "outputs": [],
   "source": [
    "search_engine_ngram_bm25.index_documents(documents)"
   ]
  },
  {
   "cell_type": "code",
   "execution_count": 55,
   "id": "f3b7cad7-091f-4a21-bfdd-4c08675737db",
   "metadata": {
    "scrolled": true
   },
   "outputs": [
    {
     "name": "stdout",
     "output_type": "stream",
     "text": [
      "https://ozon.ru/product/465164863\n",
      "https://ozon.ru/product/835428859\n",
      "https://ozon.ru/product/482126805\n",
      "https://ozon.ru/product/591928165\n",
      "https://ozon.ru/product/680978604\n",
      "https://ozon.ru/product/620047873\n",
      "https://ozon.ru/product/620046931\n",
      "https://ozon.ru/product/746671114\n",
      "https://ozon.ru/product/168165795\n",
      "https://ozon.ru/product/630691239\n",
      "https://ozon.ru/product/217068283\n",
      "https://ozon.ru/product/161674518\n",
      "https://ozon.ru/product/517209910\n",
      "https://ozon.ru/product/168894035\n",
      "https://ozon.ru/product/267981985\n",
      "https://ozon.ru/product/184573224\n",
      "https://ozon.ru/product/640910116\n",
      "https://ozon.ru/product/164214504\n",
      "https://ozon.ru/product/4788808\n",
      "https://ozon.ru/product/144505497\n",
      "https://ozon.ru/product/669972122\n",
      "https://ozon.ru/product/669985694\n",
      "https://ozon.ru/product/669970989\n",
      "https://ozon.ru/product/670058352\n",
      "https://ozon.ru/product/670058897\n",
      "https://ozon.ru/product/670058654\n",
      "https://ozon.ru/product/161674517\n",
      "https://ozon.ru/product/4788809\n",
      "https://ozon.ru/product/144505500\n",
      "https://ozon.ru/product/4788804\n",
      "\n"
     ]
    }
   ],
   "source": [
    "[print_ozon_link(x) for x in search_engine_ngram_bm25.search(\"кассеты для бритвы мужские\", limit=30)]\n",
    "print()"
   ]
  },
  {
   "cell_type": "code",
   "execution_count": 56,
   "id": "cddbaef9-c3cb-43a2-b974-ec8060996350",
   "metadata": {
    "scrolled": true
   },
   "outputs": [
    {
     "name": "stdout",
     "output_type": "stream",
     "text": [
      "https://ozon.ru/product/465164863\n",
      "https://ozon.ru/product/835428859\n",
      "https://ozon.ru/product/482126805\n",
      "https://ozon.ru/product/517209910\n",
      "https://ozon.ru/product/217068283\n",
      "https://ozon.ru/product/168165795\n",
      "https://ozon.ru/product/231812359\n",
      "https://ozon.ru/product/640910116\n",
      "https://ozon.ru/product/184573224\n",
      "https://ozon.ru/product/580637093\n",
      "https://ozon.ru/product/216665672\n",
      "https://ozon.ru/product/746671114\n",
      "https://ozon.ru/product/164214504\n",
      "https://ozon.ru/product/4788808\n",
      "https://ozon.ru/product/620047873\n",
      "https://ozon.ru/product/583952991\n",
      "https://ozon.ru/product/620046931\n",
      "https://ozon.ru/product/157424893\n",
      "https://ozon.ru/product/5543624\n",
      "https://ozon.ru/product/138423967\n",
      "https://ozon.ru/product/626512687\n",
      "https://ozon.ru/product/1387337779\n",
      "https://ozon.ru/product/811011625\n",
      "https://ozon.ru/product/239779174\n",
      "https://ozon.ru/product/356922446\n",
      "https://ozon.ru/product/4788809\n",
      "https://ozon.ru/product/4789070\n",
      "https://ozon.ru/product/1462804333\n",
      "https://ozon.ru/product/162865256\n",
      "https://ozon.ru/product/1352518845\n",
      "\n"
     ]
    }
   ],
   "source": [
    "[print_ozon_link(x) for x in search_engine_bm25.search(\"кассеты для бритвы мужские\", limit=30)]\n",
    "print()"
   ]
  },
  {
   "cell_type": "code",
   "execution_count": 57,
   "id": "dbb1bc55-f647-4b15-b6ad-bbd3af16e3c6",
   "metadata": {
    "scrolled": true
   },
   "outputs": [
    {
     "name": "stdout",
     "output_type": "stream",
     "text": [
      "https://ozon.ru/product/465164863\n",
      "https://ozon.ru/product/835428859\n",
      "https://ozon.ru/product/482126805\n",
      "https://ozon.ru/product/620047873\n",
      "https://ozon.ru/product/620046931\n",
      "https://ozon.ru/product/680978604\n",
      "https://ozon.ru/product/591928165\n",
      "https://ozon.ru/product/746671114\n",
      "https://ozon.ru/product/168165795\n",
      "https://ozon.ru/product/217068283\n",
      "https://ozon.ru/product/630691239\n",
      "https://ozon.ru/product/669972122\n",
      "https://ozon.ru/product/669985694\n",
      "https://ozon.ru/product/669970989\n",
      "https://ozon.ru/product/670058352\n",
      "https://ozon.ru/product/267981985\n",
      "https://ozon.ru/product/184573224\n",
      "https://ozon.ru/product/670058897\n",
      "https://ozon.ru/product/670058654\n",
      "https://ozon.ru/product/640910116\n",
      "https://ozon.ru/product/161674518\n",
      "https://ozon.ru/product/517209910\n",
      "https://ozon.ru/product/4788809\n",
      "https://ozon.ru/product/144505500\n",
      "https://ozon.ru/product/4788804\n",
      "https://ozon.ru/product/164214502\n",
      "https://ozon.ru/product/162865257\n",
      "https://ozon.ru/product/4788805\n",
      "https://ozon.ru/product/162865256\n",
      "https://ozon.ru/product/26294994\n",
      "\n"
     ]
    }
   ],
   "source": [
    "[print_ozon_link(x) for x in search_engine_ngram_bm25.search(\"косеты для бритвы мужские\", limit=30)]\n",
    "print()"
   ]
  },
  {
   "cell_type": "code",
   "execution_count": 58,
   "id": "1df0b560-66ee-4082-9f7e-3d57b133d378",
   "metadata": {
    "scrolled": true
   },
   "outputs": [
    {
     "name": "stdout",
     "output_type": "stream",
     "text": [
      "https://ozon.ru/product/1387337779\n",
      "https://ozon.ru/product/356922446\n",
      "https://ozon.ru/product/648028268\n",
      "https://ozon.ru/product/790115501\n",
      "https://ozon.ru/product/208009731\n",
      "https://ozon.ru/product/714380855\n",
      "https://ozon.ru/product/482126805\n",
      "https://ozon.ru/product/1416463253\n",
      "https://ozon.ru/product/1048144951\n",
      "https://ozon.ru/product/465164863\n",
      "https://ozon.ru/product/847166922\n",
      "https://ozon.ru/product/1344582380\n",
      "https://ozon.ru/product/835428859\n",
      "https://ozon.ru/product/683899493\n",
      "https://ozon.ru/product/208009732\n",
      "https://ozon.ru/product/1144916855\n",
      "https://ozon.ru/product/226988572\n",
      "https://ozon.ru/product/1395866388\n",
      "https://ozon.ru/product/517209910\n",
      "https://ozon.ru/product/1579101798\n",
      "https://ozon.ru/product/669985722\n",
      "https://ozon.ru/product/1340978156\n",
      "https://ozon.ru/product/217068283\n",
      "https://ozon.ru/product/284926105\n",
      "https://ozon.ru/product/1409858565\n",
      "https://ozon.ru/product/596835379\n",
      "https://ozon.ru/product/245755783\n",
      "https://ozon.ru/product/168165795\n",
      "https://ozon.ru/product/275803956\n",
      "https://ozon.ru/product/231812359\n",
      "\n"
     ]
    }
   ],
   "source": [
    "[print_ozon_link(x) for x in search_engine_bm25.search(\"косеты для бритвы мужские\", limit=30)]\n",
    "print()"
   ]
  },
  {
   "cell_type": "code",
   "execution_count": 59,
   "id": "c5673a78-d94e-4a3e-8899-02c8c6c1e6f6",
   "metadata": {},
   "outputs": [
    {
     "name": "stdout",
     "output_type": "stream",
     "text": [
      "\n"
     ]
    }
   ],
   "source": [
    "[print_ozon_link(x) for x in search_engine_bm25.search(\"халодильник\", limit=30)]\n",
    "print()"
   ]
  },
  {
   "cell_type": "code",
   "execution_count": 60,
   "id": "eac5d66e-2b30-484c-b144-07c859f6dade",
   "metadata": {
    "scrolled": true
   },
   "outputs": [
    {
     "name": "stdout",
     "output_type": "stream",
     "text": [
      "https://ozon.ru/product/209997102\n",
      "https://ozon.ru/product/1576425147\n",
      "https://ozon.ru/product/1457779141\n",
      "https://ozon.ru/product/1444369749\n",
      "https://ozon.ru/product/193470153\n",
      "https://ozon.ru/product/170075383\n",
      "https://ozon.ru/product/193470154\n",
      "https://ozon.ru/product/182451989\n",
      "https://ozon.ru/product/182451991\n",
      "https://ozon.ru/product/154475460\n",
      "https://ozon.ru/product/266791724\n",
      "https://ozon.ru/product/1075792425\n",
      "https://ozon.ru/product/170075379\n",
      "https://ozon.ru/product/914168984\n",
      "https://ozon.ru/product/154072681\n",
      "https://ozon.ru/product/266791176\n",
      "https://ozon.ru/product/914170197\n",
      "https://ozon.ru/product/1074359967\n",
      "https://ozon.ru/product/170075380\n",
      "https://ozon.ru/product/170075385\n",
      "https://ozon.ru/product/170075384\n",
      "https://ozon.ru/product/170075378\n",
      "https://ozon.ru/product/154474648\n",
      "https://ozon.ru/product/170075382\n",
      "https://ozon.ru/product/154073300\n",
      "https://ozon.ru/product/170075381\n",
      "https://ozon.ru/product/914170194\n",
      "https://ozon.ru/product/415182919\n",
      "https://ozon.ru/product/415173072\n",
      "https://ozon.ru/product/1252527710\n",
      "\n"
     ]
    }
   ],
   "source": [
    "[print_ozon_link(x) for x in search_engine_ngram_bm25.search(\"халодильник\", limit=30)]\n",
    "print()"
   ]
  },
  {
   "cell_type": "code",
   "execution_count": 61,
   "id": "6c465535-3c2d-4eb6-ac09-2cb4cd70f00f",
   "metadata": {},
   "outputs": [
    {
     "name": "stdout",
     "output_type": "stream",
     "text": [
      "\n"
     ]
    }
   ],
   "source": [
    "[print_ozon_link(x) for x in search_engine_bm25.search(\"новушники\", limit=30)]\n",
    "print()"
   ]
  },
  {
   "cell_type": "code",
   "execution_count": 62,
   "id": "f646be8d-519d-4b9e-b435-7856ac1b8465",
   "metadata": {
    "scrolled": true
   },
   "outputs": [
    {
     "name": "stdout",
     "output_type": "stream",
     "text": [
      "https://ozon.ru/product/220484272\n",
      "https://ozon.ru/product/544315175\n",
      "https://ozon.ru/product/202774783\n",
      "https://ozon.ru/product/1549417381\n",
      "https://ozon.ru/product/645008371\n",
      "https://ozon.ru/product/505543662\n",
      "https://ozon.ru/product/793717993\n",
      "https://ozon.ru/product/254052997\n",
      "https://ozon.ru/product/254070112\n",
      "https://ozon.ru/product/294968666\n",
      "https://ozon.ru/product/294969778\n",
      "https://ozon.ru/product/254051714\n",
      "https://ozon.ru/product/190759201\n",
      "https://ozon.ru/product/294968551\n",
      "https://ozon.ru/product/294969794\n",
      "https://ozon.ru/product/190759208\n",
      "https://ozon.ru/product/779662322\n",
      "https://ozon.ru/product/407158738\n",
      "https://ozon.ru/product/589737338\n",
      "https://ozon.ru/product/1540354338\n",
      "https://ozon.ru/product/698850642\n",
      "https://ozon.ru/product/465680921\n",
      "https://ozon.ru/product/1380001456\n",
      "https://ozon.ru/product/273220354\n",
      "https://ozon.ru/product/1643701055\n",
      "https://ozon.ru/product/589776489\n",
      "https://ozon.ru/product/964575571\n",
      "https://ozon.ru/product/310586499\n",
      "https://ozon.ru/product/701052713\n",
      "https://ozon.ru/product/553133736\n",
      "\n"
     ]
    }
   ],
   "source": [
    "[print_ozon_link(x) for x in search_engine_ngram_bm25.search(\"новушники\", limit=30)]\n",
    "print()"
   ]
  },
  {
   "cell_type": "code",
   "execution_count": 63,
   "id": "e54c85ad-fd55-4421-844f-ba3c29ec352c",
   "metadata": {},
   "outputs": [
    {
     "data": {
      "text/plain": [
       "precision = 0.117575\n",
       "recall = 0.2518484929482551\n",
       "f1_score = 0.15226755762491367"
      ]
     },
     "execution_count": 63,
     "metadata": {},
     "output_type": "execute_result"
    }
   ],
   "source": [
    "calculate_validation_metrics(search_engine_ngram_bm25.search, limit=200)"
   ]
  },
  {
   "cell_type": "code",
   "execution_count": null,
   "id": "3d407526-8680-4380-a8e4-b048bd67cc38",
   "metadata": {},
   "outputs": [],
   "source": []
  }
 ],
 "metadata": {
  "kernelspec": {
   "display_name": "Python 3 (ipykernel)",
   "language": "python",
   "name": "python3"
  },
  "language_info": {
   "codemirror_mode": {
    "name": "ipython",
    "version": 3
   },
   "file_extension": ".py",
   "mimetype": "text/x-python",
   "name": "python",
   "nbconvert_exporter": "python",
   "pygments_lexer": "ipython3",
   "version": "3.10.11"
  }
 },
 "nbformat": 4,
 "nbformat_minor": 5
}
